{
 "cells": [
  {
   "cell_type": "code",
   "execution_count": 1,
   "metadata": {},
   "outputs": [],
   "source": [
    "import numpy as np\n",
    "import pandas as pd\n",
    "import scipy.stats as stats\n",
    "\n",
    "import datetime\n",
    "\n",
    "import matplotlib.pyplot as plt\n",
    "%matplotlib inline\n",
    "\n",
    "plt.style.use('ggplot')"
   ]
  },
  {
   "cell_type": "code",
   "execution_count": 2,
   "metadata": {},
   "outputs": [],
   "source": [
    "%load_ext autoreload\n",
    "%autoreload 2"
   ]
  },
  {
   "cell_type": "code",
   "execution_count": 3,
   "metadata": {},
   "outputs": [],
   "source": [
    "df_hsi = pd.read_csv('hang_seng.csv')"
   ]
  },
  {
   "cell_type": "code",
   "execution_count": 4,
   "metadata": {},
   "outputs": [
    {
     "name": "stdout",
     "output_type": "stream",
     "text": [
      "<class 'pandas.core.frame.DataFrame'>\n",
      "RangeIndex: 5107 entries, 0 to 5106\n",
      "Data columns (total 7 columns):\n",
      " #   Column     Non-Null Count  Dtype  \n",
      "---  ------     --------------  -----  \n",
      " 0   Date       5107 non-null   object \n",
      " 1   Open       5023 non-null   float64\n",
      " 2   High       5023 non-null   float64\n",
      " 3   Low        5023 non-null   float64\n",
      " 4   Close      5023 non-null   float64\n",
      " 5   Adj Close  5023 non-null   float64\n",
      " 6   Volume     5023 non-null   float64\n",
      "dtypes: float64(6), object(1)\n",
      "memory usage: 279.4+ KB\n"
     ]
    }
   ],
   "source": [
    "df_hsi.info()"
   ]
  },
  {
   "cell_type": "code",
   "execution_count": 5,
   "metadata": {},
   "outputs": [
    {
     "data": {
      "text/html": [
       "<div>\n",
       "<style scoped>\n",
       "    .dataframe tbody tr th:only-of-type {\n",
       "        vertical-align: middle;\n",
       "    }\n",
       "\n",
       "    .dataframe tbody tr th {\n",
       "        vertical-align: top;\n",
       "    }\n",
       "\n",
       "    .dataframe thead th {\n",
       "        text-align: right;\n",
       "    }\n",
       "</style>\n",
       "<table border=\"1\" class=\"dataframe\">\n",
       "  <thead>\n",
       "    <tr style=\"text-align: right;\">\n",
       "      <th></th>\n",
       "      <th>Date</th>\n",
       "      <th>Open</th>\n",
       "      <th>High</th>\n",
       "      <th>Low</th>\n",
       "      <th>Close</th>\n",
       "      <th>Adj Close</th>\n",
       "      <th>Volume</th>\n",
       "    </tr>\n",
       "  </thead>\n",
       "  <tbody>\n",
       "    <tr>\n",
       "      <th>0</th>\n",
       "      <td>2000-01-03</td>\n",
       "      <td>17057.699219</td>\n",
       "      <td>17426.160156</td>\n",
       "      <td>17057.699219</td>\n",
       "      <td>17369.630859</td>\n",
       "      <td>17369.630859</td>\n",
       "      <td>0.0</td>\n",
       "    </tr>\n",
       "    <tr>\n",
       "      <th>1</th>\n",
       "      <td>2000-01-04</td>\n",
       "      <td>17303.000000</td>\n",
       "      <td>17303.000000</td>\n",
       "      <td>16933.519531</td>\n",
       "      <td>17072.820313</td>\n",
       "      <td>17072.820313</td>\n",
       "      <td>0.0</td>\n",
       "    </tr>\n",
       "    <tr>\n",
       "      <th>2</th>\n",
       "      <td>2000-01-05</td>\n",
       "      <td>16608.550781</td>\n",
       "      <td>16608.550781</td>\n",
       "      <td>15688.490234</td>\n",
       "      <td>15846.719727</td>\n",
       "      <td>15846.719727</td>\n",
       "      <td>0.0</td>\n",
       "    </tr>\n",
       "    <tr>\n",
       "      <th>3</th>\n",
       "      <td>2000-01-06</td>\n",
       "      <td>15942.070313</td>\n",
       "      <td>15971.030273</td>\n",
       "      <td>14763.969727</td>\n",
       "      <td>15153.230469</td>\n",
       "      <td>15153.230469</td>\n",
       "      <td>0.0</td>\n",
       "    </tr>\n",
       "    <tr>\n",
       "      <th>4</th>\n",
       "      <td>2000-01-07</td>\n",
       "      <td>15329.339844</td>\n",
       "      <td>15513.889648</td>\n",
       "      <td>15108.750000</td>\n",
       "      <td>15405.629883</td>\n",
       "      <td>15405.629883</td>\n",
       "      <td>0.0</td>\n",
       "    </tr>\n",
       "  </tbody>\n",
       "</table>\n",
       "</div>"
      ],
      "text/plain": [
       "         Date          Open          High           Low         Close  \\\n",
       "0  2000-01-03  17057.699219  17426.160156  17057.699219  17369.630859   \n",
       "1  2000-01-04  17303.000000  17303.000000  16933.519531  17072.820313   \n",
       "2  2000-01-05  16608.550781  16608.550781  15688.490234  15846.719727   \n",
       "3  2000-01-06  15942.070313  15971.030273  14763.969727  15153.230469   \n",
       "4  2000-01-07  15329.339844  15513.889648  15108.750000  15405.629883   \n",
       "\n",
       "      Adj Close  Volume  \n",
       "0  17369.630859     0.0  \n",
       "1  17072.820313     0.0  \n",
       "2  15846.719727     0.0  \n",
       "3  15153.230469     0.0  \n",
       "4  15405.629883     0.0  "
      ]
     },
     "execution_count": 5,
     "metadata": {},
     "output_type": "execute_result"
    }
   ],
   "source": [
    "df_hsi.head()"
   ]
  },
  {
   "cell_type": "code",
   "execution_count": 6,
   "metadata": {},
   "outputs": [],
   "source": [
    "df_hsi= df_hsi[['Date','Close']]"
   ]
  },
  {
   "cell_type": "code",
   "execution_count": 7,
   "metadata": {},
   "outputs": [],
   "source": [
    "df_hsi.rename(columns = {'Date':'date', 'Close':'hsi_close'}, inplace = True)"
   ]
  },
  {
   "cell_type": "code",
   "execution_count": 8,
   "metadata": {},
   "outputs": [],
   "source": [
    "df_hsi['date'] = pd.to_datetime(df_hsi['date'], yearfirst = True)"
   ]
  },
  {
   "cell_type": "code",
   "execution_count": 9,
   "metadata": {},
   "outputs": [],
   "source": [
    "df_hsi.sort_values(by = 'date', inplace = True)"
   ]
  },
  {
   "cell_type": "code",
   "execution_count": 10,
   "metadata": {},
   "outputs": [],
   "source": [
    "df_hsi['hsi_close_lag1'] = df_hsi['hsi_close'].shift(1)"
   ]
  },
  {
   "cell_type": "code",
   "execution_count": 11,
   "metadata": {},
   "outputs": [],
   "source": [
    "df_hsi['hsi_change%'] = 100*((df_hsi['hsi_close'] - df_hsi['hsi_close_lag1'])/ df_hsi['hsi_close_lag1'])\n",
    "df_hsi['hsi_dif'] = df_hsi['hsi_close'] - df_hsi['hsi_close_lag1']"
   ]
  },
  {
   "cell_type": "code",
   "execution_count": 12,
   "metadata": {},
   "outputs": [
    {
     "data": {
      "text/html": [
       "<div>\n",
       "<style scoped>\n",
       "    .dataframe tbody tr th:only-of-type {\n",
       "        vertical-align: middle;\n",
       "    }\n",
       "\n",
       "    .dataframe tbody tr th {\n",
       "        vertical-align: top;\n",
       "    }\n",
       "\n",
       "    .dataframe thead th {\n",
       "        text-align: right;\n",
       "    }\n",
       "</style>\n",
       "<table border=\"1\" class=\"dataframe\">\n",
       "  <thead>\n",
       "    <tr style=\"text-align: right;\">\n",
       "      <th></th>\n",
       "      <th>date</th>\n",
       "      <th>hsi_close</th>\n",
       "      <th>hsi_close_lag1</th>\n",
       "      <th>hsi_change%</th>\n",
       "      <th>hsi_dif</th>\n",
       "    </tr>\n",
       "  </thead>\n",
       "  <tbody>\n",
       "    <tr>\n",
       "      <th>0</th>\n",
       "      <td>2000-01-03</td>\n",
       "      <td>17369.630859</td>\n",
       "      <td>NaN</td>\n",
       "      <td>NaN</td>\n",
       "      <td>NaN</td>\n",
       "    </tr>\n",
       "    <tr>\n",
       "      <th>1</th>\n",
       "      <td>2000-01-04</td>\n",
       "      <td>17072.820313</td>\n",
       "      <td>17369.630859</td>\n",
       "      <td>-1.708790</td>\n",
       "      <td>-296.810546</td>\n",
       "    </tr>\n",
       "    <tr>\n",
       "      <th>2</th>\n",
       "      <td>2000-01-05</td>\n",
       "      <td>15846.719727</td>\n",
       "      <td>17072.820313</td>\n",
       "      <td>-7.181594</td>\n",
       "      <td>-1226.100586</td>\n",
       "    </tr>\n",
       "    <tr>\n",
       "      <th>3</th>\n",
       "      <td>2000-01-06</td>\n",
       "      <td>15153.230469</td>\n",
       "      <td>15846.719727</td>\n",
       "      <td>-4.376232</td>\n",
       "      <td>-693.489258</td>\n",
       "    </tr>\n",
       "    <tr>\n",
       "      <th>4</th>\n",
       "      <td>2000-01-07</td>\n",
       "      <td>15405.629883</td>\n",
       "      <td>15153.230469</td>\n",
       "      <td>1.665648</td>\n",
       "      <td>252.399414</td>\n",
       "    </tr>\n",
       "  </tbody>\n",
       "</table>\n",
       "</div>"
      ],
      "text/plain": [
       "        date     hsi_close  hsi_close_lag1  hsi_change%      hsi_dif\n",
       "0 2000-01-03  17369.630859             NaN          NaN          NaN\n",
       "1 2000-01-04  17072.820313    17369.630859    -1.708790  -296.810546\n",
       "2 2000-01-05  15846.719727    17072.820313    -7.181594 -1226.100586\n",
       "3 2000-01-06  15153.230469    15846.719727    -4.376232  -693.489258\n",
       "4 2000-01-07  15405.629883    15153.230469     1.665648   252.399414"
      ]
     },
     "execution_count": 12,
     "metadata": {},
     "output_type": "execute_result"
    }
   ],
   "source": [
    "df_hsi.head()"
   ]
  },
  {
   "cell_type": "code",
   "execution_count": 13,
   "metadata": {},
   "outputs": [
    {
     "name": "stdout",
     "output_type": "stream",
     "text": [
      "Stored 'df_hsi' (DataFrame)\n"
     ]
    }
   ],
   "source": [
    "%store df_hsi"
   ]
  }
 ],
 "metadata": {
  "kernelspec": {
   "display_name": "Python 3",
   "language": "python",
   "name": "python3"
  },
  "language_info": {
   "codemirror_mode": {
    "name": "ipython",
    "version": 3
   },
   "file_extension": ".py",
   "mimetype": "text/x-python",
   "name": "python",
   "nbconvert_exporter": "python",
   "pygments_lexer": "ipython3",
   "version": "3.7.7"
  }
 },
 "nbformat": 4,
 "nbformat_minor": 4
}
