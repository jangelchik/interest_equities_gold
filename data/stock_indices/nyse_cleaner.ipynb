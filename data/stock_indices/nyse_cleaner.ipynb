{
 "cells": [
  {
   "cell_type": "code",
   "execution_count": 1,
   "metadata": {},
   "outputs": [],
   "source": [
    "import numpy as np\n",
    "import pandas as pd\n",
    "import scipy.stats as stats\n",
    "\n",
    "import datetime\n",
    "\n",
    "import matplotlib.pyplot as plt\n",
    "%matplotlib inline\n",
    "\n",
    "plt.style.use('ggplot')"
   ]
  },
  {
   "cell_type": "code",
   "execution_count": 2,
   "metadata": {},
   "outputs": [],
   "source": [
    "%load_ext autoreload\n",
    "%autoreload 2"
   ]
  },
  {
   "cell_type": "code",
   "execution_count": 3,
   "metadata": {},
   "outputs": [],
   "source": [
    "df_nyse = pd.read_csv('nyse.csv')"
   ]
  },
  {
   "cell_type": "code",
   "execution_count": 4,
   "metadata": {},
   "outputs": [
    {
     "name": "stdout",
     "output_type": "stream",
     "text": [
      "<class 'pandas.core.frame.DataFrame'>\n",
      "RangeIndex: 5131 entries, 0 to 5130\n",
      "Data columns (total 7 columns):\n",
      " #   Column     Non-Null Count  Dtype  \n",
      "---  ------     --------------  -----  \n",
      " 0   Date       5131 non-null   object \n",
      " 1   Open       5131 non-null   float64\n",
      " 2   High       5131 non-null   float64\n",
      " 3   Low        5131 non-null   float64\n",
      " 4   Close      5131 non-null   float64\n",
      " 5   Adj Close  5131 non-null   float64\n",
      " 6   Volume     5131 non-null   int64  \n",
      "dtypes: float64(5), int64(1), object(1)\n",
      "memory usage: 280.7+ KB\n"
     ]
    }
   ],
   "source": [
    "df_nyse.info()"
   ]
  },
  {
   "cell_type": "code",
   "execution_count": 5,
   "metadata": {},
   "outputs": [
    {
     "data": {
      "text/html": [
       "<div>\n",
       "<style scoped>\n",
       "    .dataframe tbody tr th:only-of-type {\n",
       "        vertical-align: middle;\n",
       "    }\n",
       "\n",
       "    .dataframe tbody tr th {\n",
       "        vertical-align: top;\n",
       "    }\n",
       "\n",
       "    .dataframe thead th {\n",
       "        text-align: right;\n",
       "    }\n",
       "</style>\n",
       "<table border=\"1\" class=\"dataframe\">\n",
       "  <thead>\n",
       "    <tr style=\"text-align: right;\">\n",
       "      <th></th>\n",
       "      <th>Date</th>\n",
       "      <th>Open</th>\n",
       "      <th>High</th>\n",
       "      <th>Low</th>\n",
       "      <th>Close</th>\n",
       "      <th>Adj Close</th>\n",
       "      <th>Volume</th>\n",
       "    </tr>\n",
       "  </thead>\n",
       "  <tbody>\n",
       "    <tr>\n",
       "      <th>0</th>\n",
       "      <td>2000-01-03</td>\n",
       "      <td>6762.109863</td>\n",
       "      <td>6762.109863</td>\n",
       "      <td>6762.109863</td>\n",
       "      <td>6762.109863</td>\n",
       "      <td>6762.109863</td>\n",
       "      <td>0</td>\n",
       "    </tr>\n",
       "    <tr>\n",
       "      <th>1</th>\n",
       "      <td>2000-01-04</td>\n",
       "      <td>6543.759766</td>\n",
       "      <td>6543.759766</td>\n",
       "      <td>6543.759766</td>\n",
       "      <td>6543.759766</td>\n",
       "      <td>6543.759766</td>\n",
       "      <td>0</td>\n",
       "    </tr>\n",
       "    <tr>\n",
       "      <th>2</th>\n",
       "      <td>2000-01-05</td>\n",
       "      <td>6567.029785</td>\n",
       "      <td>6567.029785</td>\n",
       "      <td>6567.029785</td>\n",
       "      <td>6567.029785</td>\n",
       "      <td>6567.029785</td>\n",
       "      <td>0</td>\n",
       "    </tr>\n",
       "    <tr>\n",
       "      <th>3</th>\n",
       "      <td>2000-01-06</td>\n",
       "      <td>6635.439941</td>\n",
       "      <td>6635.439941</td>\n",
       "      <td>6635.439941</td>\n",
       "      <td>6635.439941</td>\n",
       "      <td>6635.439941</td>\n",
       "      <td>0</td>\n",
       "    </tr>\n",
       "    <tr>\n",
       "      <th>4</th>\n",
       "      <td>2000-01-07</td>\n",
       "      <td>6792.669922</td>\n",
       "      <td>6792.669922</td>\n",
       "      <td>6792.669922</td>\n",
       "      <td>6792.669922</td>\n",
       "      <td>6792.669922</td>\n",
       "      <td>0</td>\n",
       "    </tr>\n",
       "  </tbody>\n",
       "</table>\n",
       "</div>"
      ],
      "text/plain": [
       "         Date         Open         High          Low        Close  \\\n",
       "0  2000-01-03  6762.109863  6762.109863  6762.109863  6762.109863   \n",
       "1  2000-01-04  6543.759766  6543.759766  6543.759766  6543.759766   \n",
       "2  2000-01-05  6567.029785  6567.029785  6567.029785  6567.029785   \n",
       "3  2000-01-06  6635.439941  6635.439941  6635.439941  6635.439941   \n",
       "4  2000-01-07  6792.669922  6792.669922  6792.669922  6792.669922   \n",
       "\n",
       "     Adj Close  Volume  \n",
       "0  6762.109863       0  \n",
       "1  6543.759766       0  \n",
       "2  6567.029785       0  \n",
       "3  6635.439941       0  \n",
       "4  6792.669922       0  "
      ]
     },
     "execution_count": 5,
     "metadata": {},
     "output_type": "execute_result"
    }
   ],
   "source": [
    "df_nyse.head()"
   ]
  },
  {
   "cell_type": "code",
   "execution_count": 6,
   "metadata": {},
   "outputs": [],
   "source": [
    "df_nyse = df_nyse[['Date','Close']]"
   ]
  },
  {
   "cell_type": "code",
   "execution_count": 7,
   "metadata": {},
   "outputs": [],
   "source": [
    "df_nyse.rename(columns = {'Date':'date', 'Close':'nyse_close'}, inplace = True)"
   ]
  },
  {
   "cell_type": "code",
   "execution_count": 8,
   "metadata": {},
   "outputs": [],
   "source": [
    "df_nyse['date'] = pd.to_datetime(df_nyse['date'], yearfirst = True)"
   ]
  },
  {
   "cell_type": "code",
   "execution_count": 9,
   "metadata": {},
   "outputs": [],
   "source": [
    "df_nyse.sort_values(by = 'date', inplace = True)"
   ]
  },
  {
   "cell_type": "code",
   "execution_count": 10,
   "metadata": {},
   "outputs": [],
   "source": [
    "df_nyse['nyse_close_lag1'] = df_nyse['nyse_close'].shift(1)"
   ]
  },
  {
   "cell_type": "code",
   "execution_count": 11,
   "metadata": {},
   "outputs": [],
   "source": [
    "df_nyse['nyse_change%'] = 100*((df_nyse['nyse_close'] - df_nyse['nyse_close_lag1']) / df_nyse['nyse_close_lag1'])\n",
    "df_nyse['nyse_dif'] = df_nyse['nyse_close'] - df_nyse['nyse_close_lag1']"
   ]
  },
  {
   "cell_type": "code",
   "execution_count": 12,
   "metadata": {},
   "outputs": [
    {
     "data": {
      "text/html": [
       "<div>\n",
       "<style scoped>\n",
       "    .dataframe tbody tr th:only-of-type {\n",
       "        vertical-align: middle;\n",
       "    }\n",
       "\n",
       "    .dataframe tbody tr th {\n",
       "        vertical-align: top;\n",
       "    }\n",
       "\n",
       "    .dataframe thead th {\n",
       "        text-align: right;\n",
       "    }\n",
       "</style>\n",
       "<table border=\"1\" class=\"dataframe\">\n",
       "  <thead>\n",
       "    <tr style=\"text-align: right;\">\n",
       "      <th></th>\n",
       "      <th>date</th>\n",
       "      <th>nyse_close</th>\n",
       "      <th>nyse_close_lag1</th>\n",
       "      <th>nyse_change%</th>\n",
       "      <th>nyse_dif</th>\n",
       "    </tr>\n",
       "  </thead>\n",
       "  <tbody>\n",
       "    <tr>\n",
       "      <th>0</th>\n",
       "      <td>2000-01-03</td>\n",
       "      <td>6762.109863</td>\n",
       "      <td>NaN</td>\n",
       "      <td>NaN</td>\n",
       "      <td>NaN</td>\n",
       "    </tr>\n",
       "    <tr>\n",
       "      <th>1</th>\n",
       "      <td>2000-01-04</td>\n",
       "      <td>6543.759766</td>\n",
       "      <td>6762.109863</td>\n",
       "      <td>-3.229023</td>\n",
       "      <td>-218.350097</td>\n",
       "    </tr>\n",
       "    <tr>\n",
       "      <th>2</th>\n",
       "      <td>2000-01-05</td>\n",
       "      <td>6567.029785</td>\n",
       "      <td>6543.759766</td>\n",
       "      <td>0.355606</td>\n",
       "      <td>23.270019</td>\n",
       "    </tr>\n",
       "    <tr>\n",
       "      <th>3</th>\n",
       "      <td>2000-01-06</td>\n",
       "      <td>6635.439941</td>\n",
       "      <td>6567.029785</td>\n",
       "      <td>1.041721</td>\n",
       "      <td>68.410156</td>\n",
       "    </tr>\n",
       "    <tr>\n",
       "      <th>4</th>\n",
       "      <td>2000-01-07</td>\n",
       "      <td>6792.669922</td>\n",
       "      <td>6635.439941</td>\n",
       "      <td>2.369549</td>\n",
       "      <td>157.229981</td>\n",
       "    </tr>\n",
       "  </tbody>\n",
       "</table>\n",
       "</div>"
      ],
      "text/plain": [
       "        date   nyse_close  nyse_close_lag1  nyse_change%    nyse_dif\n",
       "0 2000-01-03  6762.109863              NaN           NaN         NaN\n",
       "1 2000-01-04  6543.759766      6762.109863     -3.229023 -218.350097\n",
       "2 2000-01-05  6567.029785      6543.759766      0.355606   23.270019\n",
       "3 2000-01-06  6635.439941      6567.029785      1.041721   68.410156\n",
       "4 2000-01-07  6792.669922      6635.439941      2.369549  157.229981"
      ]
     },
     "execution_count": 12,
     "metadata": {},
     "output_type": "execute_result"
    }
   ],
   "source": [
    "df_nyse.head()"
   ]
  },
  {
   "cell_type": "code",
   "execution_count": 13,
   "metadata": {},
   "outputs": [
    {
     "name": "stdout",
     "output_type": "stream",
     "text": [
      "Stored 'df_nyse' (DataFrame)\n"
     ]
    }
   ],
   "source": [
    "%store df_nyse"
   ]
  },
  {
   "cell_type": "code",
   "execution_count": null,
   "metadata": {},
   "outputs": [],
   "source": []
  }
 ],
 "metadata": {
  "kernelspec": {
   "display_name": "Python 3",
   "language": "python",
   "name": "python3"
  },
  "language_info": {
   "codemirror_mode": {
    "name": "ipython",
    "version": 3
   },
   "file_extension": ".py",
   "mimetype": "text/x-python",
   "name": "python",
   "nbconvert_exporter": "python",
   "pygments_lexer": "ipython3",
   "version": "3.7.7"
  }
 },
 "nbformat": 4,
 "nbformat_minor": 4
}
