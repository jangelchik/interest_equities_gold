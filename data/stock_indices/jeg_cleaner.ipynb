{
 "cells": [
  {
   "cell_type": "code",
   "execution_count": 1,
   "metadata": {},
   "outputs": [],
   "source": [
    "import numpy as np\n",
    "import pandas as pd\n",
    "import scipy.stats as stats\n",
    "\n",
    "import datetime\n",
    "\n",
    "import matplotlib.pyplot as plt\n",
    "%matplotlib inline\n",
    "\n",
    "plt.style.use('ggplot')"
   ]
  },
  {
   "cell_type": "code",
   "execution_count": 2,
   "metadata": {},
   "outputs": [],
   "source": [
    "%load_ext autoreload\n",
    "%autoreload 2"
   ]
  },
  {
   "cell_type": "code",
   "execution_count": 3,
   "metadata": {},
   "outputs": [],
   "source": [
    "df_jeg = pd.read_csv('jeg.csv')"
   ]
  },
  {
   "cell_type": "code",
   "execution_count": 4,
   "metadata": {},
   "outputs": [
    {
     "name": "stdout",
     "output_type": "stream",
     "text": [
      "<class 'pandas.core.frame.DataFrame'>\n",
      "RangeIndex: 2884 entries, 0 to 2883\n",
      "Data columns (total 7 columns):\n",
      " #   Column     Non-Null Count  Dtype  \n",
      "---  ------     --------------  -----  \n",
      " 0   Date       2884 non-null   object \n",
      " 1   Open       2869 non-null   float64\n",
      " 2   High       2869 non-null   float64\n",
      " 3   Low        2869 non-null   float64\n",
      " 4   Close      2869 non-null   float64\n",
      " 5   Adj Close  2869 non-null   float64\n",
      " 6   Volume     2869 non-null   float64\n",
      "dtypes: float64(6), object(1)\n",
      "memory usage: 157.8+ KB\n"
     ]
    }
   ],
   "source": [
    "df_jeg.info()"
   ]
  },
  {
   "cell_type": "code",
   "execution_count": 5,
   "metadata": {},
   "outputs": [
    {
     "data": {
      "text/html": [
       "<div>\n",
       "<style scoped>\n",
       "    .dataframe tbody tr th:only-of-type {\n",
       "        vertical-align: middle;\n",
       "    }\n",
       "\n",
       "    .dataframe tbody tr th {\n",
       "        vertical-align: top;\n",
       "    }\n",
       "\n",
       "    .dataframe thead th {\n",
       "        text-align: right;\n",
       "    }\n",
       "</style>\n",
       "<table border=\"1\" class=\"dataframe\">\n",
       "  <thead>\n",
       "    <tr style=\"text-align: right;\">\n",
       "      <th></th>\n",
       "      <th>Date</th>\n",
       "      <th>Open</th>\n",
       "      <th>High</th>\n",
       "      <th>Low</th>\n",
       "      <th>Close</th>\n",
       "      <th>Adj Close</th>\n",
       "      <th>Volume</th>\n",
       "    </tr>\n",
       "  </thead>\n",
       "  <tbody>\n",
       "    <tr>\n",
       "      <th>0</th>\n",
       "      <td>2008-09-05</td>\n",
       "      <td>332.000000</td>\n",
       "      <td>343.000000</td>\n",
       "      <td>329.000000</td>\n",
       "      <td>335.000000</td>\n",
       "      <td>-4.022734e+11</td>\n",
       "      <td>2570000.0</td>\n",
       "    </tr>\n",
       "    <tr>\n",
       "      <th>1</th>\n",
       "      <td>2008-09-08</td>\n",
       "      <td>336.000000</td>\n",
       "      <td>350.000000</td>\n",
       "      <td>336.000000</td>\n",
       "      <td>343.000000</td>\n",
       "      <td>-4.118800e+11</td>\n",
       "      <td>3674000.0</td>\n",
       "    </tr>\n",
       "    <tr>\n",
       "      <th>2</th>\n",
       "      <td>2008-09-09</td>\n",
       "      <td>342.000000</td>\n",
       "      <td>347.989990</td>\n",
       "      <td>337.864990</td>\n",
       "      <td>337.864990</td>\n",
       "      <td>-4.057137e+11</td>\n",
       "      <td>151000.0</td>\n",
       "    </tr>\n",
       "    <tr>\n",
       "      <th>3</th>\n",
       "      <td>2008-09-10</td>\n",
       "      <td>319.382996</td>\n",
       "      <td>319.382996</td>\n",
       "      <td>319.382996</td>\n",
       "      <td>319.382996</td>\n",
       "      <td>-3.835203e+11</td>\n",
       "      <td>23000.0</td>\n",
       "    </tr>\n",
       "    <tr>\n",
       "      <th>4</th>\n",
       "      <td>2008-09-11</td>\n",
       "      <td>300.000000</td>\n",
       "      <td>307.000000</td>\n",
       "      <td>290.200012</td>\n",
       "      <td>290.799988</td>\n",
       "      <td>-3.491973e+11</td>\n",
       "      <td>5188000.0</td>\n",
       "    </tr>\n",
       "  </tbody>\n",
       "</table>\n",
       "</div>"
      ],
      "text/plain": [
       "         Date        Open        High         Low       Close     Adj Close  \\\n",
       "0  2008-09-05  332.000000  343.000000  329.000000  335.000000 -4.022734e+11   \n",
       "1  2008-09-08  336.000000  350.000000  336.000000  343.000000 -4.118800e+11   \n",
       "2  2008-09-09  342.000000  347.989990  337.864990  337.864990 -4.057137e+11   \n",
       "3  2008-09-10  319.382996  319.382996  319.382996  319.382996 -3.835203e+11   \n",
       "4  2008-09-11  300.000000  307.000000  290.200012  290.799988 -3.491973e+11   \n",
       "\n",
       "      Volume  \n",
       "0  2570000.0  \n",
       "1  3674000.0  \n",
       "2   151000.0  \n",
       "3    23000.0  \n",
       "4  5188000.0  "
      ]
     },
     "execution_count": 5,
     "metadata": {},
     "output_type": "execute_result"
    }
   ],
   "source": [
    "df_jeg.head()"
   ]
  },
  {
   "cell_type": "code",
   "execution_count": 6,
   "metadata": {},
   "outputs": [],
   "source": [
    "df_jeg= df_jeg[['Date','Close']]"
   ]
  },
  {
   "cell_type": "code",
   "execution_count": 7,
   "metadata": {},
   "outputs": [],
   "source": [
    "df_jeg.rename(columns = {'Date':'date', 'Close':'jeg_close'}, inplace = True)"
   ]
  },
  {
   "cell_type": "code",
   "execution_count": 8,
   "metadata": {},
   "outputs": [],
   "source": [
    "df_jeg['date'] = pd.to_datetime(df_jeg['date'], yearfirst = True)"
   ]
  },
  {
   "cell_type": "code",
   "execution_count": 9,
   "metadata": {},
   "outputs": [],
   "source": [
    "df_jeg.sort_values(by = 'date', inplace = True)"
   ]
  },
  {
   "cell_type": "code",
   "execution_count": 10,
   "metadata": {},
   "outputs": [],
   "source": [
    "df_jeg['jeg_close_lag1'] = df_jeg['jeg_close'].shift(1)"
   ]
  },
  {
   "cell_type": "code",
   "execution_count": 11,
   "metadata": {},
   "outputs": [],
   "source": [
    "df_jeg['jeg_change%'] = 100*((df_jeg['jeg_close'] - df_jeg['jeg_close_lag1']) / df_jeg['jeg_close_lag1'])\n",
    "df_jeg['jeg_dif'] = df_jeg['jeg_close'] - df_jeg['jeg_close_lag1']"
   ]
  },
  {
   "cell_type": "code",
   "execution_count": 12,
   "metadata": {},
   "outputs": [
    {
     "data": {
      "text/html": [
       "<div>\n",
       "<style scoped>\n",
       "    .dataframe tbody tr th:only-of-type {\n",
       "        vertical-align: middle;\n",
       "    }\n",
       "\n",
       "    .dataframe tbody tr th {\n",
       "        vertical-align: top;\n",
       "    }\n",
       "\n",
       "    .dataframe thead th {\n",
       "        text-align: right;\n",
       "    }\n",
       "</style>\n",
       "<table border=\"1\" class=\"dataframe\">\n",
       "  <thead>\n",
       "    <tr style=\"text-align: right;\">\n",
       "      <th></th>\n",
       "      <th>date</th>\n",
       "      <th>jeg_close</th>\n",
       "      <th>jeg_close_lag1</th>\n",
       "      <th>jeg_change%</th>\n",
       "      <th>jeg_dif</th>\n",
       "    </tr>\n",
       "  </thead>\n",
       "  <tbody>\n",
       "    <tr>\n",
       "      <th>0</th>\n",
       "      <td>2008-09-05</td>\n",
       "      <td>335.000000</td>\n",
       "      <td>NaN</td>\n",
       "      <td>NaN</td>\n",
       "      <td>NaN</td>\n",
       "    </tr>\n",
       "    <tr>\n",
       "      <th>1</th>\n",
       "      <td>2008-09-08</td>\n",
       "      <td>343.000000</td>\n",
       "      <td>335.000000</td>\n",
       "      <td>2.388060</td>\n",
       "      <td>8.000000</td>\n",
       "    </tr>\n",
       "    <tr>\n",
       "      <th>2</th>\n",
       "      <td>2008-09-09</td>\n",
       "      <td>337.864990</td>\n",
       "      <td>343.000000</td>\n",
       "      <td>-1.497087</td>\n",
       "      <td>-5.135010</td>\n",
       "    </tr>\n",
       "    <tr>\n",
       "      <th>3</th>\n",
       "      <td>2008-09-10</td>\n",
       "      <td>319.382996</td>\n",
       "      <td>337.864990</td>\n",
       "      <td>-5.470231</td>\n",
       "      <td>-18.481994</td>\n",
       "    </tr>\n",
       "    <tr>\n",
       "      <th>4</th>\n",
       "      <td>2008-09-11</td>\n",
       "      <td>290.799988</td>\n",
       "      <td>319.382996</td>\n",
       "      <td>-8.949446</td>\n",
       "      <td>-28.583008</td>\n",
       "    </tr>\n",
       "  </tbody>\n",
       "</table>\n",
       "</div>"
      ],
      "text/plain": [
       "        date   jeg_close  jeg_close_lag1  jeg_change%    jeg_dif\n",
       "0 2008-09-05  335.000000             NaN          NaN        NaN\n",
       "1 2008-09-08  343.000000      335.000000     2.388060   8.000000\n",
       "2 2008-09-09  337.864990      343.000000    -1.497087  -5.135010\n",
       "3 2008-09-10  319.382996      337.864990    -5.470231 -18.481994\n",
       "4 2008-09-11  290.799988      319.382996    -8.949446 -28.583008"
      ]
     },
     "execution_count": 12,
     "metadata": {},
     "output_type": "execute_result"
    }
   ],
   "source": [
    "df_jeg.head()"
   ]
  },
  {
   "cell_type": "code",
   "execution_count": 13,
   "metadata": {},
   "outputs": [
    {
     "name": "stdout",
     "output_type": "stream",
     "text": [
      "Stored 'df_jeg' (DataFrame)\n"
     ]
    }
   ],
   "source": [
    "%store df_jeg"
   ]
  }
 ],
 "metadata": {
  "kernelspec": {
   "display_name": "Python 3",
   "language": "python",
   "name": "python3"
  },
  "language_info": {
   "codemirror_mode": {
    "name": "ipython",
    "version": 3
   },
   "file_extension": ".py",
   "mimetype": "text/x-python",
   "name": "python",
   "nbconvert_exporter": "python",
   "pygments_lexer": "ipython3",
   "version": "3.7.7"
  }
 },
 "nbformat": 4,
 "nbformat_minor": 4
}
