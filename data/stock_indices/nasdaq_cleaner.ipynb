{
 "cells": [
  {
   "cell_type": "code",
   "execution_count": 1,
   "metadata": {},
   "outputs": [],
   "source": [
    "import numpy as np\n",
    "import pandas as pd\n",
    "import scipy.stats as stats\n",
    "\n",
    "import datetime\n",
    "\n",
    "import matplotlib.pyplot as plt\n",
    "%matplotlib inline\n",
    "\n",
    "plt.style.use('ggplot')"
   ]
  },
  {
   "cell_type": "code",
   "execution_count": 2,
   "metadata": {},
   "outputs": [],
   "source": [
    "%load_ext autoreload\n",
    "%autoreload 2"
   ]
  },
  {
   "cell_type": "code",
   "execution_count": 3,
   "metadata": {},
   "outputs": [],
   "source": [
    "df_nasdaq = pd.read_csv('nasdaq.csv')"
   ]
  },
  {
   "cell_type": "code",
   "execution_count": 4,
   "metadata": {},
   "outputs": [
    {
     "name": "stdout",
     "output_type": "stream",
     "text": [
      "<class 'pandas.core.frame.DataFrame'>\n",
      "RangeIndex: 5131 entries, 0 to 5130\n",
      "Data columns (total 7 columns):\n",
      " #   Column     Non-Null Count  Dtype  \n",
      "---  ------     --------------  -----  \n",
      " 0   Date       5131 non-null   object \n",
      " 1   Open       5131 non-null   float64\n",
      " 2   High       5131 non-null   float64\n",
      " 3   Low        5131 non-null   float64\n",
      " 4   Close      5131 non-null   float64\n",
      " 5   Adj Close  5131 non-null   float64\n",
      " 6   Volume     5131 non-null   int64  \n",
      "dtypes: float64(5), int64(1), object(1)\n",
      "memory usage: 280.7+ KB\n"
     ]
    }
   ],
   "source": [
    "df_nasdaq.info()"
   ]
  },
  {
   "cell_type": "code",
   "execution_count": 5,
   "metadata": {},
   "outputs": [
    {
     "data": {
      "text/html": [
       "<div>\n",
       "<style scoped>\n",
       "    .dataframe tbody tr th:only-of-type {\n",
       "        vertical-align: middle;\n",
       "    }\n",
       "\n",
       "    .dataframe tbody tr th {\n",
       "        vertical-align: top;\n",
       "    }\n",
       "\n",
       "    .dataframe thead th {\n",
       "        text-align: right;\n",
       "    }\n",
       "</style>\n",
       "<table border=\"1\" class=\"dataframe\">\n",
       "  <thead>\n",
       "    <tr style=\"text-align: right;\">\n",
       "      <th></th>\n",
       "      <th>Date</th>\n",
       "      <th>Open</th>\n",
       "      <th>High</th>\n",
       "      <th>Low</th>\n",
       "      <th>Close</th>\n",
       "      <th>Adj Close</th>\n",
       "      <th>Volume</th>\n",
       "    </tr>\n",
       "  </thead>\n",
       "  <tbody>\n",
       "    <tr>\n",
       "      <th>0</th>\n",
       "      <td>2000-01-03</td>\n",
       "      <td>4186.189941</td>\n",
       "      <td>4192.189941</td>\n",
       "      <td>3989.709961</td>\n",
       "      <td>4131.149902</td>\n",
       "      <td>4131.149902</td>\n",
       "      <td>1510070000</td>\n",
       "    </tr>\n",
       "    <tr>\n",
       "      <th>1</th>\n",
       "      <td>2000-01-04</td>\n",
       "      <td>4020.000000</td>\n",
       "      <td>4073.250000</td>\n",
       "      <td>3898.229980</td>\n",
       "      <td>3901.689941</td>\n",
       "      <td>3901.689941</td>\n",
       "      <td>1511840000</td>\n",
       "    </tr>\n",
       "    <tr>\n",
       "      <th>2</th>\n",
       "      <td>2000-01-05</td>\n",
       "      <td>3854.350098</td>\n",
       "      <td>3924.209961</td>\n",
       "      <td>3734.870117</td>\n",
       "      <td>3877.540039</td>\n",
       "      <td>3877.540039</td>\n",
       "      <td>1735670000</td>\n",
       "    </tr>\n",
       "    <tr>\n",
       "      <th>3</th>\n",
       "      <td>2000-01-06</td>\n",
       "      <td>3834.439941</td>\n",
       "      <td>3868.760010</td>\n",
       "      <td>3715.620117</td>\n",
       "      <td>3727.129883</td>\n",
       "      <td>3727.129883</td>\n",
       "      <td>1598320000</td>\n",
       "    </tr>\n",
       "    <tr>\n",
       "      <th>4</th>\n",
       "      <td>2000-01-07</td>\n",
       "      <td>3711.090088</td>\n",
       "      <td>3882.669922</td>\n",
       "      <td>3711.090088</td>\n",
       "      <td>3882.620117</td>\n",
       "      <td>3882.620117</td>\n",
       "      <td>1634930000</td>\n",
       "    </tr>\n",
       "  </tbody>\n",
       "</table>\n",
       "</div>"
      ],
      "text/plain": [
       "         Date         Open         High          Low        Close  \\\n",
       "0  2000-01-03  4186.189941  4192.189941  3989.709961  4131.149902   \n",
       "1  2000-01-04  4020.000000  4073.250000  3898.229980  3901.689941   \n",
       "2  2000-01-05  3854.350098  3924.209961  3734.870117  3877.540039   \n",
       "3  2000-01-06  3834.439941  3868.760010  3715.620117  3727.129883   \n",
       "4  2000-01-07  3711.090088  3882.669922  3711.090088  3882.620117   \n",
       "\n",
       "     Adj Close      Volume  \n",
       "0  4131.149902  1510070000  \n",
       "1  3901.689941  1511840000  \n",
       "2  3877.540039  1735670000  \n",
       "3  3727.129883  1598320000  \n",
       "4  3882.620117  1634930000  "
      ]
     },
     "execution_count": 5,
     "metadata": {},
     "output_type": "execute_result"
    }
   ],
   "source": [
    "df_nasdaq.head()"
   ]
  },
  {
   "cell_type": "code",
   "execution_count": 6,
   "metadata": {},
   "outputs": [],
   "source": [
    "df_nasdaq = df_nasdaq[['Date','Close']]"
   ]
  },
  {
   "cell_type": "code",
   "execution_count": 7,
   "metadata": {},
   "outputs": [],
   "source": [
    "df_nasdaq.rename(columns = {'Date':'date', 'Close':'nasdaq_close'}, inplace = True)"
   ]
  },
  {
   "cell_type": "code",
   "execution_count": 8,
   "metadata": {},
   "outputs": [],
   "source": [
    "df_nasdaq['date'] = pd.to_datetime(df_nasdaq['date'], yearfirst = True)"
   ]
  },
  {
   "cell_type": "code",
   "execution_count": 9,
   "metadata": {},
   "outputs": [],
   "source": [
    "df_nasdaq['nasdaq_close_lag1'] = df_nasdaq['nasdaq_close'].shift(1)"
   ]
  },
  {
   "cell_type": "code",
   "execution_count": 10,
   "metadata": {},
   "outputs": [],
   "source": [
    "df_nasdaq['nasdaq_change%'] = 100*((df_nasdaq['nasdaq_close_lag1'] - df_nasdaq['nasdaq_close']) / df_nasdaq['nasdaq_close'])"
   ]
  },
  {
   "cell_type": "code",
   "execution_count": 11,
   "metadata": {},
   "outputs": [
    {
     "data": {
      "text/html": [
       "<div>\n",
       "<style scoped>\n",
       "    .dataframe tbody tr th:only-of-type {\n",
       "        vertical-align: middle;\n",
       "    }\n",
       "\n",
       "    .dataframe tbody tr th {\n",
       "        vertical-align: top;\n",
       "    }\n",
       "\n",
       "    .dataframe thead th {\n",
       "        text-align: right;\n",
       "    }\n",
       "</style>\n",
       "<table border=\"1\" class=\"dataframe\">\n",
       "  <thead>\n",
       "    <tr style=\"text-align: right;\">\n",
       "      <th></th>\n",
       "      <th>date</th>\n",
       "      <th>nasdaq_close</th>\n",
       "      <th>nasdaq_close_lag1</th>\n",
       "      <th>nasdaq_change%</th>\n",
       "    </tr>\n",
       "  </thead>\n",
       "  <tbody>\n",
       "    <tr>\n",
       "      <th>0</th>\n",
       "      <td>2000-01-03</td>\n",
       "      <td>4131.149902</td>\n",
       "      <td>NaN</td>\n",
       "      <td>NaN</td>\n",
       "    </tr>\n",
       "    <tr>\n",
       "      <th>1</th>\n",
       "      <td>2000-01-04</td>\n",
       "      <td>3901.689941</td>\n",
       "      <td>4131.149902</td>\n",
       "      <td>5.881040</td>\n",
       "    </tr>\n",
       "    <tr>\n",
       "      <th>2</th>\n",
       "      <td>2000-01-05</td>\n",
       "      <td>3877.540039</td>\n",
       "      <td>3901.689941</td>\n",
       "      <td>0.622815</td>\n",
       "    </tr>\n",
       "    <tr>\n",
       "      <th>3</th>\n",
       "      <td>2000-01-06</td>\n",
       "      <td>3727.129883</td>\n",
       "      <td>3877.540039</td>\n",
       "      <td>4.035549</td>\n",
       "    </tr>\n",
       "    <tr>\n",
       "      <th>4</th>\n",
       "      <td>2000-01-07</td>\n",
       "      <td>3882.620117</td>\n",
       "      <td>3727.129883</td>\n",
       "      <td>-4.004776</td>\n",
       "    </tr>\n",
       "  </tbody>\n",
       "</table>\n",
       "</div>"
      ],
      "text/plain": [
       "        date  nasdaq_close  nasdaq_close_lag1  nasdaq_change%\n",
       "0 2000-01-03   4131.149902                NaN             NaN\n",
       "1 2000-01-04   3901.689941        4131.149902        5.881040\n",
       "2 2000-01-05   3877.540039        3901.689941        0.622815\n",
       "3 2000-01-06   3727.129883        3877.540039        4.035549\n",
       "4 2000-01-07   3882.620117        3727.129883       -4.004776"
      ]
     },
     "execution_count": 11,
     "metadata": {},
     "output_type": "execute_result"
    }
   ],
   "source": [
    "df_nasdaq.head()"
   ]
  },
  {
   "cell_type": "code",
   "execution_count": 12,
   "metadata": {},
   "outputs": [
    {
     "name": "stdout",
     "output_type": "stream",
     "text": [
      "Stored 'df_nasdaq' (DataFrame)\n"
     ]
    }
   ],
   "source": [
    "%store df_nasdaq"
   ]
  }
 ],
 "metadata": {
  "kernelspec": {
   "display_name": "Python 3",
   "language": "python",
   "name": "python3"
  },
  "language_info": {
   "codemirror_mode": {
    "name": "ipython",
    "version": 3
   },
   "file_extension": ".py",
   "mimetype": "text/x-python",
   "name": "python",
   "nbconvert_exporter": "python",
   "pygments_lexer": "ipython3",
   "version": "3.7.7"
  }
 },
 "nbformat": 4,
 "nbformat_minor": 4
}
