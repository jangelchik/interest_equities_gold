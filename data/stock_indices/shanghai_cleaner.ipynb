{
 "cells": [
  {
   "cell_type": "code",
   "execution_count": 1,
   "metadata": {},
   "outputs": [],
   "source": [
    "import numpy as np\n",
    "import pandas as pd\n",
    "import scipy.stats as stats\n",
    "\n",
    "import datetime\n",
    "\n",
    "import matplotlib.pyplot as plt\n",
    "%matplotlib inline\n",
    "\n",
    "plt.style.use('ggplot')"
   ]
  },
  {
   "cell_type": "code",
   "execution_count": 2,
   "metadata": {},
   "outputs": [],
   "source": [
    "%load_ext autoreload\n",
    "%autoreload 2"
   ]
  },
  {
   "cell_type": "code",
   "execution_count": 3,
   "metadata": {},
   "outputs": [],
   "source": [
    "df_sse = pd.read_csv('sse.csv')"
   ]
  },
  {
   "cell_type": "code",
   "execution_count": 4,
   "metadata": {},
   "outputs": [
    {
     "name": "stdout",
     "output_type": "stream",
     "text": [
      "<class 'pandas.core.frame.DataFrame'>\n",
      "RangeIndex: 5717 entries, 0 to 5716\n",
      "Data columns (total 7 columns):\n",
      " #   Column     Non-Null Count  Dtype  \n",
      "---  ------     --------------  -----  \n",
      " 0   Date       5717 non-null   object \n",
      " 1   Open       5714 non-null   float64\n",
      " 2   High       5714 non-null   float64\n",
      " 3   Low        5714 non-null   float64\n",
      " 4   Close      5714 non-null   float64\n",
      " 5   Adj Close  5714 non-null   float64\n",
      " 6   Volume     5714 non-null   float64\n",
      "dtypes: float64(6), object(1)\n",
      "memory usage: 312.8+ KB\n"
     ]
    }
   ],
   "source": [
    "df_sse.info()"
   ]
  },
  {
   "cell_type": "code",
   "execution_count": 5,
   "metadata": {},
   "outputs": [
    {
     "data": {
      "text/html": [
       "<div>\n",
       "<style scoped>\n",
       "    .dataframe tbody tr th:only-of-type {\n",
       "        vertical-align: middle;\n",
       "    }\n",
       "\n",
       "    .dataframe tbody tr th {\n",
       "        vertical-align: top;\n",
       "    }\n",
       "\n",
       "    .dataframe thead th {\n",
       "        text-align: right;\n",
       "    }\n",
       "</style>\n",
       "<table border=\"1\" class=\"dataframe\">\n",
       "  <thead>\n",
       "    <tr style=\"text-align: right;\">\n",
       "      <th></th>\n",
       "      <th>Date</th>\n",
       "      <th>Open</th>\n",
       "      <th>High</th>\n",
       "      <th>Low</th>\n",
       "      <th>Close</th>\n",
       "      <th>Adj Close</th>\n",
       "      <th>Volume</th>\n",
       "    </tr>\n",
       "  </thead>\n",
       "  <tbody>\n",
       "    <tr>\n",
       "      <th>0</th>\n",
       "      <td>1997-07-02</td>\n",
       "      <td>1255.909058</td>\n",
       "      <td>1261.571045</td>\n",
       "      <td>1147.331055</td>\n",
       "      <td>1199.061035</td>\n",
       "      <td>1199.061035</td>\n",
       "      <td>0.0</td>\n",
       "    </tr>\n",
       "    <tr>\n",
       "      <th>1</th>\n",
       "      <td>1997-07-03</td>\n",
       "      <td>1194.676025</td>\n",
       "      <td>1194.676025</td>\n",
       "      <td>1149.939941</td>\n",
       "      <td>1150.623047</td>\n",
       "      <td>1150.623047</td>\n",
       "      <td>0.0</td>\n",
       "    </tr>\n",
       "    <tr>\n",
       "      <th>2</th>\n",
       "      <td>1997-07-04</td>\n",
       "      <td>1138.921021</td>\n",
       "      <td>1163.249023</td>\n",
       "      <td>1124.776001</td>\n",
       "      <td>1159.342041</td>\n",
       "      <td>1159.342041</td>\n",
       "      <td>0.0</td>\n",
       "    </tr>\n",
       "    <tr>\n",
       "      <th>3</th>\n",
       "      <td>1997-07-07</td>\n",
       "      <td>1161.707031</td>\n",
       "      <td>1163.447021</td>\n",
       "      <td>1085.572021</td>\n",
       "      <td>1096.818970</td>\n",
       "      <td>1096.818970</td>\n",
       "      <td>0.0</td>\n",
       "    </tr>\n",
       "    <tr>\n",
       "      <th>4</th>\n",
       "      <td>1997-07-08</td>\n",
       "      <td>1092.798950</td>\n",
       "      <td>1115.432983</td>\n",
       "      <td>1066.043945</td>\n",
       "      <td>1109.666016</td>\n",
       "      <td>1109.666016</td>\n",
       "      <td>0.0</td>\n",
       "    </tr>\n",
       "  </tbody>\n",
       "</table>\n",
       "</div>"
      ],
      "text/plain": [
       "         Date         Open         High          Low        Close  \\\n",
       "0  1997-07-02  1255.909058  1261.571045  1147.331055  1199.061035   \n",
       "1  1997-07-03  1194.676025  1194.676025  1149.939941  1150.623047   \n",
       "2  1997-07-04  1138.921021  1163.249023  1124.776001  1159.342041   \n",
       "3  1997-07-07  1161.707031  1163.447021  1085.572021  1096.818970   \n",
       "4  1997-07-08  1092.798950  1115.432983  1066.043945  1109.666016   \n",
       "\n",
       "     Adj Close  Volume  \n",
       "0  1199.061035     0.0  \n",
       "1  1150.623047     0.0  \n",
       "2  1159.342041     0.0  \n",
       "3  1096.818970     0.0  \n",
       "4  1109.666016     0.0  "
      ]
     },
     "execution_count": 5,
     "metadata": {},
     "output_type": "execute_result"
    }
   ],
   "source": [
    "df_sse.head()"
   ]
  },
  {
   "cell_type": "code",
   "execution_count": 6,
   "metadata": {},
   "outputs": [],
   "source": [
    "df_sse= df_sse[['Date','Close']]"
   ]
  },
  {
   "cell_type": "code",
   "execution_count": 7,
   "metadata": {},
   "outputs": [],
   "source": [
    "df_sse.rename(columns = {'Date':'date', 'Close':'sse_close'}, inplace = True)"
   ]
  },
  {
   "cell_type": "code",
   "execution_count": 8,
   "metadata": {},
   "outputs": [],
   "source": [
    "df_sse['date'] = pd.to_datetime(df_sse['date'], yearfirst = True)"
   ]
  },
  {
   "cell_type": "code",
   "execution_count": 9,
   "metadata": {},
   "outputs": [],
   "source": [
    "df_sse.sort_values(by = 'date', inplace = True)"
   ]
  },
  {
   "cell_type": "code",
   "execution_count": 10,
   "metadata": {},
   "outputs": [],
   "source": [
    "df_sse['sse_close_lag1'] = df_sse['sse_close'].shift(1)"
   ]
  },
  {
   "cell_type": "code",
   "execution_count": 11,
   "metadata": {},
   "outputs": [],
   "source": [
    "df_sse['sse_change%'] = 100*((df_sse['sse_close'] - df_sse['sse_close_lag1']) / df_sse['sse_close_lag1'])\n",
    "df_sse['sse_dif'] = df_sse['sse_close'] - df_sse['sse_close_lag1']"
   ]
  },
  {
   "cell_type": "code",
   "execution_count": 12,
   "metadata": {},
   "outputs": [
    {
     "data": {
      "text/html": [
       "<div>\n",
       "<style scoped>\n",
       "    .dataframe tbody tr th:only-of-type {\n",
       "        vertical-align: middle;\n",
       "    }\n",
       "\n",
       "    .dataframe tbody tr th {\n",
       "        vertical-align: top;\n",
       "    }\n",
       "\n",
       "    .dataframe thead th {\n",
       "        text-align: right;\n",
       "    }\n",
       "</style>\n",
       "<table border=\"1\" class=\"dataframe\">\n",
       "  <thead>\n",
       "    <tr style=\"text-align: right;\">\n",
       "      <th></th>\n",
       "      <th>date</th>\n",
       "      <th>sse_close</th>\n",
       "      <th>sse_close_lag1</th>\n",
       "      <th>sse_change%</th>\n",
       "      <th>sse_dif</th>\n",
       "    </tr>\n",
       "  </thead>\n",
       "  <tbody>\n",
       "    <tr>\n",
       "      <th>0</th>\n",
       "      <td>1997-07-02</td>\n",
       "      <td>1199.061035</td>\n",
       "      <td>NaN</td>\n",
       "      <td>NaN</td>\n",
       "      <td>NaN</td>\n",
       "    </tr>\n",
       "    <tr>\n",
       "      <th>1</th>\n",
       "      <td>1997-07-03</td>\n",
       "      <td>1150.623047</td>\n",
       "      <td>1199.061035</td>\n",
       "      <td>-4.039660</td>\n",
       "      <td>-48.437988</td>\n",
       "    </tr>\n",
       "    <tr>\n",
       "      <th>2</th>\n",
       "      <td>1997-07-04</td>\n",
       "      <td>1159.342041</td>\n",
       "      <td>1150.623047</td>\n",
       "      <td>0.757763</td>\n",
       "      <td>8.718994</td>\n",
       "    </tr>\n",
       "    <tr>\n",
       "      <th>3</th>\n",
       "      <td>1997-07-07</td>\n",
       "      <td>1096.818970</td>\n",
       "      <td>1159.342041</td>\n",
       "      <td>-5.392979</td>\n",
       "      <td>-62.523071</td>\n",
       "    </tr>\n",
       "    <tr>\n",
       "      <th>4</th>\n",
       "      <td>1997-07-08</td>\n",
       "      <td>1109.666016</td>\n",
       "      <td>1096.818970</td>\n",
       "      <td>1.171300</td>\n",
       "      <td>12.847046</td>\n",
       "    </tr>\n",
       "  </tbody>\n",
       "</table>\n",
       "</div>"
      ],
      "text/plain": [
       "        date    sse_close  sse_close_lag1  sse_change%    sse_dif\n",
       "0 1997-07-02  1199.061035             NaN          NaN        NaN\n",
       "1 1997-07-03  1150.623047     1199.061035    -4.039660 -48.437988\n",
       "2 1997-07-04  1159.342041     1150.623047     0.757763   8.718994\n",
       "3 1997-07-07  1096.818970     1159.342041    -5.392979 -62.523071\n",
       "4 1997-07-08  1109.666016     1096.818970     1.171300  12.847046"
      ]
     },
     "execution_count": 12,
     "metadata": {},
     "output_type": "execute_result"
    }
   ],
   "source": [
    "df_sse.head()"
   ]
  },
  {
   "cell_type": "code",
   "execution_count": 13,
   "metadata": {},
   "outputs": [
    {
     "name": "stdout",
     "output_type": "stream",
     "text": [
      "Stored 'df_sse' (DataFrame)\n"
     ]
    }
   ],
   "source": [
    "%store df_sse"
   ]
  },
  {
   "cell_type": "code",
   "execution_count": null,
   "metadata": {},
   "outputs": [],
   "source": []
  }
 ],
 "metadata": {
  "kernelspec": {
   "display_name": "Python 3",
   "language": "python",
   "name": "python3"
  },
  "language_info": {
   "codemirror_mode": {
    "name": "ipython",
    "version": 3
   },
   "file_extension": ".py",
   "mimetype": "text/x-python",
   "name": "python",
   "nbconvert_exporter": "python",
   "pygments_lexer": "ipython3",
   "version": "3.7.7"
  }
 },
 "nbformat": 4,
 "nbformat_minor": 4
}
