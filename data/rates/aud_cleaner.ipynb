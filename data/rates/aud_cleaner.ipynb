{
 "cells": [
  {
   "cell_type": "code",
   "execution_count": 1,
   "metadata": {},
   "outputs": [],
   "source": [
    "import pymongo\n",
    "import pandas as pd\n",
    "from pymongo import MongoClient\n",
    "\n",
    "\n",
    "import numpy as np\n",
    "import pandas as pd\n",
    "import scipy.stats as stats\n",
    "\n",
    "import datetime\n",
    "\n",
    "import matplotlib.pyplot as plt\n",
    "%matplotlib inline\n",
    "\n",
    "plt.style.use('ggplot')"
   ]
  },
  {
   "cell_type": "code",
   "execution_count": 2,
   "metadata": {},
   "outputs": [],
   "source": [
    "client = MongoClient()\n",
    "db_aud = client.aud_scraper\n",
    "\n",
    "collection_aud = db_aud.rates"
   ]
  },
  {
   "cell_type": "code",
   "execution_count": 3,
   "metadata": {},
   "outputs": [],
   "source": [
    "df_aud = pd.DataFrame(list(collection_aud.find()))"
   ]
  },
  {
   "cell_type": "code",
   "execution_count": 4,
   "metadata": {},
   "outputs": [
    {
     "name": "stdout",
     "output_type": "stream",
     "text": [
      "<class 'pandas.core.frame.DataFrame'>\n",
      "RangeIndex: 344 entries, 0 to 343\n",
      "Data columns (total 4 columns):\n",
      " #   Column         Non-Null Count  Dtype \n",
      "---  ------         --------------  ----- \n",
      " 0   _id            344 non-null    object\n",
      " 1   date           341 non-null    object\n",
      " 2   change%        343 non-null    object\n",
      " 3   AUD_rate_tgt%  340 non-null    object\n",
      "dtypes: object(4)\n",
      "memory usage: 10.9+ KB\n"
     ]
    }
   ],
   "source": [
    "df_aud.info()"
   ]
  },
  {
   "cell_type": "code",
   "execution_count": 5,
   "metadata": {},
   "outputs": [],
   "source": [
    "# remove Mongo _id column\n",
    "\n",
    "df_aud.drop(columns = ['_id'], inplace = True)"
   ]
  },
  {
   "cell_type": "code",
   "execution_count": 6,
   "metadata": {},
   "outputs": [],
   "source": [
    "# drop rows with NaN values\n",
    "\n",
    "df_aud.dropna(inplace = True)"
   ]
  },
  {
   "cell_type": "code",
   "execution_count": 7,
   "metadata": {},
   "outputs": [
    {
     "data": {
      "text/html": [
       "<div>\n",
       "<style scoped>\n",
       "    .dataframe tbody tr th:only-of-type {\n",
       "        vertical-align: middle;\n",
       "    }\n",
       "\n",
       "    .dataframe tbody tr th {\n",
       "        vertical-align: top;\n",
       "    }\n",
       "\n",
       "    .dataframe thead th {\n",
       "        text-align: right;\n",
       "    }\n",
       "</style>\n",
       "<table border=\"1\" class=\"dataframe\">\n",
       "  <thead>\n",
       "    <tr style=\"text-align: right;\">\n",
       "      <th></th>\n",
       "      <th>date</th>\n",
       "      <th>change%</th>\n",
       "      <th>AUD_rate_tgt%</th>\n",
       "    </tr>\n",
       "  </thead>\n",
       "  <tbody>\n",
       "    <tr>\n",
       "      <th>0</th>\n",
       "      <td>6 May 2020</td>\n",
       "      <td>0.00</td>\n",
       "      <td>0.25</td>\n",
       "    </tr>\n",
       "    <tr>\n",
       "      <th>1</th>\n",
       "      <td>8 Apr 2020</td>\n",
       "      <td>0.00</td>\n",
       "      <td>0.25</td>\n",
       "    </tr>\n",
       "    <tr>\n",
       "      <th>2</th>\n",
       "      <td>20 Mar 2020</td>\n",
       "      <td>-0.25</td>\n",
       "      <td>0.25</td>\n",
       "    </tr>\n",
       "    <tr>\n",
       "      <th>3</th>\n",
       "      <td>4 Mar 2020</td>\n",
       "      <td>-0.25</td>\n",
       "      <td>0.50</td>\n",
       "    </tr>\n",
       "    <tr>\n",
       "      <th>4</th>\n",
       "      <td>5 Feb 2020</td>\n",
       "      <td>0.00</td>\n",
       "      <td>0.75</td>\n",
       "    </tr>\n",
       "  </tbody>\n",
       "</table>\n",
       "</div>"
      ],
      "text/plain": [
       "          date change% AUD_rate_tgt%\n",
       "0   6 May 2020    0.00          0.25\n",
       "1   8 Apr 2020    0.00          0.25\n",
       "2  20 Mar 2020   -0.25          0.25\n",
       "3   4 Mar 2020   -0.25          0.50\n",
       "4   5 Feb 2020    0.00          0.75"
      ]
     },
     "execution_count": 7,
     "metadata": {},
     "output_type": "execute_result"
    }
   ],
   "source": [
    "df_aud.head()"
   ]
  },
  {
   "cell_type": "code",
   "execution_count": 8,
   "metadata": {},
   "outputs": [],
   "source": [
    "df_aud.rename(columns = {'change%': 'aud_rate_dif'}, inplace = True)"
   ]
  },
  {
   "cell_type": "code",
   "execution_count": 9,
   "metadata": {},
   "outputs": [],
   "source": [
    "def date_converter(date):\n",
    "    \n",
    "    \"\"\"\n",
    "    PARAMETERS\n",
    "    date - string in format '2-digit-day month_name 4-digit-year'\n",
    "    \n",
    "    RETURNS\n",
    "    date in new string format ' 4 digit year-2 digit month-2 digit day'\n",
    "    \"\"\"\n",
    "    \n",
    "    dct_month = {\n",
    "        'Jan': '01',\n",
    "        'Feb': '02',\n",
    "        'Mar': '03',\n",
    "        'Apr': '04',\n",
    "        'May': '05',\n",
    "        'Jun': '06',\n",
    "        'Jul': '07',\n",
    "        'Aug': '08',\n",
    "        'Sep': '09',\n",
    "        'Oct': '10',\n",
    "        'Nov': '11',\n",
    "        'Dec': '12'\n",
    "    }\n",
    "    \n",
    "    lst_date = date.split()\n",
    "        \n",
    "    str_yr = lst_date[-1]\n",
    "    \n",
    "    str_mo = dct_month[lst_date[1]]\n",
    "    \n",
    "    str_d = lst_date[0]\n",
    "    \n",
    "    #add zeros before single digit dates\n",
    "    if len(str_d) ==1:\n",
    "        str_d += '0'\n",
    "        str_d = str_d[::-1]\n",
    "        \n",
    "    \n",
    "    str_date = f'{str_yr}-{str_mo}-{str_d}'\n",
    "\n",
    "    return str_date"
   ]
  },
  {
   "cell_type": "code",
   "execution_count": 10,
   "metadata": {},
   "outputs": [],
   "source": [
    "df_aud['date'] = [date_converter(d) for d in df_aud['date']]"
   ]
  },
  {
   "cell_type": "code",
   "execution_count": 11,
   "metadata": {},
   "outputs": [],
   "source": [
    "df_aud['date'] = pd.to_datetime(df_aud['date'], yearfirst = True)"
   ]
  },
  {
   "cell_type": "code",
   "execution_count": 12,
   "metadata": {},
   "outputs": [],
   "source": [
    "df_aud.sort_values(by = 'date', inplace = True)"
   ]
  },
  {
   "cell_type": "code",
   "execution_count": 13,
   "metadata": {},
   "outputs": [
    {
     "data": {
      "text/html": [
       "<div>\n",
       "<style scoped>\n",
       "    .dataframe tbody tr th:only-of-type {\n",
       "        vertical-align: middle;\n",
       "    }\n",
       "\n",
       "    .dataframe tbody tr th {\n",
       "        vertical-align: top;\n",
       "    }\n",
       "\n",
       "    .dataframe thead th {\n",
       "        text-align: right;\n",
       "    }\n",
       "</style>\n",
       "<table border=\"1\" class=\"dataframe\">\n",
       "  <thead>\n",
       "    <tr style=\"text-align: right;\">\n",
       "      <th></th>\n",
       "      <th>date</th>\n",
       "      <th>aud_rate_dif</th>\n",
       "      <th>AUD_rate_tgt%</th>\n",
       "    </tr>\n",
       "  </thead>\n",
       "  <tbody>\n",
       "    <tr>\n",
       "      <th>339</th>\n",
       "      <td>1990-01-23</td>\n",
       "      <td>-0.50 to -1.00</td>\n",
       "      <td>17.00 to 17.50</td>\n",
       "    </tr>\n",
       "    <tr>\n",
       "      <th>338</th>\n",
       "      <td>1990-02-15</td>\n",
       "      <td>-0.50</td>\n",
       "      <td>16.50 to 17.00</td>\n",
       "    </tr>\n",
       "    <tr>\n",
       "      <th>337</th>\n",
       "      <td>1990-03-07</td>\n",
       "      <td>0.00</td>\n",
       "      <td>16.50 to 17.00</td>\n",
       "    </tr>\n",
       "    <tr>\n",
       "      <th>336</th>\n",
       "      <td>1990-04-04</td>\n",
       "      <td>-1.00 to -1.50</td>\n",
       "      <td>15.00 to 15.50</td>\n",
       "    </tr>\n",
       "    <tr>\n",
       "      <th>335</th>\n",
       "      <td>1990-05-02</td>\n",
       "      <td>0.00</td>\n",
       "      <td>15.00 to 15.50</td>\n",
       "    </tr>\n",
       "  </tbody>\n",
       "</table>\n",
       "</div>"
      ],
      "text/plain": [
       "          date    aud_rate_dif   AUD_rate_tgt%\n",
       "339 1990-01-23  -0.50 to -1.00  17.00 to 17.50\n",
       "338 1990-02-15           -0.50  16.50 to 17.00\n",
       "337 1990-03-07            0.00  16.50 to 17.00\n",
       "336 1990-04-04  -1.00 to -1.50  15.00 to 15.50\n",
       "335 1990-05-02            0.00  15.00 to 15.50"
      ]
     },
     "execution_count": 13,
     "metadata": {},
     "output_type": "execute_result"
    }
   ],
   "source": [
    "df_aud.head()"
   ]
  },
  {
   "cell_type": "code",
   "execution_count": 14,
   "metadata": {},
   "outputs": [],
   "source": [
    "df_aud['AUD_rate_tgt%'] = [r.split()[0] for r in df_aud['AUD_rate_tgt%']]\n",
    "df_aud['aud_rate_dif'] = [r.split()[-1] for r in df_aud['aud_rate_dif']]\n"
   ]
  },
  {
   "cell_type": "code",
   "execution_count": 15,
   "metadata": {},
   "outputs": [
    {
     "name": "stdout",
     "output_type": "stream",
     "text": [
      "<class 'pandas.core.frame.DataFrame'>\n",
      "Int64Index: 340 entries, 339 to 0\n",
      "Data columns (total 3 columns):\n",
      " #   Column         Non-Null Count  Dtype         \n",
      "---  ------         --------------  -----         \n",
      " 0   date           340 non-null    datetime64[ns]\n",
      " 1   aud_rate_dif   340 non-null    object        \n",
      " 2   AUD_rate_tgt%  340 non-null    object        \n",
      "dtypes: datetime64[ns](1), object(2)\n",
      "memory usage: 10.6+ KB\n"
     ]
    }
   ],
   "source": [
    "df_aud.info()"
   ]
  },
  {
   "cell_type": "code",
   "execution_count": 16,
   "metadata": {},
   "outputs": [],
   "source": [
    "df_aud['AUD_rate_tgt%'] = pd.to_numeric(df_aud['AUD_rate_tgt%'])\n",
    "df_aud['aud_rate_dif'] = pd.to_numeric(df_aud['aud_rate_dif'])"
   ]
  },
  {
   "cell_type": "code",
   "execution_count": 17,
   "metadata": {},
   "outputs": [],
   "source": [
    "df_aud['AUD_rate_tgt%_lag1'] = df_aud['AUD_rate_tgt%'].shift(1)"
   ]
  },
  {
   "cell_type": "code",
   "execution_count": 18,
   "metadata": {},
   "outputs": [],
   "source": [
    "df_aud['aud_rate_change%'] = 100*((df_aud['AUD_rate_tgt%'] - df_aud['AUD_rate_tgt%_lag1']) / df_aud['AUD_rate_tgt%_lag1'])"
   ]
  },
  {
   "cell_type": "code",
   "execution_count": 19,
   "metadata": {},
   "outputs": [
    {
     "data": {
      "text/html": [
       "<div>\n",
       "<style scoped>\n",
       "    .dataframe tbody tr th:only-of-type {\n",
       "        vertical-align: middle;\n",
       "    }\n",
       "\n",
       "    .dataframe tbody tr th {\n",
       "        vertical-align: top;\n",
       "    }\n",
       "\n",
       "    .dataframe thead th {\n",
       "        text-align: right;\n",
       "    }\n",
       "</style>\n",
       "<table border=\"1\" class=\"dataframe\">\n",
       "  <thead>\n",
       "    <tr style=\"text-align: right;\">\n",
       "      <th></th>\n",
       "      <th>date</th>\n",
       "      <th>aud_rate_dif</th>\n",
       "      <th>AUD_rate_tgt%</th>\n",
       "      <th>AUD_rate_tgt%_lag1</th>\n",
       "      <th>aud_rate_change%</th>\n",
       "    </tr>\n",
       "  </thead>\n",
       "  <tbody>\n",
       "    <tr>\n",
       "      <th>339</th>\n",
       "      <td>1990-01-23</td>\n",
       "      <td>-1.0</td>\n",
       "      <td>17.0</td>\n",
       "      <td>NaN</td>\n",
       "      <td>NaN</td>\n",
       "    </tr>\n",
       "    <tr>\n",
       "      <th>338</th>\n",
       "      <td>1990-02-15</td>\n",
       "      <td>-0.5</td>\n",
       "      <td>16.5</td>\n",
       "      <td>17.0</td>\n",
       "      <td>-2.941176</td>\n",
       "    </tr>\n",
       "    <tr>\n",
       "      <th>337</th>\n",
       "      <td>1990-03-07</td>\n",
       "      <td>0.0</td>\n",
       "      <td>16.5</td>\n",
       "      <td>16.5</td>\n",
       "      <td>0.000000</td>\n",
       "    </tr>\n",
       "    <tr>\n",
       "      <th>336</th>\n",
       "      <td>1990-04-04</td>\n",
       "      <td>-1.5</td>\n",
       "      <td>15.0</td>\n",
       "      <td>16.5</td>\n",
       "      <td>-9.090909</td>\n",
       "    </tr>\n",
       "    <tr>\n",
       "      <th>335</th>\n",
       "      <td>1990-05-02</td>\n",
       "      <td>0.0</td>\n",
       "      <td>15.0</td>\n",
       "      <td>15.0</td>\n",
       "      <td>0.000000</td>\n",
       "    </tr>\n",
       "  </tbody>\n",
       "</table>\n",
       "</div>"
      ],
      "text/plain": [
       "          date  aud_rate_dif  AUD_rate_tgt%  AUD_rate_tgt%_lag1  \\\n",
       "339 1990-01-23          -1.0           17.0                 NaN   \n",
       "338 1990-02-15          -0.5           16.5                17.0   \n",
       "337 1990-03-07           0.0           16.5                16.5   \n",
       "336 1990-04-04          -1.5           15.0                16.5   \n",
       "335 1990-05-02           0.0           15.0                15.0   \n",
       "\n",
       "     aud_rate_change%  \n",
       "339               NaN  \n",
       "338         -2.941176  \n",
       "337          0.000000  \n",
       "336         -9.090909  \n",
       "335          0.000000  "
      ]
     },
     "execution_count": 19,
     "metadata": {},
     "output_type": "execute_result"
    }
   ],
   "source": [
    "df_aud.head()"
   ]
  },
  {
   "cell_type": "code",
   "execution_count": 20,
   "metadata": {},
   "outputs": [
    {
     "name": "stdout",
     "output_type": "stream",
     "text": [
      "Stored 'df_aud' (DataFrame)\n"
     ]
    }
   ],
   "source": [
    "%store df_aud"
   ]
  }
 ],
 "metadata": {
  "kernelspec": {
   "display_name": "Python 3",
   "language": "python",
   "name": "python3"
  },
  "language_info": {
   "codemirror_mode": {
    "name": "ipython",
    "version": 3
   },
   "file_extension": ".py",
   "mimetype": "text/x-python",
   "name": "python",
   "nbconvert_exporter": "python",
   "pygments_lexer": "ipython3",
   "version": "3.7.7"
  }
 },
 "nbformat": 4,
 "nbformat_minor": 4
}
