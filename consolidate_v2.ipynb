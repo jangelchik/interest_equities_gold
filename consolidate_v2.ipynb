{
 "cells": [
  {
   "cell_type": "code",
   "execution_count": 1,
   "metadata": {},
   "outputs": [],
   "source": [
    "import pandas as pd\n",
    "import numpy as np\n",
    "import scipy.stats as stats\n",
    "\n",
    "%matplotlib inline\n",
    "import matplotlib.pyplot as plt\n",
    "plt.style.use('ggplot')"
   ]
  },
  {
   "cell_type": "markdown",
   "metadata": {},
   "source": [
    "# We are investigating the predictivity of central bank policy rates and stock market indices as they relate to the price of gold. "
   ]
  },
  {
   "cell_type": "markdown",
   "metadata": {},
   "source": [
    "## Consolidate Central Bank Rates"
   ]
  },
  {
   "cell_type": "code",
   "execution_count": 2,
   "metadata": {},
   "outputs": [],
   "source": [
    "# Start by consolidating central bank rate data\n",
    "\n",
    "%store -r df_aud\n",
    "%store -r df_eur\n",
    "%store -r df_gbp\n",
    "%store -r df_usd\n",
    "%store -r df_yen"
   ]
  },
  {
   "cell_type": "code",
   "execution_count": 3,
   "metadata": {},
   "outputs": [
    {
     "data": {
      "text/plain": [
       "Timestamp('1990-01-23 00:00:00')"
      ]
     },
     "execution_count": 3,
     "metadata": {},
     "output_type": "execute_result"
    }
   ],
   "source": [
    "df_aud['date'].min()"
   ]
  },
  {
   "cell_type": "code",
   "execution_count": 4,
   "metadata": {},
   "outputs": [
    {
     "data": {
      "text/plain": [
       "Timestamp('1999-01-01 00:00:00')"
      ]
     },
     "execution_count": 4,
     "metadata": {},
     "output_type": "execute_result"
    }
   ],
   "source": [
    "df_eur['date'].min()"
   ]
  },
  {
   "cell_type": "code",
   "execution_count": 5,
   "metadata": {},
   "outputs": [
    {
     "data": {
      "text/plain": [
       "Timestamp('1975-01-20 00:00:00')"
      ]
     },
     "execution_count": 5,
     "metadata": {},
     "output_type": "execute_result"
    }
   ],
   "source": [
    "df_gbp['date'].min()"
   ]
  },
  {
   "cell_type": "code",
   "execution_count": 6,
   "metadata": {},
   "outputs": [
    {
     "data": {
      "text/plain": [
       "Timestamp('1990-01-01 00:00:00')"
      ]
     },
     "execution_count": 6,
     "metadata": {},
     "output_type": "execute_result"
    }
   ],
   "source": [
    "df_usd['date'].min()"
   ]
  },
  {
   "cell_type": "code",
   "execution_count": 7,
   "metadata": {},
   "outputs": [
    {
     "data": {
      "text/plain": [
       "Timestamp('2000-01-01 00:00:00')"
      ]
     },
     "execution_count": 7,
     "metadata": {},
     "output_type": "execute_result"
    }
   ],
   "source": [
    "df_yen['date'].min()"
   ]
  },
  {
   "cell_type": "code",
   "execution_count": 8,
   "metadata": {},
   "outputs": [],
   "source": [
    "# loop through all dataframes and merge via outer join, ensuring the df with the most non-null dates is the left object\n",
    "df_rates = pd.merge(df_gbp, df_usd, how = 'outer', on = ['date'])\n",
    "df_rates = pd.merge(df_rates, df_eur, how = 'outer', on = ['date'])\n",
    "df_rates = pd.merge(df_rates, df_aud, how = 'outer', on = ['date'])\n",
    "df_rates = pd.merge(df_rates, df_yen, how = 'outer', on = ['date'])"
   ]
  },
  {
   "cell_type": "code",
   "execution_count": 9,
   "metadata": {},
   "outputs": [
    {
     "name": "stdout",
     "output_type": "stream",
     "text": [
      "<class 'pandas.core.frame.DataFrame'>\n",
      "Int64Index: 11273 entries, 0 to 11272\n",
      "Data columns (total 15 columns):\n",
      " #   Column           Non-Null Count  Dtype         \n",
      "---  ------           --------------  -----         \n",
      " 0   date             11273 non-null  datetime64[ns]\n",
      " 1   gbp_rate         238 non-null    float64       \n",
      " 2   gbp_rate_lag1    237 non-null    float64       \n",
      " 3   gbp_rate_change  237 non-null    float64       \n",
      " 4   usd_rate         11109 non-null  float64       \n",
      " 5   usd_rate_lag1    11108 non-null  float64       \n",
      " 6   usd_rate_change  11108 non-null  float64       \n",
      " 7   eur_rate         49 non-null     float64       \n",
      " 8   eur_rate_lag1    48 non-null     float64       \n",
      " 9   eur_rate_change  48 non-null     float64       \n",
      " 10  aud_rate_change  340 non-null    object        \n",
      " 11  AUD_rate_tgt%    340 non-null    float64       \n",
      " 12  yen_rate         3839 non-null   float64       \n",
      " 13  yen_rate_lag1    3838 non-null   float64       \n",
      " 14  yen_rate_change  3682 non-null   float64       \n",
      "dtypes: datetime64[ns](1), float64(13), object(1)\n",
      "memory usage: 1.4+ MB\n"
     ]
    }
   ],
   "source": [
    "df_rates.info()"
   ]
  },
  {
   "cell_type": "code",
   "execution_count": 10,
   "metadata": {},
   "outputs": [],
   "source": [
    "df_rates.rename(columns = {'AUD_rate_tgt%': 'aud_rate'}, inplace = True)"
   ]
  },
  {
   "cell_type": "code",
   "execution_count": 11,
   "metadata": {},
   "outputs": [],
   "source": [
    "to_drop = []\n",
    "for col in df_rates.columns:\n",
    "    if 'lag' in col:\n",
    "        to_drop.append(col)"
   ]
  },
  {
   "cell_type": "code",
   "execution_count": 12,
   "metadata": {},
   "outputs": [],
   "source": [
    "df_rates.drop(columns = to_drop, inplace = True)"
   ]
  },
  {
   "cell_type": "code",
   "execution_count": 13,
   "metadata": {},
   "outputs": [
    {
     "name": "stdout",
     "output_type": "stream",
     "text": [
      "<class 'pandas.core.frame.DataFrame'>\n",
      "Int64Index: 11273 entries, 0 to 11272\n",
      "Data columns (total 11 columns):\n",
      " #   Column           Non-Null Count  Dtype         \n",
      "---  ------           --------------  -----         \n",
      " 0   date             11273 non-null  datetime64[ns]\n",
      " 1   gbp_rate         238 non-null    float64       \n",
      " 2   gbp_rate_change  237 non-null    float64       \n",
      " 3   usd_rate         11109 non-null  float64       \n",
      " 4   usd_rate_change  11108 non-null  float64       \n",
      " 5   eur_rate         49 non-null     float64       \n",
      " 6   eur_rate_change  48 non-null     float64       \n",
      " 7   aud_rate_change  340 non-null    object        \n",
      " 8   aud_rate         340 non-null    float64       \n",
      " 9   yen_rate         3839 non-null   float64       \n",
      " 10  yen_rate_change  3682 non-null   float64       \n",
      "dtypes: datetime64[ns](1), float64(9), object(1)\n",
      "memory usage: 1.0+ MB\n"
     ]
    }
   ],
   "source": [
    "df_rates.info()"
   ]
  },
  {
   "cell_type": "code",
   "execution_count": 14,
   "metadata": {},
   "outputs": [],
   "source": [
    "df_rates = df_rates.sort_values(by = ['date'])"
   ]
  },
  {
   "cell_type": "code",
   "execution_count": 15,
   "metadata": {},
   "outputs": [],
   "source": [
    "#lowest minimum date across rate data is 2000-01-01 (df_yen), so drop all data prior\n",
    "df_rates = df_rates[df_rates['date']>'1999-12-31']"
   ]
  },
  {
   "cell_type": "code",
   "execution_count": 16,
   "metadata": {},
   "outputs": [],
   "source": [
    "df_rates = df_rates.set_index('date')"
   ]
  },
  {
   "cell_type": "code",
   "execution_count": 17,
   "metadata": {},
   "outputs": [
    {
     "data": {
      "text/html": [
       "<div>\n",
       "<style scoped>\n",
       "    .dataframe tbody tr th:only-of-type {\n",
       "        vertical-align: middle;\n",
       "    }\n",
       "\n",
       "    .dataframe tbody tr th {\n",
       "        vertical-align: top;\n",
       "    }\n",
       "\n",
       "    .dataframe thead th {\n",
       "        text-align: right;\n",
       "    }\n",
       "</style>\n",
       "<table border=\"1\" class=\"dataframe\">\n",
       "  <thead>\n",
       "    <tr style=\"text-align: right;\">\n",
       "      <th></th>\n",
       "      <th>gbp_rate</th>\n",
       "      <th>gbp_rate_change</th>\n",
       "      <th>usd_rate</th>\n",
       "      <th>usd_rate_change</th>\n",
       "      <th>eur_rate</th>\n",
       "      <th>eur_rate_change</th>\n",
       "      <th>aud_rate_change</th>\n",
       "      <th>aud_rate</th>\n",
       "      <th>yen_rate</th>\n",
       "      <th>yen_rate_change</th>\n",
       "    </tr>\n",
       "    <tr>\n",
       "      <th>date</th>\n",
       "      <th></th>\n",
       "      <th></th>\n",
       "      <th></th>\n",
       "      <th></th>\n",
       "      <th></th>\n",
       "      <th></th>\n",
       "      <th></th>\n",
       "      <th></th>\n",
       "      <th></th>\n",
       "      <th></th>\n",
       "    </tr>\n",
       "  </thead>\n",
       "  <tbody>\n",
       "    <tr>\n",
       "      <th>2000-01-01</th>\n",
       "      <td>NaN</td>\n",
       "      <td>NaN</td>\n",
       "      <td>5.5</td>\n",
       "      <td>0.0</td>\n",
       "      <td>NaN</td>\n",
       "      <td>NaN</td>\n",
       "      <td>NaN</td>\n",
       "      <td>NaN</td>\n",
       "      <td>NaN</td>\n",
       "      <td>NaN</td>\n",
       "    </tr>\n",
       "    <tr>\n",
       "      <th>2000-01-02</th>\n",
       "      <td>NaN</td>\n",
       "      <td>NaN</td>\n",
       "      <td>5.5</td>\n",
       "      <td>0.0</td>\n",
       "      <td>NaN</td>\n",
       "      <td>NaN</td>\n",
       "      <td>NaN</td>\n",
       "      <td>NaN</td>\n",
       "      <td>NaN</td>\n",
       "      <td>NaN</td>\n",
       "    </tr>\n",
       "    <tr>\n",
       "      <th>2000-01-03</th>\n",
       "      <td>NaN</td>\n",
       "      <td>NaN</td>\n",
       "      <td>5.5</td>\n",
       "      <td>0.0</td>\n",
       "      <td>NaN</td>\n",
       "      <td>NaN</td>\n",
       "      <td>NaN</td>\n",
       "      <td>NaN</td>\n",
       "      <td>NaN</td>\n",
       "      <td>NaN</td>\n",
       "    </tr>\n",
       "    <tr>\n",
       "      <th>2000-01-04</th>\n",
       "      <td>NaN</td>\n",
       "      <td>NaN</td>\n",
       "      <td>5.5</td>\n",
       "      <td>0.0</td>\n",
       "      <td>NaN</td>\n",
       "      <td>NaN</td>\n",
       "      <td>NaN</td>\n",
       "      <td>NaN</td>\n",
       "      <td>NaN</td>\n",
       "      <td>NaN</td>\n",
       "    </tr>\n",
       "    <tr>\n",
       "      <th>2000-01-05</th>\n",
       "      <td>NaN</td>\n",
       "      <td>NaN</td>\n",
       "      <td>5.5</td>\n",
       "      <td>0.0</td>\n",
       "      <td>NaN</td>\n",
       "      <td>NaN</td>\n",
       "      <td>NaN</td>\n",
       "      <td>NaN</td>\n",
       "      <td>NaN</td>\n",
       "      <td>NaN</td>\n",
       "    </tr>\n",
       "  </tbody>\n",
       "</table>\n",
       "</div>"
      ],
      "text/plain": [
       "            gbp_rate  gbp_rate_change  usd_rate  usd_rate_change  eur_rate  \\\n",
       "date                                                                         \n",
       "2000-01-01       NaN              NaN       5.5              0.0       NaN   \n",
       "2000-01-02       NaN              NaN       5.5              0.0       NaN   \n",
       "2000-01-03       NaN              NaN       5.5              0.0       NaN   \n",
       "2000-01-04       NaN              NaN       5.5              0.0       NaN   \n",
       "2000-01-05       NaN              NaN       5.5              0.0       NaN   \n",
       "\n",
       "            eur_rate_change aud_rate_change  aud_rate  yen_rate  \\\n",
       "date                                                              \n",
       "2000-01-01              NaN             NaN       NaN       NaN   \n",
       "2000-01-02              NaN             NaN       NaN       NaN   \n",
       "2000-01-03              NaN             NaN       NaN       NaN   \n",
       "2000-01-04              NaN             NaN       NaN       NaN   \n",
       "2000-01-05              NaN             NaN       NaN       NaN   \n",
       "\n",
       "            yen_rate_change  \n",
       "date                         \n",
       "2000-01-01              NaN  \n",
       "2000-01-02              NaN  \n",
       "2000-01-03              NaN  \n",
       "2000-01-04              NaN  \n",
       "2000-01-05              NaN  "
      ]
     },
     "execution_count": 17,
     "metadata": {},
     "output_type": "execute_result"
    }
   ],
   "source": [
    "df_rates.head()"
   ]
  },
  {
   "cell_type": "code",
   "execution_count": 18,
   "metadata": {},
   "outputs": [],
   "source": [
    "# add up to 10 day lag for all rates\n",
    "\n",
    "for col in df_rates.columns:\n",
    "    for i in range(1,11):\n",
    "        df_rates[f'{col}_lag{i}'] = df_rates[col].shift(i)"
   ]
  },
  {
   "cell_type": "code",
   "execution_count": 19,
   "metadata": {},
   "outputs": [
    {
     "name": "stdout",
     "output_type": "stream",
     "text": [
      "<class 'pandas.core.frame.DataFrame'>\n",
      "DatetimeIndex: 7457 entries, 2000-01-01 to 2020-05-31\n",
      "Columns: 110 entries, gbp_rate to yen_rate_change_lag10\n",
      "dtypes: float64(99), object(11)\n",
      "memory usage: 6.3+ MB\n"
     ]
    }
   ],
   "source": [
    "df_rates.info()"
   ]
  },
  {
   "cell_type": "code",
   "execution_count": 20,
   "metadata": {},
   "outputs": [],
   "source": [
    "for col in df_rates.columns:\n",
    "    df_rates[col] = df_rates[col].astype('float')"
   ]
  },
  {
   "cell_type": "code",
   "execution_count": 21,
   "metadata": {},
   "outputs": [
    {
     "name": "stdout",
     "output_type": "stream",
     "text": [
      "<class 'pandas.core.frame.DataFrame'>\n",
      "DatetimeIndex: 7457 entries, 2000-01-01 to 2020-05-31\n",
      "Columns: 110 entries, gbp_rate to yen_rate_change_lag10\n",
      "dtypes: float64(110)\n",
      "memory usage: 6.3 MB\n"
     ]
    }
   ],
   "source": [
    "df_rates.info()"
   ]
  },
  {
   "cell_type": "code",
   "execution_count": 22,
   "metadata": {},
   "outputs": [
    {
     "data": {
      "text/html": [
       "<div>\n",
       "<style scoped>\n",
       "    .dataframe tbody tr th:only-of-type {\n",
       "        vertical-align: middle;\n",
       "    }\n",
       "\n",
       "    .dataframe tbody tr th {\n",
       "        vertical-align: top;\n",
       "    }\n",
       "\n",
       "    .dataframe thead th {\n",
       "        text-align: right;\n",
       "    }\n",
       "</style>\n",
       "<table border=\"1\" class=\"dataframe\">\n",
       "  <thead>\n",
       "    <tr style=\"text-align: right;\">\n",
       "      <th></th>\n",
       "      <th>gbp_rate</th>\n",
       "      <th>gbp_rate_change</th>\n",
       "      <th>usd_rate</th>\n",
       "      <th>usd_rate_change</th>\n",
       "      <th>eur_rate</th>\n",
       "      <th>eur_rate_change</th>\n",
       "      <th>aud_rate_change</th>\n",
       "      <th>aud_rate</th>\n",
       "      <th>yen_rate</th>\n",
       "      <th>yen_rate_change</th>\n",
       "      <th>...</th>\n",
       "      <th>yen_rate_change_lag1</th>\n",
       "      <th>yen_rate_change_lag2</th>\n",
       "      <th>yen_rate_change_lag3</th>\n",
       "      <th>yen_rate_change_lag4</th>\n",
       "      <th>yen_rate_change_lag5</th>\n",
       "      <th>yen_rate_change_lag6</th>\n",
       "      <th>yen_rate_change_lag7</th>\n",
       "      <th>yen_rate_change_lag8</th>\n",
       "      <th>yen_rate_change_lag9</th>\n",
       "      <th>yen_rate_change_lag10</th>\n",
       "    </tr>\n",
       "    <tr>\n",
       "      <th>date</th>\n",
       "      <th></th>\n",
       "      <th></th>\n",
       "      <th></th>\n",
       "      <th></th>\n",
       "      <th></th>\n",
       "      <th></th>\n",
       "      <th></th>\n",
       "      <th></th>\n",
       "      <th></th>\n",
       "      <th></th>\n",
       "      <th></th>\n",
       "      <th></th>\n",
       "      <th></th>\n",
       "      <th></th>\n",
       "      <th></th>\n",
       "      <th></th>\n",
       "      <th></th>\n",
       "      <th></th>\n",
       "      <th></th>\n",
       "      <th></th>\n",
       "      <th></th>\n",
       "    </tr>\n",
       "  </thead>\n",
       "  <tbody>\n",
       "    <tr>\n",
       "      <th>2000-01-01</th>\n",
       "      <td>NaN</td>\n",
       "      <td>NaN</td>\n",
       "      <td>5.5</td>\n",
       "      <td>0.0</td>\n",
       "      <td>NaN</td>\n",
       "      <td>NaN</td>\n",
       "      <td>NaN</td>\n",
       "      <td>NaN</td>\n",
       "      <td>NaN</td>\n",
       "      <td>NaN</td>\n",
       "      <td>...</td>\n",
       "      <td>NaN</td>\n",
       "      <td>NaN</td>\n",
       "      <td>NaN</td>\n",
       "      <td>NaN</td>\n",
       "      <td>NaN</td>\n",
       "      <td>NaN</td>\n",
       "      <td>NaN</td>\n",
       "      <td>NaN</td>\n",
       "      <td>NaN</td>\n",
       "      <td>NaN</td>\n",
       "    </tr>\n",
       "    <tr>\n",
       "      <th>2000-01-02</th>\n",
       "      <td>NaN</td>\n",
       "      <td>NaN</td>\n",
       "      <td>5.5</td>\n",
       "      <td>0.0</td>\n",
       "      <td>NaN</td>\n",
       "      <td>NaN</td>\n",
       "      <td>NaN</td>\n",
       "      <td>NaN</td>\n",
       "      <td>NaN</td>\n",
       "      <td>NaN</td>\n",
       "      <td>...</td>\n",
       "      <td>NaN</td>\n",
       "      <td>NaN</td>\n",
       "      <td>NaN</td>\n",
       "      <td>NaN</td>\n",
       "      <td>NaN</td>\n",
       "      <td>NaN</td>\n",
       "      <td>NaN</td>\n",
       "      <td>NaN</td>\n",
       "      <td>NaN</td>\n",
       "      <td>NaN</td>\n",
       "    </tr>\n",
       "    <tr>\n",
       "      <th>2000-01-03</th>\n",
       "      <td>NaN</td>\n",
       "      <td>NaN</td>\n",
       "      <td>5.5</td>\n",
       "      <td>0.0</td>\n",
       "      <td>NaN</td>\n",
       "      <td>NaN</td>\n",
       "      <td>NaN</td>\n",
       "      <td>NaN</td>\n",
       "      <td>NaN</td>\n",
       "      <td>NaN</td>\n",
       "      <td>...</td>\n",
       "      <td>NaN</td>\n",
       "      <td>NaN</td>\n",
       "      <td>NaN</td>\n",
       "      <td>NaN</td>\n",
       "      <td>NaN</td>\n",
       "      <td>NaN</td>\n",
       "      <td>NaN</td>\n",
       "      <td>NaN</td>\n",
       "      <td>NaN</td>\n",
       "      <td>NaN</td>\n",
       "    </tr>\n",
       "    <tr>\n",
       "      <th>2000-01-04</th>\n",
       "      <td>NaN</td>\n",
       "      <td>NaN</td>\n",
       "      <td>5.5</td>\n",
       "      <td>0.0</td>\n",
       "      <td>NaN</td>\n",
       "      <td>NaN</td>\n",
       "      <td>NaN</td>\n",
       "      <td>NaN</td>\n",
       "      <td>NaN</td>\n",
       "      <td>NaN</td>\n",
       "      <td>...</td>\n",
       "      <td>NaN</td>\n",
       "      <td>NaN</td>\n",
       "      <td>NaN</td>\n",
       "      <td>NaN</td>\n",
       "      <td>NaN</td>\n",
       "      <td>NaN</td>\n",
       "      <td>NaN</td>\n",
       "      <td>NaN</td>\n",
       "      <td>NaN</td>\n",
       "      <td>NaN</td>\n",
       "    </tr>\n",
       "    <tr>\n",
       "      <th>2000-01-05</th>\n",
       "      <td>NaN</td>\n",
       "      <td>NaN</td>\n",
       "      <td>5.5</td>\n",
       "      <td>0.0</td>\n",
       "      <td>NaN</td>\n",
       "      <td>NaN</td>\n",
       "      <td>NaN</td>\n",
       "      <td>NaN</td>\n",
       "      <td>NaN</td>\n",
       "      <td>NaN</td>\n",
       "      <td>...</td>\n",
       "      <td>NaN</td>\n",
       "      <td>NaN</td>\n",
       "      <td>NaN</td>\n",
       "      <td>NaN</td>\n",
       "      <td>NaN</td>\n",
       "      <td>NaN</td>\n",
       "      <td>NaN</td>\n",
       "      <td>NaN</td>\n",
       "      <td>NaN</td>\n",
       "      <td>NaN</td>\n",
       "    </tr>\n",
       "  </tbody>\n",
       "</table>\n",
       "<p>5 rows × 110 columns</p>\n",
       "</div>"
      ],
      "text/plain": [
       "            gbp_rate  gbp_rate_change  usd_rate  usd_rate_change  eur_rate  \\\n",
       "date                                                                         \n",
       "2000-01-01       NaN              NaN       5.5              0.0       NaN   \n",
       "2000-01-02       NaN              NaN       5.5              0.0       NaN   \n",
       "2000-01-03       NaN              NaN       5.5              0.0       NaN   \n",
       "2000-01-04       NaN              NaN       5.5              0.0       NaN   \n",
       "2000-01-05       NaN              NaN       5.5              0.0       NaN   \n",
       "\n",
       "            eur_rate_change  aud_rate_change  aud_rate  yen_rate  \\\n",
       "date                                                               \n",
       "2000-01-01              NaN              NaN       NaN       NaN   \n",
       "2000-01-02              NaN              NaN       NaN       NaN   \n",
       "2000-01-03              NaN              NaN       NaN       NaN   \n",
       "2000-01-04              NaN              NaN       NaN       NaN   \n",
       "2000-01-05              NaN              NaN       NaN       NaN   \n",
       "\n",
       "            yen_rate_change  ...  yen_rate_change_lag1  yen_rate_change_lag2  \\\n",
       "date                         ...                                               \n",
       "2000-01-01              NaN  ...                   NaN                   NaN   \n",
       "2000-01-02              NaN  ...                   NaN                   NaN   \n",
       "2000-01-03              NaN  ...                   NaN                   NaN   \n",
       "2000-01-04              NaN  ...                   NaN                   NaN   \n",
       "2000-01-05              NaN  ...                   NaN                   NaN   \n",
       "\n",
       "            yen_rate_change_lag3  yen_rate_change_lag4  yen_rate_change_lag5  \\\n",
       "date                                                                           \n",
       "2000-01-01                   NaN                   NaN                   NaN   \n",
       "2000-01-02                   NaN                   NaN                   NaN   \n",
       "2000-01-03                   NaN                   NaN                   NaN   \n",
       "2000-01-04                   NaN                   NaN                   NaN   \n",
       "2000-01-05                   NaN                   NaN                   NaN   \n",
       "\n",
       "            yen_rate_change_lag6  yen_rate_change_lag7  yen_rate_change_lag8  \\\n",
       "date                                                                           \n",
       "2000-01-01                   NaN                   NaN                   NaN   \n",
       "2000-01-02                   NaN                   NaN                   NaN   \n",
       "2000-01-03                   NaN                   NaN                   NaN   \n",
       "2000-01-04                   NaN                   NaN                   NaN   \n",
       "2000-01-05                   NaN                   NaN                   NaN   \n",
       "\n",
       "            yen_rate_change_lag9  yen_rate_change_lag10  \n",
       "date                                                     \n",
       "2000-01-01                   NaN                    NaN  \n",
       "2000-01-02                   NaN                    NaN  \n",
       "2000-01-03                   NaN                    NaN  \n",
       "2000-01-04                   NaN                    NaN  \n",
       "2000-01-05                   NaN                    NaN  \n",
       "\n",
       "[5 rows x 110 columns]"
      ]
     },
     "execution_count": 22,
     "metadata": {},
     "output_type": "execute_result"
    }
   ],
   "source": [
    "df_rates.head()"
   ]
  },
  {
   "cell_type": "code",
   "execution_count": 23,
   "metadata": {},
   "outputs": [
    {
     "name": "stderr",
     "output_type": "stream",
     "text": [
      "/opt/anaconda3/lib/python3.7/site-packages/ipykernel_launcher.py:29: SettingWithCopyWarning: \n",
      "A value is trying to be set on a copy of a slice from a DataFrame\n",
      "\n",
      "See the caveats in the documentation: https://pandas.pydata.org/pandas-docs/stable/user_guide/indexing.html#returning-a-view-versus-a-copy\n"
     ]
    }
   ],
   "source": [
    "# address NaN values\n",
    "\n",
    "d_non_NaN = dict()\n",
    "for col in df_rates.columns:\n",
    "    \n",
    "    # we can simply fill NaNs in the 'change' columns with zeros, to represent no change\n",
    "    if 'change' in col:\n",
    "        df_rates[col].fillna(0, inplace = True)\n",
    "        \n",
    "    # otherwise, we'll need to fill NaNs with the most recent non-NaN value\n",
    "    else:\n",
    "        df_rates[col].fillna('~', inplace = True)\n",
    "        \n",
    "        for idx,val in enumerate(df_rates[col]):\n",
    "            if val != '~':\n",
    "                d_non_NaN[col] = idx\n",
    "                break\n",
    "        \n",
    "        lst = []\n",
    "        d = dict()\n",
    "        for i in df_rates[col][d_non_NaN[col]:]:\n",
    "            if i != '~':\n",
    "                d['last'] = i\n",
    "            else:\n",
    "                i = d['last']\n",
    "            \n",
    "            lst.append(i)\n",
    "            \n",
    "        df_rates[col][d_non_NaN[col]:] = lst\n",
    "            \n",
    "        \n",
    "        \n",
    "        "
   ]
  },
  {
   "cell_type": "code",
   "execution_count": 24,
   "metadata": {},
   "outputs": [
    {
     "name": "stdout",
     "output_type": "stream",
     "text": [
      "{'gbp_rate': 12, 'usd_rate': 0, 'eur_rate': 34, 'aud_rate': 32, 'yen_rate': 223, 'gbp_rate_lag1': 13, 'gbp_rate_lag2': 14, 'gbp_rate_lag3': 15, 'gbp_rate_lag4': 16, 'gbp_rate_lag5': 17, 'gbp_rate_lag6': 18, 'gbp_rate_lag7': 19, 'gbp_rate_lag8': 20, 'gbp_rate_lag9': 21, 'gbp_rate_lag10': 22, 'usd_rate_lag1': 1, 'usd_rate_lag2': 2, 'usd_rate_lag3': 3, 'usd_rate_lag4': 4, 'usd_rate_lag5': 5, 'usd_rate_lag6': 6, 'usd_rate_lag7': 7, 'usd_rate_lag8': 8, 'usd_rate_lag9': 9, 'usd_rate_lag10': 10, 'eur_rate_lag1': 35, 'eur_rate_lag2': 36, 'eur_rate_lag3': 37, 'eur_rate_lag4': 38, 'eur_rate_lag5': 39, 'eur_rate_lag6': 40, 'eur_rate_lag7': 41, 'eur_rate_lag8': 42, 'eur_rate_lag9': 43, 'eur_rate_lag10': 44, 'aud_rate_lag1': 33, 'aud_rate_lag2': 34, 'aud_rate_lag3': 35, 'aud_rate_lag4': 36, 'aud_rate_lag5': 37, 'aud_rate_lag6': 38, 'aud_rate_lag7': 39, 'aud_rate_lag8': 40, 'aud_rate_lag9': 41, 'aud_rate_lag10': 42, 'yen_rate_lag1': 224, 'yen_rate_lag2': 225, 'yen_rate_lag3': 226, 'yen_rate_lag4': 227, 'yen_rate_lag5': 228, 'yen_rate_lag6': 229, 'yen_rate_lag7': 230, 'yen_rate_lag8': 231, 'yen_rate_lag9': 232, 'yen_rate_lag10': 233}\n"
     ]
    }
   ],
   "source": [
    "print(d_non_NaN)"
   ]
  },
  {
   "cell_type": "code",
   "execution_count": 25,
   "metadata": {},
   "outputs": [
    {
     "data": {
      "text/plain": [
       "date\n",
       "2000-02-03       ~\n",
       "2000-02-04    2.25\n",
       "2000-02-05    2.25\n",
       "Name: eur_rate, dtype: object"
      ]
     },
     "execution_count": 25,
     "metadata": {},
     "output_type": "execute_result"
    }
   ],
   "source": [
    "df_rates['eur_rate'][33:36]"
   ]
  },
  {
   "cell_type": "code",
   "execution_count": 26,
   "metadata": {},
   "outputs": [
    {
     "name": "stdout",
     "output_type": "stream",
     "text": [
      "Stored 'df_rates' (DataFrame)\n"
     ]
    }
   ],
   "source": [
    "%store df_rates"
   ]
  },
  {
   "cell_type": "markdown",
   "metadata": {},
   "source": [
    "## Consolidate stock indices"
   ]
  },
  {
   "cell_type": "code",
   "execution_count": 27,
   "metadata": {},
   "outputs": [],
   "source": [
    "%store -r df_hsi\n",
    "%store -r df_sse\n",
    "%store -r df_jeg\n",
    "%store -r df_nasdaq\n",
    "%store -r df_nyse"
   ]
  },
  {
   "cell_type": "code",
   "execution_count": 28,
   "metadata": {},
   "outputs": [
    {
     "data": {
      "text/plain": [
       "Timestamp('2000-01-03 00:00:00')"
      ]
     },
     "execution_count": 28,
     "metadata": {},
     "output_type": "execute_result"
    }
   ],
   "source": [
    "df_hsi['date'].min()"
   ]
  },
  {
   "cell_type": "code",
   "execution_count": 29,
   "metadata": {},
   "outputs": [
    {
     "data": {
      "text/plain": [
       "Timestamp('1997-07-02 00:00:00')"
      ]
     },
     "execution_count": 29,
     "metadata": {},
     "output_type": "execute_result"
    }
   ],
   "source": [
    "df_sse['date'].min()"
   ]
  },
  {
   "cell_type": "code",
   "execution_count": 30,
   "metadata": {},
   "outputs": [
    {
     "data": {
      "text/plain": [
       "Timestamp('2008-09-05 00:00:00')"
      ]
     },
     "execution_count": 30,
     "metadata": {},
     "output_type": "execute_result"
    }
   ],
   "source": [
    "df_jeg['date'].min()"
   ]
  },
  {
   "cell_type": "code",
   "execution_count": 31,
   "metadata": {},
   "outputs": [
    {
     "data": {
      "text/plain": [
       "Timestamp('2000-01-03 00:00:00')"
      ]
     },
     "execution_count": 31,
     "metadata": {},
     "output_type": "execute_result"
    }
   ],
   "source": [
    "df_nasdaq['date'].min()"
   ]
  },
  {
   "cell_type": "code",
   "execution_count": 32,
   "metadata": {},
   "outputs": [
    {
     "data": {
      "text/plain": [
       "Timestamp('2000-01-03 00:00:00')"
      ]
     },
     "execution_count": 32,
     "metadata": {},
     "output_type": "execute_result"
    }
   ],
   "source": [
    "df_nyse['date'].min()"
   ]
  },
  {
   "cell_type": "code",
   "execution_count": 33,
   "metadata": {},
   "outputs": [],
   "source": [
    "# loop through all dataframes and merge via outer join, ensuring the df with the most non-null dates is the left object\n",
    "df_stock = pd.merge(df_sse, df_hsi, how = 'outer', on = ['date'])\n",
    "df_stock = pd.merge(df_stock, df_nyse, how = 'outer', on = ['date'])\n",
    "df_stock = pd.merge(df_stock, df_nasdaq, how = 'outer', on = ['date'])\n",
    "df_stock = pd.merge(df_stock, df_jeg, how = 'outer', on = ['date'])"
   ]
  },
  {
   "cell_type": "code",
   "execution_count": 34,
   "metadata": {},
   "outputs": [
    {
     "name": "stdout",
     "output_type": "stream",
     "text": [
      "<class 'pandas.core.frame.DataFrame'>\n",
      "Int64Index: 5964 entries, 0 to 5963\n",
      "Data columns (total 16 columns):\n",
      " #   Column             Non-Null Count  Dtype         \n",
      "---  ------             --------------  -----         \n",
      " 0   date               5964 non-null   datetime64[ns]\n",
      " 1   sse_close          5714 non-null   float64       \n",
      " 2   sse_close_lag1     5713 non-null   float64       \n",
      " 3   sse_change%        5711 non-null   float64       \n",
      " 4   hsi_close          5023 non-null   float64       \n",
      " 5   hsi_close_lag1     5022 non-null   float64       \n",
      " 6   hsi_change%        4956 non-null   float64       \n",
      " 7   nyse_close         5131 non-null   float64       \n",
      " 8   nyse_close_lag1    5130 non-null   float64       \n",
      " 9   nyse_change%       5130 non-null   float64       \n",
      " 10  nasdaq_close       5131 non-null   float64       \n",
      " 11  nasdaq_close_lag1  5130 non-null   float64       \n",
      " 12  nasdaq_change%     5130 non-null   float64       \n",
      " 13  jeg_close          2869 non-null   float64       \n",
      " 14  jeg_close_lag1     2868 non-null   float64       \n",
      " 15  jeg_change%        2856 non-null   float64       \n",
      "dtypes: datetime64[ns](1), float64(15)\n",
      "memory usage: 792.1 KB\n"
     ]
    }
   ],
   "source": [
    "df_stock.info()"
   ]
  },
  {
   "cell_type": "code",
   "execution_count": 35,
   "metadata": {},
   "outputs": [],
   "source": [
    "to_drop = []\n",
    "for col in df_stock.columns:\n",
    "    if 'lag' in col:\n",
    "        to_drop.append(col)"
   ]
  },
  {
   "cell_type": "code",
   "execution_count": 36,
   "metadata": {},
   "outputs": [],
   "source": [
    "df_stock.drop(columns = to_drop, inplace = True)"
   ]
  },
  {
   "cell_type": "code",
   "execution_count": 37,
   "metadata": {},
   "outputs": [],
   "source": [
    "df_stock = df_stock.sort_values(by = ['date'])"
   ]
  },
  {
   "cell_type": "code",
   "execution_count": 38,
   "metadata": {},
   "outputs": [],
   "source": [
    "#lowest minimum date across stock data is 2008-09-05 (df_jeg), so drop all data prior\n",
    "df_stock = df_stock[df_stock['date']>'2008-09-04']"
   ]
  },
  {
   "cell_type": "code",
   "execution_count": 39,
   "metadata": {},
   "outputs": [],
   "source": [
    "df_stock = df_stock.set_index('date')"
   ]
  },
  {
   "cell_type": "code",
   "execution_count": 40,
   "metadata": {},
   "outputs": [
    {
     "data": {
      "text/html": [
       "<div>\n",
       "<style scoped>\n",
       "    .dataframe tbody tr th:only-of-type {\n",
       "        vertical-align: middle;\n",
       "    }\n",
       "\n",
       "    .dataframe tbody tr th {\n",
       "        vertical-align: top;\n",
       "    }\n",
       "\n",
       "    .dataframe thead th {\n",
       "        text-align: right;\n",
       "    }\n",
       "</style>\n",
       "<table border=\"1\" class=\"dataframe\">\n",
       "  <thead>\n",
       "    <tr style=\"text-align: right;\">\n",
       "      <th></th>\n",
       "      <th>sse_close</th>\n",
       "      <th>sse_change%</th>\n",
       "      <th>hsi_close</th>\n",
       "      <th>hsi_change%</th>\n",
       "      <th>nyse_close</th>\n",
       "      <th>nyse_change%</th>\n",
       "      <th>nasdaq_close</th>\n",
       "      <th>nasdaq_change%</th>\n",
       "      <th>jeg_close</th>\n",
       "      <th>jeg_change%</th>\n",
       "    </tr>\n",
       "    <tr>\n",
       "      <th>date</th>\n",
       "      <th></th>\n",
       "      <th></th>\n",
       "      <th></th>\n",
       "      <th></th>\n",
       "      <th></th>\n",
       "      <th></th>\n",
       "      <th></th>\n",
       "      <th></th>\n",
       "      <th></th>\n",
       "      <th></th>\n",
       "    </tr>\n",
       "  </thead>\n",
       "  <tbody>\n",
       "    <tr>\n",
       "      <th>2008-09-05</th>\n",
       "      <td>2202.446045</td>\n",
       "      <td>3.403709</td>\n",
       "      <td>19933.279297</td>\n",
       "      <td>2.288641</td>\n",
       "      <td>8033.759766</td>\n",
       "      <td>-0.317532</td>\n",
       "      <td>2255.879883</td>\n",
       "      <td>0.140085</td>\n",
       "      <td>335.000000</td>\n",
       "      <td>NaN</td>\n",
       "    </tr>\n",
       "    <tr>\n",
       "      <th>2008-09-08</th>\n",
       "      <td>2143.420898</td>\n",
       "      <td>2.753782</td>\n",
       "      <td>20794.269531</td>\n",
       "      <td>-4.140517</td>\n",
       "      <td>8168.620117</td>\n",
       "      <td>-1.650956</td>\n",
       "      <td>2269.760010</td>\n",
       "      <td>-0.611524</td>\n",
       "      <td>343.000000</td>\n",
       "      <td>-2.332362</td>\n",
       "    </tr>\n",
       "    <tr>\n",
       "      <th>2008-09-09</th>\n",
       "      <td>2145.779053</td>\n",
       "      <td>-0.109897</td>\n",
       "      <td>20491.109375</td>\n",
       "      <td>1.479472</td>\n",
       "      <td>7871.149902</td>\n",
       "      <td>3.779247</td>\n",
       "      <td>2209.810059</td>\n",
       "      <td>2.712901</td>\n",
       "      <td>337.864990</td>\n",
       "      <td>1.519841</td>\n",
       "    </tr>\n",
       "    <tr>\n",
       "      <th>2008-09-10</th>\n",
       "      <td>2150.759033</td>\n",
       "      <td>-0.231545</td>\n",
       "      <td>19999.779297</td>\n",
       "      <td>2.456677</td>\n",
       "      <td>7957.259766</td>\n",
       "      <td>-1.082155</td>\n",
       "      <td>2228.699951</td>\n",
       "      <td>-0.847574</td>\n",
       "      <td>319.382996</td>\n",
       "      <td>5.786781</td>\n",
       "    </tr>\n",
       "    <tr>\n",
       "      <th>2008-09-11</th>\n",
       "      <td>2078.980957</td>\n",
       "      <td>3.452561</td>\n",
       "      <td>19388.720703</td>\n",
       "      <td>3.151619</td>\n",
       "      <td>8011.250000</td>\n",
       "      <td>-0.673930</td>\n",
       "      <td>2258.219971</td>\n",
       "      <td>-1.307225</td>\n",
       "      <td>290.799988</td>\n",
       "      <td>9.829095</td>\n",
       "    </tr>\n",
       "  </tbody>\n",
       "</table>\n",
       "</div>"
      ],
      "text/plain": [
       "              sse_close  sse_change%     hsi_close  hsi_change%   nyse_close  \\\n",
       "date                                                                           \n",
       "2008-09-05  2202.446045     3.403709  19933.279297     2.288641  8033.759766   \n",
       "2008-09-08  2143.420898     2.753782  20794.269531    -4.140517  8168.620117   \n",
       "2008-09-09  2145.779053    -0.109897  20491.109375     1.479472  7871.149902   \n",
       "2008-09-10  2150.759033    -0.231545  19999.779297     2.456677  7957.259766   \n",
       "2008-09-11  2078.980957     3.452561  19388.720703     3.151619  8011.250000   \n",
       "\n",
       "            nyse_change%  nasdaq_close  nasdaq_change%   jeg_close  \\\n",
       "date                                                                 \n",
       "2008-09-05     -0.317532   2255.879883        0.140085  335.000000   \n",
       "2008-09-08     -1.650956   2269.760010       -0.611524  343.000000   \n",
       "2008-09-09      3.779247   2209.810059        2.712901  337.864990   \n",
       "2008-09-10     -1.082155   2228.699951       -0.847574  319.382996   \n",
       "2008-09-11     -0.673930   2258.219971       -1.307225  290.799988   \n",
       "\n",
       "            jeg_change%  \n",
       "date                     \n",
       "2008-09-05          NaN  \n",
       "2008-09-08    -2.332362  \n",
       "2008-09-09     1.519841  \n",
       "2008-09-10     5.786781  \n",
       "2008-09-11     9.829095  "
      ]
     },
     "execution_count": 40,
     "metadata": {},
     "output_type": "execute_result"
    }
   ],
   "source": [
    "df_stock.head()"
   ]
  },
  {
   "cell_type": "code",
   "execution_count": 41,
   "metadata": {},
   "outputs": [
    {
     "name": "stdout",
     "output_type": "stream",
     "text": [
      "<class 'pandas.core.frame.DataFrame'>\n",
      "DatetimeIndex: 3051 entries, 2008-09-05 to 2020-05-27\n",
      "Data columns (total 10 columns):\n",
      " #   Column          Non-Null Count  Dtype  \n",
      "---  ------          --------------  -----  \n",
      " 0   sse_close       2845 non-null   float64\n",
      " 1   sse_change%     2844 non-null   float64\n",
      " 2   hsi_close       2881 non-null   float64\n",
      " 3   hsi_change%     2868 non-null   float64\n",
      " 4   nyse_close      2950 non-null   float64\n",
      " 5   nyse_change%    2950 non-null   float64\n",
      " 6   nasdaq_close    2950 non-null   float64\n",
      " 7   nasdaq_change%  2950 non-null   float64\n",
      " 8   jeg_close       2869 non-null   float64\n",
      " 9   jeg_change%     2856 non-null   float64\n",
      "dtypes: float64(10)\n",
      "memory usage: 262.2 KB\n"
     ]
    }
   ],
   "source": [
    "df_stock.info()"
   ]
  },
  {
   "cell_type": "code",
   "execution_count": 42,
   "metadata": {},
   "outputs": [],
   "source": [
    "# add up to 10 day lag for all stock indices and changes\n",
    "for col in df_stock.columns:\n",
    "    for i in range(1,11):\n",
    "        df_stock[f'{col}_lag{i}'] = df_stock[col].shift(i)"
   ]
  },
  {
   "cell_type": "code",
   "execution_count": 43,
   "metadata": {},
   "outputs": [
    {
     "name": "stdout",
     "output_type": "stream",
     "text": [
      "<class 'pandas.core.frame.DataFrame'>\n",
      "DatetimeIndex: 3051 entries, 2008-09-05 to 2020-05-27\n",
      "Columns: 110 entries, sse_close to jeg_change%_lag10\n",
      "dtypes: float64(110)\n",
      "memory usage: 2.6 MB\n"
     ]
    }
   ],
   "source": [
    "df_stock.info()"
   ]
  },
  {
   "cell_type": "code",
   "execution_count": 44,
   "metadata": {},
   "outputs": [
    {
     "name": "stderr",
     "output_type": "stream",
     "text": [
      "/opt/anaconda3/lib/python3.7/site-packages/ipykernel_launcher.py:29: SettingWithCopyWarning: \n",
      "A value is trying to be set on a copy of a slice from a DataFrame\n",
      "\n",
      "See the caveats in the documentation: https://pandas.pydata.org/pandas-docs/stable/user_guide/indexing.html#returning-a-view-versus-a-copy\n"
     ]
    }
   ],
   "source": [
    "# address NaN values\n",
    "\n",
    "d_non_NaN = dict()\n",
    "for col in df_stock.columns:\n",
    "    \n",
    "    # we can simply fill NaNs in the 'change' columns with zeros, to represent no change\n",
    "    if 'change' in col:\n",
    "        df_stock[col].fillna(0, inplace = True)\n",
    "        \n",
    "    # otherwise, we'll need to fill NaNs with the most recent non-NaN value\n",
    "    else:\n",
    "        df_stock[col].fillna('~', inplace = True)\n",
    "        \n",
    "        for idx,val in enumerate(df_stock[col]):\n",
    "            if val != '~':\n",
    "                d_non_NaN[col] = idx\n",
    "                break\n",
    "        \n",
    "        lst = []\n",
    "        d = dict()\n",
    "        for i in df_stock[col][d_non_NaN[col]:]:\n",
    "            if i != '~':\n",
    "                d['last'] = i\n",
    "            else:\n",
    "                i = d['last']\n",
    "            \n",
    "            lst.append(i)\n",
    "            \n",
    "        df_stock[col][d_non_NaN[col]:] = lst\n",
    "        "
   ]
  },
  {
   "cell_type": "code",
   "execution_count": 45,
   "metadata": {},
   "outputs": [
    {
     "name": "stdout",
     "output_type": "stream",
     "text": [
      "{'sse_close': 0, 'hsi_close': 0, 'nyse_close': 0, 'nasdaq_close': 0, 'jeg_close': 0, 'sse_close_lag1': 1, 'sse_close_lag2': 2, 'sse_close_lag3': 3, 'sse_close_lag4': 4, 'sse_close_lag5': 5, 'sse_close_lag6': 6, 'sse_close_lag7': 7, 'sse_close_lag8': 8, 'sse_close_lag9': 9, 'sse_close_lag10': 10, 'hsi_close_lag1': 1, 'hsi_close_lag2': 2, 'hsi_close_lag3': 3, 'hsi_close_lag4': 4, 'hsi_close_lag5': 5, 'hsi_close_lag6': 6, 'hsi_close_lag7': 7, 'hsi_close_lag8': 8, 'hsi_close_lag9': 9, 'hsi_close_lag10': 10, 'nyse_close_lag1': 1, 'nyse_close_lag2': 2, 'nyse_close_lag3': 3, 'nyse_close_lag4': 4, 'nyse_close_lag5': 5, 'nyse_close_lag6': 6, 'nyse_close_lag7': 7, 'nyse_close_lag8': 8, 'nyse_close_lag9': 9, 'nyse_close_lag10': 10, 'nasdaq_close_lag1': 1, 'nasdaq_close_lag2': 2, 'nasdaq_close_lag3': 3, 'nasdaq_close_lag4': 4, 'nasdaq_close_lag5': 5, 'nasdaq_close_lag6': 6, 'nasdaq_close_lag7': 7, 'nasdaq_close_lag8': 8, 'nasdaq_close_lag9': 9, 'nasdaq_close_lag10': 10, 'jeg_close_lag1': 1, 'jeg_close_lag2': 2, 'jeg_close_lag3': 3, 'jeg_close_lag4': 4, 'jeg_close_lag5': 5, 'jeg_close_lag6': 6, 'jeg_close_lag7': 7, 'jeg_close_lag8': 8, 'jeg_close_lag9': 9, 'jeg_close_lag10': 10}\n"
     ]
    }
   ],
   "source": [
    "print(d_non_NaN)"
   ]
  },
  {
   "cell_type": "code",
   "execution_count": 46,
   "metadata": {},
   "outputs": [
    {
     "data": {
      "text/plain": [
       "date\n",
       "2008-09-18          ~\n",
       "2008-09-19        335\n",
       "2008-09-22        343\n",
       "2008-09-23    337.865\n",
       "2008-09-24    319.383\n",
       "Name: jeg_close_lag10, dtype: object"
      ]
     },
     "execution_count": 46,
     "metadata": {},
     "output_type": "execute_result"
    }
   ],
   "source": [
    "df_stock['jeg_close_lag10'][9:14]"
   ]
  },
  {
   "cell_type": "code",
   "execution_count": 47,
   "metadata": {},
   "outputs": [
    {
     "data": {
      "text/html": [
       "<div>\n",
       "<style scoped>\n",
       "    .dataframe tbody tr th:only-of-type {\n",
       "        vertical-align: middle;\n",
       "    }\n",
       "\n",
       "    .dataframe tbody tr th {\n",
       "        vertical-align: top;\n",
       "    }\n",
       "\n",
       "    .dataframe thead th {\n",
       "        text-align: right;\n",
       "    }\n",
       "</style>\n",
       "<table border=\"1\" class=\"dataframe\">\n",
       "  <thead>\n",
       "    <tr style=\"text-align: right;\">\n",
       "      <th></th>\n",
       "      <th>sse_close</th>\n",
       "      <th>sse_change%</th>\n",
       "      <th>hsi_close</th>\n",
       "      <th>hsi_change%</th>\n",
       "      <th>nyse_close</th>\n",
       "      <th>nyse_change%</th>\n",
       "      <th>nasdaq_close</th>\n",
       "      <th>nasdaq_change%</th>\n",
       "      <th>jeg_close</th>\n",
       "      <th>jeg_change%</th>\n",
       "      <th>...</th>\n",
       "      <th>jeg_change%_lag1</th>\n",
       "      <th>jeg_change%_lag2</th>\n",
       "      <th>jeg_change%_lag3</th>\n",
       "      <th>jeg_change%_lag4</th>\n",
       "      <th>jeg_change%_lag5</th>\n",
       "      <th>jeg_change%_lag6</th>\n",
       "      <th>jeg_change%_lag7</th>\n",
       "      <th>jeg_change%_lag8</th>\n",
       "      <th>jeg_change%_lag9</th>\n",
       "      <th>jeg_change%_lag10</th>\n",
       "    </tr>\n",
       "    <tr>\n",
       "      <th>date</th>\n",
       "      <th></th>\n",
       "      <th></th>\n",
       "      <th></th>\n",
       "      <th></th>\n",
       "      <th></th>\n",
       "      <th></th>\n",
       "      <th></th>\n",
       "      <th></th>\n",
       "      <th></th>\n",
       "      <th></th>\n",
       "      <th></th>\n",
       "      <th></th>\n",
       "      <th></th>\n",
       "      <th></th>\n",
       "      <th></th>\n",
       "      <th></th>\n",
       "      <th></th>\n",
       "      <th></th>\n",
       "      <th></th>\n",
       "      <th></th>\n",
       "      <th></th>\n",
       "    </tr>\n",
       "  </thead>\n",
       "  <tbody>\n",
       "    <tr>\n",
       "      <th>2008-09-05</th>\n",
       "      <td>2202.446045</td>\n",
       "      <td>3.403709</td>\n",
       "      <td>19933.279297</td>\n",
       "      <td>2.288641</td>\n",
       "      <td>8033.759766</td>\n",
       "      <td>-0.317532</td>\n",
       "      <td>2255.879883</td>\n",
       "      <td>0.140085</td>\n",
       "      <td>335.000000</td>\n",
       "      <td>0.000000</td>\n",
       "      <td>...</td>\n",
       "      <td>0.000000</td>\n",
       "      <td>0.000000</td>\n",
       "      <td>0.000000</td>\n",
       "      <td>0.0</td>\n",
       "      <td>0.0</td>\n",
       "      <td>0.0</td>\n",
       "      <td>0.0</td>\n",
       "      <td>0.0</td>\n",
       "      <td>0.0</td>\n",
       "      <td>0.0</td>\n",
       "    </tr>\n",
       "    <tr>\n",
       "      <th>2008-09-08</th>\n",
       "      <td>2143.420898</td>\n",
       "      <td>2.753782</td>\n",
       "      <td>20794.269531</td>\n",
       "      <td>-4.140517</td>\n",
       "      <td>8168.620117</td>\n",
       "      <td>-1.650956</td>\n",
       "      <td>2269.760010</td>\n",
       "      <td>-0.611524</td>\n",
       "      <td>343.000000</td>\n",
       "      <td>-2.332362</td>\n",
       "      <td>...</td>\n",
       "      <td>0.000000</td>\n",
       "      <td>0.000000</td>\n",
       "      <td>0.000000</td>\n",
       "      <td>0.0</td>\n",
       "      <td>0.0</td>\n",
       "      <td>0.0</td>\n",
       "      <td>0.0</td>\n",
       "      <td>0.0</td>\n",
       "      <td>0.0</td>\n",
       "      <td>0.0</td>\n",
       "    </tr>\n",
       "    <tr>\n",
       "      <th>2008-09-09</th>\n",
       "      <td>2145.779053</td>\n",
       "      <td>-0.109897</td>\n",
       "      <td>20491.109375</td>\n",
       "      <td>1.479472</td>\n",
       "      <td>7871.149902</td>\n",
       "      <td>3.779247</td>\n",
       "      <td>2209.810059</td>\n",
       "      <td>2.712901</td>\n",
       "      <td>337.864990</td>\n",
       "      <td>1.519841</td>\n",
       "      <td>...</td>\n",
       "      <td>-2.332362</td>\n",
       "      <td>0.000000</td>\n",
       "      <td>0.000000</td>\n",
       "      <td>0.0</td>\n",
       "      <td>0.0</td>\n",
       "      <td>0.0</td>\n",
       "      <td>0.0</td>\n",
       "      <td>0.0</td>\n",
       "      <td>0.0</td>\n",
       "      <td>0.0</td>\n",
       "    </tr>\n",
       "    <tr>\n",
       "      <th>2008-09-10</th>\n",
       "      <td>2150.759033</td>\n",
       "      <td>-0.231545</td>\n",
       "      <td>19999.779297</td>\n",
       "      <td>2.456677</td>\n",
       "      <td>7957.259766</td>\n",
       "      <td>-1.082155</td>\n",
       "      <td>2228.699951</td>\n",
       "      <td>-0.847574</td>\n",
       "      <td>319.382996</td>\n",
       "      <td>5.786781</td>\n",
       "      <td>...</td>\n",
       "      <td>1.519841</td>\n",
       "      <td>-2.332362</td>\n",
       "      <td>0.000000</td>\n",
       "      <td>0.0</td>\n",
       "      <td>0.0</td>\n",
       "      <td>0.0</td>\n",
       "      <td>0.0</td>\n",
       "      <td>0.0</td>\n",
       "      <td>0.0</td>\n",
       "      <td>0.0</td>\n",
       "    </tr>\n",
       "    <tr>\n",
       "      <th>2008-09-11</th>\n",
       "      <td>2078.980957</td>\n",
       "      <td>3.452561</td>\n",
       "      <td>19388.720703</td>\n",
       "      <td>3.151619</td>\n",
       "      <td>8011.250000</td>\n",
       "      <td>-0.673930</td>\n",
       "      <td>2258.219971</td>\n",
       "      <td>-1.307225</td>\n",
       "      <td>290.799988</td>\n",
       "      <td>9.829095</td>\n",
       "      <td>...</td>\n",
       "      <td>5.786781</td>\n",
       "      <td>1.519841</td>\n",
       "      <td>-2.332362</td>\n",
       "      <td>0.0</td>\n",
       "      <td>0.0</td>\n",
       "      <td>0.0</td>\n",
       "      <td>0.0</td>\n",
       "      <td>0.0</td>\n",
       "      <td>0.0</td>\n",
       "      <td>0.0</td>\n",
       "    </tr>\n",
       "  </tbody>\n",
       "</table>\n",
       "<p>5 rows × 110 columns</p>\n",
       "</div>"
      ],
      "text/plain": [
       "              sse_close  sse_change%     hsi_close  hsi_change%   nyse_close  \\\n",
       "date                                                                           \n",
       "2008-09-05  2202.446045     3.403709  19933.279297     2.288641  8033.759766   \n",
       "2008-09-08  2143.420898     2.753782  20794.269531    -4.140517  8168.620117   \n",
       "2008-09-09  2145.779053    -0.109897  20491.109375     1.479472  7871.149902   \n",
       "2008-09-10  2150.759033    -0.231545  19999.779297     2.456677  7957.259766   \n",
       "2008-09-11  2078.980957     3.452561  19388.720703     3.151619  8011.250000   \n",
       "\n",
       "            nyse_change%  nasdaq_close  nasdaq_change%   jeg_close  \\\n",
       "date                                                                 \n",
       "2008-09-05     -0.317532   2255.879883        0.140085  335.000000   \n",
       "2008-09-08     -1.650956   2269.760010       -0.611524  343.000000   \n",
       "2008-09-09      3.779247   2209.810059        2.712901  337.864990   \n",
       "2008-09-10     -1.082155   2228.699951       -0.847574  319.382996   \n",
       "2008-09-11     -0.673930   2258.219971       -1.307225  290.799988   \n",
       "\n",
       "            jeg_change%  ... jeg_change%_lag1 jeg_change%_lag2  \\\n",
       "date                     ...                                     \n",
       "2008-09-05     0.000000  ...         0.000000         0.000000   \n",
       "2008-09-08    -2.332362  ...         0.000000         0.000000   \n",
       "2008-09-09     1.519841  ...        -2.332362         0.000000   \n",
       "2008-09-10     5.786781  ...         1.519841        -2.332362   \n",
       "2008-09-11     9.829095  ...         5.786781         1.519841   \n",
       "\n",
       "           jeg_change%_lag3 jeg_change%_lag4 jeg_change%_lag5  \\\n",
       "date                                                            \n",
       "2008-09-05         0.000000              0.0              0.0   \n",
       "2008-09-08         0.000000              0.0              0.0   \n",
       "2008-09-09         0.000000              0.0              0.0   \n",
       "2008-09-10         0.000000              0.0              0.0   \n",
       "2008-09-11        -2.332362              0.0              0.0   \n",
       "\n",
       "           jeg_change%_lag6 jeg_change%_lag7 jeg_change%_lag8  \\\n",
       "date                                                            \n",
       "2008-09-05              0.0              0.0              0.0   \n",
       "2008-09-08              0.0              0.0              0.0   \n",
       "2008-09-09              0.0              0.0              0.0   \n",
       "2008-09-10              0.0              0.0              0.0   \n",
       "2008-09-11              0.0              0.0              0.0   \n",
       "\n",
       "           jeg_change%_lag9 jeg_change%_lag10  \n",
       "date                                           \n",
       "2008-09-05              0.0               0.0  \n",
       "2008-09-08              0.0               0.0  \n",
       "2008-09-09              0.0               0.0  \n",
       "2008-09-10              0.0               0.0  \n",
       "2008-09-11              0.0               0.0  \n",
       "\n",
       "[5 rows x 110 columns]"
      ]
     },
     "execution_count": 47,
     "metadata": {},
     "output_type": "execute_result"
    }
   ],
   "source": [
    "df_stock.head()"
   ]
  },
  {
   "cell_type": "code",
   "execution_count": 48,
   "metadata": {},
   "outputs": [
    {
     "name": "stdout",
     "output_type": "stream",
     "text": [
      "Stored 'df_stock' (DataFrame)\n"
     ]
    }
   ],
   "source": [
    "%store df_stock"
   ]
  },
  {
   "cell_type": "code",
   "execution_count": 49,
   "metadata": {},
   "outputs": [],
   "source": [
    "df_feat = pd.merge(df_rates, df_stock, how = 'inner', on = ['date'])"
   ]
  },
  {
   "cell_type": "code",
   "execution_count": 50,
   "metadata": {},
   "outputs": [
    {
     "name": "stdout",
     "output_type": "stream",
     "text": [
      "<class 'pandas.core.frame.DataFrame'>\n",
      "DatetimeIndex: 3051 entries, 2008-09-05 to 2020-05-27\n",
      "Columns: 220 entries, gbp_rate to jeg_change%_lag10\n",
      "dtypes: float64(116), object(104)\n",
      "memory usage: 5.1+ MB\n"
     ]
    }
   ],
   "source": [
    "df_feat.info()"
   ]
  },
  {
   "cell_type": "code",
   "execution_count": 51,
   "metadata": {},
   "outputs": [
    {
     "name": "stdout",
     "output_type": "stream",
     "text": [
      "Stored 'df_feat' (DataFrame)\n"
     ]
    }
   ],
   "source": [
    "%store df_feat"
   ]
  },
  {
   "cell_type": "markdown",
   "metadata": {},
   "source": [
    "## Merge in gold data and create final Xy dataframe for model"
   ]
  },
  {
   "cell_type": "code",
   "execution_count": 52,
   "metadata": {},
   "outputs": [],
   "source": [
    "%store -r df_gold"
   ]
  },
  {
   "cell_type": "code",
   "execution_count": 53,
   "metadata": {},
   "outputs": [
    {
     "name": "stdout",
     "output_type": "stream",
     "text": [
      "<class 'pandas.core.frame.DataFrame'>\n",
      "Int64Index: 7845 entries, 3 to 8417\n",
      "Data columns (total 4 columns):\n",
      " #   Column        Non-Null Count  Dtype         \n",
      "---  ------        --------------  -----         \n",
      " 0   date          7845 non-null   datetime64[ns]\n",
      " 1   gold          7845 non-null   float64       \n",
      " 2   gold_lag1     7844 non-null   float64       \n",
      " 3   gold_change%  7844 non-null   float64       \n",
      "dtypes: datetime64[ns](1), float64(3)\n",
      "memory usage: 306.4 KB\n"
     ]
    }
   ],
   "source": [
    "df_gold.info()"
   ]
  },
  {
   "cell_type": "code",
   "execution_count": 54,
   "metadata": {},
   "outputs": [],
   "source": [
    "df_gold = df_gold.sort_values(by = ['date'])\n",
    "df_gold = df_gold.set_index('date')"
   ]
  },
  {
   "cell_type": "code",
   "execution_count": 55,
   "metadata": {},
   "outputs": [],
   "source": [
    "to_drop = []\n",
    "for col in df_gold.columns:\n",
    "    if 'lag' in col:\n",
    "        to_drop.append(col)"
   ]
  },
  {
   "cell_type": "code",
   "execution_count": 56,
   "metadata": {},
   "outputs": [],
   "source": [
    "df_gold.drop(columns = to_drop, inplace = True)"
   ]
  },
  {
   "cell_type": "code",
   "execution_count": 57,
   "metadata": {},
   "outputs": [],
   "source": [
    "# add up to 10 day lag for all gold prices and daily changes\n",
    "for col in df_gold.columns:\n",
    "    for i in range(1,11):\n",
    "        df_gold[f'{col}_lag{i}'] = df_gold[col].shift(i)"
   ]
  },
  {
   "cell_type": "code",
   "execution_count": 58,
   "metadata": {},
   "outputs": [
    {
     "data": {
      "text/html": [
       "<div>\n",
       "<style scoped>\n",
       "    .dataframe tbody tr th:only-of-type {\n",
       "        vertical-align: middle;\n",
       "    }\n",
       "\n",
       "    .dataframe tbody tr th {\n",
       "        vertical-align: top;\n",
       "    }\n",
       "\n",
       "    .dataframe thead th {\n",
       "        text-align: right;\n",
       "    }\n",
       "</style>\n",
       "<table border=\"1\" class=\"dataframe\">\n",
       "  <thead>\n",
       "    <tr style=\"text-align: right;\">\n",
       "      <th></th>\n",
       "      <th>gold</th>\n",
       "      <th>gold_change%</th>\n",
       "      <th>gold_lag1</th>\n",
       "      <th>gold_lag2</th>\n",
       "      <th>gold_lag3</th>\n",
       "      <th>gold_lag4</th>\n",
       "      <th>gold_lag5</th>\n",
       "      <th>gold_lag6</th>\n",
       "      <th>gold_lag7</th>\n",
       "      <th>gold_lag8</th>\n",
       "      <th>...</th>\n",
       "      <th>gold_change%_lag1</th>\n",
       "      <th>gold_change%_lag2</th>\n",
       "      <th>gold_change%_lag3</th>\n",
       "      <th>gold_change%_lag4</th>\n",
       "      <th>gold_change%_lag5</th>\n",
       "      <th>gold_change%_lag6</th>\n",
       "      <th>gold_change%_lag7</th>\n",
       "      <th>gold_change%_lag8</th>\n",
       "      <th>gold_change%_lag9</th>\n",
       "      <th>gold_change%_lag10</th>\n",
       "    </tr>\n",
       "    <tr>\n",
       "      <th>date</th>\n",
       "      <th></th>\n",
       "      <th></th>\n",
       "      <th></th>\n",
       "      <th></th>\n",
       "      <th></th>\n",
       "      <th></th>\n",
       "      <th></th>\n",
       "      <th></th>\n",
       "      <th></th>\n",
       "      <th></th>\n",
       "      <th></th>\n",
       "      <th></th>\n",
       "      <th></th>\n",
       "      <th></th>\n",
       "      <th></th>\n",
       "      <th></th>\n",
       "      <th></th>\n",
       "      <th></th>\n",
       "      <th></th>\n",
       "      <th></th>\n",
       "      <th></th>\n",
       "    </tr>\n",
       "  </thead>\n",
       "  <tbody>\n",
       "    <tr>\n",
       "      <th>1990-01-03</th>\n",
       "      <td>394.50</td>\n",
       "      <td>1.089987</td>\n",
       "      <td>NaN</td>\n",
       "      <td>NaN</td>\n",
       "      <td>NaN</td>\n",
       "      <td>NaN</td>\n",
       "      <td>NaN</td>\n",
       "      <td>NaN</td>\n",
       "      <td>NaN</td>\n",
       "      <td>NaN</td>\n",
       "      <td>...</td>\n",
       "      <td>NaN</td>\n",
       "      <td>NaN</td>\n",
       "      <td>NaN</td>\n",
       "      <td>NaN</td>\n",
       "      <td>NaN</td>\n",
       "      <td>NaN</td>\n",
       "      <td>NaN</td>\n",
       "      <td>NaN</td>\n",
       "      <td>NaN</td>\n",
       "      <td>NaN</td>\n",
       "    </tr>\n",
       "    <tr>\n",
       "      <th>1990-01-04</th>\n",
       "      <td>398.80</td>\n",
       "      <td>1.830491</td>\n",
       "      <td>394.50</td>\n",
       "      <td>NaN</td>\n",
       "      <td>NaN</td>\n",
       "      <td>NaN</td>\n",
       "      <td>NaN</td>\n",
       "      <td>NaN</td>\n",
       "      <td>NaN</td>\n",
       "      <td>NaN</td>\n",
       "      <td>...</td>\n",
       "      <td>1.089987</td>\n",
       "      <td>NaN</td>\n",
       "      <td>NaN</td>\n",
       "      <td>NaN</td>\n",
       "      <td>NaN</td>\n",
       "      <td>NaN</td>\n",
       "      <td>NaN</td>\n",
       "      <td>NaN</td>\n",
       "      <td>NaN</td>\n",
       "      <td>NaN</td>\n",
       "    </tr>\n",
       "    <tr>\n",
       "      <th>1990-01-05</th>\n",
       "      <td>406.10</td>\n",
       "      <td>-1.046540</td>\n",
       "      <td>398.80</td>\n",
       "      <td>394.5</td>\n",
       "      <td>NaN</td>\n",
       "      <td>NaN</td>\n",
       "      <td>NaN</td>\n",
       "      <td>NaN</td>\n",
       "      <td>NaN</td>\n",
       "      <td>NaN</td>\n",
       "      <td>...</td>\n",
       "      <td>1.830491</td>\n",
       "      <td>1.089987</td>\n",
       "      <td>NaN</td>\n",
       "      <td>NaN</td>\n",
       "      <td>NaN</td>\n",
       "      <td>NaN</td>\n",
       "      <td>NaN</td>\n",
       "      <td>NaN</td>\n",
       "      <td>NaN</td>\n",
       "      <td>NaN</td>\n",
       "    </tr>\n",
       "    <tr>\n",
       "      <th>1990-01-08</th>\n",
       "      <td>401.85</td>\n",
       "      <td>0.908299</td>\n",
       "      <td>406.10</td>\n",
       "      <td>398.8</td>\n",
       "      <td>394.5</td>\n",
       "      <td>NaN</td>\n",
       "      <td>NaN</td>\n",
       "      <td>NaN</td>\n",
       "      <td>NaN</td>\n",
       "      <td>NaN</td>\n",
       "      <td>...</td>\n",
       "      <td>-1.046540</td>\n",
       "      <td>1.830491</td>\n",
       "      <td>1.089987</td>\n",
       "      <td>NaN</td>\n",
       "      <td>NaN</td>\n",
       "      <td>NaN</td>\n",
       "      <td>NaN</td>\n",
       "      <td>NaN</td>\n",
       "      <td>NaN</td>\n",
       "      <td>NaN</td>\n",
       "    </tr>\n",
       "    <tr>\n",
       "      <th>1990-01-09</th>\n",
       "      <td>405.50</td>\n",
       "      <td>1.405672</td>\n",
       "      <td>401.85</td>\n",
       "      <td>406.1</td>\n",
       "      <td>398.8</td>\n",
       "      <td>394.5</td>\n",
       "      <td>NaN</td>\n",
       "      <td>NaN</td>\n",
       "      <td>NaN</td>\n",
       "      <td>NaN</td>\n",
       "      <td>...</td>\n",
       "      <td>0.908299</td>\n",
       "      <td>-1.046540</td>\n",
       "      <td>1.830491</td>\n",
       "      <td>1.089987</td>\n",
       "      <td>NaN</td>\n",
       "      <td>NaN</td>\n",
       "      <td>NaN</td>\n",
       "      <td>NaN</td>\n",
       "      <td>NaN</td>\n",
       "      <td>NaN</td>\n",
       "    </tr>\n",
       "  </tbody>\n",
       "</table>\n",
       "<p>5 rows × 22 columns</p>\n",
       "</div>"
      ],
      "text/plain": [
       "              gold  gold_change%  gold_lag1  gold_lag2  gold_lag3  gold_lag4  \\\n",
       "date                                                                           \n",
       "1990-01-03  394.50      1.089987        NaN        NaN        NaN        NaN   \n",
       "1990-01-04  398.80      1.830491     394.50        NaN        NaN        NaN   \n",
       "1990-01-05  406.10     -1.046540     398.80      394.5        NaN        NaN   \n",
       "1990-01-08  401.85      0.908299     406.10      398.8      394.5        NaN   \n",
       "1990-01-09  405.50      1.405672     401.85      406.1      398.8      394.5   \n",
       "\n",
       "            gold_lag5  gold_lag6  gold_lag7  gold_lag8  ...  \\\n",
       "date                                                    ...   \n",
       "1990-01-03        NaN        NaN        NaN        NaN  ...   \n",
       "1990-01-04        NaN        NaN        NaN        NaN  ...   \n",
       "1990-01-05        NaN        NaN        NaN        NaN  ...   \n",
       "1990-01-08        NaN        NaN        NaN        NaN  ...   \n",
       "1990-01-09        NaN        NaN        NaN        NaN  ...   \n",
       "\n",
       "            gold_change%_lag1  gold_change%_lag2  gold_change%_lag3  \\\n",
       "date                                                                  \n",
       "1990-01-03                NaN                NaN                NaN   \n",
       "1990-01-04           1.089987                NaN                NaN   \n",
       "1990-01-05           1.830491           1.089987                NaN   \n",
       "1990-01-08          -1.046540           1.830491           1.089987   \n",
       "1990-01-09           0.908299          -1.046540           1.830491   \n",
       "\n",
       "            gold_change%_lag4  gold_change%_lag5  gold_change%_lag6  \\\n",
       "date                                                                  \n",
       "1990-01-03                NaN                NaN                NaN   \n",
       "1990-01-04                NaN                NaN                NaN   \n",
       "1990-01-05                NaN                NaN                NaN   \n",
       "1990-01-08                NaN                NaN                NaN   \n",
       "1990-01-09           1.089987                NaN                NaN   \n",
       "\n",
       "            gold_change%_lag7  gold_change%_lag8  gold_change%_lag9  \\\n",
       "date                                                                  \n",
       "1990-01-03                NaN                NaN                NaN   \n",
       "1990-01-04                NaN                NaN                NaN   \n",
       "1990-01-05                NaN                NaN                NaN   \n",
       "1990-01-08                NaN                NaN                NaN   \n",
       "1990-01-09                NaN                NaN                NaN   \n",
       "\n",
       "            gold_change%_lag10  \n",
       "date                            \n",
       "1990-01-03                 NaN  \n",
       "1990-01-04                 NaN  \n",
       "1990-01-05                 NaN  \n",
       "1990-01-08                 NaN  \n",
       "1990-01-09                 NaN  \n",
       "\n",
       "[5 rows x 22 columns]"
      ]
     },
     "execution_count": 58,
     "metadata": {},
     "output_type": "execute_result"
    }
   ],
   "source": [
    "df_gold.head()"
   ]
  },
  {
   "cell_type": "code",
   "execution_count": 59,
   "metadata": {},
   "outputs": [
    {
     "data": {
      "text/html": [
       "<div>\n",
       "<style scoped>\n",
       "    .dataframe tbody tr th:only-of-type {\n",
       "        vertical-align: middle;\n",
       "    }\n",
       "\n",
       "    .dataframe tbody tr th {\n",
       "        vertical-align: top;\n",
       "    }\n",
       "\n",
       "    .dataframe thead th {\n",
       "        text-align: right;\n",
       "    }\n",
       "</style>\n",
       "<table border=\"1\" class=\"dataframe\">\n",
       "  <thead>\n",
       "    <tr style=\"text-align: right;\">\n",
       "      <th></th>\n",
       "      <th>gold</th>\n",
       "      <th>gold_change%</th>\n",
       "      <th>gold_lag1</th>\n",
       "      <th>gold_lag2</th>\n",
       "      <th>gold_lag3</th>\n",
       "      <th>gold_lag4</th>\n",
       "      <th>gold_lag5</th>\n",
       "      <th>gold_lag6</th>\n",
       "      <th>gold_lag7</th>\n",
       "      <th>gold_lag8</th>\n",
       "      <th>...</th>\n",
       "      <th>gold_change%_lag1</th>\n",
       "      <th>gold_change%_lag2</th>\n",
       "      <th>gold_change%_lag3</th>\n",
       "      <th>gold_change%_lag4</th>\n",
       "      <th>gold_change%_lag5</th>\n",
       "      <th>gold_change%_lag6</th>\n",
       "      <th>gold_change%_lag7</th>\n",
       "      <th>gold_change%_lag8</th>\n",
       "      <th>gold_change%_lag9</th>\n",
       "      <th>gold_change%_lag10</th>\n",
       "    </tr>\n",
       "    <tr>\n",
       "      <th>date</th>\n",
       "      <th></th>\n",
       "      <th></th>\n",
       "      <th></th>\n",
       "      <th></th>\n",
       "      <th></th>\n",
       "      <th></th>\n",
       "      <th></th>\n",
       "      <th></th>\n",
       "      <th></th>\n",
       "      <th></th>\n",
       "      <th></th>\n",
       "      <th></th>\n",
       "      <th></th>\n",
       "      <th></th>\n",
       "      <th></th>\n",
       "      <th></th>\n",
       "      <th></th>\n",
       "      <th></th>\n",
       "      <th></th>\n",
       "      <th></th>\n",
       "      <th></th>\n",
       "    </tr>\n",
       "  </thead>\n",
       "  <tbody>\n",
       "    <tr>\n",
       "      <th>1990-01-03</th>\n",
       "      <td>394.50</td>\n",
       "      <td>1.089987</td>\n",
       "      <td>NaN</td>\n",
       "      <td>NaN</td>\n",
       "      <td>NaN</td>\n",
       "      <td>NaN</td>\n",
       "      <td>NaN</td>\n",
       "      <td>NaN</td>\n",
       "      <td>NaN</td>\n",
       "      <td>NaN</td>\n",
       "      <td>...</td>\n",
       "      <td>NaN</td>\n",
       "      <td>NaN</td>\n",
       "      <td>NaN</td>\n",
       "      <td>NaN</td>\n",
       "      <td>NaN</td>\n",
       "      <td>NaN</td>\n",
       "      <td>NaN</td>\n",
       "      <td>NaN</td>\n",
       "      <td>NaN</td>\n",
       "      <td>NaN</td>\n",
       "    </tr>\n",
       "    <tr>\n",
       "      <th>1990-01-04</th>\n",
       "      <td>398.80</td>\n",
       "      <td>1.830491</td>\n",
       "      <td>394.50</td>\n",
       "      <td>NaN</td>\n",
       "      <td>NaN</td>\n",
       "      <td>NaN</td>\n",
       "      <td>NaN</td>\n",
       "      <td>NaN</td>\n",
       "      <td>NaN</td>\n",
       "      <td>NaN</td>\n",
       "      <td>...</td>\n",
       "      <td>1.089987</td>\n",
       "      <td>NaN</td>\n",
       "      <td>NaN</td>\n",
       "      <td>NaN</td>\n",
       "      <td>NaN</td>\n",
       "      <td>NaN</td>\n",
       "      <td>NaN</td>\n",
       "      <td>NaN</td>\n",
       "      <td>NaN</td>\n",
       "      <td>NaN</td>\n",
       "    </tr>\n",
       "    <tr>\n",
       "      <th>1990-01-05</th>\n",
       "      <td>406.10</td>\n",
       "      <td>-1.046540</td>\n",
       "      <td>398.80</td>\n",
       "      <td>394.5</td>\n",
       "      <td>NaN</td>\n",
       "      <td>NaN</td>\n",
       "      <td>NaN</td>\n",
       "      <td>NaN</td>\n",
       "      <td>NaN</td>\n",
       "      <td>NaN</td>\n",
       "      <td>...</td>\n",
       "      <td>1.830491</td>\n",
       "      <td>1.089987</td>\n",
       "      <td>NaN</td>\n",
       "      <td>NaN</td>\n",
       "      <td>NaN</td>\n",
       "      <td>NaN</td>\n",
       "      <td>NaN</td>\n",
       "      <td>NaN</td>\n",
       "      <td>NaN</td>\n",
       "      <td>NaN</td>\n",
       "    </tr>\n",
       "    <tr>\n",
       "      <th>1990-01-08</th>\n",
       "      <td>401.85</td>\n",
       "      <td>0.908299</td>\n",
       "      <td>406.10</td>\n",
       "      <td>398.8</td>\n",
       "      <td>394.5</td>\n",
       "      <td>NaN</td>\n",
       "      <td>NaN</td>\n",
       "      <td>NaN</td>\n",
       "      <td>NaN</td>\n",
       "      <td>NaN</td>\n",
       "      <td>...</td>\n",
       "      <td>-1.046540</td>\n",
       "      <td>1.830491</td>\n",
       "      <td>1.089987</td>\n",
       "      <td>NaN</td>\n",
       "      <td>NaN</td>\n",
       "      <td>NaN</td>\n",
       "      <td>NaN</td>\n",
       "      <td>NaN</td>\n",
       "      <td>NaN</td>\n",
       "      <td>NaN</td>\n",
       "    </tr>\n",
       "    <tr>\n",
       "      <th>1990-01-09</th>\n",
       "      <td>405.50</td>\n",
       "      <td>1.405672</td>\n",
       "      <td>401.85</td>\n",
       "      <td>406.1</td>\n",
       "      <td>398.8</td>\n",
       "      <td>394.5</td>\n",
       "      <td>NaN</td>\n",
       "      <td>NaN</td>\n",
       "      <td>NaN</td>\n",
       "      <td>NaN</td>\n",
       "      <td>...</td>\n",
       "      <td>0.908299</td>\n",
       "      <td>-1.046540</td>\n",
       "      <td>1.830491</td>\n",
       "      <td>1.089987</td>\n",
       "      <td>NaN</td>\n",
       "      <td>NaN</td>\n",
       "      <td>NaN</td>\n",
       "      <td>NaN</td>\n",
       "      <td>NaN</td>\n",
       "      <td>NaN</td>\n",
       "    </tr>\n",
       "  </tbody>\n",
       "</table>\n",
       "<p>5 rows × 22 columns</p>\n",
       "</div>"
      ],
      "text/plain": [
       "              gold  gold_change%  gold_lag1  gold_lag2  gold_lag3  gold_lag4  \\\n",
       "date                                                                           \n",
       "1990-01-03  394.50      1.089987        NaN        NaN        NaN        NaN   \n",
       "1990-01-04  398.80      1.830491     394.50        NaN        NaN        NaN   \n",
       "1990-01-05  406.10     -1.046540     398.80      394.5        NaN        NaN   \n",
       "1990-01-08  401.85      0.908299     406.10      398.8      394.5        NaN   \n",
       "1990-01-09  405.50      1.405672     401.85      406.1      398.8      394.5   \n",
       "\n",
       "            gold_lag5  gold_lag6  gold_lag7  gold_lag8  ...  \\\n",
       "date                                                    ...   \n",
       "1990-01-03        NaN        NaN        NaN        NaN  ...   \n",
       "1990-01-04        NaN        NaN        NaN        NaN  ...   \n",
       "1990-01-05        NaN        NaN        NaN        NaN  ...   \n",
       "1990-01-08        NaN        NaN        NaN        NaN  ...   \n",
       "1990-01-09        NaN        NaN        NaN        NaN  ...   \n",
       "\n",
       "            gold_change%_lag1  gold_change%_lag2  gold_change%_lag3  \\\n",
       "date                                                                  \n",
       "1990-01-03                NaN                NaN                NaN   \n",
       "1990-01-04           1.089987                NaN                NaN   \n",
       "1990-01-05           1.830491           1.089987                NaN   \n",
       "1990-01-08          -1.046540           1.830491           1.089987   \n",
       "1990-01-09           0.908299          -1.046540           1.830491   \n",
       "\n",
       "            gold_change%_lag4  gold_change%_lag5  gold_change%_lag6  \\\n",
       "date                                                                  \n",
       "1990-01-03                NaN                NaN                NaN   \n",
       "1990-01-04                NaN                NaN                NaN   \n",
       "1990-01-05                NaN                NaN                NaN   \n",
       "1990-01-08                NaN                NaN                NaN   \n",
       "1990-01-09           1.089987                NaN                NaN   \n",
       "\n",
       "            gold_change%_lag7  gold_change%_lag8  gold_change%_lag9  \\\n",
       "date                                                                  \n",
       "1990-01-03                NaN                NaN                NaN   \n",
       "1990-01-04                NaN                NaN                NaN   \n",
       "1990-01-05                NaN                NaN                NaN   \n",
       "1990-01-08                NaN                NaN                NaN   \n",
       "1990-01-09                NaN                NaN                NaN   \n",
       "\n",
       "            gold_change%_lag10  \n",
       "date                            \n",
       "1990-01-03                 NaN  \n",
       "1990-01-04                 NaN  \n",
       "1990-01-05                 NaN  \n",
       "1990-01-08                 NaN  \n",
       "1990-01-09                 NaN  \n",
       "\n",
       "[5 rows x 22 columns]"
      ]
     },
     "execution_count": 59,
     "metadata": {},
     "output_type": "execute_result"
    }
   ],
   "source": [
    "df_gold.head()"
   ]
  },
  {
   "cell_type": "code",
   "execution_count": 60,
   "metadata": {},
   "outputs": [],
   "source": [
    "df_Xy = pd.merge(df_feat, df_gold, how = 'inner', on = ['date'])"
   ]
  },
  {
   "cell_type": "code",
   "execution_count": 61,
   "metadata": {},
   "outputs": [
    {
     "data": {
      "text/html": [
       "<div>\n",
       "<style scoped>\n",
       "    .dataframe tbody tr th:only-of-type {\n",
       "        vertical-align: middle;\n",
       "    }\n",
       "\n",
       "    .dataframe tbody tr th {\n",
       "        vertical-align: top;\n",
       "    }\n",
       "\n",
       "    .dataframe thead th {\n",
       "        text-align: right;\n",
       "    }\n",
       "</style>\n",
       "<table border=\"1\" class=\"dataframe\">\n",
       "  <thead>\n",
       "    <tr style=\"text-align: right;\">\n",
       "      <th></th>\n",
       "      <th>gbp_rate</th>\n",
       "      <th>gbp_rate_change</th>\n",
       "      <th>usd_rate</th>\n",
       "      <th>usd_rate_change</th>\n",
       "      <th>eur_rate</th>\n",
       "      <th>eur_rate_change</th>\n",
       "      <th>aud_rate_change</th>\n",
       "      <th>aud_rate</th>\n",
       "      <th>yen_rate</th>\n",
       "      <th>yen_rate_change</th>\n",
       "      <th>...</th>\n",
       "      <th>gold_change%_lag1</th>\n",
       "      <th>gold_change%_lag2</th>\n",
       "      <th>gold_change%_lag3</th>\n",
       "      <th>gold_change%_lag4</th>\n",
       "      <th>gold_change%_lag5</th>\n",
       "      <th>gold_change%_lag6</th>\n",
       "      <th>gold_change%_lag7</th>\n",
       "      <th>gold_change%_lag8</th>\n",
       "      <th>gold_change%_lag9</th>\n",
       "      <th>gold_change%_lag10</th>\n",
       "    </tr>\n",
       "    <tr>\n",
       "      <th>date</th>\n",
       "      <th></th>\n",
       "      <th></th>\n",
       "      <th></th>\n",
       "      <th></th>\n",
       "      <th></th>\n",
       "      <th></th>\n",
       "      <th></th>\n",
       "      <th></th>\n",
       "      <th></th>\n",
       "      <th></th>\n",
       "      <th></th>\n",
       "      <th></th>\n",
       "      <th></th>\n",
       "      <th></th>\n",
       "      <th></th>\n",
       "      <th></th>\n",
       "      <th></th>\n",
       "      <th></th>\n",
       "      <th></th>\n",
       "      <th></th>\n",
       "      <th></th>\n",
       "    </tr>\n",
       "  </thead>\n",
       "  <tbody>\n",
       "    <tr>\n",
       "      <th>2008-09-05</th>\n",
       "      <td>5</td>\n",
       "      <td>0.0</td>\n",
       "      <td>2.0</td>\n",
       "      <td>0.0</td>\n",
       "      <td>3.25</td>\n",
       "      <td>0.0</td>\n",
       "      <td>0.0</td>\n",
       "      <td>7</td>\n",
       "      <td>0.5</td>\n",
       "      <td>0.0</td>\n",
       "      <td>...</td>\n",
       "      <td>0.102477</td>\n",
       "      <td>-0.226933</td>\n",
       "      <td>-0.711854</td>\n",
       "      <td>-1.122509</td>\n",
       "      <td>-1.605540</td>\n",
       "      <td>-0.097466</td>\n",
       "      <td>0.600412</td>\n",
       "      <td>0.218367</td>\n",
       "      <td>0.428860</td>\n",
       "      <td>-0.803693</td>\n",
       "    </tr>\n",
       "    <tr>\n",
       "      <th>2008-09-08</th>\n",
       "      <td>5</td>\n",
       "      <td>0.0</td>\n",
       "      <td>2.0</td>\n",
       "      <td>0.0</td>\n",
       "      <td>3.25</td>\n",
       "      <td>0.0</td>\n",
       "      <td>0.0</td>\n",
       "      <td>7</td>\n",
       "      <td>0.5</td>\n",
       "      <td>0.0</td>\n",
       "      <td>...</td>\n",
       "      <td>-0.063670</td>\n",
       "      <td>0.102477</td>\n",
       "      <td>-0.226933</td>\n",
       "      <td>-0.711854</td>\n",
       "      <td>-1.122509</td>\n",
       "      <td>-1.605540</td>\n",
       "      <td>-0.097466</td>\n",
       "      <td>0.600412</td>\n",
       "      <td>0.218367</td>\n",
       "      <td>0.428860</td>\n",
       "    </tr>\n",
       "    <tr>\n",
       "      <th>2008-09-09</th>\n",
       "      <td>5</td>\n",
       "      <td>0.0</td>\n",
       "      <td>2.0</td>\n",
       "      <td>0.0</td>\n",
       "      <td>3.25</td>\n",
       "      <td>0.0</td>\n",
       "      <td>0.0</td>\n",
       "      <td>7</td>\n",
       "      <td>0.5</td>\n",
       "      <td>0.0</td>\n",
       "      <td>...</td>\n",
       "      <td>-1.991280</td>\n",
       "      <td>-0.063670</td>\n",
       "      <td>0.102477</td>\n",
       "      <td>-0.226933</td>\n",
       "      <td>-0.711854</td>\n",
       "      <td>-1.122509</td>\n",
       "      <td>-1.605540</td>\n",
       "      <td>-0.097466</td>\n",
       "      <td>0.600412</td>\n",
       "      <td>0.218367</td>\n",
       "    </tr>\n",
       "    <tr>\n",
       "      <th>2008-09-10</th>\n",
       "      <td>5</td>\n",
       "      <td>0.0</td>\n",
       "      <td>2.0</td>\n",
       "      <td>0.0</td>\n",
       "      <td>3.25</td>\n",
       "      <td>0.0</td>\n",
       "      <td>0.0</td>\n",
       "      <td>7</td>\n",
       "      <td>0.5</td>\n",
       "      <td>0.0</td>\n",
       "      <td>...</td>\n",
       "      <td>-2.976228</td>\n",
       "      <td>-1.991280</td>\n",
       "      <td>-0.063670</td>\n",
       "      <td>0.102477</td>\n",
       "      <td>-0.226933</td>\n",
       "      <td>-0.711854</td>\n",
       "      <td>-1.122509</td>\n",
       "      <td>-1.605540</td>\n",
       "      <td>-0.097466</td>\n",
       "      <td>0.600412</td>\n",
       "    </tr>\n",
       "    <tr>\n",
       "      <th>2008-09-11</th>\n",
       "      <td>5</td>\n",
       "      <td>0.0</td>\n",
       "      <td>2.0</td>\n",
       "      <td>0.0</td>\n",
       "      <td>3.25</td>\n",
       "      <td>0.0</td>\n",
       "      <td>0.0</td>\n",
       "      <td>7</td>\n",
       "      <td>0.5</td>\n",
       "      <td>0.0</td>\n",
       "      <td>...</td>\n",
       "      <td>-2.146611</td>\n",
       "      <td>-2.976228</td>\n",
       "      <td>-1.991280</td>\n",
       "      <td>-0.063670</td>\n",
       "      <td>0.102477</td>\n",
       "      <td>-0.226933</td>\n",
       "      <td>-0.711854</td>\n",
       "      <td>-1.122509</td>\n",
       "      <td>-1.605540</td>\n",
       "      <td>-0.097466</td>\n",
       "    </tr>\n",
       "  </tbody>\n",
       "</table>\n",
       "<p>5 rows × 242 columns</p>\n",
       "</div>"
      ],
      "text/plain": [
       "           gbp_rate  gbp_rate_change  usd_rate  usd_rate_change eur_rate  \\\n",
       "date                                                                       \n",
       "2008-09-05        5              0.0       2.0              0.0     3.25   \n",
       "2008-09-08        5              0.0       2.0              0.0     3.25   \n",
       "2008-09-09        5              0.0       2.0              0.0     3.25   \n",
       "2008-09-10        5              0.0       2.0              0.0     3.25   \n",
       "2008-09-11        5              0.0       2.0              0.0     3.25   \n",
       "\n",
       "            eur_rate_change  aud_rate_change aud_rate yen_rate  \\\n",
       "date                                                             \n",
       "2008-09-05              0.0              0.0        7      0.5   \n",
       "2008-09-08              0.0              0.0        7      0.5   \n",
       "2008-09-09              0.0              0.0        7      0.5   \n",
       "2008-09-10              0.0              0.0        7      0.5   \n",
       "2008-09-11              0.0              0.0        7      0.5   \n",
       "\n",
       "            yen_rate_change  ... gold_change%_lag1 gold_change%_lag2  \\\n",
       "date                         ...                                       \n",
       "2008-09-05              0.0  ...          0.102477         -0.226933   \n",
       "2008-09-08              0.0  ...         -0.063670          0.102477   \n",
       "2008-09-09              0.0  ...         -1.991280         -0.063670   \n",
       "2008-09-10              0.0  ...         -2.976228         -1.991280   \n",
       "2008-09-11              0.0  ...         -2.146611         -2.976228   \n",
       "\n",
       "           gold_change%_lag3 gold_change%_lag4 gold_change%_lag5  \\\n",
       "date                                                               \n",
       "2008-09-05         -0.711854         -1.122509         -1.605540   \n",
       "2008-09-08         -0.226933         -0.711854         -1.122509   \n",
       "2008-09-09          0.102477         -0.226933         -0.711854   \n",
       "2008-09-10         -0.063670          0.102477         -0.226933   \n",
       "2008-09-11         -1.991280         -0.063670          0.102477   \n",
       "\n",
       "           gold_change%_lag6 gold_change%_lag7 gold_change%_lag8  \\\n",
       "date                                                               \n",
       "2008-09-05         -0.097466          0.600412          0.218367   \n",
       "2008-09-08         -1.605540         -0.097466          0.600412   \n",
       "2008-09-09         -1.122509         -1.605540         -0.097466   \n",
       "2008-09-10         -0.711854         -1.122509         -1.605540   \n",
       "2008-09-11         -0.226933         -0.711854         -1.122509   \n",
       "\n",
       "           gold_change%_lag9 gold_change%_lag10  \n",
       "date                                             \n",
       "2008-09-05          0.428860          -0.803693  \n",
       "2008-09-08          0.218367           0.428860  \n",
       "2008-09-09          0.600412           0.218367  \n",
       "2008-09-10         -0.097466           0.600412  \n",
       "2008-09-11         -1.605540          -0.097466  \n",
       "\n",
       "[5 rows x 242 columns]"
      ]
     },
     "execution_count": 61,
     "metadata": {},
     "output_type": "execute_result"
    }
   ],
   "source": [
    "df_Xy.head()"
   ]
  },
  {
   "cell_type": "code",
   "execution_count": 62,
   "metadata": {},
   "outputs": [
    {
     "name": "stdout",
     "output_type": "stream",
     "text": [
      "<class 'pandas.core.frame.DataFrame'>\n",
      "DatetimeIndex: 3032 entries, 2008-09-05 to 2020-05-27\n",
      "Columns: 242 entries, gbp_rate to gold_change%_lag10\n",
      "dtypes: float64(138), object(104)\n",
      "memory usage: 5.6+ MB\n"
     ]
    }
   ],
   "source": [
    "df_Xy.info()"
   ]
  },
  {
   "cell_type": "code",
   "execution_count": 63,
   "metadata": {},
   "outputs": [
    {
     "name": "stdout",
     "output_type": "stream",
     "text": [
      "Stored 'df_Xy' (DataFrame)\n"
     ]
    }
   ],
   "source": [
    "%store df_Xy"
   ]
  },
  {
   "cell_type": "code",
   "execution_count": null,
   "metadata": {},
   "outputs": [],
   "source": []
  },
  {
   "cell_type": "code",
   "execution_count": null,
   "metadata": {},
   "outputs": [],
   "source": []
  }
 ],
 "metadata": {
  "kernelspec": {
   "display_name": "Python 3",
   "language": "python",
   "name": "python3"
  },
  "language_info": {
   "codemirror_mode": {
    "name": "ipython",
    "version": 3
   },
   "file_extension": ".py",
   "mimetype": "text/x-python",
   "name": "python",
   "nbconvert_exporter": "python",
   "pygments_lexer": "ipython3",
   "version": "3.7.7"
  }
 },
 "nbformat": 4,
 "nbformat_minor": 4
}
