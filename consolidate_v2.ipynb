{
 "cells": [
  {
   "cell_type": "code",
   "execution_count": 1,
   "metadata": {},
   "outputs": [],
   "source": [
    "import pandas as pd\n",
    "import numpy as np\n",
    "import scipy.stats as stats\n",
    "\n",
    "%matplotlib inline\n",
    "import matplotlib.pyplot as plt\n",
    "plt.style.use('ggplot')"
   ]
  },
  {
   "cell_type": "markdown",
   "metadata": {},
   "source": [
    "# We are investigating the predictivity of central bank policy rates and stock market indices as they relate to the price of gold. "
   ]
  },
  {
   "cell_type": "markdown",
   "metadata": {},
   "source": [
    "## Consolidate Central Bank Rates"
   ]
  },
  {
   "cell_type": "code",
   "execution_count": 2,
   "metadata": {},
   "outputs": [],
   "source": [
    "# Start by consolidating central bank rate data\n",
    "\n",
    "%store -r df_aud\n",
    "%store -r df_eur\n",
    "%store -r df_gbp\n",
    "%store -r df_usd\n",
    "%store -r df_yen"
   ]
  },
  {
   "cell_type": "code",
   "execution_count": 3,
   "metadata": {},
   "outputs": [
    {
     "data": {
      "text/plain": [
       "Timestamp('1990-01-23 00:00:00')"
      ]
     },
     "execution_count": 3,
     "metadata": {},
     "output_type": "execute_result"
    }
   ],
   "source": [
    "df_aud['date'].min()"
   ]
  },
  {
   "cell_type": "code",
   "execution_count": 4,
   "metadata": {},
   "outputs": [
    {
     "data": {
      "text/plain": [
       "Timestamp('1999-01-01 00:00:00')"
      ]
     },
     "execution_count": 4,
     "metadata": {},
     "output_type": "execute_result"
    }
   ],
   "source": [
    "df_eur['date'].min()"
   ]
  },
  {
   "cell_type": "code",
   "execution_count": 5,
   "metadata": {},
   "outputs": [
    {
     "data": {
      "text/plain": [
       "Timestamp('1975-01-20 00:00:00')"
      ]
     },
     "execution_count": 5,
     "metadata": {},
     "output_type": "execute_result"
    }
   ],
   "source": [
    "df_gbp['date'].min()"
   ]
  },
  {
   "cell_type": "code",
   "execution_count": 6,
   "metadata": {},
   "outputs": [
    {
     "data": {
      "text/plain": [
       "Timestamp('1990-01-01 00:00:00')"
      ]
     },
     "execution_count": 6,
     "metadata": {},
     "output_type": "execute_result"
    }
   ],
   "source": [
    "df_usd['date'].min()"
   ]
  },
  {
   "cell_type": "code",
   "execution_count": 7,
   "metadata": {},
   "outputs": [
    {
     "data": {
      "text/plain": [
       "Timestamp('2000-01-01 00:00:00')"
      ]
     },
     "execution_count": 7,
     "metadata": {},
     "output_type": "execute_result"
    }
   ],
   "source": [
    "df_yen['date'].min()"
   ]
  },
  {
   "cell_type": "code",
   "execution_count": 8,
   "metadata": {},
   "outputs": [],
   "source": [
    "# loop through all dataframes and merge via outer join, ensuring the df with the most non-null dates is the left object\n",
    "df_rates = pd.merge(df_gbp, df_usd, how = 'outer', on = ['date'])\n",
    "df_rates = pd.merge(df_rates, df_eur, how = 'outer', on = ['date'])\n",
    "df_rates = pd.merge(df_rates, df_aud, how = 'outer', on = ['date'])\n",
    "df_rates = pd.merge(df_rates, df_yen, how = 'outer', on = ['date'])"
   ]
  },
  {
   "cell_type": "code",
   "execution_count": 9,
   "metadata": {},
   "outputs": [
    {
     "name": "stdout",
     "output_type": "stream",
     "text": [
      "<class 'pandas.core.frame.DataFrame'>\n",
      "Int64Index: 11273 entries, 0 to 11272\n",
      "Data columns (total 15 columns):\n",
      " #   Column           Non-Null Count  Dtype         \n",
      "---  ------           --------------  -----         \n",
      " 0   date             11273 non-null  datetime64[ns]\n",
      " 1   gbp_rate         238 non-null    float64       \n",
      " 2   gbp_rate_lag1    237 non-null    float64       \n",
      " 3   gbp_rate_change  237 non-null    float64       \n",
      " 4   usd_rate         11109 non-null  float64       \n",
      " 5   usd_rate_lag1    11108 non-null  float64       \n",
      " 6   usd_rate_change  11108 non-null  float64       \n",
      " 7   eur_rate         49 non-null     float64       \n",
      " 8   eur_rate_lag1    48 non-null     float64       \n",
      " 9   eur_rate_change  48 non-null     float64       \n",
      " 10  aud_rate_change  340 non-null    object        \n",
      " 11  AUD_rate_tgt%    340 non-null    float64       \n",
      " 12  yen_rate         3839 non-null   float64       \n",
      " 13  yen_rate_lag1    3838 non-null   float64       \n",
      " 14  yen_rate_change  3682 non-null   float64       \n",
      "dtypes: datetime64[ns](1), float64(13), object(1)\n",
      "memory usage: 1.4+ MB\n"
     ]
    }
   ],
   "source": [
    "df_rates.info()"
   ]
  },
  {
   "cell_type": "code",
   "execution_count": 10,
   "metadata": {},
   "outputs": [],
   "source": [
    "df_rates.rename(columns = {'AUD_rate_tgt%': 'aud_rate'}, inplace = True)"
   ]
  },
  {
   "cell_type": "code",
   "execution_count": 11,
   "metadata": {},
   "outputs": [],
   "source": [
    "to_drop = []\n",
    "for col in df_rates.columns:\n",
    "    if 'lag' in col:\n",
    "        to_drop.append(col)"
   ]
  },
  {
   "cell_type": "code",
   "execution_count": 12,
   "metadata": {},
   "outputs": [],
   "source": [
    "df_rates.drop(columns = to_drop, inplace = True)"
   ]
  },
  {
   "cell_type": "code",
   "execution_count": 13,
   "metadata": {},
   "outputs": [
    {
     "name": "stdout",
     "output_type": "stream",
     "text": [
      "<class 'pandas.core.frame.DataFrame'>\n",
      "Int64Index: 11273 entries, 0 to 11272\n",
      "Data columns (total 11 columns):\n",
      " #   Column           Non-Null Count  Dtype         \n",
      "---  ------           --------------  -----         \n",
      " 0   date             11273 non-null  datetime64[ns]\n",
      " 1   gbp_rate         238 non-null    float64       \n",
      " 2   gbp_rate_change  237 non-null    float64       \n",
      " 3   usd_rate         11109 non-null  float64       \n",
      " 4   usd_rate_change  11108 non-null  float64       \n",
      " 5   eur_rate         49 non-null     float64       \n",
      " 6   eur_rate_change  48 non-null     float64       \n",
      " 7   aud_rate_change  340 non-null    object        \n",
      " 8   aud_rate         340 non-null    float64       \n",
      " 9   yen_rate         3839 non-null   float64       \n",
      " 10  yen_rate_change  3682 non-null   float64       \n",
      "dtypes: datetime64[ns](1), float64(9), object(1)\n",
      "memory usage: 1.0+ MB\n"
     ]
    }
   ],
   "source": [
    "df_rates.info()"
   ]
  },
  {
   "cell_type": "code",
   "execution_count": 14,
   "metadata": {},
   "outputs": [],
   "source": [
    "df_rates = df_rates.sort_values(by = ['date'])"
   ]
  },
  {
   "cell_type": "code",
   "execution_count": 15,
   "metadata": {},
   "outputs": [],
   "source": [
    "df_rates = df_rates.set_index('date')"
   ]
  },
  {
   "cell_type": "code",
   "execution_count": 16,
   "metadata": {},
   "outputs": [
    {
     "data": {
      "text/html": [
       "<div>\n",
       "<style scoped>\n",
       "    .dataframe tbody tr th:only-of-type {\n",
       "        vertical-align: middle;\n",
       "    }\n",
       "\n",
       "    .dataframe tbody tr th {\n",
       "        vertical-align: top;\n",
       "    }\n",
       "\n",
       "    .dataframe thead th {\n",
       "        text-align: right;\n",
       "    }\n",
       "</style>\n",
       "<table border=\"1\" class=\"dataframe\">\n",
       "  <thead>\n",
       "    <tr style=\"text-align: right;\">\n",
       "      <th></th>\n",
       "      <th>gbp_rate</th>\n",
       "      <th>gbp_rate_change</th>\n",
       "      <th>usd_rate</th>\n",
       "      <th>usd_rate_change</th>\n",
       "      <th>eur_rate</th>\n",
       "      <th>eur_rate_change</th>\n",
       "      <th>aud_rate_change</th>\n",
       "      <th>aud_rate</th>\n",
       "      <th>yen_rate</th>\n",
       "      <th>yen_rate_change</th>\n",
       "    </tr>\n",
       "    <tr>\n",
       "      <th>date</th>\n",
       "      <th></th>\n",
       "      <th></th>\n",
       "      <th></th>\n",
       "      <th></th>\n",
       "      <th></th>\n",
       "      <th></th>\n",
       "      <th></th>\n",
       "      <th></th>\n",
       "      <th></th>\n",
       "      <th></th>\n",
       "    </tr>\n",
       "  </thead>\n",
       "  <tbody>\n",
       "    <tr>\n",
       "      <th>1975-01-20</th>\n",
       "      <td>11.25</td>\n",
       "      <td>-0.25</td>\n",
       "      <td>NaN</td>\n",
       "      <td>NaN</td>\n",
       "      <td>NaN</td>\n",
       "      <td>NaN</td>\n",
       "      <td>NaN</td>\n",
       "      <td>NaN</td>\n",
       "      <td>NaN</td>\n",
       "      <td>NaN</td>\n",
       "    </tr>\n",
       "    <tr>\n",
       "      <th>1975-01-27</th>\n",
       "      <td>11.00</td>\n",
       "      <td>-0.25</td>\n",
       "      <td>NaN</td>\n",
       "      <td>NaN</td>\n",
       "      <td>NaN</td>\n",
       "      <td>NaN</td>\n",
       "      <td>NaN</td>\n",
       "      <td>NaN</td>\n",
       "      <td>NaN</td>\n",
       "      <td>NaN</td>\n",
       "    </tr>\n",
       "    <tr>\n",
       "      <th>1975-02-10</th>\n",
       "      <td>10.75</td>\n",
       "      <td>-0.25</td>\n",
       "      <td>NaN</td>\n",
       "      <td>NaN</td>\n",
       "      <td>NaN</td>\n",
       "      <td>NaN</td>\n",
       "      <td>NaN</td>\n",
       "      <td>NaN</td>\n",
       "      <td>NaN</td>\n",
       "      <td>NaN</td>\n",
       "    </tr>\n",
       "    <tr>\n",
       "      <th>1975-02-17</th>\n",
       "      <td>10.50</td>\n",
       "      <td>-0.25</td>\n",
       "      <td>NaN</td>\n",
       "      <td>NaN</td>\n",
       "      <td>NaN</td>\n",
       "      <td>NaN</td>\n",
       "      <td>NaN</td>\n",
       "      <td>NaN</td>\n",
       "      <td>NaN</td>\n",
       "      <td>NaN</td>\n",
       "    </tr>\n",
       "    <tr>\n",
       "      <th>1975-03-10</th>\n",
       "      <td>10.25</td>\n",
       "      <td>-0.25</td>\n",
       "      <td>NaN</td>\n",
       "      <td>NaN</td>\n",
       "      <td>NaN</td>\n",
       "      <td>NaN</td>\n",
       "      <td>NaN</td>\n",
       "      <td>NaN</td>\n",
       "      <td>NaN</td>\n",
       "      <td>NaN</td>\n",
       "    </tr>\n",
       "  </tbody>\n",
       "</table>\n",
       "</div>"
      ],
      "text/plain": [
       "            gbp_rate  gbp_rate_change  usd_rate  usd_rate_change  eur_rate  \\\n",
       "date                                                                         \n",
       "1975-01-20     11.25            -0.25       NaN              NaN       NaN   \n",
       "1975-01-27     11.00            -0.25       NaN              NaN       NaN   \n",
       "1975-02-10     10.75            -0.25       NaN              NaN       NaN   \n",
       "1975-02-17     10.50            -0.25       NaN              NaN       NaN   \n",
       "1975-03-10     10.25            -0.25       NaN              NaN       NaN   \n",
       "\n",
       "            eur_rate_change aud_rate_change  aud_rate  yen_rate  \\\n",
       "date                                                              \n",
       "1975-01-20              NaN             NaN       NaN       NaN   \n",
       "1975-01-27              NaN             NaN       NaN       NaN   \n",
       "1975-02-10              NaN             NaN       NaN       NaN   \n",
       "1975-02-17              NaN             NaN       NaN       NaN   \n",
       "1975-03-10              NaN             NaN       NaN       NaN   \n",
       "\n",
       "            yen_rate_change  \n",
       "date                         \n",
       "1975-01-20              NaN  \n",
       "1975-01-27              NaN  \n",
       "1975-02-10              NaN  \n",
       "1975-02-17              NaN  \n",
       "1975-03-10              NaN  "
      ]
     },
     "execution_count": 16,
     "metadata": {},
     "output_type": "execute_result"
    }
   ],
   "source": [
    "df_rates.head()"
   ]
  },
  {
   "cell_type": "code",
   "execution_count": 17,
   "metadata": {},
   "outputs": [],
   "source": [
    "# add up to 10 day lag for all rates\n",
    "\n",
    "for col in df_rates.columns:\n",
    "    for i in range(1,11):\n",
    "        df_rates[f'{col}_lag{i}'] = df_rates[col].shift(i)"
   ]
  },
  {
   "cell_type": "code",
   "execution_count": 18,
   "metadata": {},
   "outputs": [
    {
     "name": "stdout",
     "output_type": "stream",
     "text": [
      "<class 'pandas.core.frame.DataFrame'>\n",
      "DatetimeIndex: 11273 entries, 1975-01-20 to 2020-05-31\n",
      "Columns: 110 entries, gbp_rate to yen_rate_change_lag10\n",
      "dtypes: float64(99), object(11)\n",
      "memory usage: 9.5+ MB\n"
     ]
    }
   ],
   "source": [
    "df_rates.info()"
   ]
  },
  {
   "cell_type": "code",
   "execution_count": 19,
   "metadata": {},
   "outputs": [],
   "source": [
    "for col in df_rates.columns:\n",
    "    df_rates[col] = df_rates[col].astype('float')"
   ]
  },
  {
   "cell_type": "code",
   "execution_count": 20,
   "metadata": {},
   "outputs": [
    {
     "name": "stdout",
     "output_type": "stream",
     "text": [
      "<class 'pandas.core.frame.DataFrame'>\n",
      "DatetimeIndex: 11273 entries, 1975-01-20 to 2020-05-31\n",
      "Columns: 110 entries, gbp_rate to yen_rate_change_lag10\n",
      "dtypes: float64(110)\n",
      "memory usage: 9.5 MB\n"
     ]
    }
   ],
   "source": [
    "df_rates.info()"
   ]
  },
  {
   "cell_type": "code",
   "execution_count": 21,
   "metadata": {},
   "outputs": [
    {
     "data": {
      "text/html": [
       "<div>\n",
       "<style scoped>\n",
       "    .dataframe tbody tr th:only-of-type {\n",
       "        vertical-align: middle;\n",
       "    }\n",
       "\n",
       "    .dataframe tbody tr th {\n",
       "        vertical-align: top;\n",
       "    }\n",
       "\n",
       "    .dataframe thead th {\n",
       "        text-align: right;\n",
       "    }\n",
       "</style>\n",
       "<table border=\"1\" class=\"dataframe\">\n",
       "  <thead>\n",
       "    <tr style=\"text-align: right;\">\n",
       "      <th></th>\n",
       "      <th>gbp_rate</th>\n",
       "      <th>gbp_rate_change</th>\n",
       "      <th>usd_rate</th>\n",
       "      <th>usd_rate_change</th>\n",
       "      <th>eur_rate</th>\n",
       "      <th>eur_rate_change</th>\n",
       "      <th>aud_rate_change</th>\n",
       "      <th>aud_rate</th>\n",
       "      <th>yen_rate</th>\n",
       "      <th>yen_rate_change</th>\n",
       "      <th>...</th>\n",
       "      <th>yen_rate_change_lag1</th>\n",
       "      <th>yen_rate_change_lag2</th>\n",
       "      <th>yen_rate_change_lag3</th>\n",
       "      <th>yen_rate_change_lag4</th>\n",
       "      <th>yen_rate_change_lag5</th>\n",
       "      <th>yen_rate_change_lag6</th>\n",
       "      <th>yen_rate_change_lag7</th>\n",
       "      <th>yen_rate_change_lag8</th>\n",
       "      <th>yen_rate_change_lag9</th>\n",
       "      <th>yen_rate_change_lag10</th>\n",
       "    </tr>\n",
       "    <tr>\n",
       "      <th>date</th>\n",
       "      <th></th>\n",
       "      <th></th>\n",
       "      <th></th>\n",
       "      <th></th>\n",
       "      <th></th>\n",
       "      <th></th>\n",
       "      <th></th>\n",
       "      <th></th>\n",
       "      <th></th>\n",
       "      <th></th>\n",
       "      <th></th>\n",
       "      <th></th>\n",
       "      <th></th>\n",
       "      <th></th>\n",
       "      <th></th>\n",
       "      <th></th>\n",
       "      <th></th>\n",
       "      <th></th>\n",
       "      <th></th>\n",
       "      <th></th>\n",
       "      <th></th>\n",
       "    </tr>\n",
       "  </thead>\n",
       "  <tbody>\n",
       "    <tr>\n",
       "      <th>1975-01-20</th>\n",
       "      <td>11.25</td>\n",
       "      <td>-0.25</td>\n",
       "      <td>NaN</td>\n",
       "      <td>NaN</td>\n",
       "      <td>NaN</td>\n",
       "      <td>NaN</td>\n",
       "      <td>NaN</td>\n",
       "      <td>NaN</td>\n",
       "      <td>NaN</td>\n",
       "      <td>NaN</td>\n",
       "      <td>...</td>\n",
       "      <td>NaN</td>\n",
       "      <td>NaN</td>\n",
       "      <td>NaN</td>\n",
       "      <td>NaN</td>\n",
       "      <td>NaN</td>\n",
       "      <td>NaN</td>\n",
       "      <td>NaN</td>\n",
       "      <td>NaN</td>\n",
       "      <td>NaN</td>\n",
       "      <td>NaN</td>\n",
       "    </tr>\n",
       "    <tr>\n",
       "      <th>1975-01-27</th>\n",
       "      <td>11.00</td>\n",
       "      <td>-0.25</td>\n",
       "      <td>NaN</td>\n",
       "      <td>NaN</td>\n",
       "      <td>NaN</td>\n",
       "      <td>NaN</td>\n",
       "      <td>NaN</td>\n",
       "      <td>NaN</td>\n",
       "      <td>NaN</td>\n",
       "      <td>NaN</td>\n",
       "      <td>...</td>\n",
       "      <td>NaN</td>\n",
       "      <td>NaN</td>\n",
       "      <td>NaN</td>\n",
       "      <td>NaN</td>\n",
       "      <td>NaN</td>\n",
       "      <td>NaN</td>\n",
       "      <td>NaN</td>\n",
       "      <td>NaN</td>\n",
       "      <td>NaN</td>\n",
       "      <td>NaN</td>\n",
       "    </tr>\n",
       "    <tr>\n",
       "      <th>1975-02-10</th>\n",
       "      <td>10.75</td>\n",
       "      <td>-0.25</td>\n",
       "      <td>NaN</td>\n",
       "      <td>NaN</td>\n",
       "      <td>NaN</td>\n",
       "      <td>NaN</td>\n",
       "      <td>NaN</td>\n",
       "      <td>NaN</td>\n",
       "      <td>NaN</td>\n",
       "      <td>NaN</td>\n",
       "      <td>...</td>\n",
       "      <td>NaN</td>\n",
       "      <td>NaN</td>\n",
       "      <td>NaN</td>\n",
       "      <td>NaN</td>\n",
       "      <td>NaN</td>\n",
       "      <td>NaN</td>\n",
       "      <td>NaN</td>\n",
       "      <td>NaN</td>\n",
       "      <td>NaN</td>\n",
       "      <td>NaN</td>\n",
       "    </tr>\n",
       "    <tr>\n",
       "      <th>1975-02-17</th>\n",
       "      <td>10.50</td>\n",
       "      <td>-0.25</td>\n",
       "      <td>NaN</td>\n",
       "      <td>NaN</td>\n",
       "      <td>NaN</td>\n",
       "      <td>NaN</td>\n",
       "      <td>NaN</td>\n",
       "      <td>NaN</td>\n",
       "      <td>NaN</td>\n",
       "      <td>NaN</td>\n",
       "      <td>...</td>\n",
       "      <td>NaN</td>\n",
       "      <td>NaN</td>\n",
       "      <td>NaN</td>\n",
       "      <td>NaN</td>\n",
       "      <td>NaN</td>\n",
       "      <td>NaN</td>\n",
       "      <td>NaN</td>\n",
       "      <td>NaN</td>\n",
       "      <td>NaN</td>\n",
       "      <td>NaN</td>\n",
       "    </tr>\n",
       "    <tr>\n",
       "      <th>1975-03-10</th>\n",
       "      <td>10.25</td>\n",
       "      <td>-0.25</td>\n",
       "      <td>NaN</td>\n",
       "      <td>NaN</td>\n",
       "      <td>NaN</td>\n",
       "      <td>NaN</td>\n",
       "      <td>NaN</td>\n",
       "      <td>NaN</td>\n",
       "      <td>NaN</td>\n",
       "      <td>NaN</td>\n",
       "      <td>...</td>\n",
       "      <td>NaN</td>\n",
       "      <td>NaN</td>\n",
       "      <td>NaN</td>\n",
       "      <td>NaN</td>\n",
       "      <td>NaN</td>\n",
       "      <td>NaN</td>\n",
       "      <td>NaN</td>\n",
       "      <td>NaN</td>\n",
       "      <td>NaN</td>\n",
       "      <td>NaN</td>\n",
       "    </tr>\n",
       "  </tbody>\n",
       "</table>\n",
       "<p>5 rows × 110 columns</p>\n",
       "</div>"
      ],
      "text/plain": [
       "            gbp_rate  gbp_rate_change  usd_rate  usd_rate_change  eur_rate  \\\n",
       "date                                                                         \n",
       "1975-01-20     11.25            -0.25       NaN              NaN       NaN   \n",
       "1975-01-27     11.00            -0.25       NaN              NaN       NaN   \n",
       "1975-02-10     10.75            -0.25       NaN              NaN       NaN   \n",
       "1975-02-17     10.50            -0.25       NaN              NaN       NaN   \n",
       "1975-03-10     10.25            -0.25       NaN              NaN       NaN   \n",
       "\n",
       "            eur_rate_change  aud_rate_change  aud_rate  yen_rate  \\\n",
       "date                                                               \n",
       "1975-01-20              NaN              NaN       NaN       NaN   \n",
       "1975-01-27              NaN              NaN       NaN       NaN   \n",
       "1975-02-10              NaN              NaN       NaN       NaN   \n",
       "1975-02-17              NaN              NaN       NaN       NaN   \n",
       "1975-03-10              NaN              NaN       NaN       NaN   \n",
       "\n",
       "            yen_rate_change  ...  yen_rate_change_lag1  yen_rate_change_lag2  \\\n",
       "date                         ...                                               \n",
       "1975-01-20              NaN  ...                   NaN                   NaN   \n",
       "1975-01-27              NaN  ...                   NaN                   NaN   \n",
       "1975-02-10              NaN  ...                   NaN                   NaN   \n",
       "1975-02-17              NaN  ...                   NaN                   NaN   \n",
       "1975-03-10              NaN  ...                   NaN                   NaN   \n",
       "\n",
       "            yen_rate_change_lag3  yen_rate_change_lag4  yen_rate_change_lag5  \\\n",
       "date                                                                           \n",
       "1975-01-20                   NaN                   NaN                   NaN   \n",
       "1975-01-27                   NaN                   NaN                   NaN   \n",
       "1975-02-10                   NaN                   NaN                   NaN   \n",
       "1975-02-17                   NaN                   NaN                   NaN   \n",
       "1975-03-10                   NaN                   NaN                   NaN   \n",
       "\n",
       "            yen_rate_change_lag6  yen_rate_change_lag7  yen_rate_change_lag8  \\\n",
       "date                                                                           \n",
       "1975-01-20                   NaN                   NaN                   NaN   \n",
       "1975-01-27                   NaN                   NaN                   NaN   \n",
       "1975-02-10                   NaN                   NaN                   NaN   \n",
       "1975-02-17                   NaN                   NaN                   NaN   \n",
       "1975-03-10                   NaN                   NaN                   NaN   \n",
       "\n",
       "            yen_rate_change_lag9  yen_rate_change_lag10  \n",
       "date                                                     \n",
       "1975-01-20                   NaN                    NaN  \n",
       "1975-01-27                   NaN                    NaN  \n",
       "1975-02-10                   NaN                    NaN  \n",
       "1975-02-17                   NaN                    NaN  \n",
       "1975-03-10                   NaN                    NaN  \n",
       "\n",
       "[5 rows x 110 columns]"
      ]
     },
     "execution_count": 21,
     "metadata": {},
     "output_type": "execute_result"
    }
   ],
   "source": [
    "df_rates.head()"
   ]
  },
  {
   "cell_type": "code",
   "execution_count": 23,
   "metadata": {},
   "outputs": [],
   "source": [
    "# address NaN values\n",
    "\n",
    "d_non_NaN = dict()\n",
    "for col in df_rates.columns:\n",
    "    \n",
    "    # we can simply fill NaNs in the 'change' columns with zeros, to represent no change\n",
    "    if 'change' in col:\n",
    "        df_rates[col].fillna(0, inplace = True)\n",
    "        \n",
    "    # otherwise, we'll need to fill NaNs with the most recent non-NaN value\n",
    "    else:\n",
    "        \n",
    "        for idx,val in enumerate(df_rates[col]):\n",
    "            if pd.isnull(val) == False:\n",
    "                d_non_NaN[col] = idx\n",
    "                break\n",
    "                \n",
    "            else:\n",
    "                continue\n",
    "        \n",
    "        lst = []\n",
    "        d = dict()\n",
    "        for i in df_rates[col][d_non_NaN[col]:]:\n",
    "            if pd.isnull(i) == False:\n",
    "                d['last'] = i\n",
    "            else:\n",
    "                i = d['last']\n",
    "            \n",
    "            lst.append(i)\n",
    "            \n",
    "        df_rates[col][d_non_NaN[col]:] = lst\n",
    "            \n",
    "        \n",
    "        \n",
    "        "
   ]
  },
  {
   "cell_type": "code",
   "execution_count": 24,
   "metadata": {},
   "outputs": [
    {
     "name": "stdout",
     "output_type": "stream",
     "text": [
      "{'gbp_rate': 0, 'usd_rate': 164, 'eur_rate': 3451, 'aud_rate': 186, 'yen_rate': 4039, 'gbp_rate_lag1': 1, 'gbp_rate_lag2': 2, 'gbp_rate_lag3': 3, 'gbp_rate_lag4': 4, 'gbp_rate_lag5': 5, 'gbp_rate_lag6': 6, 'gbp_rate_lag7': 7, 'gbp_rate_lag8': 8, 'gbp_rate_lag9': 9, 'gbp_rate_lag10': 10, 'usd_rate_lag1': 165, 'usd_rate_lag2': 166, 'usd_rate_lag3': 167, 'usd_rate_lag4': 168, 'usd_rate_lag5': 169, 'usd_rate_lag6': 170, 'usd_rate_lag7': 171, 'usd_rate_lag8': 172, 'usd_rate_lag9': 173, 'usd_rate_lag10': 174, 'eur_rate_lag1': 3452, 'eur_rate_lag2': 3453, 'eur_rate_lag3': 3454, 'eur_rate_lag4': 3455, 'eur_rate_lag5': 3456, 'eur_rate_lag6': 3457, 'eur_rate_lag7': 3458, 'eur_rate_lag8': 3459, 'eur_rate_lag9': 3460, 'eur_rate_lag10': 3461, 'aud_rate_lag1': 187, 'aud_rate_lag2': 188, 'aud_rate_lag3': 189, 'aud_rate_lag4': 190, 'aud_rate_lag5': 191, 'aud_rate_lag6': 192, 'aud_rate_lag7': 193, 'aud_rate_lag8': 194, 'aud_rate_lag9': 195, 'aud_rate_lag10': 196, 'yen_rate_lag1': 4040, 'yen_rate_lag2': 4041, 'yen_rate_lag3': 4042, 'yen_rate_lag4': 4043, 'yen_rate_lag5': 4044, 'yen_rate_lag6': 4045, 'yen_rate_lag7': 4046, 'yen_rate_lag8': 4047, 'yen_rate_lag9': 4048, 'yen_rate_lag10': 4049}\n"
     ]
    }
   ],
   "source": [
    "print(d_non_NaN)"
   ]
  },
  {
   "cell_type": "code",
   "execution_count": 25,
   "metadata": {},
   "outputs": [
    {
     "data": {
      "text/plain": [
       "date\n",
       "1977-03-31    9.50\n",
       "1977-04-12    9.25\n",
       "1977-04-18    9.00\n",
       "Name: gbp_rate, dtype: float64"
      ]
     },
     "execution_count": 25,
     "metadata": {},
     "output_type": "execute_result"
    }
   ],
   "source": [
    "df_rates['gbp_rate'][33:36]"
   ]
  },
  {
   "cell_type": "code",
   "execution_count": 26,
   "metadata": {},
   "outputs": [
    {
     "data": {
      "text/html": [
       "<div>\n",
       "<style scoped>\n",
       "    .dataframe tbody tr th:only-of-type {\n",
       "        vertical-align: middle;\n",
       "    }\n",
       "\n",
       "    .dataframe tbody tr th {\n",
       "        vertical-align: top;\n",
       "    }\n",
       "\n",
       "    .dataframe thead th {\n",
       "        text-align: right;\n",
       "    }\n",
       "</style>\n",
       "<table border=\"1\" class=\"dataframe\">\n",
       "  <thead>\n",
       "    <tr style=\"text-align: right;\">\n",
       "      <th></th>\n",
       "      <th>gbp_rate</th>\n",
       "      <th>gbp_rate_change</th>\n",
       "      <th>usd_rate</th>\n",
       "      <th>usd_rate_change</th>\n",
       "      <th>eur_rate</th>\n",
       "      <th>eur_rate_change</th>\n",
       "      <th>aud_rate_change</th>\n",
       "      <th>aud_rate</th>\n",
       "      <th>yen_rate</th>\n",
       "      <th>yen_rate_change</th>\n",
       "      <th>...</th>\n",
       "      <th>yen_rate_change_lag1</th>\n",
       "      <th>yen_rate_change_lag2</th>\n",
       "      <th>yen_rate_change_lag3</th>\n",
       "      <th>yen_rate_change_lag4</th>\n",
       "      <th>yen_rate_change_lag5</th>\n",
       "      <th>yen_rate_change_lag6</th>\n",
       "      <th>yen_rate_change_lag7</th>\n",
       "      <th>yen_rate_change_lag8</th>\n",
       "      <th>yen_rate_change_lag9</th>\n",
       "      <th>yen_rate_change_lag10</th>\n",
       "    </tr>\n",
       "    <tr>\n",
       "      <th>date</th>\n",
       "      <th></th>\n",
       "      <th></th>\n",
       "      <th></th>\n",
       "      <th></th>\n",
       "      <th></th>\n",
       "      <th></th>\n",
       "      <th></th>\n",
       "      <th></th>\n",
       "      <th></th>\n",
       "      <th></th>\n",
       "      <th></th>\n",
       "      <th></th>\n",
       "      <th></th>\n",
       "      <th></th>\n",
       "      <th></th>\n",
       "      <th></th>\n",
       "      <th></th>\n",
       "      <th></th>\n",
       "      <th></th>\n",
       "      <th></th>\n",
       "      <th></th>\n",
       "    </tr>\n",
       "  </thead>\n",
       "  <tbody>\n",
       "    <tr>\n",
       "      <th>1975-01-20</th>\n",
       "      <td>11.25</td>\n",
       "      <td>-0.25</td>\n",
       "      <td>NaN</td>\n",
       "      <td>0.0</td>\n",
       "      <td>NaN</td>\n",
       "      <td>0.0</td>\n",
       "      <td>0.0</td>\n",
       "      <td>NaN</td>\n",
       "      <td>NaN</td>\n",
       "      <td>0.0</td>\n",
       "      <td>...</td>\n",
       "      <td>0.0</td>\n",
       "      <td>0.0</td>\n",
       "      <td>0.0</td>\n",
       "      <td>0.0</td>\n",
       "      <td>0.0</td>\n",
       "      <td>0.0</td>\n",
       "      <td>0.0</td>\n",
       "      <td>0.0</td>\n",
       "      <td>0.0</td>\n",
       "      <td>0.0</td>\n",
       "    </tr>\n",
       "    <tr>\n",
       "      <th>1975-01-27</th>\n",
       "      <td>11.00</td>\n",
       "      <td>-0.25</td>\n",
       "      <td>NaN</td>\n",
       "      <td>0.0</td>\n",
       "      <td>NaN</td>\n",
       "      <td>0.0</td>\n",
       "      <td>0.0</td>\n",
       "      <td>NaN</td>\n",
       "      <td>NaN</td>\n",
       "      <td>0.0</td>\n",
       "      <td>...</td>\n",
       "      <td>0.0</td>\n",
       "      <td>0.0</td>\n",
       "      <td>0.0</td>\n",
       "      <td>0.0</td>\n",
       "      <td>0.0</td>\n",
       "      <td>0.0</td>\n",
       "      <td>0.0</td>\n",
       "      <td>0.0</td>\n",
       "      <td>0.0</td>\n",
       "      <td>0.0</td>\n",
       "    </tr>\n",
       "    <tr>\n",
       "      <th>1975-02-10</th>\n",
       "      <td>10.75</td>\n",
       "      <td>-0.25</td>\n",
       "      <td>NaN</td>\n",
       "      <td>0.0</td>\n",
       "      <td>NaN</td>\n",
       "      <td>0.0</td>\n",
       "      <td>0.0</td>\n",
       "      <td>NaN</td>\n",
       "      <td>NaN</td>\n",
       "      <td>0.0</td>\n",
       "      <td>...</td>\n",
       "      <td>0.0</td>\n",
       "      <td>0.0</td>\n",
       "      <td>0.0</td>\n",
       "      <td>0.0</td>\n",
       "      <td>0.0</td>\n",
       "      <td>0.0</td>\n",
       "      <td>0.0</td>\n",
       "      <td>0.0</td>\n",
       "      <td>0.0</td>\n",
       "      <td>0.0</td>\n",
       "    </tr>\n",
       "    <tr>\n",
       "      <th>1975-02-17</th>\n",
       "      <td>10.50</td>\n",
       "      <td>-0.25</td>\n",
       "      <td>NaN</td>\n",
       "      <td>0.0</td>\n",
       "      <td>NaN</td>\n",
       "      <td>0.0</td>\n",
       "      <td>0.0</td>\n",
       "      <td>NaN</td>\n",
       "      <td>NaN</td>\n",
       "      <td>0.0</td>\n",
       "      <td>...</td>\n",
       "      <td>0.0</td>\n",
       "      <td>0.0</td>\n",
       "      <td>0.0</td>\n",
       "      <td>0.0</td>\n",
       "      <td>0.0</td>\n",
       "      <td>0.0</td>\n",
       "      <td>0.0</td>\n",
       "      <td>0.0</td>\n",
       "      <td>0.0</td>\n",
       "      <td>0.0</td>\n",
       "    </tr>\n",
       "    <tr>\n",
       "      <th>1975-03-10</th>\n",
       "      <td>10.25</td>\n",
       "      <td>-0.25</td>\n",
       "      <td>NaN</td>\n",
       "      <td>0.0</td>\n",
       "      <td>NaN</td>\n",
       "      <td>0.0</td>\n",
       "      <td>0.0</td>\n",
       "      <td>NaN</td>\n",
       "      <td>NaN</td>\n",
       "      <td>0.0</td>\n",
       "      <td>...</td>\n",
       "      <td>0.0</td>\n",
       "      <td>0.0</td>\n",
       "      <td>0.0</td>\n",
       "      <td>0.0</td>\n",
       "      <td>0.0</td>\n",
       "      <td>0.0</td>\n",
       "      <td>0.0</td>\n",
       "      <td>0.0</td>\n",
       "      <td>0.0</td>\n",
       "      <td>0.0</td>\n",
       "    </tr>\n",
       "  </tbody>\n",
       "</table>\n",
       "<p>5 rows × 110 columns</p>\n",
       "</div>"
      ],
      "text/plain": [
       "            gbp_rate  gbp_rate_change  usd_rate  usd_rate_change  eur_rate  \\\n",
       "date                                                                         \n",
       "1975-01-20     11.25            -0.25       NaN              0.0       NaN   \n",
       "1975-01-27     11.00            -0.25       NaN              0.0       NaN   \n",
       "1975-02-10     10.75            -0.25       NaN              0.0       NaN   \n",
       "1975-02-17     10.50            -0.25       NaN              0.0       NaN   \n",
       "1975-03-10     10.25            -0.25       NaN              0.0       NaN   \n",
       "\n",
       "            eur_rate_change  aud_rate_change  aud_rate  yen_rate  \\\n",
       "date                                                               \n",
       "1975-01-20              0.0              0.0       NaN       NaN   \n",
       "1975-01-27              0.0              0.0       NaN       NaN   \n",
       "1975-02-10              0.0              0.0       NaN       NaN   \n",
       "1975-02-17              0.0              0.0       NaN       NaN   \n",
       "1975-03-10              0.0              0.0       NaN       NaN   \n",
       "\n",
       "            yen_rate_change  ...  yen_rate_change_lag1  yen_rate_change_lag2  \\\n",
       "date                         ...                                               \n",
       "1975-01-20              0.0  ...                   0.0                   0.0   \n",
       "1975-01-27              0.0  ...                   0.0                   0.0   \n",
       "1975-02-10              0.0  ...                   0.0                   0.0   \n",
       "1975-02-17              0.0  ...                   0.0                   0.0   \n",
       "1975-03-10              0.0  ...                   0.0                   0.0   \n",
       "\n",
       "            yen_rate_change_lag3  yen_rate_change_lag4  yen_rate_change_lag5  \\\n",
       "date                                                                           \n",
       "1975-01-20                   0.0                   0.0                   0.0   \n",
       "1975-01-27                   0.0                   0.0                   0.0   \n",
       "1975-02-10                   0.0                   0.0                   0.0   \n",
       "1975-02-17                   0.0                   0.0                   0.0   \n",
       "1975-03-10                   0.0                   0.0                   0.0   \n",
       "\n",
       "            yen_rate_change_lag6  yen_rate_change_lag7  yen_rate_change_lag8  \\\n",
       "date                                                                           \n",
       "1975-01-20                   0.0                   0.0                   0.0   \n",
       "1975-01-27                   0.0                   0.0                   0.0   \n",
       "1975-02-10                   0.0                   0.0                   0.0   \n",
       "1975-02-17                   0.0                   0.0                   0.0   \n",
       "1975-03-10                   0.0                   0.0                   0.0   \n",
       "\n",
       "            yen_rate_change_lag9  yen_rate_change_lag10  \n",
       "date                                                     \n",
       "1975-01-20                   0.0                    0.0  \n",
       "1975-01-27                   0.0                    0.0  \n",
       "1975-02-10                   0.0                    0.0  \n",
       "1975-02-17                   0.0                    0.0  \n",
       "1975-03-10                   0.0                    0.0  \n",
       "\n",
       "[5 rows x 110 columns]"
      ]
     },
     "execution_count": 26,
     "metadata": {},
     "output_type": "execute_result"
    }
   ],
   "source": [
    "df_rates.head()"
   ]
  },
  {
   "cell_type": "code",
   "execution_count": null,
   "metadata": {},
   "outputs": [],
   "source": [
    "%store df_rates"
   ]
  },
  {
   "cell_type": "markdown",
   "metadata": {},
   "source": [
    "## Consolidate stock indices"
   ]
  },
  {
   "cell_type": "code",
   "execution_count": null,
   "metadata": {},
   "outputs": [],
   "source": [
    "%store -r df_hsi\n",
    "%store -r df_sse\n",
    "%store -r df_jeg\n",
    "%store -r df_nasdaq\n",
    "%store -r df_nyse"
   ]
  },
  {
   "cell_type": "code",
   "execution_count": null,
   "metadata": {},
   "outputs": [],
   "source": [
    "df_hsi['date'].min()"
   ]
  },
  {
   "cell_type": "code",
   "execution_count": null,
   "metadata": {},
   "outputs": [],
   "source": [
    "df_sse['date'].min()"
   ]
  },
  {
   "cell_type": "code",
   "execution_count": null,
   "metadata": {},
   "outputs": [],
   "source": [
    "df_jeg['date'].min()"
   ]
  },
  {
   "cell_type": "code",
   "execution_count": null,
   "metadata": {},
   "outputs": [],
   "source": [
    "df_nasdaq['date'].min()"
   ]
  },
  {
   "cell_type": "code",
   "execution_count": null,
   "metadata": {},
   "outputs": [],
   "source": [
    "df_nyse['date'].min()"
   ]
  },
  {
   "cell_type": "code",
   "execution_count": null,
   "metadata": {},
   "outputs": [],
   "source": [
    "# loop through all dataframes and merge via outer join, ensuring the df with the most non-null dates is the left object\n",
    "df_stock = pd.merge(df_sse, df_hsi, how = 'outer', on = ['date'])\n",
    "df_stock = pd.merge(df_stock, df_nyse, how = 'outer', on = ['date'])\n",
    "df_stock = pd.merge(df_stock, df_nasdaq, how = 'outer', on = ['date'])\n",
    "df_stock = pd.merge(df_stock, df_jeg, how = 'outer', on = ['date'])"
   ]
  },
  {
   "cell_type": "code",
   "execution_count": null,
   "metadata": {},
   "outputs": [],
   "source": [
    "df_stock.info()"
   ]
  },
  {
   "cell_type": "code",
   "execution_count": null,
   "metadata": {},
   "outputs": [],
   "source": [
    "to_drop = []\n",
    "for col in df_stock.columns:\n",
    "    if 'lag' in col:\n",
    "        to_drop.append(col)"
   ]
  },
  {
   "cell_type": "code",
   "execution_count": null,
   "metadata": {},
   "outputs": [],
   "source": [
    "df_stock.drop(columns = to_drop, inplace = True)"
   ]
  },
  {
   "cell_type": "code",
   "execution_count": null,
   "metadata": {},
   "outputs": [],
   "source": [
    "df_stock = df_stock.sort_values(by = ['date'])"
   ]
  },
  {
   "cell_type": "code",
   "execution_count": null,
   "metadata": {},
   "outputs": [],
   "source": [
    "df_stock = df_stock.set_index('date')"
   ]
  },
  {
   "cell_type": "code",
   "execution_count": null,
   "metadata": {},
   "outputs": [],
   "source": [
    "df_stock.head()"
   ]
  },
  {
   "cell_type": "code",
   "execution_count": null,
   "metadata": {},
   "outputs": [],
   "source": [
    "df_stock.info()"
   ]
  },
  {
   "cell_type": "code",
   "execution_count": null,
   "metadata": {},
   "outputs": [],
   "source": [
    "# add up to 10 day lag for all stock indices and changes\n",
    "for col in df_stock.columns:\n",
    "    for i in range(1,11):\n",
    "        df_stock[f'{col}_lag{i}'] = df_stock[col].shift(i)"
   ]
  },
  {
   "cell_type": "code",
   "execution_count": null,
   "metadata": {},
   "outputs": [],
   "source": [
    "df_stock.info()"
   ]
  },
  {
   "cell_type": "code",
   "execution_count": null,
   "metadata": {},
   "outputs": [],
   "source": [
    "# address NaN values\n",
    "\n",
    "d_non_NaN = dict()\n",
    "for col in df_stock.columns:\n",
    "    \n",
    "    # we can simply fill NaNs in the 'change' columns with zeros, to represent no change\n",
    "    if 'change' in col:\n",
    "        df_stock[col].fillna(0, inplace = True)\n",
    "        \n",
    "    # otherwise, we'll need to fill NaNs with the most recent non-NaN value\n",
    "    else:\n",
    "        \n",
    "        for idx,val in enumerate(df_stock[col]):\n",
    "            if val:\n",
    "                d_non_NaN[col] = idx\n",
    "                break\n",
    "                \n",
    "            else:\n",
    "                continue\n",
    "        \n",
    "        lst = []\n",
    "        d = dict()\n",
    "        for i in df_stock[col][d_non_NaN[col]:]:\n",
    "            if i:\n",
    "                d['last'] = i\n",
    "            else:\n",
    "                i = d['last']\n",
    "            \n",
    "            lst.append(i)\n",
    "            \n",
    "        df_stock[col][d_non_NaN[col]:] = lst\n",
    "        "
   ]
  },
  {
   "cell_type": "code",
   "execution_count": null,
   "metadata": {},
   "outputs": [],
   "source": [
    "print(d_non_NaN)"
   ]
  },
  {
   "cell_type": "code",
   "execution_count": null,
   "metadata": {},
   "outputs": [],
   "source": [
    "df_stock['jeg_close_lag10'][9:14]"
   ]
  },
  {
   "cell_type": "code",
   "execution_count": null,
   "metadata": {},
   "outputs": [],
   "source": [
    "df_stock.head()"
   ]
  },
  {
   "cell_type": "code",
   "execution_count": null,
   "metadata": {},
   "outputs": [],
   "source": [
    "%store df_stock"
   ]
  },
  {
   "cell_type": "code",
   "execution_count": null,
   "metadata": {},
   "outputs": [],
   "source": [
    "df_feat = pd.merge(df_rates, df_stock, how = 'inner', on = ['date'])"
   ]
  },
  {
   "cell_type": "code",
   "execution_count": null,
   "metadata": {},
   "outputs": [],
   "source": [
    "df_feat.info()"
   ]
  },
  {
   "cell_type": "code",
   "execution_count": null,
   "metadata": {},
   "outputs": [],
   "source": [
    "df_feat.head()"
   ]
  },
  {
   "cell_type": "code",
   "execution_count": null,
   "metadata": {},
   "outputs": [],
   "source": [
    "%store df_feat"
   ]
  },
  {
   "cell_type": "markdown",
   "metadata": {},
   "source": [
    "## Merge in gold data and create final Xy dataframe for model"
   ]
  },
  {
   "cell_type": "code",
   "execution_count": null,
   "metadata": {},
   "outputs": [],
   "source": [
    "%store -r df_gold"
   ]
  },
  {
   "cell_type": "code",
   "execution_count": null,
   "metadata": {},
   "outputs": [],
   "source": [
    "df_gold.info()"
   ]
  },
  {
   "cell_type": "code",
   "execution_count": null,
   "metadata": {},
   "outputs": [],
   "source": [
    "df_gold = df_gold.sort_values(by = ['date'])\n",
    "df_gold = df_gold.set_index('date')"
   ]
  },
  {
   "cell_type": "code",
   "execution_count": null,
   "metadata": {},
   "outputs": [],
   "source": [
    "to_drop = []\n",
    "for col in df_gold.columns:\n",
    "    if 'lag' in col:\n",
    "        to_drop.append(col)"
   ]
  },
  {
   "cell_type": "code",
   "execution_count": null,
   "metadata": {},
   "outputs": [],
   "source": [
    "df_gold.drop(columns = to_drop, inplace = True)"
   ]
  },
  {
   "cell_type": "code",
   "execution_count": null,
   "metadata": {},
   "outputs": [],
   "source": [
    "# add up to 10 day lag for all gold prices and daily changes\n",
    "for col in df_gold.columns:\n",
    "    for i in range(1,11):\n",
    "        df_gold[f'{col}_lag{i}'] = df_gold[col].shift(i)"
   ]
  },
  {
   "cell_type": "code",
   "execution_count": null,
   "metadata": {},
   "outputs": [],
   "source": [
    "df_gold.head()"
   ]
  },
  {
   "cell_type": "code",
   "execution_count": null,
   "metadata": {},
   "outputs": [],
   "source": [
    "df_gold.head()"
   ]
  },
  {
   "cell_type": "code",
   "execution_count": null,
   "metadata": {},
   "outputs": [],
   "source": [
    "df_Xy = pd.merge(df_feat, df_gold, how = 'inner', on = ['date'])"
   ]
  },
  {
   "cell_type": "code",
   "execution_count": null,
   "metadata": {},
   "outputs": [],
   "source": [
    "df_Xy.head()"
   ]
  },
  {
   "cell_type": "code",
   "execution_count": null,
   "metadata": {},
   "outputs": [],
   "source": [
    "df_Xy.info()"
   ]
  },
  {
   "cell_type": "code",
   "execution_count": null,
   "metadata": {},
   "outputs": [],
   "source": [
    "%store df_Xy"
   ]
  },
  {
   "cell_type": "code",
   "execution_count": null,
   "metadata": {},
   "outputs": [],
   "source": []
  },
  {
   "cell_type": "code",
   "execution_count": null,
   "metadata": {},
   "outputs": [],
   "source": []
  }
 ],
 "metadata": {
  "kernelspec": {
   "display_name": "Python 3",
   "language": "python",
   "name": "python3"
  },
  "language_info": {
   "codemirror_mode": {
    "name": "ipython",
    "version": 3
   },
   "file_extension": ".py",
   "mimetype": "text/x-python",
   "name": "python",
   "nbconvert_exporter": "python",
   "pygments_lexer": "ipython3",
   "version": "3.7.7"
  }
 },
 "nbformat": 4,
 "nbformat_minor": 4
}
