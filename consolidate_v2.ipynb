{
 "cells": [
  {
   "cell_type": "code",
   "execution_count": 1,
   "metadata": {},
   "outputs": [],
   "source": [
    "import pandas as pd\n",
    "import numpy as np\n",
    "import scipy.stats as stats\n",
    "\n",
    "%matplotlib inline\n",
    "import matplotlib.pyplot as plt\n",
    "plt.style.use('ggplot')"
   ]
  },
  {
   "cell_type": "markdown",
   "metadata": {},
   "source": [
    "# We are investigating the predictivity of central bank policy rates and stock market indices as they relate to the price of gold. "
   ]
  },
  {
   "cell_type": "markdown",
   "metadata": {},
   "source": [
    "## Consolidate Central Bank Rates"
   ]
  },
  {
   "cell_type": "code",
   "execution_count": 2,
   "metadata": {},
   "outputs": [],
   "source": [
    "# Start by consolidating central bank rate data\n",
    "\n",
    "%store -r df_aud\n",
    "%store -r df_eur\n",
    "%store -r df_gbp\n",
    "%store -r df_usd\n",
    "%store -r df_yen"
   ]
  },
  {
   "cell_type": "code",
   "execution_count": 3,
   "metadata": {},
   "outputs": [
    {
     "data": {
      "text/plain": [
       "Timestamp('1990-01-23 00:00:00')"
      ]
     },
     "execution_count": 3,
     "metadata": {},
     "output_type": "execute_result"
    }
   ],
   "source": [
    "df_aud['date'].min()"
   ]
  },
  {
   "cell_type": "code",
   "execution_count": 4,
   "metadata": {},
   "outputs": [
    {
     "data": {
      "text/plain": [
       "Timestamp('1999-01-01 00:00:00')"
      ]
     },
     "execution_count": 4,
     "metadata": {},
     "output_type": "execute_result"
    }
   ],
   "source": [
    "df_eur['date'].min()"
   ]
  },
  {
   "cell_type": "code",
   "execution_count": 5,
   "metadata": {},
   "outputs": [
    {
     "data": {
      "text/plain": [
       "Timestamp('1975-01-20 00:00:00')"
      ]
     },
     "execution_count": 5,
     "metadata": {},
     "output_type": "execute_result"
    }
   ],
   "source": [
    "df_gbp['date'].min()"
   ]
  },
  {
   "cell_type": "code",
   "execution_count": 6,
   "metadata": {},
   "outputs": [
    {
     "data": {
      "text/plain": [
       "Timestamp('1990-01-01 00:00:00')"
      ]
     },
     "execution_count": 6,
     "metadata": {},
     "output_type": "execute_result"
    }
   ],
   "source": [
    "df_usd['date'].min()"
   ]
  },
  {
   "cell_type": "code",
   "execution_count": 7,
   "metadata": {},
   "outputs": [
    {
     "data": {
      "text/plain": [
       "Timestamp('2000-01-01 00:00:00')"
      ]
     },
     "execution_count": 7,
     "metadata": {},
     "output_type": "execute_result"
    }
   ],
   "source": [
    "df_yen['date'].min()"
   ]
  },
  {
   "cell_type": "code",
   "execution_count": 8,
   "metadata": {},
   "outputs": [],
   "source": [
    "# loop through all dataframes and merge via outer join, ensuring the df with the most non-null dates is the left object\n",
    "df_rates = pd.merge(df_gbp, df_usd, how = 'outer', on = ['date'])\n",
    "df_rates = pd.merge(df_rates, df_eur, how = 'outer', on = ['date'])\n",
    "df_rates = pd.merge(df_rates, df_aud, how = 'outer', on = ['date'])\n",
    "df_rates = pd.merge(df_rates, df_yen, how = 'outer', on = ['date'])"
   ]
  },
  {
   "cell_type": "code",
   "execution_count": 9,
   "metadata": {},
   "outputs": [
    {
     "name": "stdout",
     "output_type": "stream",
     "text": [
      "<class 'pandas.core.frame.DataFrame'>\n",
      "Int64Index: 11273 entries, 0 to 11272\n",
      "Data columns (total 6 columns):\n",
      " #   Column         Non-Null Count  Dtype         \n",
      "---  ------         --------------  -----         \n",
      " 0   date           11273 non-null  datetime64[ns]\n",
      " 1   Rate           238 non-null    float64       \n",
      " 2   usd_rate_tgt   11109 non-null  float64       \n",
      " 3   eur_rate       49 non-null     float64       \n",
      " 4   AUD_rate_tgt%  340 non-null    float64       \n",
      " 5   yen_rate       3839 non-null   float64       \n",
      "dtypes: datetime64[ns](1), float64(5)\n",
      "memory usage: 616.5 KB\n"
     ]
    }
   ],
   "source": [
    "df_rates.info()"
   ]
  },
  {
   "cell_type": "code",
   "execution_count": 10,
   "metadata": {},
   "outputs": [],
   "source": [
    "df_rates.rename(columns = {'AUD_rate_tgt%': 'aud_rate', 'Rate': 'gbp_rate', 'usd_rate_tgt':'usd_rate'}, inplace = True)"
   ]
  },
  {
   "cell_type": "code",
   "execution_count": 11,
   "metadata": {},
   "outputs": [
    {
     "name": "stdout",
     "output_type": "stream",
     "text": [
      "<class 'pandas.core.frame.DataFrame'>\n",
      "Int64Index: 11273 entries, 0 to 11272\n",
      "Data columns (total 6 columns):\n",
      " #   Column    Non-Null Count  Dtype         \n",
      "---  ------    --------------  -----         \n",
      " 0   date      11273 non-null  datetime64[ns]\n",
      " 1   gbp_rate  238 non-null    float64       \n",
      " 2   usd_rate  11109 non-null  float64       \n",
      " 3   eur_rate  49 non-null     float64       \n",
      " 4   aud_rate  340 non-null    float64       \n",
      " 5   yen_rate  3839 non-null   float64       \n",
      "dtypes: datetime64[ns](1), float64(5)\n",
      "memory usage: 616.5 KB\n"
     ]
    }
   ],
   "source": [
    "df_rates.info()"
   ]
  },
  {
   "cell_type": "code",
   "execution_count": 12,
   "metadata": {},
   "outputs": [],
   "source": [
    "df_rates = df_rates.sort_values(by = ['date'])"
   ]
  },
  {
   "cell_type": "code",
   "execution_count": 13,
   "metadata": {},
   "outputs": [],
   "source": [
    "#lowest minimum date across rate data is 2000-01-01 (df_yen), so drop all data prior\n",
    "df_rates = df_rates[df_rates['date']>'1999-12-31']"
   ]
  },
  {
   "cell_type": "code",
   "execution_count": 14,
   "metadata": {},
   "outputs": [],
   "source": [
    "df_rates = df_rates.set_index('date')"
   ]
  },
  {
   "cell_type": "code",
   "execution_count": 15,
   "metadata": {},
   "outputs": [
    {
     "data": {
      "text/html": [
       "<div>\n",
       "<style scoped>\n",
       "    .dataframe tbody tr th:only-of-type {\n",
       "        vertical-align: middle;\n",
       "    }\n",
       "\n",
       "    .dataframe tbody tr th {\n",
       "        vertical-align: top;\n",
       "    }\n",
       "\n",
       "    .dataframe thead th {\n",
       "        text-align: right;\n",
       "    }\n",
       "</style>\n",
       "<table border=\"1\" class=\"dataframe\">\n",
       "  <thead>\n",
       "    <tr style=\"text-align: right;\">\n",
       "      <th></th>\n",
       "      <th>gbp_rate</th>\n",
       "      <th>usd_rate</th>\n",
       "      <th>eur_rate</th>\n",
       "      <th>aud_rate</th>\n",
       "      <th>yen_rate</th>\n",
       "    </tr>\n",
       "    <tr>\n",
       "      <th>date</th>\n",
       "      <th></th>\n",
       "      <th></th>\n",
       "      <th></th>\n",
       "      <th></th>\n",
       "      <th></th>\n",
       "    </tr>\n",
       "  </thead>\n",
       "  <tbody>\n",
       "    <tr>\n",
       "      <th>2000-01-01</th>\n",
       "      <td>NaN</td>\n",
       "      <td>5.5</td>\n",
       "      <td>NaN</td>\n",
       "      <td>NaN</td>\n",
       "      <td>NaN</td>\n",
       "    </tr>\n",
       "    <tr>\n",
       "      <th>2000-01-02</th>\n",
       "      <td>NaN</td>\n",
       "      <td>5.5</td>\n",
       "      <td>NaN</td>\n",
       "      <td>NaN</td>\n",
       "      <td>NaN</td>\n",
       "    </tr>\n",
       "    <tr>\n",
       "      <th>2000-01-03</th>\n",
       "      <td>NaN</td>\n",
       "      <td>5.5</td>\n",
       "      <td>NaN</td>\n",
       "      <td>NaN</td>\n",
       "      <td>NaN</td>\n",
       "    </tr>\n",
       "    <tr>\n",
       "      <th>2000-01-04</th>\n",
       "      <td>NaN</td>\n",
       "      <td>5.5</td>\n",
       "      <td>NaN</td>\n",
       "      <td>NaN</td>\n",
       "      <td>NaN</td>\n",
       "    </tr>\n",
       "    <tr>\n",
       "      <th>2000-01-05</th>\n",
       "      <td>NaN</td>\n",
       "      <td>5.5</td>\n",
       "      <td>NaN</td>\n",
       "      <td>NaN</td>\n",
       "      <td>NaN</td>\n",
       "    </tr>\n",
       "  </tbody>\n",
       "</table>\n",
       "</div>"
      ],
      "text/plain": [
       "            gbp_rate  usd_rate  eur_rate  aud_rate  yen_rate\n",
       "date                                                        \n",
       "2000-01-01       NaN       5.5       NaN       NaN       NaN\n",
       "2000-01-02       NaN       5.5       NaN       NaN       NaN\n",
       "2000-01-03       NaN       5.5       NaN       NaN       NaN\n",
       "2000-01-04       NaN       5.5       NaN       NaN       NaN\n",
       "2000-01-05       NaN       5.5       NaN       NaN       NaN"
      ]
     },
     "execution_count": 15,
     "metadata": {},
     "output_type": "execute_result"
    }
   ],
   "source": [
    "df_rates.head()"
   ]
  },
  {
   "cell_type": "code",
   "execution_count": 21,
   "metadata": {},
   "outputs": [],
   "source": [
    "# add up to 10 day lag for all rates\n",
    "\n",
    "for col in df_rates.columns:\n",
    "    for i in range(1,11):\n",
    "        df_rates[f'{col}_lag{i}'] = df_rates[col].shift(i)"
   ]
  },
  {
   "cell_type": "code",
   "execution_count": 22,
   "metadata": {},
   "outputs": [],
   "source": [
    "df_rates.dropna(inplace = True)"
   ]
  },
  {
   "cell_type": "code",
   "execution_count": 24,
   "metadata": {},
   "outputs": [
    {
     "name": "stdout",
     "output_type": "stream",
     "text": [
      "<class 'pandas.core.frame.DataFrame'>\n",
      "DatetimeIndex: 7234 entries, 2000-08-11 to 2020-05-31\n",
      "Data columns (total 55 columns):\n",
      " #   Column          Non-Null Count  Dtype  \n",
      "---  ------          --------------  -----  \n",
      " 0   gbp_rate        7234 non-null   object \n",
      " 1   usd_rate        7234 non-null   float64\n",
      " 2   eur_rate        7234 non-null   object \n",
      " 3   aud_rate        7234 non-null   object \n",
      " 4   yen_rate        7234 non-null   object \n",
      " 5   gbp_rate_lag1   7234 non-null   object \n",
      " 6   gbp_rate_lag2   7234 non-null   object \n",
      " 7   gbp_rate_lag3   7234 non-null   object \n",
      " 8   gbp_rate_lag4   7234 non-null   object \n",
      " 9   gbp_rate_lag5   7234 non-null   object \n",
      " 10  gbp_rate_lag6   7234 non-null   object \n",
      " 11  gbp_rate_lag7   7234 non-null   object \n",
      " 12  gbp_rate_lag8   7234 non-null   object \n",
      " 13  gbp_rate_lag9   7234 non-null   object \n",
      " 14  gbp_rate_lag10  7234 non-null   object \n",
      " 15  usd_rate_lag1   7234 non-null   float64\n",
      " 16  usd_rate_lag2   7234 non-null   float64\n",
      " 17  usd_rate_lag3   7234 non-null   float64\n",
      " 18  usd_rate_lag4   7234 non-null   float64\n",
      " 19  usd_rate_lag5   7234 non-null   float64\n",
      " 20  usd_rate_lag6   7234 non-null   float64\n",
      " 21  usd_rate_lag7   7234 non-null   float64\n",
      " 22  usd_rate_lag8   7234 non-null   float64\n",
      " 23  usd_rate_lag9   7234 non-null   float64\n",
      " 24  usd_rate_lag10  7234 non-null   float64\n",
      " 25  eur_rate_lag1   7234 non-null   object \n",
      " 26  eur_rate_lag2   7234 non-null   object \n",
      " 27  eur_rate_lag3   7234 non-null   object \n",
      " 28  eur_rate_lag4   7234 non-null   object \n",
      " 29  eur_rate_lag5   7234 non-null   object \n",
      " 30  eur_rate_lag6   7234 non-null   object \n",
      " 31  eur_rate_lag7   7234 non-null   object \n",
      " 32  eur_rate_lag8   7234 non-null   object \n",
      " 33  eur_rate_lag9   7234 non-null   object \n",
      " 34  eur_rate_lag10  7234 non-null   object \n",
      " 35  aud_rate_lag1   7234 non-null   object \n",
      " 36  aud_rate_lag2   7234 non-null   object \n",
      " 37  aud_rate_lag3   7234 non-null   object \n",
      " 38  aud_rate_lag4   7234 non-null   object \n",
      " 39  aud_rate_lag5   7234 non-null   object \n",
      " 40  aud_rate_lag6   7234 non-null   object \n",
      " 41  aud_rate_lag7   7234 non-null   object \n",
      " 42  aud_rate_lag8   7234 non-null   object \n",
      " 43  aud_rate_lag9   7234 non-null   object \n",
      " 44  aud_rate_lag10  7234 non-null   object \n",
      " 45  yen_rate_lag1   7234 non-null   object \n",
      " 46  yen_rate_lag2   7234 non-null   object \n",
      " 47  yen_rate_lag3   7234 non-null   object \n",
      " 48  yen_rate_lag4   7234 non-null   object \n",
      " 49  yen_rate_lag5   7234 non-null   object \n",
      " 50  yen_rate_lag6   7234 non-null   object \n",
      " 51  yen_rate_lag7   7234 non-null   object \n",
      " 52  yen_rate_lag8   7234 non-null   object \n",
      " 53  yen_rate_lag9   7234 non-null   object \n",
      " 54  yen_rate_lag10  7234 non-null   object \n",
      "dtypes: float64(11), object(44)\n",
      "memory usage: 3.1+ MB\n"
     ]
    }
   ],
   "source": [
    "df_rates.info()"
   ]
  },
  {
   "cell_type": "code",
   "execution_count": 25,
   "metadata": {},
   "outputs": [],
   "source": [
    "for col in d.keys():\n",
    "    df_rates[col] = df_rates[col].astype('float')"
   ]
  },
  {
   "cell_type": "code",
   "execution_count": 26,
   "metadata": {},
   "outputs": [
    {
     "name": "stdout",
     "output_type": "stream",
     "text": [
      "<class 'pandas.core.frame.DataFrame'>\n",
      "DatetimeIndex: 7234 entries, 2000-08-11 to 2020-05-31\n",
      "Data columns (total 55 columns):\n",
      " #   Column          Non-Null Count  Dtype  \n",
      "---  ------          --------------  -----  \n",
      " 0   gbp_rate        7234 non-null   float64\n",
      " 1   usd_rate        7234 non-null   float64\n",
      " 2   eur_rate        7234 non-null   float64\n",
      " 3   aud_rate        7234 non-null   float64\n",
      " 4   yen_rate        7234 non-null   float64\n",
      " 5   gbp_rate_lag1   7234 non-null   object \n",
      " 6   gbp_rate_lag2   7234 non-null   object \n",
      " 7   gbp_rate_lag3   7234 non-null   object \n",
      " 8   gbp_rate_lag4   7234 non-null   object \n",
      " 9   gbp_rate_lag5   7234 non-null   object \n",
      " 10  gbp_rate_lag6   7234 non-null   object \n",
      " 11  gbp_rate_lag7   7234 non-null   object \n",
      " 12  gbp_rate_lag8   7234 non-null   object \n",
      " 13  gbp_rate_lag9   7234 non-null   object \n",
      " 14  gbp_rate_lag10  7234 non-null   object \n",
      " 15  usd_rate_lag1   7234 non-null   float64\n",
      " 16  usd_rate_lag2   7234 non-null   float64\n",
      " 17  usd_rate_lag3   7234 non-null   float64\n",
      " 18  usd_rate_lag4   7234 non-null   float64\n",
      " 19  usd_rate_lag5   7234 non-null   float64\n",
      " 20  usd_rate_lag6   7234 non-null   float64\n",
      " 21  usd_rate_lag7   7234 non-null   float64\n",
      " 22  usd_rate_lag8   7234 non-null   float64\n",
      " 23  usd_rate_lag9   7234 non-null   float64\n",
      " 24  usd_rate_lag10  7234 non-null   float64\n",
      " 25  eur_rate_lag1   7234 non-null   object \n",
      " 26  eur_rate_lag2   7234 non-null   object \n",
      " 27  eur_rate_lag3   7234 non-null   object \n",
      " 28  eur_rate_lag4   7234 non-null   object \n",
      " 29  eur_rate_lag5   7234 non-null   object \n",
      " 30  eur_rate_lag6   7234 non-null   object \n",
      " 31  eur_rate_lag7   7234 non-null   object \n",
      " 32  eur_rate_lag8   7234 non-null   object \n",
      " 33  eur_rate_lag9   7234 non-null   object \n",
      " 34  eur_rate_lag10  7234 non-null   object \n",
      " 35  aud_rate_lag1   7234 non-null   object \n",
      " 36  aud_rate_lag2   7234 non-null   object \n",
      " 37  aud_rate_lag3   7234 non-null   object \n",
      " 38  aud_rate_lag4   7234 non-null   object \n",
      " 39  aud_rate_lag5   7234 non-null   object \n",
      " 40  aud_rate_lag6   7234 non-null   object \n",
      " 41  aud_rate_lag7   7234 non-null   object \n",
      " 42  aud_rate_lag8   7234 non-null   object \n",
      " 43  aud_rate_lag9   7234 non-null   object \n",
      " 44  aud_rate_lag10  7234 non-null   object \n",
      " 45  yen_rate_lag1   7234 non-null   object \n",
      " 46  yen_rate_lag2   7234 non-null   object \n",
      " 47  yen_rate_lag3   7234 non-null   object \n",
      " 48  yen_rate_lag4   7234 non-null   object \n",
      " 49  yen_rate_lag5   7234 non-null   object \n",
      " 50  yen_rate_lag6   7234 non-null   object \n",
      " 51  yen_rate_lag7   7234 non-null   object \n",
      " 52  yen_rate_lag8   7234 non-null   object \n",
      " 53  yen_rate_lag9   7234 non-null   object \n",
      " 54  yen_rate_lag10  7234 non-null   object \n",
      "dtypes: float64(15), object(40)\n",
      "memory usage: 3.1+ MB\n"
     ]
    }
   ],
   "source": [
    "df_rates.info()"
   ]
  },
  {
   "cell_type": "code",
   "execution_count": 27,
   "metadata": {},
   "outputs": [
    {
     "data": {
      "text/html": [
       "<div>\n",
       "<style scoped>\n",
       "    .dataframe tbody tr th:only-of-type {\n",
       "        vertical-align: middle;\n",
       "    }\n",
       "\n",
       "    .dataframe tbody tr th {\n",
       "        vertical-align: top;\n",
       "    }\n",
       "\n",
       "    .dataframe thead th {\n",
       "        text-align: right;\n",
       "    }\n",
       "</style>\n",
       "<table border=\"1\" class=\"dataframe\">\n",
       "  <thead>\n",
       "    <tr style=\"text-align: right;\">\n",
       "      <th></th>\n",
       "      <th>gbp_rate</th>\n",
       "      <th>usd_rate</th>\n",
       "      <th>eur_rate</th>\n",
       "      <th>aud_rate</th>\n",
       "      <th>yen_rate</th>\n",
       "      <th>gbp_rate_lag1</th>\n",
       "      <th>gbp_rate_lag2</th>\n",
       "      <th>gbp_rate_lag3</th>\n",
       "      <th>gbp_rate_lag4</th>\n",
       "      <th>gbp_rate_lag5</th>\n",
       "      <th>...</th>\n",
       "      <th>yen_rate_lag1</th>\n",
       "      <th>yen_rate_lag2</th>\n",
       "      <th>yen_rate_lag3</th>\n",
       "      <th>yen_rate_lag4</th>\n",
       "      <th>yen_rate_lag5</th>\n",
       "      <th>yen_rate_lag6</th>\n",
       "      <th>yen_rate_lag7</th>\n",
       "      <th>yen_rate_lag8</th>\n",
       "      <th>yen_rate_lag9</th>\n",
       "      <th>yen_rate_lag10</th>\n",
       "    </tr>\n",
       "    <tr>\n",
       "      <th>date</th>\n",
       "      <th></th>\n",
       "      <th></th>\n",
       "      <th></th>\n",
       "      <th></th>\n",
       "      <th></th>\n",
       "      <th></th>\n",
       "      <th></th>\n",
       "      <th></th>\n",
       "      <th></th>\n",
       "      <th></th>\n",
       "      <th></th>\n",
       "      <th></th>\n",
       "      <th></th>\n",
       "      <th></th>\n",
       "      <th></th>\n",
       "      <th></th>\n",
       "      <th></th>\n",
       "      <th></th>\n",
       "      <th></th>\n",
       "      <th></th>\n",
       "      <th></th>\n",
       "    </tr>\n",
       "  </thead>\n",
       "  <tbody>\n",
       "    <tr>\n",
       "      <th>2000-08-11</th>\n",
       "      <td>6.0</td>\n",
       "      <td>6.5</td>\n",
       "      <td>3.25</td>\n",
       "      <td>6.25</td>\n",
       "      <td>0.25</td>\n",
       "      <td>6</td>\n",
       "      <td>6</td>\n",
       "      <td>6</td>\n",
       "      <td>6</td>\n",
       "      <td>6</td>\n",
       "      <td>...</td>\n",
       "      <td>~</td>\n",
       "      <td>~</td>\n",
       "      <td>~</td>\n",
       "      <td>~</td>\n",
       "      <td>~</td>\n",
       "      <td>~</td>\n",
       "      <td>~</td>\n",
       "      <td>~</td>\n",
       "      <td>~</td>\n",
       "      <td>~</td>\n",
       "    </tr>\n",
       "    <tr>\n",
       "      <th>2000-08-12</th>\n",
       "      <td>6.0</td>\n",
       "      <td>6.5</td>\n",
       "      <td>3.25</td>\n",
       "      <td>6.25</td>\n",
       "      <td>0.25</td>\n",
       "      <td>6</td>\n",
       "      <td>6</td>\n",
       "      <td>6</td>\n",
       "      <td>6</td>\n",
       "      <td>6</td>\n",
       "      <td>...</td>\n",
       "      <td>0.25</td>\n",
       "      <td>~</td>\n",
       "      <td>~</td>\n",
       "      <td>~</td>\n",
       "      <td>~</td>\n",
       "      <td>~</td>\n",
       "      <td>~</td>\n",
       "      <td>~</td>\n",
       "      <td>~</td>\n",
       "      <td>~</td>\n",
       "    </tr>\n",
       "    <tr>\n",
       "      <th>2000-08-13</th>\n",
       "      <td>6.0</td>\n",
       "      <td>6.5</td>\n",
       "      <td>3.25</td>\n",
       "      <td>6.25</td>\n",
       "      <td>0.25</td>\n",
       "      <td>6</td>\n",
       "      <td>6</td>\n",
       "      <td>6</td>\n",
       "      <td>6</td>\n",
       "      <td>6</td>\n",
       "      <td>...</td>\n",
       "      <td>0.25</td>\n",
       "      <td>0.25</td>\n",
       "      <td>~</td>\n",
       "      <td>~</td>\n",
       "      <td>~</td>\n",
       "      <td>~</td>\n",
       "      <td>~</td>\n",
       "      <td>~</td>\n",
       "      <td>~</td>\n",
       "      <td>~</td>\n",
       "    </tr>\n",
       "    <tr>\n",
       "      <th>2000-08-14</th>\n",
       "      <td>6.0</td>\n",
       "      <td>6.5</td>\n",
       "      <td>3.25</td>\n",
       "      <td>6.25</td>\n",
       "      <td>0.25</td>\n",
       "      <td>6</td>\n",
       "      <td>6</td>\n",
       "      <td>6</td>\n",
       "      <td>6</td>\n",
       "      <td>6</td>\n",
       "      <td>...</td>\n",
       "      <td>0.25</td>\n",
       "      <td>0.25</td>\n",
       "      <td>0.25</td>\n",
       "      <td>~</td>\n",
       "      <td>~</td>\n",
       "      <td>~</td>\n",
       "      <td>~</td>\n",
       "      <td>~</td>\n",
       "      <td>~</td>\n",
       "      <td>~</td>\n",
       "    </tr>\n",
       "    <tr>\n",
       "      <th>2000-08-15</th>\n",
       "      <td>6.0</td>\n",
       "      <td>6.5</td>\n",
       "      <td>3.25</td>\n",
       "      <td>6.25</td>\n",
       "      <td>0.25</td>\n",
       "      <td>6</td>\n",
       "      <td>6</td>\n",
       "      <td>6</td>\n",
       "      <td>6</td>\n",
       "      <td>6</td>\n",
       "      <td>...</td>\n",
       "      <td>0.25</td>\n",
       "      <td>0.25</td>\n",
       "      <td>0.25</td>\n",
       "      <td>0.25</td>\n",
       "      <td>~</td>\n",
       "      <td>~</td>\n",
       "      <td>~</td>\n",
       "      <td>~</td>\n",
       "      <td>~</td>\n",
       "      <td>~</td>\n",
       "    </tr>\n",
       "  </tbody>\n",
       "</table>\n",
       "<p>5 rows × 55 columns</p>\n",
       "</div>"
      ],
      "text/plain": [
       "            gbp_rate  usd_rate  eur_rate  aud_rate  yen_rate gbp_rate_lag1  \\\n",
       "date                                                                         \n",
       "2000-08-11       6.0       6.5      3.25      6.25      0.25             6   \n",
       "2000-08-12       6.0       6.5      3.25      6.25      0.25             6   \n",
       "2000-08-13       6.0       6.5      3.25      6.25      0.25             6   \n",
       "2000-08-14       6.0       6.5      3.25      6.25      0.25             6   \n",
       "2000-08-15       6.0       6.5      3.25      6.25      0.25             6   \n",
       "\n",
       "           gbp_rate_lag2 gbp_rate_lag3 gbp_rate_lag4 gbp_rate_lag5  ...  \\\n",
       "date                                                                ...   \n",
       "2000-08-11             6             6             6             6  ...   \n",
       "2000-08-12             6             6             6             6  ...   \n",
       "2000-08-13             6             6             6             6  ...   \n",
       "2000-08-14             6             6             6             6  ...   \n",
       "2000-08-15             6             6             6             6  ...   \n",
       "\n",
       "           yen_rate_lag1 yen_rate_lag2 yen_rate_lag3 yen_rate_lag4  \\\n",
       "date                                                                 \n",
       "2000-08-11             ~             ~             ~             ~   \n",
       "2000-08-12          0.25             ~             ~             ~   \n",
       "2000-08-13          0.25          0.25             ~             ~   \n",
       "2000-08-14          0.25          0.25          0.25             ~   \n",
       "2000-08-15          0.25          0.25          0.25          0.25   \n",
       "\n",
       "           yen_rate_lag5  yen_rate_lag6  yen_rate_lag7  yen_rate_lag8  \\\n",
       "date                                                                    \n",
       "2000-08-11             ~              ~              ~              ~   \n",
       "2000-08-12             ~              ~              ~              ~   \n",
       "2000-08-13             ~              ~              ~              ~   \n",
       "2000-08-14             ~              ~              ~              ~   \n",
       "2000-08-15             ~              ~              ~              ~   \n",
       "\n",
       "            yen_rate_lag9  yen_rate_lag10  \n",
       "date                                       \n",
       "2000-08-11              ~               ~  \n",
       "2000-08-12              ~               ~  \n",
       "2000-08-13              ~               ~  \n",
       "2000-08-14              ~               ~  \n",
       "2000-08-15              ~               ~  \n",
       "\n",
       "[5 rows x 55 columns]"
      ]
     },
     "execution_count": 27,
     "metadata": {},
     "output_type": "execute_result"
    }
   ],
   "source": [
    "df_rates.head()"
   ]
  },
  {
   "cell_type": "code",
   "execution_count": 28,
   "metadata": {},
   "outputs": [
    {
     "name": "stdout",
     "output_type": "stream",
     "text": [
      "Stored 'df_rates' (DataFrame)\n"
     ]
    }
   ],
   "source": [
    "%store df_rates"
   ]
  },
  {
   "cell_type": "markdown",
   "metadata": {},
   "source": [
    "## Consolidate stock indices"
   ]
  },
  {
   "cell_type": "code",
   "execution_count": 29,
   "metadata": {},
   "outputs": [],
   "source": [
    "%store -r df_hsi\n",
    "%store -r df_sse\n",
    "%store -r df_jeg\n",
    "%store -r df_nasdaq\n",
    "%store -r df_nyse"
   ]
  },
  {
   "cell_type": "code",
   "execution_count": 30,
   "metadata": {},
   "outputs": [
    {
     "data": {
      "text/plain": [
       "Timestamp('2000-01-03 00:00:00')"
      ]
     },
     "execution_count": 30,
     "metadata": {},
     "output_type": "execute_result"
    }
   ],
   "source": [
    "df_hsi['date'].min()"
   ]
  },
  {
   "cell_type": "code",
   "execution_count": 31,
   "metadata": {},
   "outputs": [
    {
     "data": {
      "text/plain": [
       "Timestamp('1997-07-02 00:00:00')"
      ]
     },
     "execution_count": 31,
     "metadata": {},
     "output_type": "execute_result"
    }
   ],
   "source": [
    "df_sse['date'].min()"
   ]
  },
  {
   "cell_type": "code",
   "execution_count": 32,
   "metadata": {},
   "outputs": [
    {
     "data": {
      "text/plain": [
       "Timestamp('2008-09-05 00:00:00')"
      ]
     },
     "execution_count": 32,
     "metadata": {},
     "output_type": "execute_result"
    }
   ],
   "source": [
    "df_jeg['date'].min()"
   ]
  },
  {
   "cell_type": "code",
   "execution_count": 33,
   "metadata": {},
   "outputs": [
    {
     "data": {
      "text/plain": [
       "Timestamp('2000-01-03 00:00:00')"
      ]
     },
     "execution_count": 33,
     "metadata": {},
     "output_type": "execute_result"
    }
   ],
   "source": [
    "df_nasdaq['date'].min()"
   ]
  },
  {
   "cell_type": "code",
   "execution_count": 34,
   "metadata": {},
   "outputs": [
    {
     "data": {
      "text/plain": [
       "Timestamp('2000-01-03 00:00:00')"
      ]
     },
     "execution_count": 34,
     "metadata": {},
     "output_type": "execute_result"
    }
   ],
   "source": [
    "df_nyse['date'].min()"
   ]
  },
  {
   "cell_type": "code",
   "execution_count": 35,
   "metadata": {},
   "outputs": [],
   "source": [
    "# loop through all dataframes and merge via outer join, ensuring the df with the most non-null dates is the left object\n",
    "df_stock = pd.merge(df_sse, df_hsi, how = 'outer', on = ['date'])\n",
    "df_stock = pd.merge(df_stock, df_nyse, how = 'outer', on = ['date'])\n",
    "df_stock = pd.merge(df_stock, df_nasdaq, how = 'outer', on = ['date'])\n",
    "df_stock = pd.merge(df_stock, df_jeg, how = 'outer', on = ['date'])"
   ]
  },
  {
   "cell_type": "code",
   "execution_count": 36,
   "metadata": {},
   "outputs": [
    {
     "name": "stdout",
     "output_type": "stream",
     "text": [
      "<class 'pandas.core.frame.DataFrame'>\n",
      "Int64Index: 5964 entries, 0 to 5963\n",
      "Data columns (total 6 columns):\n",
      " #   Column        Non-Null Count  Dtype         \n",
      "---  ------        --------------  -----         \n",
      " 0   date          5964 non-null   datetime64[ns]\n",
      " 1   sse_close     5714 non-null   float64       \n",
      " 2   hsi_close     5023 non-null   float64       \n",
      " 3   nyse_close    5131 non-null   float64       \n",
      " 4   nasdaq_close  5131 non-null   float64       \n",
      " 5   jeg_close     2869 non-null   float64       \n",
      "dtypes: datetime64[ns](1), float64(5)\n",
      "memory usage: 326.2 KB\n"
     ]
    }
   ],
   "source": [
    "df_stock.info()"
   ]
  },
  {
   "cell_type": "code",
   "execution_count": 37,
   "metadata": {},
   "outputs": [],
   "source": [
    "df_stock = df_stock.sort_values(by = ['date'])"
   ]
  },
  {
   "cell_type": "code",
   "execution_count": 38,
   "metadata": {},
   "outputs": [],
   "source": [
    "#lowest minimum date across stock data is 2008-09-05 (df_jeg), so drop all data prior\n",
    "df_stock = df_stock[df_stock['date']>'2008-09-04']"
   ]
  },
  {
   "cell_type": "code",
   "execution_count": 39,
   "metadata": {},
   "outputs": [],
   "source": [
    "df_stock = df_stock.set_index('date')"
   ]
  },
  {
   "cell_type": "code",
   "execution_count": 40,
   "metadata": {},
   "outputs": [
    {
     "data": {
      "text/html": [
       "<div>\n",
       "<style scoped>\n",
       "    .dataframe tbody tr th:only-of-type {\n",
       "        vertical-align: middle;\n",
       "    }\n",
       "\n",
       "    .dataframe tbody tr th {\n",
       "        vertical-align: top;\n",
       "    }\n",
       "\n",
       "    .dataframe thead th {\n",
       "        text-align: right;\n",
       "    }\n",
       "</style>\n",
       "<table border=\"1\" class=\"dataframe\">\n",
       "  <thead>\n",
       "    <tr style=\"text-align: right;\">\n",
       "      <th></th>\n",
       "      <th>sse_close</th>\n",
       "      <th>hsi_close</th>\n",
       "      <th>nyse_close</th>\n",
       "      <th>nasdaq_close</th>\n",
       "      <th>jeg_close</th>\n",
       "    </tr>\n",
       "    <tr>\n",
       "      <th>date</th>\n",
       "      <th></th>\n",
       "      <th></th>\n",
       "      <th></th>\n",
       "      <th></th>\n",
       "      <th></th>\n",
       "    </tr>\n",
       "  </thead>\n",
       "  <tbody>\n",
       "    <tr>\n",
       "      <th>2008-09-05</th>\n",
       "      <td>2202.446045</td>\n",
       "      <td>19933.279297</td>\n",
       "      <td>8033.759766</td>\n",
       "      <td>2255.879883</td>\n",
       "      <td>335.000000</td>\n",
       "    </tr>\n",
       "    <tr>\n",
       "      <th>2008-09-08</th>\n",
       "      <td>2143.420898</td>\n",
       "      <td>20794.269531</td>\n",
       "      <td>8168.620117</td>\n",
       "      <td>2269.760010</td>\n",
       "      <td>343.000000</td>\n",
       "    </tr>\n",
       "    <tr>\n",
       "      <th>2008-09-09</th>\n",
       "      <td>2145.779053</td>\n",
       "      <td>20491.109375</td>\n",
       "      <td>7871.149902</td>\n",
       "      <td>2209.810059</td>\n",
       "      <td>337.864990</td>\n",
       "    </tr>\n",
       "    <tr>\n",
       "      <th>2008-09-10</th>\n",
       "      <td>2150.759033</td>\n",
       "      <td>19999.779297</td>\n",
       "      <td>7957.259766</td>\n",
       "      <td>2228.699951</td>\n",
       "      <td>319.382996</td>\n",
       "    </tr>\n",
       "    <tr>\n",
       "      <th>2008-09-11</th>\n",
       "      <td>2078.980957</td>\n",
       "      <td>19388.720703</td>\n",
       "      <td>8011.250000</td>\n",
       "      <td>2258.219971</td>\n",
       "      <td>290.799988</td>\n",
       "    </tr>\n",
       "  </tbody>\n",
       "</table>\n",
       "</div>"
      ],
      "text/plain": [
       "              sse_close     hsi_close   nyse_close  nasdaq_close   jeg_close\n",
       "date                                                                        \n",
       "2008-09-05  2202.446045  19933.279297  8033.759766   2255.879883  335.000000\n",
       "2008-09-08  2143.420898  20794.269531  8168.620117   2269.760010  343.000000\n",
       "2008-09-09  2145.779053  20491.109375  7871.149902   2209.810059  337.864990\n",
       "2008-09-10  2150.759033  19999.779297  7957.259766   2228.699951  319.382996\n",
       "2008-09-11  2078.980957  19388.720703  8011.250000   2258.219971  290.799988"
      ]
     },
     "execution_count": 40,
     "metadata": {},
     "output_type": "execute_result"
    }
   ],
   "source": [
    "df_stock.head()"
   ]
  },
  {
   "cell_type": "code",
   "execution_count": 41,
   "metadata": {},
   "outputs": [
    {
     "name": "stdout",
     "output_type": "stream",
     "text": [
      "<class 'pandas.core.frame.DataFrame'>\n",
      "DatetimeIndex: 3051 entries, 2008-09-05 to 2020-05-27\n",
      "Data columns (total 5 columns):\n",
      " #   Column        Non-Null Count  Dtype  \n",
      "---  ------        --------------  -----  \n",
      " 0   sse_close     2845 non-null   float64\n",
      " 1   hsi_close     2881 non-null   float64\n",
      " 2   nyse_close    2950 non-null   float64\n",
      " 3   nasdaq_close  2950 non-null   float64\n",
      " 4   jeg_close     2869 non-null   float64\n",
      "dtypes: float64(5)\n",
      "memory usage: 143.0 KB\n"
     ]
    }
   ],
   "source": [
    "df_stock.info()"
   ]
  },
  {
   "cell_type": "code",
   "execution_count": 45,
   "metadata": {},
   "outputs": [],
   "source": [
    "# add up to 10 day lag for all rates\n",
    "for col in df_stock.columns:\n",
    "    for i in range(1,11):\n",
    "        df_stock[f'{col}_lag{i}'] = df_stock[col].shift(i)"
   ]
  },
  {
   "cell_type": "code",
   "execution_count": 46,
   "metadata": {},
   "outputs": [],
   "source": [
    "df_stock.dropna(inplace = True)"
   ]
  },
  {
   "cell_type": "code",
   "execution_count": 47,
   "metadata": {},
   "outputs": [
    {
     "name": "stdout",
     "output_type": "stream",
     "text": [
      "<class 'pandas.core.frame.DataFrame'>\n",
      "DatetimeIndex: 3041 entries, 2008-09-19 to 2020-05-27\n",
      "Data columns (total 55 columns):\n",
      " #   Column              Non-Null Count  Dtype  \n",
      "---  ------              --------------  -----  \n",
      " 0   sse_close           3041 non-null   float64\n",
      " 1   hsi_close           3041 non-null   float64\n",
      " 2   nyse_close          3041 non-null   float64\n",
      " 3   nasdaq_close        3041 non-null   float64\n",
      " 4   jeg_close           3041 non-null   float64\n",
      " 5   sse_close_lag1      3041 non-null   float64\n",
      " 6   sse_close_lag2      3041 non-null   float64\n",
      " 7   sse_close_lag3      3041 non-null   float64\n",
      " 8   sse_close_lag4      3041 non-null   float64\n",
      " 9   sse_close_lag5      3041 non-null   float64\n",
      " 10  sse_close_lag6      3041 non-null   float64\n",
      " 11  sse_close_lag7      3041 non-null   float64\n",
      " 12  sse_close_lag8      3041 non-null   float64\n",
      " 13  sse_close_lag9      3041 non-null   float64\n",
      " 14  sse_close_lag10     3041 non-null   float64\n",
      " 15  hsi_close_lag1      3041 non-null   float64\n",
      " 16  hsi_close_lag2      3041 non-null   float64\n",
      " 17  hsi_close_lag3      3041 non-null   float64\n",
      " 18  hsi_close_lag4      3041 non-null   float64\n",
      " 19  hsi_close_lag5      3041 non-null   float64\n",
      " 20  hsi_close_lag6      3041 non-null   float64\n",
      " 21  hsi_close_lag7      3041 non-null   float64\n",
      " 22  hsi_close_lag8      3041 non-null   float64\n",
      " 23  hsi_close_lag9      3041 non-null   float64\n",
      " 24  hsi_close_lag10     3041 non-null   float64\n",
      " 25  nyse_close_lag1     3041 non-null   float64\n",
      " 26  nyse_close_lag2     3041 non-null   float64\n",
      " 27  nyse_close_lag3     3041 non-null   float64\n",
      " 28  nyse_close_lag4     3041 non-null   float64\n",
      " 29  nyse_close_lag5     3041 non-null   float64\n",
      " 30  nyse_close_lag6     3041 non-null   float64\n",
      " 31  nyse_close_lag7     3041 non-null   float64\n",
      " 32  nyse_close_lag8     3041 non-null   float64\n",
      " 33  nyse_close_lag9     3041 non-null   float64\n",
      " 34  nyse_close_lag10    3041 non-null   float64\n",
      " 35  nasdaq_close_lag1   3041 non-null   float64\n",
      " 36  nasdaq_close_lag2   3041 non-null   float64\n",
      " 37  nasdaq_close_lag3   3041 non-null   float64\n",
      " 38  nasdaq_close_lag4   3041 non-null   float64\n",
      " 39  nasdaq_close_lag5   3041 non-null   float64\n",
      " 40  nasdaq_close_lag6   3041 non-null   float64\n",
      " 41  nasdaq_close_lag7   3041 non-null   float64\n",
      " 42  nasdaq_close_lag8   3041 non-null   float64\n",
      " 43  nasdaq_close_lag9   3041 non-null   float64\n",
      " 44  nasdaq_close_lag10  3041 non-null   float64\n",
      " 45  jeg_close_lag1      3041 non-null   float64\n",
      " 46  jeg_close_lag2      3041 non-null   float64\n",
      " 47  jeg_close_lag3      3041 non-null   float64\n",
      " 48  jeg_close_lag4      3041 non-null   float64\n",
      " 49  jeg_close_lag5      3041 non-null   float64\n",
      " 50  jeg_close_lag6      3041 non-null   float64\n",
      " 51  jeg_close_lag7      3041 non-null   float64\n",
      " 52  jeg_close_lag8      3041 non-null   float64\n",
      " 53  jeg_close_lag9      3041 non-null   float64\n",
      " 54  jeg_close_lag10     3041 non-null   float64\n",
      "dtypes: float64(55)\n",
      "memory usage: 1.3 MB\n"
     ]
    }
   ],
   "source": [
    "df_stock.info()"
   ]
  },
  {
   "cell_type": "code",
   "execution_count": 48,
   "metadata": {},
   "outputs": [
    {
     "data": {
      "text/html": [
       "<div>\n",
       "<style scoped>\n",
       "    .dataframe tbody tr th:only-of-type {\n",
       "        vertical-align: middle;\n",
       "    }\n",
       "\n",
       "    .dataframe tbody tr th {\n",
       "        vertical-align: top;\n",
       "    }\n",
       "\n",
       "    .dataframe thead th {\n",
       "        text-align: right;\n",
       "    }\n",
       "</style>\n",
       "<table border=\"1\" class=\"dataframe\">\n",
       "  <thead>\n",
       "    <tr style=\"text-align: right;\">\n",
       "      <th></th>\n",
       "      <th>sse_close</th>\n",
       "      <th>hsi_close</th>\n",
       "      <th>nyse_close</th>\n",
       "      <th>nasdaq_close</th>\n",
       "      <th>jeg_close</th>\n",
       "      <th>sse_close_lag1</th>\n",
       "      <th>sse_close_lag2</th>\n",
       "      <th>sse_close_lag3</th>\n",
       "      <th>sse_close_lag4</th>\n",
       "      <th>sse_close_lag5</th>\n",
       "      <th>...</th>\n",
       "      <th>jeg_close_lag1</th>\n",
       "      <th>jeg_close_lag2</th>\n",
       "      <th>jeg_close_lag3</th>\n",
       "      <th>jeg_close_lag4</th>\n",
       "      <th>jeg_close_lag5</th>\n",
       "      <th>jeg_close_lag6</th>\n",
       "      <th>jeg_close_lag7</th>\n",
       "      <th>jeg_close_lag8</th>\n",
       "      <th>jeg_close_lag9</th>\n",
       "      <th>jeg_close_lag10</th>\n",
       "    </tr>\n",
       "    <tr>\n",
       "      <th>date</th>\n",
       "      <th></th>\n",
       "      <th></th>\n",
       "      <th></th>\n",
       "      <th></th>\n",
       "      <th></th>\n",
       "      <th></th>\n",
       "      <th></th>\n",
       "      <th></th>\n",
       "      <th></th>\n",
       "      <th></th>\n",
       "      <th></th>\n",
       "      <th></th>\n",
       "      <th></th>\n",
       "      <th></th>\n",
       "      <th></th>\n",
       "      <th></th>\n",
       "      <th></th>\n",
       "      <th></th>\n",
       "      <th></th>\n",
       "      <th></th>\n",
       "      <th></th>\n",
       "    </tr>\n",
       "  </thead>\n",
       "  <tbody>\n",
       "    <tr>\n",
       "      <th>2008-09-19</th>\n",
       "      <td>2075.091064</td>\n",
       "      <td>19327.730469</td>\n",
       "      <td>8187.129883</td>\n",
       "      <td>2273.899902</td>\n",
       "      <td>308.480988</td>\n",
       "      <td>1895.837036</td>\n",
       "      <td>1929.046997</td>\n",
       "      <td>1986.635986</td>\n",
       "      <td>2079.673096</td>\n",
       "      <td>2079.673096</td>\n",
       "      <td>...</td>\n",
       "      <td>287.200012</td>\n",
       "      <td>281.500000</td>\n",
       "      <td>284.500000</td>\n",
       "      <td>296.140991</td>\n",
       "      <td>296.140991</td>\n",
       "      <td>290.799988</td>\n",
       "      <td>319.382996</td>\n",
       "      <td>337.864990</td>\n",
       "      <td>343.000000</td>\n",
       "      <td>335.000000</td>\n",
       "    </tr>\n",
       "    <tr>\n",
       "      <th>2008-09-22</th>\n",
       "      <td>2236.409912</td>\n",
       "      <td>19632.199219</td>\n",
       "      <td>7918.609863</td>\n",
       "      <td>2178.979980</td>\n",
       "      <td>327.000000</td>\n",
       "      <td>2075.091064</td>\n",
       "      <td>1895.837036</td>\n",
       "      <td>1929.046997</td>\n",
       "      <td>1986.635986</td>\n",
       "      <td>2079.673096</td>\n",
       "      <td>...</td>\n",
       "      <td>308.480988</td>\n",
       "      <td>287.200012</td>\n",
       "      <td>281.500000</td>\n",
       "      <td>284.500000</td>\n",
       "      <td>296.140991</td>\n",
       "      <td>296.140991</td>\n",
       "      <td>290.799988</td>\n",
       "      <td>319.382996</td>\n",
       "      <td>337.864990</td>\n",
       "      <td>343.000000</td>\n",
       "    </tr>\n",
       "    <tr>\n",
       "      <th>2008-09-23</th>\n",
       "      <td>2201.510010</td>\n",
       "      <td>18872.849609</td>\n",
       "      <td>7785.270020</td>\n",
       "      <td>2153.330078</td>\n",
       "      <td>327.000000</td>\n",
       "      <td>2236.409912</td>\n",
       "      <td>2075.091064</td>\n",
       "      <td>1895.837036</td>\n",
       "      <td>1929.046997</td>\n",
       "      <td>1986.635986</td>\n",
       "      <td>...</td>\n",
       "      <td>327.000000</td>\n",
       "      <td>308.480988</td>\n",
       "      <td>287.200012</td>\n",
       "      <td>281.500000</td>\n",
       "      <td>284.500000</td>\n",
       "      <td>296.140991</td>\n",
       "      <td>296.140991</td>\n",
       "      <td>290.799988</td>\n",
       "      <td>319.382996</td>\n",
       "      <td>337.864990</td>\n",
       "    </tr>\n",
       "    <tr>\n",
       "      <th>2008-09-24</th>\n",
       "      <td>2216.811035</td>\n",
       "      <td>18961.990234</td>\n",
       "      <td>7768.819824</td>\n",
       "      <td>2155.679932</td>\n",
       "      <td>339.727997</td>\n",
       "      <td>2201.510010</td>\n",
       "      <td>2236.409912</td>\n",
       "      <td>2075.091064</td>\n",
       "      <td>1895.837036</td>\n",
       "      <td>1929.046997</td>\n",
       "      <td>...</td>\n",
       "      <td>327.000000</td>\n",
       "      <td>327.000000</td>\n",
       "      <td>308.480988</td>\n",
       "      <td>287.200012</td>\n",
       "      <td>281.500000</td>\n",
       "      <td>284.500000</td>\n",
       "      <td>296.140991</td>\n",
       "      <td>296.140991</td>\n",
       "      <td>290.799988</td>\n",
       "      <td>319.382996</td>\n",
       "    </tr>\n",
       "    <tr>\n",
       "      <th>2008-09-25</th>\n",
       "      <td>2297.500977</td>\n",
       "      <td>18934.429688</td>\n",
       "      <td>7927.870117</td>\n",
       "      <td>2186.570068</td>\n",
       "      <td>327.000000</td>\n",
       "      <td>2216.811035</td>\n",
       "      <td>2201.510010</td>\n",
       "      <td>2236.409912</td>\n",
       "      <td>2075.091064</td>\n",
       "      <td>1895.837036</td>\n",
       "      <td>...</td>\n",
       "      <td>339.727997</td>\n",
       "      <td>327.000000</td>\n",
       "      <td>327.000000</td>\n",
       "      <td>308.480988</td>\n",
       "      <td>287.200012</td>\n",
       "      <td>281.500000</td>\n",
       "      <td>284.500000</td>\n",
       "      <td>296.140991</td>\n",
       "      <td>296.140991</td>\n",
       "      <td>290.799988</td>\n",
       "    </tr>\n",
       "  </tbody>\n",
       "</table>\n",
       "<p>5 rows × 55 columns</p>\n",
       "</div>"
      ],
      "text/plain": [
       "              sse_close     hsi_close   nyse_close  nasdaq_close   jeg_close  \\\n",
       "date                                                                           \n",
       "2008-09-19  2075.091064  19327.730469  8187.129883   2273.899902  308.480988   \n",
       "2008-09-22  2236.409912  19632.199219  7918.609863   2178.979980  327.000000   \n",
       "2008-09-23  2201.510010  18872.849609  7785.270020   2153.330078  327.000000   \n",
       "2008-09-24  2216.811035  18961.990234  7768.819824   2155.679932  339.727997   \n",
       "2008-09-25  2297.500977  18934.429688  7927.870117   2186.570068  327.000000   \n",
       "\n",
       "            sse_close_lag1  sse_close_lag2  sse_close_lag3  sse_close_lag4  \\\n",
       "date                                                                         \n",
       "2008-09-19     1895.837036     1929.046997     1986.635986     2079.673096   \n",
       "2008-09-22     2075.091064     1895.837036     1929.046997     1986.635986   \n",
       "2008-09-23     2236.409912     2075.091064     1895.837036     1929.046997   \n",
       "2008-09-24     2201.510010     2236.409912     2075.091064     1895.837036   \n",
       "2008-09-25     2216.811035     2201.510010     2236.409912     2075.091064   \n",
       "\n",
       "            sse_close_lag5  ...  jeg_close_lag1  jeg_close_lag2  \\\n",
       "date                        ...                                   \n",
       "2008-09-19     2079.673096  ...      287.200012      281.500000   \n",
       "2008-09-22     2079.673096  ...      308.480988      287.200012   \n",
       "2008-09-23     1986.635986  ...      327.000000      308.480988   \n",
       "2008-09-24     1929.046997  ...      327.000000      327.000000   \n",
       "2008-09-25     1895.837036  ...      339.727997      327.000000   \n",
       "\n",
       "            jeg_close_lag3  jeg_close_lag4  jeg_close_lag5  jeg_close_lag6  \\\n",
       "date                                                                         \n",
       "2008-09-19      284.500000      296.140991      296.140991      290.799988   \n",
       "2008-09-22      281.500000      284.500000      296.140991      296.140991   \n",
       "2008-09-23      287.200012      281.500000      284.500000      296.140991   \n",
       "2008-09-24      308.480988      287.200012      281.500000      284.500000   \n",
       "2008-09-25      327.000000      308.480988      287.200012      281.500000   \n",
       "\n",
       "            jeg_close_lag7  jeg_close_lag8  jeg_close_lag9  jeg_close_lag10  \n",
       "date                                                                         \n",
       "2008-09-19      319.382996      337.864990      343.000000       335.000000  \n",
       "2008-09-22      290.799988      319.382996      337.864990       343.000000  \n",
       "2008-09-23      296.140991      290.799988      319.382996       337.864990  \n",
       "2008-09-24      296.140991      296.140991      290.799988       319.382996  \n",
       "2008-09-25      284.500000      296.140991      296.140991       290.799988  \n",
       "\n",
       "[5 rows x 55 columns]"
      ]
     },
     "execution_count": 48,
     "metadata": {},
     "output_type": "execute_result"
    }
   ],
   "source": [
    "df_stock.head()"
   ]
  },
  {
   "cell_type": "code",
   "execution_count": 49,
   "metadata": {},
   "outputs": [
    {
     "name": "stdout",
     "output_type": "stream",
     "text": [
      "Stored 'df_stock' (DataFrame)\n"
     ]
    }
   ],
   "source": [
    "%store df_stock"
   ]
  },
  {
   "cell_type": "code",
   "execution_count": 50,
   "metadata": {},
   "outputs": [],
   "source": [
    "df_feat = pd.merge(df_rates, df_stock, how = 'inner', on = ['date'])"
   ]
  },
  {
   "cell_type": "code",
   "execution_count": 51,
   "metadata": {},
   "outputs": [
    {
     "name": "stdout",
     "output_type": "stream",
     "text": [
      "<class 'pandas.core.frame.DataFrame'>\n",
      "DatetimeIndex: 3041 entries, 2008-09-19 to 2020-05-27\n",
      "Columns: 110 entries, gbp_rate to jeg_close_lag10\n",
      "dtypes: float64(70), object(40)\n",
      "memory usage: 2.6+ MB\n"
     ]
    }
   ],
   "source": [
    "df_feat.info()"
   ]
  },
  {
   "cell_type": "code",
   "execution_count": 52,
   "metadata": {},
   "outputs": [
    {
     "name": "stdout",
     "output_type": "stream",
     "text": [
      "Stored 'df_feat' (DataFrame)\n"
     ]
    }
   ],
   "source": [
    "%store df_feat"
   ]
  },
  {
   "cell_type": "markdown",
   "metadata": {},
   "source": [
    "## Merge in gold data and create final Xy dataframe for model"
   ]
  },
  {
   "cell_type": "code",
   "execution_count": 53,
   "metadata": {},
   "outputs": [],
   "source": [
    "%store -r df_gold"
   ]
  },
  {
   "cell_type": "code",
   "execution_count": 54,
   "metadata": {},
   "outputs": [
    {
     "name": "stdout",
     "output_type": "stream",
     "text": [
      "<class 'pandas.core.frame.DataFrame'>\n",
      "Int64Index: 7845 entries, 3 to 8417\n",
      "Data columns (total 2 columns):\n",
      " #   Column          Non-Null Count  Dtype         \n",
      "---  ------          --------------  -----         \n",
      " 0   date            7845 non-null   datetime64[ns]\n",
      " 1   gold_price_usd  7845 non-null   float64       \n",
      "dtypes: datetime64[ns](1), float64(1)\n",
      "memory usage: 183.9 KB\n"
     ]
    }
   ],
   "source": [
    "df_gold.info()"
   ]
  },
  {
   "cell_type": "code",
   "execution_count": 55,
   "metadata": {},
   "outputs": [],
   "source": [
    "df_gold.rename(columns = {'gold_price_usd': 'gold'}, inplace = True)"
   ]
  },
  {
   "cell_type": "code",
   "execution_count": 56,
   "metadata": {},
   "outputs": [],
   "source": [
    "for i in range(1,11):\n",
    "    df_gold[f'gold_lag{i}'] = df_gold['gold'].shift(i)"
   ]
  },
  {
   "cell_type": "code",
   "execution_count": 57,
   "metadata": {},
   "outputs": [
    {
     "data": {
      "text/html": [
       "<div>\n",
       "<style scoped>\n",
       "    .dataframe tbody tr th:only-of-type {\n",
       "        vertical-align: middle;\n",
       "    }\n",
       "\n",
       "    .dataframe tbody tr th {\n",
       "        vertical-align: top;\n",
       "    }\n",
       "\n",
       "    .dataframe thead th {\n",
       "        text-align: right;\n",
       "    }\n",
       "</style>\n",
       "<table border=\"1\" class=\"dataframe\">\n",
       "  <thead>\n",
       "    <tr style=\"text-align: right;\">\n",
       "      <th></th>\n",
       "      <th>date</th>\n",
       "      <th>gold</th>\n",
       "      <th>gold_lag1</th>\n",
       "      <th>gold_lag2</th>\n",
       "      <th>gold_lag3</th>\n",
       "      <th>gold_lag4</th>\n",
       "      <th>gold_lag5</th>\n",
       "      <th>gold_lag6</th>\n",
       "      <th>gold_lag7</th>\n",
       "      <th>gold_lag8</th>\n",
       "      <th>gold_lag9</th>\n",
       "      <th>gold_lag10</th>\n",
       "    </tr>\n",
       "  </thead>\n",
       "  <tbody>\n",
       "    <tr>\n",
       "      <th>3</th>\n",
       "      <td>1990-12-31</td>\n",
       "      <td>392.50</td>\n",
       "      <td>NaN</td>\n",
       "      <td>NaN</td>\n",
       "      <td>NaN</td>\n",
       "      <td>NaN</td>\n",
       "      <td>NaN</td>\n",
       "      <td>NaN</td>\n",
       "      <td>NaN</td>\n",
       "      <td>NaN</td>\n",
       "      <td>NaN</td>\n",
       "      <td>NaN</td>\n",
       "    </tr>\n",
       "    <tr>\n",
       "      <th>4</th>\n",
       "      <td>1990-12-28</td>\n",
       "      <td>392.75</td>\n",
       "      <td>392.50</td>\n",
       "      <td>NaN</td>\n",
       "      <td>NaN</td>\n",
       "      <td>NaN</td>\n",
       "      <td>NaN</td>\n",
       "      <td>NaN</td>\n",
       "      <td>NaN</td>\n",
       "      <td>NaN</td>\n",
       "      <td>NaN</td>\n",
       "      <td>NaN</td>\n",
       "    </tr>\n",
       "    <tr>\n",
       "      <th>5</th>\n",
       "      <td>1990-12-27</td>\n",
       "      <td>384.60</td>\n",
       "      <td>392.75</td>\n",
       "      <td>392.50</td>\n",
       "      <td>NaN</td>\n",
       "      <td>NaN</td>\n",
       "      <td>NaN</td>\n",
       "      <td>NaN</td>\n",
       "      <td>NaN</td>\n",
       "      <td>NaN</td>\n",
       "      <td>NaN</td>\n",
       "      <td>NaN</td>\n",
       "    </tr>\n",
       "    <tr>\n",
       "      <th>6</th>\n",
       "      <td>1990-12-26</td>\n",
       "      <td>384.00</td>\n",
       "      <td>384.60</td>\n",
       "      <td>392.75</td>\n",
       "      <td>392.50</td>\n",
       "      <td>NaN</td>\n",
       "      <td>NaN</td>\n",
       "      <td>NaN</td>\n",
       "      <td>NaN</td>\n",
       "      <td>NaN</td>\n",
       "      <td>NaN</td>\n",
       "      <td>NaN</td>\n",
       "    </tr>\n",
       "    <tr>\n",
       "      <th>7</th>\n",
       "      <td>1990-12-25</td>\n",
       "      <td>389.00</td>\n",
       "      <td>384.00</td>\n",
       "      <td>384.60</td>\n",
       "      <td>392.75</td>\n",
       "      <td>392.5</td>\n",
       "      <td>NaN</td>\n",
       "      <td>NaN</td>\n",
       "      <td>NaN</td>\n",
       "      <td>NaN</td>\n",
       "      <td>NaN</td>\n",
       "      <td>NaN</td>\n",
       "    </tr>\n",
       "  </tbody>\n",
       "</table>\n",
       "</div>"
      ],
      "text/plain": [
       "        date    gold  gold_lag1  gold_lag2  gold_lag3  gold_lag4  gold_lag5  \\\n",
       "3 1990-12-31  392.50        NaN        NaN        NaN        NaN        NaN   \n",
       "4 1990-12-28  392.75     392.50        NaN        NaN        NaN        NaN   \n",
       "5 1990-12-27  384.60     392.75     392.50        NaN        NaN        NaN   \n",
       "6 1990-12-26  384.00     384.60     392.75     392.50        NaN        NaN   \n",
       "7 1990-12-25  389.00     384.00     384.60     392.75      392.5        NaN   \n",
       "\n",
       "   gold_lag6  gold_lag7  gold_lag8  gold_lag9  gold_lag10  \n",
       "3        NaN        NaN        NaN        NaN         NaN  \n",
       "4        NaN        NaN        NaN        NaN         NaN  \n",
       "5        NaN        NaN        NaN        NaN         NaN  \n",
       "6        NaN        NaN        NaN        NaN         NaN  \n",
       "7        NaN        NaN        NaN        NaN         NaN  "
      ]
     },
     "execution_count": 57,
     "metadata": {},
     "output_type": "execute_result"
    }
   ],
   "source": [
    "df_gold.head()"
   ]
  },
  {
   "cell_type": "code",
   "execution_count": 58,
   "metadata": {},
   "outputs": [],
   "source": [
    "df_gold.dropna(inplace = True)"
   ]
  },
  {
   "cell_type": "code",
   "execution_count": 59,
   "metadata": {},
   "outputs": [
    {
     "data": {
      "text/html": [
       "<div>\n",
       "<style scoped>\n",
       "    .dataframe tbody tr th:only-of-type {\n",
       "        vertical-align: middle;\n",
       "    }\n",
       "\n",
       "    .dataframe tbody tr th {\n",
       "        vertical-align: top;\n",
       "    }\n",
       "\n",
       "    .dataframe thead th {\n",
       "        text-align: right;\n",
       "    }\n",
       "</style>\n",
       "<table border=\"1\" class=\"dataframe\">\n",
       "  <thead>\n",
       "    <tr style=\"text-align: right;\">\n",
       "      <th></th>\n",
       "      <th>date</th>\n",
       "      <th>gold</th>\n",
       "      <th>gold_lag1</th>\n",
       "      <th>gold_lag2</th>\n",
       "      <th>gold_lag3</th>\n",
       "      <th>gold_lag4</th>\n",
       "      <th>gold_lag5</th>\n",
       "      <th>gold_lag6</th>\n",
       "      <th>gold_lag7</th>\n",
       "      <th>gold_lag8</th>\n",
       "      <th>gold_lag9</th>\n",
       "      <th>gold_lag10</th>\n",
       "    </tr>\n",
       "  </thead>\n",
       "  <tbody>\n",
       "    <tr>\n",
       "      <th>13</th>\n",
       "      <td>1990-12-17</td>\n",
       "      <td>376.50</td>\n",
       "      <td>375.85</td>\n",
       "      <td>384.00</td>\n",
       "      <td>383.40</td>\n",
       "      <td>381.20</td>\n",
       "      <td>383.00</td>\n",
       "      <td>389.0</td>\n",
       "      <td>384.0</td>\n",
       "      <td>384.6</td>\n",
       "      <td>392.75</td>\n",
       "      <td>392.50</td>\n",
       "    </tr>\n",
       "    <tr>\n",
       "      <th>14</th>\n",
       "      <td>1990-12-14</td>\n",
       "      <td>375.80</td>\n",
       "      <td>376.50</td>\n",
       "      <td>375.85</td>\n",
       "      <td>384.00</td>\n",
       "      <td>383.40</td>\n",
       "      <td>381.20</td>\n",
       "      <td>383.0</td>\n",
       "      <td>389.0</td>\n",
       "      <td>384.0</td>\n",
       "      <td>384.60</td>\n",
       "      <td>392.75</td>\n",
       "    </tr>\n",
       "    <tr>\n",
       "      <th>15</th>\n",
       "      <td>1990-12-13</td>\n",
       "      <td>373.05</td>\n",
       "      <td>375.80</td>\n",
       "      <td>376.50</td>\n",
       "      <td>375.85</td>\n",
       "      <td>384.00</td>\n",
       "      <td>383.40</td>\n",
       "      <td>381.2</td>\n",
       "      <td>383.0</td>\n",
       "      <td>389.0</td>\n",
       "      <td>384.00</td>\n",
       "      <td>384.60</td>\n",
       "    </tr>\n",
       "    <tr>\n",
       "      <th>16</th>\n",
       "      <td>1990-12-12</td>\n",
       "      <td>371.50</td>\n",
       "      <td>373.05</td>\n",
       "      <td>375.80</td>\n",
       "      <td>376.50</td>\n",
       "      <td>375.85</td>\n",
       "      <td>384.00</td>\n",
       "      <td>383.4</td>\n",
       "      <td>381.2</td>\n",
       "      <td>383.0</td>\n",
       "      <td>389.00</td>\n",
       "      <td>384.00</td>\n",
       "    </tr>\n",
       "    <tr>\n",
       "      <th>17</th>\n",
       "      <td>1990-12-11</td>\n",
       "      <td>372.00</td>\n",
       "      <td>371.50</td>\n",
       "      <td>373.05</td>\n",
       "      <td>375.80</td>\n",
       "      <td>376.50</td>\n",
       "      <td>375.85</td>\n",
       "      <td>384.0</td>\n",
       "      <td>383.4</td>\n",
       "      <td>381.2</td>\n",
       "      <td>383.00</td>\n",
       "      <td>389.00</td>\n",
       "    </tr>\n",
       "  </tbody>\n",
       "</table>\n",
       "</div>"
      ],
      "text/plain": [
       "         date    gold  gold_lag1  gold_lag2  gold_lag3  gold_lag4  gold_lag5  \\\n",
       "13 1990-12-17  376.50     375.85     384.00     383.40     381.20     383.00   \n",
       "14 1990-12-14  375.80     376.50     375.85     384.00     383.40     381.20   \n",
       "15 1990-12-13  373.05     375.80     376.50     375.85     384.00     383.40   \n",
       "16 1990-12-12  371.50     373.05     375.80     376.50     375.85     384.00   \n",
       "17 1990-12-11  372.00     371.50     373.05     375.80     376.50     375.85   \n",
       "\n",
       "    gold_lag6  gold_lag7  gold_lag8  gold_lag9  gold_lag10  \n",
       "13      389.0      384.0      384.6     392.75      392.50  \n",
       "14      383.0      389.0      384.0     384.60      392.75  \n",
       "15      381.2      383.0      389.0     384.00      384.60  \n",
       "16      383.4      381.2      383.0     389.00      384.00  \n",
       "17      384.0      383.4      381.2     383.00      389.00  "
      ]
     },
     "execution_count": 59,
     "metadata": {},
     "output_type": "execute_result"
    }
   ],
   "source": [
    "df_gold.head()"
   ]
  },
  {
   "cell_type": "code",
   "execution_count": 60,
   "metadata": {},
   "outputs": [],
   "source": [
    "df_Xy = pd.merge(df_feat, df_gold, how = 'inner', on = ['date'])"
   ]
  },
  {
   "cell_type": "code",
   "execution_count": 61,
   "metadata": {},
   "outputs": [
    {
     "data": {
      "text/html": [
       "<div>\n",
       "<style scoped>\n",
       "    .dataframe tbody tr th:only-of-type {\n",
       "        vertical-align: middle;\n",
       "    }\n",
       "\n",
       "    .dataframe tbody tr th {\n",
       "        vertical-align: top;\n",
       "    }\n",
       "\n",
       "    .dataframe thead th {\n",
       "        text-align: right;\n",
       "    }\n",
       "</style>\n",
       "<table border=\"1\" class=\"dataframe\">\n",
       "  <thead>\n",
       "    <tr style=\"text-align: right;\">\n",
       "      <th></th>\n",
       "      <th>date</th>\n",
       "      <th>gbp_rate</th>\n",
       "      <th>usd_rate</th>\n",
       "      <th>eur_rate</th>\n",
       "      <th>aud_rate</th>\n",
       "      <th>yen_rate</th>\n",
       "      <th>gbp_rate_lag1</th>\n",
       "      <th>gbp_rate_lag2</th>\n",
       "      <th>gbp_rate_lag3</th>\n",
       "      <th>gbp_rate_lag4</th>\n",
       "      <th>...</th>\n",
       "      <th>gold_lag1</th>\n",
       "      <th>gold_lag2</th>\n",
       "      <th>gold_lag3</th>\n",
       "      <th>gold_lag4</th>\n",
       "      <th>gold_lag5</th>\n",
       "      <th>gold_lag6</th>\n",
       "      <th>gold_lag7</th>\n",
       "      <th>gold_lag8</th>\n",
       "      <th>gold_lag9</th>\n",
       "      <th>gold_lag10</th>\n",
       "    </tr>\n",
       "  </thead>\n",
       "  <tbody>\n",
       "    <tr>\n",
       "      <th>0</th>\n",
       "      <td>2008-09-19</td>\n",
       "      <td>5.0</td>\n",
       "      <td>2.0</td>\n",
       "      <td>3.25</td>\n",
       "      <td>7.0</td>\n",
       "      <td>0.5</td>\n",
       "      <td>5</td>\n",
       "      <td>5</td>\n",
       "      <td>5</td>\n",
       "      <td>5</td>\n",
       "      <td>...</td>\n",
       "      <td>900.84</td>\n",
       "      <td>888.65</td>\n",
       "      <td>887.20</td>\n",
       "      <td>873.34</td>\n",
       "      <td>884.20</td>\n",
       "      <td>899.80</td>\n",
       "      <td>872.02</td>\n",
       "      <td>883.80</td>\n",
       "      <td>840.35</td>\n",
       "      <td>830.55</td>\n",
       "    </tr>\n",
       "    <tr>\n",
       "      <th>1</th>\n",
       "      <td>2008-09-22</td>\n",
       "      <td>5.0</td>\n",
       "      <td>2.0</td>\n",
       "      <td>3.25</td>\n",
       "      <td>7.0</td>\n",
       "      <td>0.5</td>\n",
       "      <td>5</td>\n",
       "      <td>5</td>\n",
       "      <td>5</td>\n",
       "      <td>5</td>\n",
       "      <td>...</td>\n",
       "      <td>888.65</td>\n",
       "      <td>887.20</td>\n",
       "      <td>873.34</td>\n",
       "      <td>884.20</td>\n",
       "      <td>899.80</td>\n",
       "      <td>872.02</td>\n",
       "      <td>883.80</td>\n",
       "      <td>840.35</td>\n",
       "      <td>830.55</td>\n",
       "      <td>865.15</td>\n",
       "    </tr>\n",
       "    <tr>\n",
       "      <th>2</th>\n",
       "      <td>2008-09-23</td>\n",
       "      <td>5.0</td>\n",
       "      <td>2.0</td>\n",
       "      <td>3.25</td>\n",
       "      <td>7.0</td>\n",
       "      <td>0.5</td>\n",
       "      <td>5</td>\n",
       "      <td>5</td>\n",
       "      <td>5</td>\n",
       "      <td>5</td>\n",
       "      <td>...</td>\n",
       "      <td>887.20</td>\n",
       "      <td>873.34</td>\n",
       "      <td>884.20</td>\n",
       "      <td>899.80</td>\n",
       "      <td>872.02</td>\n",
       "      <td>883.80</td>\n",
       "      <td>840.35</td>\n",
       "      <td>830.55</td>\n",
       "      <td>865.15</td>\n",
       "      <td>879.90</td>\n",
       "    </tr>\n",
       "    <tr>\n",
       "      <th>3</th>\n",
       "      <td>2008-09-24</td>\n",
       "      <td>5.0</td>\n",
       "      <td>2.0</td>\n",
       "      <td>3.25</td>\n",
       "      <td>7.0</td>\n",
       "      <td>0.5</td>\n",
       "      <td>5</td>\n",
       "      <td>5</td>\n",
       "      <td>5</td>\n",
       "      <td>5</td>\n",
       "      <td>...</td>\n",
       "      <td>873.34</td>\n",
       "      <td>884.20</td>\n",
       "      <td>899.80</td>\n",
       "      <td>872.02</td>\n",
       "      <td>883.80</td>\n",
       "      <td>840.35</td>\n",
       "      <td>830.55</td>\n",
       "      <td>865.15</td>\n",
       "      <td>879.90</td>\n",
       "      <td>897.20</td>\n",
       "    </tr>\n",
       "    <tr>\n",
       "      <th>4</th>\n",
       "      <td>2008-09-25</td>\n",
       "      <td>5.0</td>\n",
       "      <td>2.0</td>\n",
       "      <td>3.25</td>\n",
       "      <td>7.0</td>\n",
       "      <td>0.5</td>\n",
       "      <td>5</td>\n",
       "      <td>5</td>\n",
       "      <td>5</td>\n",
       "      <td>5</td>\n",
       "      <td>...</td>\n",
       "      <td>884.20</td>\n",
       "      <td>899.80</td>\n",
       "      <td>872.02</td>\n",
       "      <td>883.80</td>\n",
       "      <td>840.35</td>\n",
       "      <td>830.55</td>\n",
       "      <td>865.15</td>\n",
       "      <td>879.90</td>\n",
       "      <td>897.20</td>\n",
       "      <td>882.98</td>\n",
       "    </tr>\n",
       "  </tbody>\n",
       "</table>\n",
       "<p>5 rows × 122 columns</p>\n",
       "</div>"
      ],
      "text/plain": [
       "        date  gbp_rate  usd_rate  eur_rate  aud_rate  yen_rate gbp_rate_lag1  \\\n",
       "0 2008-09-19       5.0       2.0      3.25       7.0       0.5             5   \n",
       "1 2008-09-22       5.0       2.0      3.25       7.0       0.5             5   \n",
       "2 2008-09-23       5.0       2.0      3.25       7.0       0.5             5   \n",
       "3 2008-09-24       5.0       2.0      3.25       7.0       0.5             5   \n",
       "4 2008-09-25       5.0       2.0      3.25       7.0       0.5             5   \n",
       "\n",
       "  gbp_rate_lag2 gbp_rate_lag3 gbp_rate_lag4  ... gold_lag1 gold_lag2  \\\n",
       "0             5             5             5  ...    900.84    888.65   \n",
       "1             5             5             5  ...    888.65    887.20   \n",
       "2             5             5             5  ...    887.20    873.34   \n",
       "3             5             5             5  ...    873.34    884.20   \n",
       "4             5             5             5  ...    884.20    899.80   \n",
       "\n",
       "  gold_lag3 gold_lag4 gold_lag5 gold_lag6  gold_lag7  gold_lag8  gold_lag9  \\\n",
       "0    887.20    873.34    884.20    899.80     872.02     883.80     840.35   \n",
       "1    873.34    884.20    899.80    872.02     883.80     840.35     830.55   \n",
       "2    884.20    899.80    872.02    883.80     840.35     830.55     865.15   \n",
       "3    899.80    872.02    883.80    840.35     830.55     865.15     879.90   \n",
       "4    872.02    883.80    840.35    830.55     865.15     879.90     897.20   \n",
       "\n",
       "   gold_lag10  \n",
       "0      830.55  \n",
       "1      865.15  \n",
       "2      879.90  \n",
       "3      897.20  \n",
       "4      882.98  \n",
       "\n",
       "[5 rows x 122 columns]"
      ]
     },
     "execution_count": 61,
     "metadata": {},
     "output_type": "execute_result"
    }
   ],
   "source": [
    "df_Xy.head()"
   ]
  },
  {
   "cell_type": "code",
   "execution_count": 62,
   "metadata": {},
   "outputs": [
    {
     "name": "stdout",
     "output_type": "stream",
     "text": [
      "Stored 'df_Xy' (DataFrame)\n"
     ]
    }
   ],
   "source": [
    "%store df_Xy"
   ]
  },
  {
   "cell_type": "code",
   "execution_count": null,
   "metadata": {},
   "outputs": [],
   "source": []
  }
 ],
 "metadata": {
  "kernelspec": {
   "display_name": "Python 3",
   "language": "python",
   "name": "python3"
  },
  "language_info": {
   "codemirror_mode": {
    "name": "ipython",
    "version": 3
   },
   "file_extension": ".py",
   "mimetype": "text/x-python",
   "name": "python",
   "nbconvert_exporter": "python",
   "pygments_lexer": "ipython3",
   "version": "3.7.7"
  }
 },
 "nbformat": 4,
 "nbformat_minor": 4
}
