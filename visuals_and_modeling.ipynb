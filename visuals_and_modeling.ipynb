{
 "cells": [
  {
   "cell_type": "code",
   "execution_count": 1,
   "metadata": {},
   "outputs": [],
   "source": [
    "import pandas as pd\n",
    "import numpy as np\n",
    "import scipy.stats as stats\n",
    "\n",
    "%matplotlib inline\n",
    "import matplotlib.pyplot as plt\n",
    "plt.style.use('ggplot')"
   ]
  },
  {
   "cell_type": "code",
   "execution_count": 2,
   "metadata": {},
   "outputs": [],
   "source": [
    "import sklearn\n",
    "from sklearn.ensemble import GradientBoostingRegressor\n",
    "from sklearn.inspection import permutation_importance\n",
    "from sklearn.model_selection import cross_val_score"
   ]
  },
  {
   "cell_type": "code",
   "execution_count": 3,
   "metadata": {},
   "outputs": [],
   "source": [
    "from scipy.stats import pearsonr"
   ]
  },
  {
   "cell_type": "code",
   "execution_count": 4,
   "metadata": {},
   "outputs": [],
   "source": [
    "%store -r df_Xy"
   ]
  },
  {
   "cell_type": "code",
   "execution_count": 5,
   "metadata": {},
   "outputs": [
    {
     "name": "stdout",
     "output_type": "stream",
     "text": [
      "<class 'pandas.core.frame.DataFrame'>\n",
      "DatetimeIndex: 5894 entries, 1997-07-02 to 2020-05-27\n",
      "Columns: 242 entries, gbp_rate to gold_change%_lag10\n",
      "dtypes: float64(242)\n",
      "memory usage: 10.9 MB\n"
     ]
    }
   ],
   "source": [
    "df_Xy.info()"
   ]
  },
  {
   "cell_type": "markdown",
   "metadata": {},
   "source": [
    "# We want to investigate the predictivty of central bank policy rates and stock market index performance as they relate to the price of gold. \n",
    "### We have the most recent 10 years of daily data from the following sources:\n",
    "### Features:\n",
    "#### Top 5 equity market indices by market capitalization, per Statista: https://www.statista.com/statistics/270126/largest-stock-exchange-operators-by-market-capitalization-of-listed-companies/, and their corresponding daily performance\n",
    "NYSE Composite Index history: https://finance.yahoo.com/quote/%5ENYA?p=^NYA&.tsrc=fin-srch\n",
    "NASDAQ Composite Index history: https://finance.yahoo.com/quote/%5EIXIC?p=^IXIC&.tsrc=fin-srch\n",
    "Japan Exchange Group Composite Index history: https://finance.yahoo.com/quote/8697.T?p=8697.T&.tsrc=fin-srch\n",
    "Shanghai Stock Exchange Composite Index history: https://finance.yahoo.com/quote/%5ESSEC?p=^SSEC&.tsrc=fin-srch\n",
    "Hang Seng (Hong Kong) Index History: https://finance.yahoo.com/quote/%5EHSI?p=^HSI&.tsrc=fin-srch\n",
    "#### Top 5 Currencies Globally in Forex Trading (https://www.ig.com/us/trading-strategies/top-10-most-traded-currency-pairs-191206), and their corresponding central bank policy rates\n",
    "The Fed (USD): https://fred.stlouisfed.org/series/FEDFUNDS\n",
    "ECB (EUR): https://www.ecb.europa.eu/stats/policy_and_exchange_rates/key_ecb_interest_rates/html/index.en.html\n",
    "BoJ (JPY): https://fred.stlouisfed.org/series/IRSTCI01JPM156N\n",
    "United Kingdom (GBP): https://fred.stlouisfed.org/series/GBPONTD156N\n",
    "Australia (AUD): https://www.rba.gov.au/statistics/cash-rate/\n",
    "#### Daily price of gold (10-day lag): https://www.usagold.com/reference/prices/goldhistory.php\n",
    "\n",
    "\n",
    "\n",
    "### Targets:\n",
    "#### Daily price of gold, daily percent change price of gold: https://www.usagold.com/reference/prices/goldhistory.php\n",
    "\n",
    "## As the data sits, we currently have both daily policy rates and index scores - each with up to a ten day lag as the data. This translates to 242 features in our would-be model.\n",
    "\n",
    "### For sake of dimensionality reduction, let's take a look at the correlational relationships between all of the features and our would-be variables. We can use these correlations to determine which features should stick around in our final model."
   ]
  },
  {
   "cell_type": "code",
   "execution_count": null,
   "metadata": {},
   "outputs": [],
   "source": []
  }
 ],
 "metadata": {
  "kernelspec": {
   "display_name": "Python 3",
   "language": "python",
   "name": "python3"
  },
  "language_info": {
   "codemirror_mode": {
    "name": "ipython",
    "version": 3
   },
   "file_extension": ".py",
   "mimetype": "text/x-python",
   "name": "python",
   "nbconvert_exporter": "python",
   "pygments_lexer": "ipython3",
   "version": "3.7.7"
  }
 },
 "nbformat": 4,
 "nbformat_minor": 4
}
