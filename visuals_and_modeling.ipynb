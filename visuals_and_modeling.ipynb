{
 "cells": [
  {
   "cell_type": "code",
   "execution_count": 1,
   "metadata": {},
   "outputs": [],
   "source": [
    "import pandas as pd\n",
    "import numpy as np\n",
    "import scipy.stats as stats\n",
    "\n",
    "%matplotlib inline\n",
    "import matplotlib.pyplot as plt\n",
    "plt.style.use('ggplot')"
   ]
  },
  {
   "cell_type": "code",
   "execution_count": 2,
   "metadata": {},
   "outputs": [],
   "source": [
    "import sklearn\n",
    "from sklearn.ensemble import GradientBoostingRegressor\n",
    "from sklearn.inspection import permutation_importance\n",
    "from sklearn.model_selection import cross_val_score"
   ]
  },
  {
   "cell_type": "code",
   "execution_count": 3,
   "metadata": {},
   "outputs": [],
   "source": [
    "from scipy.stats import pearsonr"
   ]
  },
  {
   "cell_type": "code",
   "execution_count": 4,
   "metadata": {},
   "outputs": [],
   "source": [
    "%store -r df_Xy"
   ]
  },
  {
   "cell_type": "code",
   "execution_count": 5,
   "metadata": {},
   "outputs": [
    {
     "name": "stdout",
     "output_type": "stream",
     "text": [
      "<class 'pandas.core.frame.DataFrame'>\n",
      "DatetimeIndex: 5894 entries, 1997-07-02 to 2020-05-27\n",
      "Columns: 242 entries, gbp_rate to gold_change%_lag10\n",
      "dtypes: float64(242)\n",
      "memory usage: 10.9 MB\n"
     ]
    }
   ],
   "source": [
    "df_Xy.info()"
   ]
  },
  {
   "cell_type": "markdown",
   "metadata": {},
   "source": [
    "# We want to investigate the predictivty of central bank policy rates and stock market index performance as they relate to the price of gold. \n",
    "### We have the most recent 10 years of daily data from the following sources:\n",
    "### Features:\n",
    "#### Top 5 equity market indices by market capitalization, per Statista: https://www.statista.com/statistics/270126/largest-stock-exchange-operators-by-market-capitalization-of-listed-companies/, and their corresponding daily performance and percent change\n",
    "NYSE Composite Index history: https://finance.yahoo.com/quote/%5ENYA?p=^NYA&.tsrc=fin-srch\n",
    "NASDAQ Composite Index history: https://finance.yahoo.com/quote/%5EIXIC?p=^IXIC&.tsrc=fin-srch\n",
    "Japan Exchange Group Composite Index history: https://finance.yahoo.com/quote/8697.T?p=8697.T&.tsrc=fin-srch\n",
    "Shanghai Stock Exchange Composite Index history: https://finance.yahoo.com/quote/%5ESSEC?p=^SSEC&.tsrc=fin-srch\n",
    "Hang Seng (Hong Kong) Index History: https://finance.yahoo.com/quote/%5EHSI?p=^HSI&.tsrc=fin-srch\n",
    "#### Top 5 Currencies Globally in Forex Trading (https://www.ig.com/us/trading-strategies/top-10-most-traded-currency-pairs-191206), and their corresponding daily central bank policy rates and percent change\n",
    "The Fed (USD): https://fred.stlouisfed.org/series/FEDFUNDS\n",
    "ECB (EUR): https://www.ecb.europa.eu/stats/policy_and_exchange_rates/key_ecb_interest_rates/html/index.en.html\n",
    "BoJ (JPY): https://fred.stlouisfed.org/series/IRSTCI01JPM156N\n",
    "United Kingdom (GBP): https://fred.stlouisfed.org/series/GBPONTD156N\n",
    "Australia (AUD): https://www.rba.gov.au/statistics/cash-rate/\n",
    "#### Daily price of gold  and percent change (up to 10-day lag): https://www.usagold.com/reference/prices/goldhistory.php\n",
    "\n",
    "\n",
    "\n",
    "### Targets:\n",
    "#### Daily price of gold, daily percent change price of gold: https://www.usagold.com/reference/prices/goldhistory.php\n",
    "\n",
    "## As the data sits, we currently have both daily policy rates and index scores - each with up to a ten day lag as the data. This translates to 242 features in our would-be model.\n",
    "\n",
    "### For sake of dimensionality reduction, let's first get just the raw values into one data frame, and the percent change values into another. It will be interesting to see if gold's price or gold's percent price change is 'easier' to predict. "
   ]
  },
  {
   "cell_type": "code",
   "execution_count": 6,
   "metadata": {},
   "outputs": [
    {
     "data": {
      "text/plain": [
       "(['gbp_rate_change',\n",
       "  'usd_rate_change',\n",
       "  'eur_rate_change',\n",
       "  'aud_rate_change',\n",
       "  'yen_rate_change',\n",
       "  'gbp_rate_change_lag1',\n",
       "  'gbp_rate_change_lag2',\n",
       "  'gbp_rate_change_lag3',\n",
       "  'gbp_rate_change_lag4',\n",
       "  'gbp_rate_change_lag5',\n",
       "  'gbp_rate_change_lag6',\n",
       "  'gbp_rate_change_lag7',\n",
       "  'gbp_rate_change_lag8',\n",
       "  'gbp_rate_change_lag9',\n",
       "  'gbp_rate_change_lag10',\n",
       "  'usd_rate_change_lag1',\n",
       "  'usd_rate_change_lag2',\n",
       "  'usd_rate_change_lag3',\n",
       "  'usd_rate_change_lag4',\n",
       "  'usd_rate_change_lag5',\n",
       "  'usd_rate_change_lag6',\n",
       "  'usd_rate_change_lag7',\n",
       "  'usd_rate_change_lag8',\n",
       "  'usd_rate_change_lag9',\n",
       "  'usd_rate_change_lag10',\n",
       "  'eur_rate_change_lag1',\n",
       "  'eur_rate_change_lag2',\n",
       "  'eur_rate_change_lag3',\n",
       "  'eur_rate_change_lag4',\n",
       "  'eur_rate_change_lag5',\n",
       "  'eur_rate_change_lag6',\n",
       "  'eur_rate_change_lag7',\n",
       "  'eur_rate_change_lag8',\n",
       "  'eur_rate_change_lag9',\n",
       "  'eur_rate_change_lag10',\n",
       "  'aud_rate_change_lag1',\n",
       "  'aud_rate_change_lag2',\n",
       "  'aud_rate_change_lag3',\n",
       "  'aud_rate_change_lag4',\n",
       "  'aud_rate_change_lag5',\n",
       "  'aud_rate_change_lag6',\n",
       "  'aud_rate_change_lag7',\n",
       "  'aud_rate_change_lag8',\n",
       "  'aud_rate_change_lag9',\n",
       "  'aud_rate_change_lag10',\n",
       "  'yen_rate_change_lag1',\n",
       "  'yen_rate_change_lag2',\n",
       "  'yen_rate_change_lag3',\n",
       "  'yen_rate_change_lag4',\n",
       "  'yen_rate_change_lag5',\n",
       "  'yen_rate_change_lag6',\n",
       "  'yen_rate_change_lag7',\n",
       "  'yen_rate_change_lag8',\n",
       "  'yen_rate_change_lag9',\n",
       "  'yen_rate_change_lag10',\n",
       "  'sse_change%',\n",
       "  'hsi_change%',\n",
       "  'nyse_change%',\n",
       "  'nasdaq_change%',\n",
       "  'jeg_change%',\n",
       "  'sse_change%_lag1',\n",
       "  'sse_change%_lag2',\n",
       "  'sse_change%_lag3',\n",
       "  'sse_change%_lag4',\n",
       "  'sse_change%_lag5',\n",
       "  'sse_change%_lag6',\n",
       "  'sse_change%_lag7',\n",
       "  'sse_change%_lag8',\n",
       "  'sse_change%_lag9',\n",
       "  'sse_change%_lag10',\n",
       "  'hsi_change%_lag1',\n",
       "  'hsi_change%_lag2',\n",
       "  'hsi_change%_lag3',\n",
       "  'hsi_change%_lag4',\n",
       "  'hsi_change%_lag5',\n",
       "  'hsi_change%_lag6',\n",
       "  'hsi_change%_lag7',\n",
       "  'hsi_change%_lag8',\n",
       "  'hsi_change%_lag9',\n",
       "  'hsi_change%_lag10',\n",
       "  'nyse_change%_lag1',\n",
       "  'nyse_change%_lag2',\n",
       "  'nyse_change%_lag3',\n",
       "  'nyse_change%_lag4',\n",
       "  'nyse_change%_lag5',\n",
       "  'nyse_change%_lag6',\n",
       "  'nyse_change%_lag7',\n",
       "  'nyse_change%_lag8',\n",
       "  'nyse_change%_lag9',\n",
       "  'nyse_change%_lag10',\n",
       "  'nasdaq_change%_lag1',\n",
       "  'nasdaq_change%_lag2',\n",
       "  'nasdaq_change%_lag3',\n",
       "  'nasdaq_change%_lag4',\n",
       "  'nasdaq_change%_lag5',\n",
       "  'nasdaq_change%_lag6',\n",
       "  'nasdaq_change%_lag7',\n",
       "  'nasdaq_change%_lag8',\n",
       "  'nasdaq_change%_lag9',\n",
       "  'nasdaq_change%_lag10',\n",
       "  'jeg_change%_lag1',\n",
       "  'jeg_change%_lag2',\n",
       "  'jeg_change%_lag3',\n",
       "  'jeg_change%_lag4',\n",
       "  'jeg_change%_lag5',\n",
       "  'jeg_change%_lag6',\n",
       "  'jeg_change%_lag7',\n",
       "  'jeg_change%_lag8',\n",
       "  'jeg_change%_lag9',\n",
       "  'jeg_change%_lag10',\n",
       "  'gold_change%',\n",
       "  'gold_change%_lag1',\n",
       "  'gold_change%_lag2',\n",
       "  'gold_change%_lag3',\n",
       "  'gold_change%_lag4',\n",
       "  'gold_change%_lag5',\n",
       "  'gold_change%_lag6',\n",
       "  'gold_change%_lag7',\n",
       "  'gold_change%_lag8',\n",
       "  'gold_change%_lag9',\n",
       "  'gold_change%_lag10'],\n",
       " ['gbp_rate',\n",
       "  'usd_rate',\n",
       "  'eur_rate',\n",
       "  'aud_rate',\n",
       "  'yen_rate',\n",
       "  'gbp_rate_lag1',\n",
       "  'gbp_rate_lag2',\n",
       "  'gbp_rate_lag3',\n",
       "  'gbp_rate_lag4',\n",
       "  'gbp_rate_lag5',\n",
       "  'gbp_rate_lag6',\n",
       "  'gbp_rate_lag7',\n",
       "  'gbp_rate_lag8',\n",
       "  'gbp_rate_lag9',\n",
       "  'gbp_rate_lag10',\n",
       "  'usd_rate_lag1',\n",
       "  'usd_rate_lag2',\n",
       "  'usd_rate_lag3',\n",
       "  'usd_rate_lag4',\n",
       "  'usd_rate_lag5',\n",
       "  'usd_rate_lag6',\n",
       "  'usd_rate_lag7',\n",
       "  'usd_rate_lag8',\n",
       "  'usd_rate_lag9',\n",
       "  'usd_rate_lag10',\n",
       "  'eur_rate_lag1',\n",
       "  'eur_rate_lag2',\n",
       "  'eur_rate_lag3',\n",
       "  'eur_rate_lag4',\n",
       "  'eur_rate_lag5',\n",
       "  'eur_rate_lag6',\n",
       "  'eur_rate_lag7',\n",
       "  'eur_rate_lag8',\n",
       "  'eur_rate_lag9',\n",
       "  'eur_rate_lag10',\n",
       "  'aud_rate_lag1',\n",
       "  'aud_rate_lag2',\n",
       "  'aud_rate_lag3',\n",
       "  'aud_rate_lag4',\n",
       "  'aud_rate_lag5',\n",
       "  'aud_rate_lag6',\n",
       "  'aud_rate_lag7',\n",
       "  'aud_rate_lag8',\n",
       "  'aud_rate_lag9',\n",
       "  'aud_rate_lag10',\n",
       "  'yen_rate_lag1',\n",
       "  'yen_rate_lag2',\n",
       "  'yen_rate_lag3',\n",
       "  'yen_rate_lag4',\n",
       "  'yen_rate_lag5',\n",
       "  'yen_rate_lag6',\n",
       "  'yen_rate_lag7',\n",
       "  'yen_rate_lag8',\n",
       "  'yen_rate_lag9',\n",
       "  'yen_rate_lag10',\n",
       "  'sse_close',\n",
       "  'hsi_close',\n",
       "  'nyse_close',\n",
       "  'nasdaq_close',\n",
       "  'jeg_close',\n",
       "  'sse_close_lag1',\n",
       "  'sse_close_lag2',\n",
       "  'sse_close_lag3',\n",
       "  'sse_close_lag4',\n",
       "  'sse_close_lag5',\n",
       "  'sse_close_lag6',\n",
       "  'sse_close_lag7',\n",
       "  'sse_close_lag8',\n",
       "  'sse_close_lag9',\n",
       "  'sse_close_lag10',\n",
       "  'hsi_close_lag1',\n",
       "  'hsi_close_lag2',\n",
       "  'hsi_close_lag3',\n",
       "  'hsi_close_lag4',\n",
       "  'hsi_close_lag5',\n",
       "  'hsi_close_lag6',\n",
       "  'hsi_close_lag7',\n",
       "  'hsi_close_lag8',\n",
       "  'hsi_close_lag9',\n",
       "  'hsi_close_lag10',\n",
       "  'nyse_close_lag1',\n",
       "  'nyse_close_lag2',\n",
       "  'nyse_close_lag3',\n",
       "  'nyse_close_lag4',\n",
       "  'nyse_close_lag5',\n",
       "  'nyse_close_lag6',\n",
       "  'nyse_close_lag7',\n",
       "  'nyse_close_lag8',\n",
       "  'nyse_close_lag9',\n",
       "  'nyse_close_lag10',\n",
       "  'nasdaq_close_lag1',\n",
       "  'nasdaq_close_lag2',\n",
       "  'nasdaq_close_lag3',\n",
       "  'nasdaq_close_lag4',\n",
       "  'nasdaq_close_lag5',\n",
       "  'nasdaq_close_lag6',\n",
       "  'nasdaq_close_lag7',\n",
       "  'nasdaq_close_lag8',\n",
       "  'nasdaq_close_lag9',\n",
       "  'nasdaq_close_lag10',\n",
       "  'jeg_close_lag1',\n",
       "  'jeg_close_lag2',\n",
       "  'jeg_close_lag3',\n",
       "  'jeg_close_lag4',\n",
       "  'jeg_close_lag5',\n",
       "  'jeg_close_lag6',\n",
       "  'jeg_close_lag7',\n",
       "  'jeg_close_lag8',\n",
       "  'jeg_close_lag9',\n",
       "  'jeg_close_lag10',\n",
       "  'gold',\n",
       "  'gold_lag1',\n",
       "  'gold_lag2',\n",
       "  'gold_lag3',\n",
       "  'gold_lag4',\n",
       "  'gold_lag5',\n",
       "  'gold_lag6',\n",
       "  'gold_lag7',\n",
       "  'gold_lag8',\n",
       "  'gold_lag9',\n",
       "  'gold_lag10'])"
      ]
     },
     "execution_count": 6,
     "metadata": {},
     "output_type": "execute_result"
    }
   ],
   "source": [
    "# store 'change' column titles to create separate dataframes\n",
    "\n",
    "col_dif = []\n",
    "col_raw = []\n",
    "for col in df_Xy.columns:\n",
    "    if 'change%' in col:\n",
    "        col_change.append(col)\n",
    "    elif 'dif' in col:\n",
    "        col_dif.append(col)\n",
    "    else:\n",
    "        col_raw.append(col)"
   ]
  },
  {
   "cell_type": "code",
   "execution_count": 7,
   "metadata": {},
   "outputs": [],
   "source": [
    "# create three separate dataframes, one with raw values, one with differences, and one with percent change\n",
    "\n",
    "df_Xy_raw = df_Xy[col_raw].dropna()\n",
    "\n",
    "df_Xy_dif = df_Xy[col_dif].dropna()\n",
    "\n",
    "df_Xy_change = df_Xy[col_change].dropna()"
   ]
  },
  {
   "cell_type": "code",
   "execution_count": 8,
   "metadata": {},
   "outputs": [
    {
     "name": "stdout",
     "output_type": "stream",
     "text": [
      "<class 'pandas.core.frame.DataFrame'>\n",
      "DatetimeIndex: 3022 entries, 2008-09-19 to 2020-05-27\n",
      "Columns: 121 entries, gbp_rate to gold_lag10\n",
      "dtypes: float64(121)\n",
      "memory usage: 2.8 MB\n"
     ]
    }
   ],
   "source": [
    "df_Xy_raw.info()"
   ]
  },
  {
   "cell_type": "code",
   "execution_count": null,
   "metadata": {},
   "outputs": [],
   "source": [
    "df_Xy_df.info()"
   ]
  },
  {
   "cell_type": "code",
   "execution_count": 9,
   "metadata": {},
   "outputs": [
    {
     "name": "stdout",
     "output_type": "stream",
     "text": [
      "<class 'pandas.core.frame.DataFrame'>\n",
      "DatetimeIndex: 5894 entries, 1997-07-02 to 2020-05-27\n",
      "Columns: 121 entries, gbp_rate_change to gold_change%_lag10\n",
      "dtypes: float64(121)\n",
      "memory usage: 5.5 MB\n"
     ]
    }
   ],
   "source": [
    "df_Xy_change.info()"
   ]
  },
  {
   "cell_type": "markdown",
   "metadata": {},
   "source": [
    "#### To compare models on a level playing field, we need to ensure the same date range is being used for both the raw and the change data. Let's take a look at the date ranges in all of our datasets"
   ]
  },
  {
   "cell_type": "code",
   "execution_count": null,
   "metadata": {},
   "outputs": [],
   "source": []
  },
  {
   "cell_type": "code",
   "execution_count": 10,
   "metadata": {},
   "outputs": [],
   "source": [
    "to_drop = df_Xy_change.index[df_Xy_change.index < '2008-09-19']\n",
    "\n",
    "df_Xy_change.drop(to_drop, inplace = True)"
   ]
  },
  {
   "cell_type": "code",
   "execution_count": 11,
   "metadata": {},
   "outputs": [
    {
     "name": "stdout",
     "output_type": "stream",
     "text": [
      "<class 'pandas.core.frame.DataFrame'>\n",
      "DatetimeIndex: 3022 entries, 2008-09-19 to 2020-05-27\n",
      "Columns: 121 entries, gbp_rate_change to gold_change%_lag10\n",
      "dtypes: float64(121)\n",
      "memory usage: 2.8 MB\n"
     ]
    }
   ],
   "source": [
    "df_Xy_change.info()"
   ]
  },
  {
   "cell_type": "code",
   "execution_count": 12,
   "metadata": {},
   "outputs": [],
   "source": [
    "# create X,y pairs for both raw and percent change dataframes\n",
    "\n",
    "X_raw = df_Xy_raw.drop(columns = ['gold'])\n",
    "y_raw = df_Xy_raw['gold']\n",
    "\n",
    "X_change = df_Xy_change.drop(columns = ['gold_change%'])\n",
    "y_change = df_Xy_change['gold_change%']"
   ]
  },
  {
   "cell_type": "markdown",
   "metadata": {},
   "source": [
    "### Now, to inform our feature selection for our models, let's take a look at the linear relationships between our X features and y targets in both datasets."
   ]
  },
  {
   "cell_type": "code",
   "execution_count": null,
   "metadata": {},
   "outputs": [],
   "source": []
  }
 ],
 "metadata": {
  "kernelspec": {
   "display_name": "Python 3",
   "language": "python",
   "name": "python3"
  },
  "language_info": {
   "codemirror_mode": {
    "name": "ipython",
    "version": 3
   },
   "file_extension": ".py",
   "mimetype": "text/x-python",
   "name": "python",
   "nbconvert_exporter": "python",
   "pygments_lexer": "ipython3",
   "version": "3.7.7"
  }
 },
 "nbformat": 4,
 "nbformat_minor": 4
}
