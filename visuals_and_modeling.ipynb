{
 "cells": [
  {
   "cell_type": "code",
   "execution_count": 1,
   "metadata": {},
   "outputs": [],
   "source": [
    "import pandas as pd\n",
    "import numpy as np\n",
    "import scipy.stats as stats\n",
    "\n",
    "%matplotlib inline\n",
    "import matplotlib.pyplot as plt\n",
    "plt.style.use('ggplot')"
   ]
  },
  {
   "cell_type": "code",
   "execution_count": 2,
   "metadata": {},
   "outputs": [],
   "source": [
    "import sklearn\n",
    "from sklearn.ensemble import GradientBoostingRegressor\n",
    "from sklearn.inspection import permutation_importance\n",
    "from sklearn.model_selection import cross_val_score"
   ]
  },
  {
   "cell_type": "code",
   "execution_count": 3,
   "metadata": {},
   "outputs": [],
   "source": [
    "from scipy.stats import pearsonr"
   ]
  },
  {
   "cell_type": "code",
   "execution_count": 4,
   "metadata": {},
   "outputs": [],
   "source": [
    "%store -r df_Xy"
   ]
  },
  {
   "cell_type": "code",
   "execution_count": 5,
   "metadata": {},
   "outputs": [
    {
     "name": "stdout",
     "output_type": "stream",
     "text": [
      "<class 'pandas.core.frame.DataFrame'>\n",
      "DatetimeIndex: 5894 entries, 1997-07-02 to 2020-05-27\n",
      "Columns: 242 entries, gbp_rate to gold_change%_lag10\n",
      "dtypes: float64(242)\n",
      "memory usage: 10.9 MB\n"
     ]
    }
   ],
   "source": [
    "df_Xy.info()"
   ]
  },
  {
   "cell_type": "markdown",
   "metadata": {},
   "source": [
    "# We want to investigate the predictivty of central bank policy rates and stock market index performance as they relate to the price of gold. \n",
    "### We have the most recent 10 years of daily data from the following sources:\n",
    "### Features:\n",
    "#### Top 5 equity market indices by market capitalization, per Statista: https://www.statista.com/statistics/270126/largest-stock-exchange-operators-by-market-capitalization-of-listed-companies/, and their corresponding daily performance and percent change\n",
    "NYSE Composite Index history: https://finance.yahoo.com/quote/%5ENYA?p=^NYA&.tsrc=fin-srch\n",
    "NASDAQ Composite Index history: https://finance.yahoo.com/quote/%5EIXIC?p=^IXIC&.tsrc=fin-srch\n",
    "Japan Exchange Group Composite Index history: https://finance.yahoo.com/quote/8697.T?p=8697.T&.tsrc=fin-srch\n",
    "Shanghai Stock Exchange Composite Index history: https://finance.yahoo.com/quote/%5ESSEC?p=^SSEC&.tsrc=fin-srch\n",
    "Hang Seng (Hong Kong) Index History: https://finance.yahoo.com/quote/%5EHSI?p=^HSI&.tsrc=fin-srch\n",
    "#### Top 5 Currencies Globally in Forex Trading (https://www.ig.com/us/trading-strategies/top-10-most-traded-currency-pairs-191206), and their corresponding daily central bank policy rates and percent change\n",
    "The Fed (USD): https://fred.stlouisfed.org/series/FEDFUNDS\n",
    "ECB (EUR): https://www.ecb.europa.eu/stats/policy_and_exchange_rates/key_ecb_interest_rates/html/index.en.html\n",
    "BoJ (JPY): https://fred.stlouisfed.org/series/IRSTCI01JPM156N\n",
    "United Kingdom (GBP): https://fred.stlouisfed.org/series/GBPONTD156N\n",
    "Australia (AUD): https://www.rba.gov.au/statistics/cash-rate/\n",
    "#### Daily price of gold  and percent change (up to 10-day lag): https://www.usagold.com/reference/prices/goldhistory.php\n",
    "\n",
    "\n",
    "\n",
    "### Targets:\n",
    "#### Daily price of gold, daily percent change price of gold: https://www.usagold.com/reference/prices/goldhistory.php\n",
    "\n",
    "## As the data sits, we currently have both daily policy rates and index scores - each with up to a ten day lag as the data. This translates to 242 features in our would-be model.\n",
    "\n",
    "### For sake of dimensionality reduction, let's first get just the raw values into one data frame, and the percent change values into another. It will be interesting to see if gold's price or gold's percent price change is 'easier' to predict. "
   ]
  },
  {
   "cell_type": "code",
   "execution_count": 6,
   "metadata": {},
   "outputs": [
    {
     "data": {
      "text/plain": [
       "(['gbp_rate_change',\n",
       "  'usd_rate_change',\n",
       "  'eur_rate_change',\n",
       "  'aud_rate_change',\n",
       "  'yen_rate_change',\n",
       "  'gbp_rate_change_lag1',\n",
       "  'gbp_rate_change_lag2',\n",
       "  'gbp_rate_change_lag3',\n",
       "  'gbp_rate_change_lag4',\n",
       "  'gbp_rate_change_lag5',\n",
       "  'gbp_rate_change_lag6',\n",
       "  'gbp_rate_change_lag7',\n",
       "  'gbp_rate_change_lag8',\n",
       "  'gbp_rate_change_lag9',\n",
       "  'gbp_rate_change_lag10',\n",
       "  'usd_rate_change_lag1',\n",
       "  'usd_rate_change_lag2',\n",
       "  'usd_rate_change_lag3',\n",
       "  'usd_rate_change_lag4',\n",
       "  'usd_rate_change_lag5',\n",
       "  'usd_rate_change_lag6',\n",
       "  'usd_rate_change_lag7',\n",
       "  'usd_rate_change_lag8',\n",
       "  'usd_rate_change_lag9',\n",
       "  'usd_rate_change_lag10',\n",
       "  'eur_rate_change_lag1',\n",
       "  'eur_rate_change_lag2',\n",
       "  'eur_rate_change_lag3',\n",
       "  'eur_rate_change_lag4',\n",
       "  'eur_rate_change_lag5',\n",
       "  'eur_rate_change_lag6',\n",
       "  'eur_rate_change_lag7',\n",
       "  'eur_rate_change_lag8',\n",
       "  'eur_rate_change_lag9',\n",
       "  'eur_rate_change_lag10',\n",
       "  'aud_rate_change_lag1',\n",
       "  'aud_rate_change_lag2',\n",
       "  'aud_rate_change_lag3',\n",
       "  'aud_rate_change_lag4',\n",
       "  'aud_rate_change_lag5',\n",
       "  'aud_rate_change_lag6',\n",
       "  'aud_rate_change_lag7',\n",
       "  'aud_rate_change_lag8',\n",
       "  'aud_rate_change_lag9',\n",
       "  'aud_rate_change_lag10',\n",
       "  'yen_rate_change_lag1',\n",
       "  'yen_rate_change_lag2',\n",
       "  'yen_rate_change_lag3',\n",
       "  'yen_rate_change_lag4',\n",
       "  'yen_rate_change_lag5',\n",
       "  'yen_rate_change_lag6',\n",
       "  'yen_rate_change_lag7',\n",
       "  'yen_rate_change_lag8',\n",
       "  'yen_rate_change_lag9',\n",
       "  'yen_rate_change_lag10',\n",
       "  'sse_change%',\n",
       "  'hsi_change%',\n",
       "  'nyse_change%',\n",
       "  'nasdaq_change%',\n",
       "  'jeg_change%',\n",
       "  'sse_change%_lag1',\n",
       "  'sse_change%_lag2',\n",
       "  'sse_change%_lag3',\n",
       "  'sse_change%_lag4',\n",
       "  'sse_change%_lag5',\n",
       "  'sse_change%_lag6',\n",
       "  'sse_change%_lag7',\n",
       "  'sse_change%_lag8',\n",
       "  'sse_change%_lag9',\n",
       "  'sse_change%_lag10',\n",
       "  'hsi_change%_lag1',\n",
       "  'hsi_change%_lag2',\n",
       "  'hsi_change%_lag3',\n",
       "  'hsi_change%_lag4',\n",
       "  'hsi_change%_lag5',\n",
       "  'hsi_change%_lag6',\n",
       "  'hsi_change%_lag7',\n",
       "  'hsi_change%_lag8',\n",
       "  'hsi_change%_lag9',\n",
       "  'hsi_change%_lag10',\n",
       "  'nyse_change%_lag1',\n",
       "  'nyse_change%_lag2',\n",
       "  'nyse_change%_lag3',\n",
       "  'nyse_change%_lag4',\n",
       "  'nyse_change%_lag5',\n",
       "  'nyse_change%_lag6',\n",
       "  'nyse_change%_lag7',\n",
       "  'nyse_change%_lag8',\n",
       "  'nyse_change%_lag9',\n",
       "  'nyse_change%_lag10',\n",
       "  'nasdaq_change%_lag1',\n",
       "  'nasdaq_change%_lag2',\n",
       "  'nasdaq_change%_lag3',\n",
       "  'nasdaq_change%_lag4',\n",
       "  'nasdaq_change%_lag5',\n",
       "  'nasdaq_change%_lag6',\n",
       "  'nasdaq_change%_lag7',\n",
       "  'nasdaq_change%_lag8',\n",
       "  'nasdaq_change%_lag9',\n",
       "  'nasdaq_change%_lag10',\n",
       "  'jeg_change%_lag1',\n",
       "  'jeg_change%_lag2',\n",
       "  'jeg_change%_lag3',\n",
       "  'jeg_change%_lag4',\n",
       "  'jeg_change%_lag5',\n",
       "  'jeg_change%_lag6',\n",
       "  'jeg_change%_lag7',\n",
       "  'jeg_change%_lag8',\n",
       "  'jeg_change%_lag9',\n",
       "  'jeg_change%_lag10',\n",
       "  'gold_change%',\n",
       "  'gold_change%_lag1',\n",
       "  'gold_change%_lag2',\n",
       "  'gold_change%_lag3',\n",
       "  'gold_change%_lag4',\n",
       "  'gold_change%_lag5',\n",
       "  'gold_change%_lag6',\n",
       "  'gold_change%_lag7',\n",
       "  'gold_change%_lag8',\n",
       "  'gold_change%_lag9',\n",
       "  'gold_change%_lag10'],\n",
       " ['gbp_rate',\n",
       "  'usd_rate',\n",
       "  'eur_rate',\n",
       "  'aud_rate',\n",
       "  'yen_rate',\n",
       "  'gbp_rate_lag1',\n",
       "  'gbp_rate_lag2',\n",
       "  'gbp_rate_lag3',\n",
       "  'gbp_rate_lag4',\n",
       "  'gbp_rate_lag5',\n",
       "  'gbp_rate_lag6',\n",
       "  'gbp_rate_lag7',\n",
       "  'gbp_rate_lag8',\n",
       "  'gbp_rate_lag9',\n",
       "  'gbp_rate_lag10',\n",
       "  'usd_rate_lag1',\n",
       "  'usd_rate_lag2',\n",
       "  'usd_rate_lag3',\n",
       "  'usd_rate_lag4',\n",
       "  'usd_rate_lag5',\n",
       "  'usd_rate_lag6',\n",
       "  'usd_rate_lag7',\n",
       "  'usd_rate_lag8',\n",
       "  'usd_rate_lag9',\n",
       "  'usd_rate_lag10',\n",
       "  'eur_rate_lag1',\n",
       "  'eur_rate_lag2',\n",
       "  'eur_rate_lag3',\n",
       "  'eur_rate_lag4',\n",
       "  'eur_rate_lag5',\n",
       "  'eur_rate_lag6',\n",
       "  'eur_rate_lag7',\n",
       "  'eur_rate_lag8',\n",
       "  'eur_rate_lag9',\n",
       "  'eur_rate_lag10',\n",
       "  'aud_rate_lag1',\n",
       "  'aud_rate_lag2',\n",
       "  'aud_rate_lag3',\n",
       "  'aud_rate_lag4',\n",
       "  'aud_rate_lag5',\n",
       "  'aud_rate_lag6',\n",
       "  'aud_rate_lag7',\n",
       "  'aud_rate_lag8',\n",
       "  'aud_rate_lag9',\n",
       "  'aud_rate_lag10',\n",
       "  'yen_rate_lag1',\n",
       "  'yen_rate_lag2',\n",
       "  'yen_rate_lag3',\n",
       "  'yen_rate_lag4',\n",
       "  'yen_rate_lag5',\n",
       "  'yen_rate_lag6',\n",
       "  'yen_rate_lag7',\n",
       "  'yen_rate_lag8',\n",
       "  'yen_rate_lag9',\n",
       "  'yen_rate_lag10',\n",
       "  'sse_close',\n",
       "  'hsi_close',\n",
       "  'nyse_close',\n",
       "  'nasdaq_close',\n",
       "  'jeg_close',\n",
       "  'sse_close_lag1',\n",
       "  'sse_close_lag2',\n",
       "  'sse_close_lag3',\n",
       "  'sse_close_lag4',\n",
       "  'sse_close_lag5',\n",
       "  'sse_close_lag6',\n",
       "  'sse_close_lag7',\n",
       "  'sse_close_lag8',\n",
       "  'sse_close_lag9',\n",
       "  'sse_close_lag10',\n",
       "  'hsi_close_lag1',\n",
       "  'hsi_close_lag2',\n",
       "  'hsi_close_lag3',\n",
       "  'hsi_close_lag4',\n",
       "  'hsi_close_lag5',\n",
       "  'hsi_close_lag6',\n",
       "  'hsi_close_lag7',\n",
       "  'hsi_close_lag8',\n",
       "  'hsi_close_lag9',\n",
       "  'hsi_close_lag10',\n",
       "  'nyse_close_lag1',\n",
       "  'nyse_close_lag2',\n",
       "  'nyse_close_lag3',\n",
       "  'nyse_close_lag4',\n",
       "  'nyse_close_lag5',\n",
       "  'nyse_close_lag6',\n",
       "  'nyse_close_lag7',\n",
       "  'nyse_close_lag8',\n",
       "  'nyse_close_lag9',\n",
       "  'nyse_close_lag10',\n",
       "  'nasdaq_close_lag1',\n",
       "  'nasdaq_close_lag2',\n",
       "  'nasdaq_close_lag3',\n",
       "  'nasdaq_close_lag4',\n",
       "  'nasdaq_close_lag5',\n",
       "  'nasdaq_close_lag6',\n",
       "  'nasdaq_close_lag7',\n",
       "  'nasdaq_close_lag8',\n",
       "  'nasdaq_close_lag9',\n",
       "  'nasdaq_close_lag10',\n",
       "  'jeg_close_lag1',\n",
       "  'jeg_close_lag2',\n",
       "  'jeg_close_lag3',\n",
       "  'jeg_close_lag4',\n",
       "  'jeg_close_lag5',\n",
       "  'jeg_close_lag6',\n",
       "  'jeg_close_lag7',\n",
       "  'jeg_close_lag8',\n",
       "  'jeg_close_lag9',\n",
       "  'jeg_close_lag10',\n",
       "  'gold',\n",
       "  'gold_lag1',\n",
       "  'gold_lag2',\n",
       "  'gold_lag3',\n",
       "  'gold_lag4',\n",
       "  'gold_lag5',\n",
       "  'gold_lag6',\n",
       "  'gold_lag7',\n",
       "  'gold_lag8',\n",
       "  'gold_lag9',\n",
       "  'gold_lag10'])"
      ]
     },
     "execution_count": 6,
     "metadata": {},
     "output_type": "execute_result"
    }
   ],
   "source": [
    "# store 'change' column titles to create separate dataframes\n",
    "\n",
    "col_change = []\n",
    "col_raw = []\n",
    "for col in df_Xy.columns:\n",
    "    if 'change' in col:\n",
    "        col_change.append(col)\n",
    "    else:\n",
    "        col_raw.append(col)\n",
    "\n",
    "col_change,col_raw"
   ]
  },
  {
   "cell_type": "code",
   "execution_count": 7,
   "metadata": {},
   "outputs": [],
   "source": [
    "# create two separate dataframes, one with raw values, one with percent change\n",
    "\n",
    "df_Xy_raw = df_Xy.drop(columns = col_change).dropna()\n",
    "\n",
    "df_Xy_change = df_Xy.drop(columns = col_raw).dropna()"
   ]
  },
  {
   "cell_type": "code",
   "execution_count": 8,
   "metadata": {},
   "outputs": [
    {
     "name": "stdout",
     "output_type": "stream",
     "text": [
      "<class 'pandas.core.frame.DataFrame'>\n",
      "DatetimeIndex: 3022 entries, 2008-09-19 to 2020-05-27\n",
      "Columns: 121 entries, gbp_rate to gold_lag10\n",
      "dtypes: float64(121)\n",
      "memory usage: 2.8 MB\n"
     ]
    }
   ],
   "source": [
    "df_Xy_raw.info()"
   ]
  },
  {
   "cell_type": "code",
   "execution_count": 9,
   "metadata": {},
   "outputs": [
    {
     "name": "stdout",
     "output_type": "stream",
     "text": [
      "<class 'pandas.core.frame.DataFrame'>\n",
      "DatetimeIndex: 5894 entries, 1997-07-02 to 2020-05-27\n",
      "Columns: 121 entries, gbp_rate_change to gold_change%_lag10\n",
      "dtypes: float64(121)\n",
      "memory usage: 5.5 MB\n"
     ]
    }
   ],
   "source": [
    "df_Xy_change.info()"
   ]
  },
  {
   "cell_type": "markdown",
   "metadata": {},
   "source": [
    "#### To compare models on a level playing field, we need to ensure the same date range is being used for both the raw and the change data."
   ]
  },
  {
   "cell_type": "code",
   "execution_count": 10,
   "metadata": {},
   "outputs": [],
   "source": [
    "to_drop = df_Xy_change.index[df_Xy_change.index < '2008-09-19']\n",
    "\n",
    "df_Xy_change.drop(to_drop, inplace = True)"
   ]
  },
  {
   "cell_type": "code",
   "execution_count": 11,
   "metadata": {},
   "outputs": [
    {
     "name": "stdout",
     "output_type": "stream",
     "text": [
      "<class 'pandas.core.frame.DataFrame'>\n",
      "DatetimeIndex: 3022 entries, 2008-09-19 to 2020-05-27\n",
      "Columns: 121 entries, gbp_rate_change to gold_change%_lag10\n",
      "dtypes: float64(121)\n",
      "memory usage: 2.8 MB\n"
     ]
    }
   ],
   "source": [
    "df_Xy_change.info()"
   ]
  },
  {
   "cell_type": "code",
   "execution_count": 12,
   "metadata": {},
   "outputs": [],
   "source": [
    "# create X,y pairs for both raw and percent change dataframes\n",
    "\n",
    "X_raw = df_Xy_raw.drop(columns = ['gold'])\n",
    "y_raw = df_Xy_raw['gold']\n",
    "\n",
    "X_change = df_Xy_change.drop(columns = ['gold_change%'])\n",
    "y_change = df_Xy_change['gold_change%']"
   ]
  },
  {
   "cell_type": "markdown",
   "metadata": {},
   "source": [
    "### Now, to inform our feature selection for our models, let's take a look at the linear relationships between our X features and y targets in both datasets."
   ]
  },
  {
   "cell_type": "code",
   "execution_count": 13,
   "metadata": {},
   "outputs": [],
   "source": [
    "def get_r(df_X, y):\n",
    "    \n",
    "    \"\"\"\n",
    "    PARAMETERS:\n",
    "    \n",
    "    df_X: pandas dataframe - all colmuns of float64 type\n",
    "    y: arrary, target variable\n",
    "    \n",
    "    \n",
    "    RETURNS:\n",
    "    Dictionary of df_X features and their pearson r and p-values with respect to y\n",
    "    \"\"\"\n",
    "    \n",
    "    d = dict()\n",
    "    for col in df_X.columns:\n",
    "        r, p = pearsonr(df_X[col],y)\n",
    "        \n",
    "        d[col] = [r,p]\n",
    "    \n",
    "    return d\n",
    "    "
   ]
  },
  {
   "cell_type": "code",
   "execution_count": 14,
   "metadata": {},
   "outputs": [
    {
     "name": "stderr",
     "output_type": "stream",
     "text": [
      "/opt/anaconda3/lib/python3.7/site-packages/scipy/stats/stats.py:3508: PearsonRConstantInputWarning: An input array is constant; the correlation coefficent is not defined.\n",
      "  warnings.warn(PearsonRConstantInputWarning())\n"
     ]
    }
   ],
   "source": [
    "d_r_raw = get_r(X_raw,y_raw)\n",
    "d_r_change = get_r(X_change,y_change)"
   ]
  },
  {
   "cell_type": "markdown",
   "metadata": {},
   "source": [
    "### Correlational Study: Raw Data"
   ]
  },
  {
   "cell_type": "code",
   "execution_count": 15,
   "metadata": {},
   "outputs": [],
   "source": [
    "df_r_raw = pd.DataFrame.from_dict(d_r_raw)"
   ]
  },
  {
   "cell_type": "code",
   "execution_count": 16,
   "metadata": {},
   "outputs": [
    {
     "data": {
      "text/html": [
       "<div>\n",
       "<style scoped>\n",
       "    .dataframe tbody tr th:only-of-type {\n",
       "        vertical-align: middle;\n",
       "    }\n",
       "\n",
       "    .dataframe tbody tr th {\n",
       "        vertical-align: top;\n",
       "    }\n",
       "\n",
       "    .dataframe thead th {\n",
       "        text-align: right;\n",
       "    }\n",
       "</style>\n",
       "<table border=\"1\" class=\"dataframe\">\n",
       "  <thead>\n",
       "    <tr style=\"text-align: right;\">\n",
       "      <th></th>\n",
       "      <th>gbp_rate</th>\n",
       "      <th>usd_rate</th>\n",
       "      <th>eur_rate</th>\n",
       "      <th>aud_rate</th>\n",
       "      <th>yen_rate</th>\n",
       "      <th>gbp_rate_lag1</th>\n",
       "      <th>gbp_rate_lag2</th>\n",
       "      <th>gbp_rate_lag3</th>\n",
       "      <th>gbp_rate_lag4</th>\n",
       "      <th>gbp_rate_lag5</th>\n",
       "      <th>...</th>\n",
       "      <th>gold_lag1</th>\n",
       "      <th>gold_lag2</th>\n",
       "      <th>gold_lag3</th>\n",
       "      <th>gold_lag4</th>\n",
       "      <th>gold_lag5</th>\n",
       "      <th>gold_lag6</th>\n",
       "      <th>gold_lag7</th>\n",
       "      <th>gold_lag8</th>\n",
       "      <th>gold_lag9</th>\n",
       "      <th>gold_lag10</th>\n",
       "    </tr>\n",
       "  </thead>\n",
       "  <tbody>\n",
       "    <tr>\n",
       "      <th>0</th>\n",
       "      <td>-3.521374e-01</td>\n",
       "      <td>-0.028212</td>\n",
       "      <td>-2.695844e-01</td>\n",
       "      <td>0.009097</td>\n",
       "      <td>-3.209888e-01</td>\n",
       "      <td>-3.537976e-01</td>\n",
       "      <td>-3.555973e-01</td>\n",
       "      <td>-3.551246e-01</td>\n",
       "      <td>-3.551246e-01</td>\n",
       "      <td>-3.575017e-01</td>\n",
       "      <td>...</td>\n",
       "      <td>0.998007</td>\n",
       "      <td>0.995986</td>\n",
       "      <td>0.994038</td>\n",
       "      <td>0.992122</td>\n",
       "      <td>0.990176</td>\n",
       "      <td>0.988189</td>\n",
       "      <td>0.986311</td>\n",
       "      <td>0.984483</td>\n",
       "      <td>0.982726</td>\n",
       "      <td>0.980902</td>\n",
       "    </tr>\n",
       "    <tr>\n",
       "      <th>1</th>\n",
       "      <td>6.235009e-89</td>\n",
       "      <td>0.121003</td>\n",
       "      <td>1.774810e-51</td>\n",
       "      <td>0.617169</td>\n",
       "      <td>2.218445e-73</td>\n",
       "      <td>8.219253e-90</td>\n",
       "      <td>9.013476e-91</td>\n",
       "      <td>1.613117e-90</td>\n",
       "      <td>1.613117e-90</td>\n",
       "      <td>8.557312e-92</td>\n",
       "      <td>...</td>\n",
       "      <td>0.000000</td>\n",
       "      <td>0.000000</td>\n",
       "      <td>0.000000</td>\n",
       "      <td>0.000000</td>\n",
       "      <td>0.000000</td>\n",
       "      <td>0.000000</td>\n",
       "      <td>0.000000</td>\n",
       "      <td>0.000000</td>\n",
       "      <td>0.000000</td>\n",
       "      <td>0.000000</td>\n",
       "    </tr>\n",
       "  </tbody>\n",
       "</table>\n",
       "<p>2 rows × 120 columns</p>\n",
       "</div>"
      ],
      "text/plain": [
       "       gbp_rate  usd_rate      eur_rate  aud_rate      yen_rate  \\\n",
       "0 -3.521374e-01 -0.028212 -2.695844e-01  0.009097 -3.209888e-01   \n",
       "1  6.235009e-89  0.121003  1.774810e-51  0.617169  2.218445e-73   \n",
       "\n",
       "   gbp_rate_lag1  gbp_rate_lag2  gbp_rate_lag3  gbp_rate_lag4  gbp_rate_lag5  \\\n",
       "0  -3.537976e-01  -3.555973e-01  -3.551246e-01  -3.551246e-01  -3.575017e-01   \n",
       "1   8.219253e-90   9.013476e-91   1.613117e-90   1.613117e-90   8.557312e-92   \n",
       "\n",
       "   ...  gold_lag1  gold_lag2  gold_lag3  gold_lag4  gold_lag5  gold_lag6  \\\n",
       "0  ...   0.998007   0.995986   0.994038   0.992122   0.990176   0.988189   \n",
       "1  ...   0.000000   0.000000   0.000000   0.000000   0.000000   0.000000   \n",
       "\n",
       "   gold_lag7  gold_lag8  gold_lag9  gold_lag10  \n",
       "0   0.986311   0.984483   0.982726    0.980902  \n",
       "1   0.000000   0.000000   0.000000    0.000000  \n",
       "\n",
       "[2 rows x 120 columns]"
      ]
     },
     "execution_count": 16,
     "metadata": {},
     "output_type": "execute_result"
    }
   ],
   "source": [
    "df_r_raw.head()"
   ]
  },
  {
   "cell_type": "code",
   "execution_count": 17,
   "metadata": {},
   "outputs": [],
   "source": [
    "df_r_raw.rename(index = {0:'Pearson r', 1:'p-value'}, inplace = True)"
   ]
  },
  {
   "cell_type": "code",
   "execution_count": 18,
   "metadata": {},
   "outputs": [
    {
     "data": {
      "text/html": [
       "<div>\n",
       "<style scoped>\n",
       "    .dataframe tbody tr th:only-of-type {\n",
       "        vertical-align: middle;\n",
       "    }\n",
       "\n",
       "    .dataframe tbody tr th {\n",
       "        vertical-align: top;\n",
       "    }\n",
       "\n",
       "    .dataframe thead th {\n",
       "        text-align: right;\n",
       "    }\n",
       "</style>\n",
       "<table border=\"1\" class=\"dataframe\">\n",
       "  <thead>\n",
       "    <tr style=\"text-align: right;\">\n",
       "      <th></th>\n",
       "      <th>Pearson r</th>\n",
       "      <th>p-value</th>\n",
       "    </tr>\n",
       "  </thead>\n",
       "  <tbody>\n",
       "    <tr>\n",
       "      <th>gbp_rate</th>\n",
       "      <td>-0.352137</td>\n",
       "      <td>6.235009e-89</td>\n",
       "    </tr>\n",
       "    <tr>\n",
       "      <th>usd_rate</th>\n",
       "      <td>-0.028212</td>\n",
       "      <td>1.210027e-01</td>\n",
       "    </tr>\n",
       "    <tr>\n",
       "      <th>eur_rate</th>\n",
       "      <td>-0.269584</td>\n",
       "      <td>1.774810e-51</td>\n",
       "    </tr>\n",
       "    <tr>\n",
       "      <th>aud_rate</th>\n",
       "      <td>0.009097</td>\n",
       "      <td>6.171689e-01</td>\n",
       "    </tr>\n",
       "    <tr>\n",
       "      <th>yen_rate</th>\n",
       "      <td>-0.320989</td>\n",
       "      <td>2.218445e-73</td>\n",
       "    </tr>\n",
       "    <tr>\n",
       "      <th>...</th>\n",
       "      <td>...</td>\n",
       "      <td>...</td>\n",
       "    </tr>\n",
       "    <tr>\n",
       "      <th>gold_lag6</th>\n",
       "      <td>0.988189</td>\n",
       "      <td>0.000000e+00</td>\n",
       "    </tr>\n",
       "    <tr>\n",
       "      <th>gold_lag7</th>\n",
       "      <td>0.986311</td>\n",
       "      <td>0.000000e+00</td>\n",
       "    </tr>\n",
       "    <tr>\n",
       "      <th>gold_lag8</th>\n",
       "      <td>0.984483</td>\n",
       "      <td>0.000000e+00</td>\n",
       "    </tr>\n",
       "    <tr>\n",
       "      <th>gold_lag9</th>\n",
       "      <td>0.982726</td>\n",
       "      <td>0.000000e+00</td>\n",
       "    </tr>\n",
       "    <tr>\n",
       "      <th>gold_lag10</th>\n",
       "      <td>0.980902</td>\n",
       "      <td>0.000000e+00</td>\n",
       "    </tr>\n",
       "  </tbody>\n",
       "</table>\n",
       "<p>120 rows × 2 columns</p>\n",
       "</div>"
      ],
      "text/plain": [
       "            Pearson r       p-value\n",
       "gbp_rate    -0.352137  6.235009e-89\n",
       "usd_rate    -0.028212  1.210027e-01\n",
       "eur_rate    -0.269584  1.774810e-51\n",
       "aud_rate     0.009097  6.171689e-01\n",
       "yen_rate    -0.320989  2.218445e-73\n",
       "...               ...           ...\n",
       "gold_lag6    0.988189  0.000000e+00\n",
       "gold_lag7    0.986311  0.000000e+00\n",
       "gold_lag8    0.984483  0.000000e+00\n",
       "gold_lag9    0.982726  0.000000e+00\n",
       "gold_lag10   0.980902  0.000000e+00\n",
       "\n",
       "[120 rows x 2 columns]"
      ]
     },
     "execution_count": 18,
     "metadata": {},
     "output_type": "execute_result"
    }
   ],
   "source": [
    "df_r_raw = df_r_raw.T\n",
    "df_r_raw"
   ]
  },
  {
   "cell_type": "code",
   "execution_count": 19,
   "metadata": {},
   "outputs": [
    {
     "name": "stdout",
     "output_type": "stream",
     "text": [
      "<class 'pandas.core.frame.DataFrame'>\n",
      "Index: 120 entries, gbp_rate to gold_lag10\n",
      "Data columns (total 2 columns):\n",
      " #   Column     Non-Null Count  Dtype  \n",
      "---  ------     --------------  -----  \n",
      " 0   Pearson r  120 non-null    float64\n",
      " 1   p-value    120 non-null    float64\n",
      "dtypes: float64(2)\n",
      "memory usage: 2.8+ KB\n"
     ]
    }
   ],
   "source": [
    "df_r_raw.info()"
   ]
  },
  {
   "cell_type": "code",
   "execution_count": 20,
   "metadata": {},
   "outputs": [],
   "source": [
    "sig_r_raw = df_r_raw.index[df_r_raw['p-value'] < 0.05]"
   ]
  },
  {
   "cell_type": "code",
   "execution_count": 21,
   "metadata": {},
   "outputs": [
    {
     "data": {
      "text/plain": [
       "(98,)"
      ]
     },
     "execution_count": 21,
     "metadata": {},
     "output_type": "execute_result"
    }
   ],
   "source": [
    "sig_r_raw.shape"
   ]
  },
  {
   "cell_type": "code",
   "execution_count": 22,
   "metadata": {},
   "outputs": [],
   "source": [
    "insig_r_raw = df_r_raw.index[df_r_raw['p-value'] >= 0.05]"
   ]
  },
  {
   "cell_type": "markdown",
   "metadata": {},
   "source": [
    "### Correlational Study: Raw Data Results\n",
    "On a purely corerlational basis, 98 of our 120 features in the raw dataset would make the cut. Let's take a close look and see if we can glean any further insight."
   ]
  },
  {
   "cell_type": "code",
   "execution_count": 23,
   "metadata": {},
   "outputs": [
    {
     "data": {
      "text/plain": [
       "Index(['gbp_rate', 'eur_rate', 'yen_rate', 'gbp_rate_lag1', 'gbp_rate_lag2',\n",
       "       'gbp_rate_lag3', 'gbp_rate_lag4', 'gbp_rate_lag5', 'gbp_rate_lag6',\n",
       "       'gbp_rate_lag7', 'gbp_rate_lag8', 'gbp_rate_lag9', 'gbp_rate_lag10',\n",
       "       'eur_rate_lag1', 'eur_rate_lag2', 'eur_rate_lag3', 'eur_rate_lag4',\n",
       "       'eur_rate_lag5', 'eur_rate_lag6', 'eur_rate_lag7', 'eur_rate_lag8',\n",
       "       'eur_rate_lag9', 'eur_rate_lag10', 'yen_rate_lag1', 'yen_rate_lag2',\n",
       "       'yen_rate_lag3', 'yen_rate_lag4', 'yen_rate_lag5', 'yen_rate_lag6',\n",
       "       'yen_rate_lag7', 'yen_rate_lag8', 'yen_rate_lag9', 'yen_rate_lag10',\n",
       "       'sse_close', 'hsi_close', 'nyse_close', 'nasdaq_close', 'jeg_close',\n",
       "       'sse_close_lag1', 'sse_close_lag2', 'sse_close_lag3', 'sse_close_lag4',\n",
       "       'sse_close_lag5', 'sse_close_lag6', 'sse_close_lag7', 'sse_close_lag8',\n",
       "       'sse_close_lag9', 'sse_close_lag10', 'hsi_close_lag1', 'hsi_close_lag2',\n",
       "       'hsi_close_lag3', 'hsi_close_lag4', 'hsi_close_lag5', 'hsi_close_lag6',\n",
       "       'hsi_close_lag7', 'hsi_close_lag8', 'hsi_close_lag9', 'hsi_close_lag10',\n",
       "       'nyse_close_lag1', 'nyse_close_lag2', 'nyse_close_lag3',\n",
       "       'nyse_close_lag4', 'nyse_close_lag5', 'nyse_close_lag6',\n",
       "       'nyse_close_lag7', 'nyse_close_lag8', 'nyse_close_lag9',\n",
       "       'nyse_close_lag10', 'nasdaq_close_lag1', 'nasdaq_close_lag2',\n",
       "       'nasdaq_close_lag3', 'nasdaq_close_lag4', 'nasdaq_close_lag5',\n",
       "       'nasdaq_close_lag6', 'nasdaq_close_lag7', 'nasdaq_close_lag8',\n",
       "       'nasdaq_close_lag9', 'nasdaq_close_lag10', 'jeg_close_lag1',\n",
       "       'jeg_close_lag2', 'jeg_close_lag3', 'jeg_close_lag4', 'jeg_close_lag5',\n",
       "       'jeg_close_lag6', 'jeg_close_lag7', 'jeg_close_lag8', 'jeg_close_lag9',\n",
       "       'jeg_close_lag10', 'gold_lag1', 'gold_lag2', 'gold_lag3', 'gold_lag4',\n",
       "       'gold_lag5', 'gold_lag6', 'gold_lag7', 'gold_lag8', 'gold_lag9',\n",
       "       'gold_lag10'],\n",
       "      dtype='object')"
      ]
     },
     "execution_count": 23,
     "metadata": {},
     "output_type": "execute_result"
    }
   ],
   "source": [
    "sig_r_raw"
   ]
  },
  {
   "cell_type": "code",
   "execution_count": 24,
   "metadata": {},
   "outputs": [
    {
     "data": {
      "text/plain": [
       "Index(['usd_rate', 'aud_rate', 'usd_rate_lag1', 'usd_rate_lag2',\n",
       "       'usd_rate_lag3', 'usd_rate_lag4', 'usd_rate_lag5', 'usd_rate_lag6',\n",
       "       'usd_rate_lag7', 'usd_rate_lag8', 'usd_rate_lag9', 'usd_rate_lag10',\n",
       "       'aud_rate_lag1', 'aud_rate_lag2', 'aud_rate_lag3', 'aud_rate_lag4',\n",
       "       'aud_rate_lag5', 'aud_rate_lag6', 'aud_rate_lag7', 'aud_rate_lag8',\n",
       "       'aud_rate_lag9', 'aud_rate_lag10'],\n",
       "      dtype='object')"
      ]
     },
     "execution_count": 24,
     "metadata": {},
     "output_type": "execute_result"
    }
   ],
   "source": [
    "insig_r_raw"
   ]
  },
  {
   "cell_type": "markdown",
   "metadata": {},
   "source": [
    "#### Interesting, only the US and Australian cenral bank rates have relatively weak linear correlations with the price of gold. Perhaps some polynomial transformations would demonstrate some linear relationships, but let's move on for now\n",
    "\n"
   ]
  },
  {
   "cell_type": "code",
   "execution_count": 41,
   "metadata": {},
   "outputs": [],
   "source": [
    "X_raw_fit = X_raw.drop(columns = insig_r_raw)\n"
   ]
  },
  {
   "cell_type": "code",
   "execution_count": 42,
   "metadata": {},
   "outputs": [
    {
     "data": {
      "text/plain": [
       "0.8183706813366799"
      ]
     },
     "execution_count": 42,
     "metadata": {},
     "output_type": "execute_result"
    }
   ],
   "source": [
    "model_change = GradientBoostingRegressor()\n",
    "cross_val_raw = np.mean(cross_val_score(model_change,X_raw_fit,y_raw))\n",
    "cross_val_raw"
   ]
  },
  {
   "cell_type": "markdown",
   "metadata": {},
   "source": [
    "### Correlational Study: Change Data"
   ]
  },
  {
   "cell_type": "code",
   "execution_count": 27,
   "metadata": {},
   "outputs": [],
   "source": [
    "df_r_change = pd.DataFrame.from_dict(d_r_change)"
   ]
  },
  {
   "cell_type": "code",
   "execution_count": 28,
   "metadata": {},
   "outputs": [
    {
     "data": {
      "text/html": [
       "<div>\n",
       "<style scoped>\n",
       "    .dataframe tbody tr th:only-of-type {\n",
       "        vertical-align: middle;\n",
       "    }\n",
       "\n",
       "    .dataframe tbody tr th {\n",
       "        vertical-align: top;\n",
       "    }\n",
       "\n",
       "    .dataframe thead th {\n",
       "        text-align: right;\n",
       "    }\n",
       "</style>\n",
       "<table border=\"1\" class=\"dataframe\">\n",
       "  <thead>\n",
       "    <tr style=\"text-align: right;\">\n",
       "      <th></th>\n",
       "      <th>gbp_rate_change</th>\n",
       "      <th>usd_rate_change</th>\n",
       "      <th>eur_rate_change</th>\n",
       "      <th>aud_rate_change</th>\n",
       "      <th>yen_rate_change</th>\n",
       "      <th>gbp_rate_change_lag1</th>\n",
       "      <th>gbp_rate_change_lag2</th>\n",
       "      <th>gbp_rate_change_lag3</th>\n",
       "      <th>gbp_rate_change_lag4</th>\n",
       "      <th>gbp_rate_change_lag5</th>\n",
       "      <th>...</th>\n",
       "      <th>gold_change%_lag1</th>\n",
       "      <th>gold_change%_lag2</th>\n",
       "      <th>gold_change%_lag3</th>\n",
       "      <th>gold_change%_lag4</th>\n",
       "      <th>gold_change%_lag5</th>\n",
       "      <th>gold_change%_lag6</th>\n",
       "      <th>gold_change%_lag7</th>\n",
       "      <th>gold_change%_lag8</th>\n",
       "      <th>gold_change%_lag9</th>\n",
       "      <th>gold_change%_lag10</th>\n",
       "    </tr>\n",
       "  </thead>\n",
       "  <tbody>\n",
       "    <tr>\n",
       "      <th>0</th>\n",
       "      <td>0.011241</td>\n",
       "      <td>-0.007794</td>\n",
       "      <td>-0.006218</td>\n",
       "      <td>0.007991</td>\n",
       "      <td>0.004945</td>\n",
       "      <td>0.038677</td>\n",
       "      <td>0.007459</td>\n",
       "      <td>NaN</td>\n",
       "      <td>0.007226</td>\n",
       "      <td>-0.009180</td>\n",
       "      <td>...</td>\n",
       "      <td>-0.005220</td>\n",
       "      <td>0.002276</td>\n",
       "      <td>-0.004002</td>\n",
       "      <td>0.004893</td>\n",
       "      <td>0.015728</td>\n",
       "      <td>-0.013646</td>\n",
       "      <td>-0.010099</td>\n",
       "      <td>0.015999</td>\n",
       "      <td>-0.009028</td>\n",
       "      <td>-0.01509</td>\n",
       "    </tr>\n",
       "    <tr>\n",
       "      <th>1</th>\n",
       "      <td>0.536771</td>\n",
       "      <td>0.668424</td>\n",
       "      <td>0.732572</td>\n",
       "      <td>0.660563</td>\n",
       "      <td>0.785830</td>\n",
       "      <td>0.033494</td>\n",
       "      <td>0.681902</td>\n",
       "      <td>NaN</td>\n",
       "      <td>0.691331</td>\n",
       "      <td>0.613938</td>\n",
       "      <td>...</td>\n",
       "      <td>0.774231</td>\n",
       "      <td>0.900481</td>\n",
       "      <td>0.825923</td>\n",
       "      <td>0.788025</td>\n",
       "      <td>0.387425</td>\n",
       "      <td>0.453323</td>\n",
       "      <td>0.578927</td>\n",
       "      <td>0.379284</td>\n",
       "      <td>0.619824</td>\n",
       "      <td>0.40697</td>\n",
       "    </tr>\n",
       "  </tbody>\n",
       "</table>\n",
       "<p>2 rows × 120 columns</p>\n",
       "</div>"
      ],
      "text/plain": [
       "   gbp_rate_change  usd_rate_change  eur_rate_change  aud_rate_change  \\\n",
       "0         0.011241        -0.007794        -0.006218         0.007991   \n",
       "1         0.536771         0.668424         0.732572         0.660563   \n",
       "\n",
       "   yen_rate_change  gbp_rate_change_lag1  gbp_rate_change_lag2  \\\n",
       "0         0.004945              0.038677              0.007459   \n",
       "1         0.785830              0.033494              0.681902   \n",
       "\n",
       "   gbp_rate_change_lag3  gbp_rate_change_lag4  gbp_rate_change_lag5  ...  \\\n",
       "0                   NaN              0.007226             -0.009180  ...   \n",
       "1                   NaN              0.691331              0.613938  ...   \n",
       "\n",
       "   gold_change%_lag1  gold_change%_lag2  gold_change%_lag3  gold_change%_lag4  \\\n",
       "0          -0.005220           0.002276          -0.004002           0.004893   \n",
       "1           0.774231           0.900481           0.825923           0.788025   \n",
       "\n",
       "   gold_change%_lag5  gold_change%_lag6  gold_change%_lag7  gold_change%_lag8  \\\n",
       "0           0.015728          -0.013646          -0.010099           0.015999   \n",
       "1           0.387425           0.453323           0.578927           0.379284   \n",
       "\n",
       "   gold_change%_lag9  gold_change%_lag10  \n",
       "0          -0.009028            -0.01509  \n",
       "1           0.619824             0.40697  \n",
       "\n",
       "[2 rows x 120 columns]"
      ]
     },
     "execution_count": 28,
     "metadata": {},
     "output_type": "execute_result"
    }
   ],
   "source": [
    "df_r_change.head()"
   ]
  },
  {
   "cell_type": "code",
   "execution_count": 29,
   "metadata": {},
   "outputs": [],
   "source": [
    "df_r_change.rename(index = {0:'Pearson r', 1:'p-value'}, inplace = True)"
   ]
  },
  {
   "cell_type": "code",
   "execution_count": 30,
   "metadata": {},
   "outputs": [
    {
     "data": {
      "text/html": [
       "<div>\n",
       "<style scoped>\n",
       "    .dataframe tbody tr th:only-of-type {\n",
       "        vertical-align: middle;\n",
       "    }\n",
       "\n",
       "    .dataframe tbody tr th {\n",
       "        vertical-align: top;\n",
       "    }\n",
       "\n",
       "    .dataframe thead th {\n",
       "        text-align: right;\n",
       "    }\n",
       "</style>\n",
       "<table border=\"1\" class=\"dataframe\">\n",
       "  <thead>\n",
       "    <tr style=\"text-align: right;\">\n",
       "      <th></th>\n",
       "      <th>Pearson r</th>\n",
       "      <th>p-value</th>\n",
       "    </tr>\n",
       "  </thead>\n",
       "  <tbody>\n",
       "    <tr>\n",
       "      <th>gbp_rate_change</th>\n",
       "      <td>0.011241</td>\n",
       "      <td>0.536771</td>\n",
       "    </tr>\n",
       "    <tr>\n",
       "      <th>usd_rate_change</th>\n",
       "      <td>-0.007794</td>\n",
       "      <td>0.668424</td>\n",
       "    </tr>\n",
       "    <tr>\n",
       "      <th>eur_rate_change</th>\n",
       "      <td>-0.006218</td>\n",
       "      <td>0.732572</td>\n",
       "    </tr>\n",
       "    <tr>\n",
       "      <th>aud_rate_change</th>\n",
       "      <td>0.007991</td>\n",
       "      <td>0.660563</td>\n",
       "    </tr>\n",
       "    <tr>\n",
       "      <th>yen_rate_change</th>\n",
       "      <td>0.004945</td>\n",
       "      <td>0.785830</td>\n",
       "    </tr>\n",
       "    <tr>\n",
       "      <th>...</th>\n",
       "      <td>...</td>\n",
       "      <td>...</td>\n",
       "    </tr>\n",
       "    <tr>\n",
       "      <th>gold_change%_lag6</th>\n",
       "      <td>-0.013646</td>\n",
       "      <td>0.453323</td>\n",
       "    </tr>\n",
       "    <tr>\n",
       "      <th>gold_change%_lag7</th>\n",
       "      <td>-0.010099</td>\n",
       "      <td>0.578927</td>\n",
       "    </tr>\n",
       "    <tr>\n",
       "      <th>gold_change%_lag8</th>\n",
       "      <td>0.015999</td>\n",
       "      <td>0.379284</td>\n",
       "    </tr>\n",
       "    <tr>\n",
       "      <th>gold_change%_lag9</th>\n",
       "      <td>-0.009028</td>\n",
       "      <td>0.619824</td>\n",
       "    </tr>\n",
       "    <tr>\n",
       "      <th>gold_change%_lag10</th>\n",
       "      <td>-0.015090</td>\n",
       "      <td>0.406970</td>\n",
       "    </tr>\n",
       "  </tbody>\n",
       "</table>\n",
       "<p>120 rows × 2 columns</p>\n",
       "</div>"
      ],
      "text/plain": [
       "                    Pearson r   p-value\n",
       "gbp_rate_change      0.011241  0.536771\n",
       "usd_rate_change     -0.007794  0.668424\n",
       "eur_rate_change     -0.006218  0.732572\n",
       "aud_rate_change      0.007991  0.660563\n",
       "yen_rate_change      0.004945  0.785830\n",
       "...                       ...       ...\n",
       "gold_change%_lag6   -0.013646  0.453323\n",
       "gold_change%_lag7   -0.010099  0.578927\n",
       "gold_change%_lag8    0.015999  0.379284\n",
       "gold_change%_lag9   -0.009028  0.619824\n",
       "gold_change%_lag10  -0.015090  0.406970\n",
       "\n",
       "[120 rows x 2 columns]"
      ]
     },
     "execution_count": 30,
     "metadata": {},
     "output_type": "execute_result"
    }
   ],
   "source": [
    "df_r_change = df_r_change.T\n",
    "df_r_change"
   ]
  },
  {
   "cell_type": "code",
   "execution_count": 31,
   "metadata": {},
   "outputs": [
    {
     "name": "stdout",
     "output_type": "stream",
     "text": [
      "<class 'pandas.core.frame.DataFrame'>\n",
      "Index: 120 entries, gbp_rate_change to gold_change%_lag10\n",
      "Data columns (total 2 columns):\n",
      " #   Column     Non-Null Count  Dtype  \n",
      "---  ------     --------------  -----  \n",
      " 0   Pearson r  115 non-null    float64\n",
      " 1   p-value    115 non-null    float64\n",
      "dtypes: float64(2)\n",
      "memory usage: 2.8+ KB\n"
     ]
    }
   ],
   "source": [
    "df_r_change.info()"
   ]
  },
  {
   "cell_type": "code",
   "execution_count": 32,
   "metadata": {},
   "outputs": [],
   "source": [
    "sig_r_change = df_r_change.index[df_r_change['p-value'] < 0.05]\n",
    "insig_r_change = df_r_change.index[df_r_change['p-value'] >= 0.05]"
   ]
  },
  {
   "cell_type": "code",
   "execution_count": 33,
   "metadata": {},
   "outputs": [
    {
     "data": {
      "text/plain": [
       "(11,)"
      ]
     },
     "execution_count": 33,
     "metadata": {},
     "output_type": "execute_result"
    }
   ],
   "source": [
    "sig_r_change.shape"
   ]
  },
  {
   "cell_type": "code",
   "execution_count": 34,
   "metadata": {},
   "outputs": [
    {
     "data": {
      "text/plain": [
       "(104,)"
      ]
     },
     "execution_count": 34,
     "metadata": {},
     "output_type": "execute_result"
    }
   ],
   "source": [
    "insig_r_change.shape"
   ]
  },
  {
   "cell_type": "markdown",
   "metadata": {},
   "source": [
    "### Correlational Study: Change Data Results\n",
    "In stark contrast to the raw data, only 11 of the change dataset features have a significantly linear relationship the change in gold's price"
   ]
  },
  {
   "cell_type": "code",
   "execution_count": 35,
   "metadata": {},
   "outputs": [
    {
     "data": {
      "text/plain": [
       "Index(['gbp_rate_change_lag1', 'usd_rate_change_lag5', 'eur_rate_change_lag1',\n",
       "       'aud_rate_change_lag3', 'sse_change%_lag4', 'hsi_change%_lag5',\n",
       "       'hsi_change%_lag10', 'nyse_change%_lag10', 'nasdaq_change%_lag10',\n",
       "       'jeg_change%_lag9', 'jeg_change%_lag10'],\n",
       "      dtype='object')"
      ]
     },
     "execution_count": 35,
     "metadata": {},
     "output_type": "execute_result"
    }
   ],
   "source": [
    "sig_r_change"
   ]
  },
  {
   "cell_type": "code",
   "execution_count": 36,
   "metadata": {},
   "outputs": [
    {
     "data": {
      "text/plain": [
       "Index(['gbp_rate_change', 'usd_rate_change', 'eur_rate_change',\n",
       "       'aud_rate_change', 'yen_rate_change', 'gbp_rate_change_lag2',\n",
       "       'gbp_rate_change_lag4', 'gbp_rate_change_lag5', 'gbp_rate_change_lag6',\n",
       "       'gbp_rate_change_lag7',\n",
       "       ...\n",
       "       'gold_change%_lag1', 'gold_change%_lag2', 'gold_change%_lag3',\n",
       "       'gold_change%_lag4', 'gold_change%_lag5', 'gold_change%_lag6',\n",
       "       'gold_change%_lag7', 'gold_change%_lag8', 'gold_change%_lag9',\n",
       "       'gold_change%_lag10'],\n",
       "      dtype='object', length=104)"
      ]
     },
     "execution_count": 36,
     "metadata": {},
     "output_type": "execute_result"
    }
   ],
   "source": [
    "insig_r_change"
   ]
  },
  {
   "cell_type": "markdown",
   "metadata": {},
   "source": [
    "#### Furthermore, there isn't a very distinct trend among the significant features. It includes both stock market index values and central bank rates, all at varying lags."
   ]
  },
  {
   "cell_type": "code",
   "execution_count": 43,
   "metadata": {},
   "outputs": [],
   "source": [
    "# X_change_fit = X_change.drop(columns = insig_r_change)\n",
    "X_change_fit = X_change"
   ]
  },
  {
   "cell_type": "code",
   "execution_count": null,
   "metadata": {},
   "outputs": [],
   "source": [
    "model_change = GradientBoostingRegressor()\n",
    "cross_val_change = np.mean(cross_val_score(model_change,X_change_fit,y_change))"
   ]
  },
  {
   "cell_type": "code",
   "execution_count": null,
   "metadata": {},
   "outputs": [],
   "source": [
    "cross_val_change"
   ]
  },
  {
   "cell_type": "code",
   "execution_count": null,
   "metadata": {},
   "outputs": [],
   "source": []
  }
 ],
 "metadata": {
  "kernelspec": {
   "display_name": "Python 3",
   "language": "python",
   "name": "python3"
  },
  "language_info": {
   "codemirror_mode": {
    "name": "ipython",
    "version": 3
   },
   "file_extension": ".py",
   "mimetype": "text/x-python",
   "name": "python",
   "nbconvert_exporter": "python",
   "pygments_lexer": "ipython3",
   "version": "3.7.7"
  }
 },
 "nbformat": 4,
 "nbformat_minor": 4
}
