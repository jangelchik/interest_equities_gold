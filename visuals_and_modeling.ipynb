{
 "cells": [
  {
   "cell_type": "code",
   "execution_count": null,
   "metadata": {},
   "outputs": [],
   "source": [
    "import pandas as pd\n",
    "import numpy as np\n",
    "import scipy.stats as stats\n",
    "\n",
    "%matplotlib inline\n",
    "import matplotlib.pyplot as plt\n",
    "plt.style.use('ggplot')"
   ]
  },
  {
   "cell_type": "code",
   "execution_count": null,
   "metadata": {},
   "outputs": [],
   "source": [
    "import sklearn\n",
    "from sklearn.ensemble import GradientBoostingRegressor, GradientBoostingClassifier\n",
    "from sklearn.inspection import permutation_importance\n",
    "from sklearn.model_selection import cross_val_score\n",
    "from sklearn.metrics import accuracy_score, r2_score"
   ]
  },
  {
   "cell_type": "code",
   "execution_count": null,
   "metadata": {},
   "outputs": [],
   "source": [
    "import sys\n",
    "\n",
    "sys.path.append('src/')\n",
    "\n",
    "from funcs import *"
   ]
  },
  {
   "cell_type": "code",
   "execution_count": null,
   "metadata": {},
   "outputs": [],
   "source": [
    "import statsmodels.api as sm"
   ]
  },
  {
   "cell_type": "code",
   "execution_count": null,
   "metadata": {},
   "outputs": [],
   "source": [
    "%load_ext autoreload\n",
    "%autoreload 2"
   ]
  },
  {
   "cell_type": "code",
   "execution_count": null,
   "metadata": {},
   "outputs": [],
   "source": [
    "#read-in data frame from data/consolidate_v2.ipynb\n",
    "df_Xy = pd.read_csv('data/dfXy.csv')"
   ]
  },
  {
   "cell_type": "code",
   "execution_count": null,
   "metadata": {},
   "outputs": [],
   "source": [
    "df_Xy.info()"
   ]
  },
  {
   "cell_type": "code",
   "execution_count": null,
   "metadata": {},
   "outputs": [],
   "source": [
    "df_Xy['date'] = pd.to_datetime(df_Xy['date'], yearfirst = True)"
   ]
  },
  {
   "cell_type": "code",
   "execution_count": null,
   "metadata": {},
   "outputs": [],
   "source": [
    "df_Xy.set_index('date', inplace = True)"
   ]
  },
  {
   "cell_type": "markdown",
   "metadata": {},
   "source": [
    "# Background\n",
    "#### Gold is often said to be a store of value against inflation. Gold is also often said to be a hedge against volatility in equity markets. Leveraging some classical economic thought, this makes sense at surface level: lower interest rates cause inflation and devalue the currency, so people flock to gold. As for equity markets, nobody likes to lose money. When equity markets have satiated an investor's appetite for risk, some of those funds will flow into gold. But this would assume a perfectly rational investor, and I don't think I've ever met one in real life. Let's see how these taken-forogranted relationships hold up alongside the data.\n",
    "\n",
    "\n",
    "# We want to investigate the predictivty of central bank policy rates and stock market index performance as they relate to the price of gold. \n",
    "\n",
    "## We'll attempt to use time series modeling to predict the daily price, daily price difference, and daily percent change in price of gold.\n",
    "### We have the most recent 11 years of daily data from the following sources:\n",
    "### Features:\n",
    "#### Top 5 equity market indices by market capitalization, per Statista: https://www.statista.com/statistics/270126/largest-stock-exchange-operators-by-market-capitalization-of-listed-companies/, and their corresponding daily performance and percent change\n",
    "- NYSE Composite Index history: https://finance.yahoo.com/quote/%5ENYA?p=^NYA&.tsrc=fin-srch\n",
    "- NASDAQ Composite Index history: https://finance.yahoo.com/quote/%5EIXIC?p=^IXIC&.tsrc=fin-srch\n",
    "- Japan Exchange Group Composite Index history: https://finance.yahoo.com/quote/8697.T?p=8697.T&.tsrc=fin-srch\n",
    "    - This was one of the limiting factors in our timeframe. The JEG as we know it today didn't come into existence until 2008 \n",
    "- Shanghai Stock Exchange Composite Index history: https://finance.yahoo.com/quote/%5ESSEC?p=^SSEC&.tsrc=fin-srch\n",
    "- Hang Seng (Hong Kong) Index History: https://finance.yahoo.com/quote/%5EHSI?p=^HSI&.tsrc=fin-srch\n",
    "#### Top 5 Currencies Globally in Forex Trading (https://www.ig.com/us/trading-strategies/top-10-most-traded-currency-pairs-191206), and their corresponding daily central bank policy rates and percent change\n",
    "- The Fed (USD): https://fred.stlouisfed.org/series/FEDFUNDS\n",
    "- ECB (EUR): https://www.ecb.europa.eu/stats/policy_and_exchange_rates/key_ecb_interest_rates/html/index.en.html\n",
    "- BoJ (JPY): https://fred.stlouisfed.org/series/IRSTCI01JPM156N\n",
    "- United Kingdom (GBP): https://fred.stlouisfed.org/series/GBPONTD156N\n",
    "- Australia (AUD): https://www.rba.gov.au/statistics/cash-rate/\n",
    "\n",
    "### Targets:\n",
    "#### Daily price of gold, daily difference in gold price, daily percent change price of gold: https://www.usagold.com/reference/prices/goldhistory.php\n",
    "\n",
    "## As the data sits, we currently have both daily policy rates and index scores (along with differences and percent changes) - each with up to a ten day lag on the data. This translates to  121 features each in our 3 would-be models (daily price, daily price difference, daily percent price change).\n",
    "\n",
    "### Let's start by separating our data"
   ]
  },
  {
   "cell_type": "code",
   "execution_count": null,
   "metadata": {},
   "outputs": [],
   "source": [
    "# store column titles to create separate dataframes for raw values, differences, and percent changes\n",
    "\n",
    "col_raw = []\n",
    "col_dif = []\n",
    "col_change = []\n",
    "\n",
    "for col in df_Xy.columns:\n",
    "    if 'change%' in col:\n",
    "        col_change.append(col)\n",
    "    elif 'dif' in col:\n",
    "        col_dif.append(col)\n",
    "    else:\n",
    "        col_raw.append(col)"
   ]
  },
  {
   "cell_type": "code",
   "execution_count": null,
   "metadata": {},
   "outputs": [],
   "source": [
    "# create three separate dataframes, one with raw values, one with differences, and one with percent change\n",
    "\n",
    "df_Xy_raw = df_Xy[col_raw].dropna()\n",
    "\n",
    "df_Xy_dif = df_Xy[col_dif].dropna()\n",
    "\n",
    "df_Xy_change = df_Xy[col_change].dropna()"
   ]
  },
  {
   "cell_type": "code",
   "execution_count": null,
   "metadata": {},
   "outputs": [],
   "source": [
    "df_Xy_raw.info()"
   ]
  },
  {
   "cell_type": "code",
   "execution_count": null,
   "metadata": {},
   "outputs": [],
   "source": [
    "df_Xy_dif.info()"
   ]
  },
  {
   "cell_type": "code",
   "execution_count": null,
   "metadata": {},
   "outputs": [],
   "source": [
    "df_Xy_change.info()"
   ]
  },
  {
   "cell_type": "markdown",
   "metadata": {},
   "source": [
    "#### To compare models on a level playing field, we need to ensure the same date range is being used for both the raw and the change data. Let's take a look at the date ranges in all of our datasets. It looks like our difference dataframe is the limiting factor here with '2008-09-22' being the earliest date in the dataset."
   ]
  },
  {
   "cell_type": "code",
   "execution_count": null,
   "metadata": {},
   "outputs": [],
   "source": [
    "df_Xy_raw = df_Xy_raw[df_Xy_raw.index >= '2008-09-22']\n",
    "df_Xy_raw.info()"
   ]
  },
  {
   "cell_type": "code",
   "execution_count": null,
   "metadata": {},
   "outputs": [],
   "source": [
    "df_Xy_change = df_Xy_change[df_Xy_change.index >= '2008-09-22']\n",
    "df_Xy_change.info()"
   ]
  },
  {
   "cell_type": "code",
   "execution_count": null,
   "metadata": {},
   "outputs": [],
   "source": [
    "# create X,y pairs for both raw and percent change dataframes\n",
    "\n",
    "X_raw = df_Xy_raw.drop(columns = ['gold'])\n",
    "y_raw = df_Xy_raw['gold']\n",
    "\n",
    "X_dif = df_Xy_dif.drop(columns = ['gold_dif'])\n",
    "y_dif = df_Xy_dif['gold_dif']\n",
    "\n",
    "X_change = df_Xy_change.drop(columns = ['gold_change%'])\n",
    "y_change = df_Xy_change['gold_change%']"
   ]
  },
  {
   "cell_type": "markdown",
   "metadata": {},
   "source": [
    "## EDA\n",
    "### Historical Gold Data Trends and Moving Averages"
   ]
  },
  {
   "cell_type": "code",
   "execution_count": null,
   "metadata": {},
   "outputs": [],
   "source": [
    "# We default the window here to 365 as we have daily data, and we want to average-out seasonal patterns, if they exist\n",
    "def fit_moving_average_trend(series, window=365):\n",
    "    return series.rolling(window, center=True).mean()"
   ]
  },
  {
   "cell_type": "code",
   "execution_count": null,
   "metadata": {},
   "outputs": [],
   "source": [
    "import numpy as np\n",
    "import matplotlib.pyplot as plt\n",
    "import matplotlib.dates as mdates\n",
    "import matplotlib.cbook as cbook\n",
    "\n",
    "years = mdates.YearLocator()   # every year\n",
    "months = mdates.MonthLocator()  # every month\n",
    "years_fmt = mdates.DateFormatter('%Y')"
   ]
  },
  {
   "cell_type": "code",
   "execution_count": null,
   "metadata": {},
   "outputs": [],
   "source": [
    "fig,axs = plt.subplots(3,1, figsize = (15,12))\n",
    "\n",
    "for ax,metric,series in zip(axs,[('Daily Price of Gold','USD ($)'), ('Daily Difference, Price of Gold','USD ($)'),\\\n",
    "                            ('Daily Percent Change, Price of Gold','% Change')],[y_raw,y_dif,y_change]):\n",
    "        \n",
    "    ma = fit_moving_average_trend(series)\n",
    "    ax.plot(series.index,series)\n",
    "    ax.plot(series.index,ma, label = '365 Day Moving Average')\n",
    "    ax.set_title(metric[0])\n",
    "    ax.set_ylabel(metric[1])\n",
    "    ax.legend()\n",
    "#     ax.set_xticks(df_Xy.index[series.index][::60])\n",
    "#     ax.xaxis.set_tick_params(rotation=45)\n",
    "\n",
    "\n",
    "#     # format the ticks\n",
    "    ax.xaxis.set_major_locator(years)\n",
    "    ax.xaxis.set_major_formatter(years_fmt)\n",
    "    ax.xaxis.set_minor_locator(months)\n",
    "\n",
    "       \n",
    "plt.tight_layout()\n",
    "#plt.savefig('gold_history')"
   ]
  },
  {
   "cell_type": "markdown",
   "metadata": {},
   "source": [
    "## EDA\n",
    "### Historical Gold Data Trends Alongside All Features"
   ]
  },
  {
   "cell_type": "code",
   "execution_count": null,
   "metadata": {},
   "outputs": [],
   "source": [
    "# raw data\n",
    "\n",
    "col_lag = ['gold']\n",
    "for col in df_Xy_raw.columns:\n",
    "    if 'lag' in col:\n",
    "        col_lag.append(col)\n",
    "        \n",
    "X_nolag_raw = df_Xy_raw.drop(columns = col_lag)\n"
   ]
  },
  {
   "cell_type": "code",
   "execution_count": null,
   "metadata": {
    "scrolled": false
   },
   "outputs": [],
   "source": [
    "plot_trends(X_nolag_raw,y_raw)\n",
    "#plt.savefig('raw_overlap_final')"
   ]
  },
  {
   "cell_type": "markdown",
   "metadata": {},
   "source": [
    "### Raw Data Trends - Price of Gold, Central Bank Policy Rates, and Global Index Summary:\n",
    "While there are periods of time within the data the gold moves in tandem with our features, those trends and not consistent throughout our entire time window of the most recent ten years.\n",
    "\n",
    "- Rates that stick out to me: Euro, Australian Dollar\n",
    "- Stock indices that stick out to me: Nasdaq, NYSE\n",
    "\n",
    "\n",
    "### So perhaps our features aren't as predictive as we have been led to believe. Let's first try to predict gold's price based on its own lagged price, then we can see if any of our remaining features can positively contribute to our model."
   ]
  },
  {
   "cell_type": "markdown",
   "metadata": {},
   "source": [
    "## EDA\n",
    "### Testing for Gold for Stationarity with Augmented Dickey Fuller"
   ]
  },
  {
   "cell_type": "code",
   "execution_count": null,
   "metadata": {},
   "outputs": [],
   "source": [
    "for title, series in zip(['Daily Price of Gold', 'Daily Difference, Price of Gold','Daily Percent Change, Price of Gold'],[y_raw,y_dif,y_change]):\n",
    "    test = sm.tsa.stattools.adfuller(series)\n",
    "    print(f'{title} ADF p-value: {round(test[1],3)}')"
   ]
  },
  {
   "cell_type": "markdown",
   "metadata": {},
   "source": [
    "#### So we now know that both gold's Daily Price Difference and Daily Percent Change are stationary. Let's take a look at some autocorrelation and partial autocorrelation plots to see if an AR (auto-regressive) model  would make sense for our baselines. This will also help inform what sort of lag we should use in our model"
   ]
  },
  {
   "cell_type": "code",
   "execution_count": null,
   "metadata": {},
   "outputs": [],
   "source": [
    "fig, axs = plt.subplots(2, figsize=(15, 12))\n",
    "\n",
    "for ax, title, series in zip(axs, ['Daily Difference, Price of Gold','Daily Percent Change, Price of Gold'],[y_dif,y_change]):\n",
    "    test = sm.tsa.stattools.adfuller(series)\n",
    "    \n",
    "    sm.graphics.tsa.plot_acf(series, lags=100, ax=ax)\n",
    "    ax.set_title(f'Autocorrelation: {title}')\n",
    "    \n",
    "    # The zeroth value in these graphs is pointless (a dataset is perfectly correlated to itself)\n",
    "    ax.set_xlim(left = 1)\n",
    "    ax.set_ylim(top = 0.2)\n",
    "    ax.set_xlabel('Lag (Days)')\n",
    "    ax.set_ylabel('Autocorrelation')\n",
    "\n",
    "plt.tight_layout()\n",
    "plt.savefig('auto_gold_final')"
   ]
  },
  {
   "cell_type": "code",
   "execution_count": null,
   "metadata": {},
   "outputs": [],
   "source": [
    "fig, axs = plt.subplots(2, figsize=(15, 12))\n",
    "\n",
    "for ax, title, series in zip(axs, ['Daily Difference, Price of Gold','Daily Percent Change, Price of Gold'],[y_dif,y_change]):\n",
    "    test = sm.tsa.stattools.adfuller(series)\n",
    "    \n",
    "    sm.graphics.tsa.plot_pacf(series, lags=100, ax=ax)\n",
    "    ax.set_title(f'Partial Autocorrelation: {title}')\n",
    "    \n",
    "    # The zeroth value in these graphs is pointless (a dataset is perfectly correlated to itself)\n",
    "    ax.set_xlim(left = 1)\n",
    "    ax.set_ylim(top = 0.2)\n",
    "    ax.set_xlabel('Lag (Days)')\n",
    "    ax.set_ylabel('Partial Autocorrelation')\n",
    "\n",
    "plt.tight_layout()\n",
    "plt.savefig('pauto_gold_final')"
   ]
  },
  {
   "cell_type": "markdown",
   "metadata": {},
   "source": [
    "#### While we've proven stationarity in daily price difference and daily percent change, our Autocorrelation plots  aren't encouraging. An AR based model doesn't seem like the proper approach, but linear regression actually assumes an absence of autocorrelation. \n",
    "#### To get the simplest of baselines, let's fit a linear model with gold's price difference and price change with the features being a 1 through 10 day lag. Given the dynamic nature of markets, a 10 day lag will help mitigate an extinct trend from a previous timeframe over-influencing our models."
   ]
  },
  {
   "cell_type": "markdown",
   "metadata": {},
   "source": [
    "## Linear Model Assumptions:\n",
    "We may be breaking the rules a bit here. We're really most concerned with generating a baseline model. Who knows?, perhaps the model will pick up something our eyes missed during visual EDA.\n",
    "- Linear relationship - if this doesn't exist, we'll know because our model will score poorly\n",
    "- Errors are normally distributed\n",
    "- Homoscedasticity of errors (or, equal variance around the line) - fit a model and visualize\n",
    "- Independence of the observations - mostly rule breaking here"
   ]
  },
  {
   "cell_type": "code",
   "execution_count": null,
   "metadata": {},
   "outputs": [],
   "source": [
    "X_dif.reset_index(inplace = True)\n",
    "X_change.reset_index(inplace = True)"
   ]
  },
  {
   "cell_type": "code",
   "execution_count": null,
   "metadata": {},
   "outputs": [],
   "source": [
    "# generate gold difference and gold % change dfs with lag\n",
    "\n",
    "#Difference\n",
    "col_gold_dif = []\n",
    "for col in X_dif.columns:\n",
    "    if 'gold' in col:\n",
    "        col_gold_dif.append(col)\n",
    "\n",
    "X_dif_gold = X_dif[col_gold_dif]\n",
    "X_dif_gold.info()\n",
    "        "
   ]
  },
  {
   "cell_type": "code",
   "execution_count": null,
   "metadata": {},
   "outputs": [],
   "source": [
    "#Percent Change\n",
    "col_gold_change = []\n",
    "for col in X_change.columns:\n",
    "    if 'gold' in col:\n",
    "        col_gold_change.append(col)\n",
    "\n",
    "X_change_gold = X_change[col_gold_change]\n",
    "X_change_gold.info()"
   ]
  },
  {
   "cell_type": "markdown",
   "metadata": {},
   "source": [
    "## Linear Regression Model: Daily Gold Price Difference (USD), 10 day lag"
   ]
  },
  {
   "cell_type": "code",
   "execution_count": null,
   "metadata": {},
   "outputs": [],
   "source": [
    "from sklearn.linear_model import Ridge"
   ]
  },
  {
   "cell_type": "markdown",
   "metadata": {},
   "source": [
    "Because we're using time series based data, our train-test split will need to ensure that our data stays chronological."
   ]
  },
  {
   "cell_type": "code",
   "execution_count": null,
   "metadata": {},
   "outputs": [],
   "source": [
    "from sklearn.model_selection import TimeSeriesSplit"
   ]
  },
  {
   "cell_type": "code",
   "execution_count": null,
   "metadata": {},
   "outputs": [],
   "source": [
    "y_dif = df_Xy_dif.reset_index()['gold_dif']"
   ]
  },
  {
   "cell_type": "code",
   "execution_count": null,
   "metadata": {},
   "outputs": [],
   "source": [
    "X_dif_gold.info()"
   ]
  },
  {
   "cell_type": "code",
   "execution_count": null,
   "metadata": {},
   "outputs": [],
   "source": [
    "train_X_dif_gold = X_dif_gold[:int(X_dif_gold.shape[0]*0.7)]\n",
    "test_X_dif_gold = X_dif_gold[int(X_dif_gold.shape[0]*0.7):]\n",
    "train_y_dif = y_dif[:int(X_dif_gold.shape[0]*0.7)]\n",
    "test_y_dif = y_dif[int(X_dif_gold.shape[0]*0.7):]"
   ]
  },
  {
   "cell_type": "code",
   "execution_count": null,
   "metadata": {},
   "outputs": [],
   "source": [
    "d = dict()\n",
    "for i in np.arange(0,20.1,0.1):\n",
    "    d[cross_val_and_score(Ridge(alpha = i),train_X_dif_gold, test_X_dif_gold, train_y_dif, test_y_dif)[0][-1]] = i"
   ]
  },
  {
   "cell_type": "code",
   "execution_count": null,
   "metadata": {},
   "outputs": [],
   "source": [
    "max_ = max(d.keys())\n",
    "print(d[max_],max_)"
   ]
  },
  {
   "cell_type": "markdown",
   "metadata": {},
   "source": [
    "#### Cross Validation: Linear Regression of Daily Price Difference (USD), 10 day lag"
   ]
  },
  {
   "cell_type": "code",
   "execution_count": null,
   "metadata": {},
   "outputs": [],
   "source": [
    "# Instantiate dictionary to store all model scores\n",
    "d_score = dict()"
   ]
  },
  {
   "cell_type": "code",
   "execution_count": null,
   "metadata": {},
   "outputs": [],
   "source": [
    "dif_gold_score, dif_gold_model = cross_val_and_score(Ridge(alpha = d[max_]),train_X_dif_gold, test_X_dif_gold, train_y_dif, test_y_dif)"
   ]
  },
  {
   "cell_type": "code",
   "execution_count": null,
   "metadata": {},
   "outputs": [],
   "source": [
    "d_score['Linear Regression of Daily Price Difference (USD), 10 day lag'] = dif_gold_score"
   ]
  },
  {
   "cell_type": "code",
   "execution_count": null,
   "metadata": {},
   "outputs": [],
   "source": [
    "plot_model(dif_gold_model,test_X_dif_gold,test_y_dif)\n",
    "#plt.savefig('dif_gold_linear')"
   ]
  },
  {
   "cell_type": "markdown",
   "metadata": {},
   "source": [
    "### Linear Regression Model: Daily Gold Price Percent Change, 10 day lag"
   ]
  },
  {
   "cell_type": "code",
   "execution_count": null,
   "metadata": {},
   "outputs": [],
   "source": [
    "y_change = df_Xy_change.reset_index()['gold_change%']"
   ]
  },
  {
   "cell_type": "code",
   "execution_count": null,
   "metadata": {},
   "outputs": [],
   "source": [
    "train_X_change_gold = X_change_gold[:int(X_change_gold.shape[0]*0.7)]\n",
    "test_X_change_gold = X_change_gold[int(X_change_gold.shape[0]*0.7):]\n",
    "train_y_change = y_change[:int(X_change_gold.shape[0]*0.7)]\n",
    "test_y_change = y_change[int(X_change_gold.shape[0]*0.7):]"
   ]
  },
  {
   "cell_type": "code",
   "execution_count": null,
   "metadata": {},
   "outputs": [],
   "source": [
    "d = dict()\n",
    "for i in np.arange(0,20.1,0.1):\n",
    "    d[cross_val_and_score(Ridge(alpha = i),train_X_change_gold, test_X_change_gold, train_y_change, test_y_change)[0][-1]] = i"
   ]
  },
  {
   "cell_type": "code",
   "execution_count": null,
   "metadata": {},
   "outputs": [],
   "source": [
    "max_ = max(d.keys())\n",
    "\n",
    "print(d[max_],max_)"
   ]
  },
  {
   "cell_type": "markdown",
   "metadata": {},
   "source": [
    "#### Cross Validation: Linear Regression of Daily Gold Price Percent Change, 10 day lag"
   ]
  },
  {
   "cell_type": "code",
   "execution_count": null,
   "metadata": {},
   "outputs": [],
   "source": [
    "change_gold_score, change_gold_model = cross_val_and_score(Ridge(alpha = d[max_]),train_X_change_gold, test_X_change_gold, train_y_change, test_y_change)"
   ]
  },
  {
   "cell_type": "code",
   "execution_count": null,
   "metadata": {},
   "outputs": [],
   "source": [
    "d_score['Linear Regression Model: Daily Gold Price Percent Change, 10 day lag'] = change_gold_score"
   ]
  },
  {
   "cell_type": "code",
   "execution_count": null,
   "metadata": {},
   "outputs": [],
   "source": [
    "plot_model(change_gold_model,test_X_change_gold,test_y_change)\n",
    "#plt.savefig('change_gold_linear')"
   ]
  },
  {
   "cell_type": "markdown",
   "metadata": {},
   "source": [
    "### Linear Regression for Gold Price 10 Day Lag Summary:\n",
    "A simple linear model is doing more harm than good when using a ten day lag to predict both the Daily Price Difference (R^2 Score = -0.008) as well as the Daily Percent Change in Price (R^2 Score = -0.019).\n",
    "\n",
    "#### Idea: Let's tryout a different model with again just the 10 day lag for only gold price data. A moving average feels like a reasonable next step, given its prominence as a technical indicator in the world of online trading. "
   ]
  },
  {
   "cell_type": "markdown",
   "metadata": {},
   "source": [
    "## 10 Day Moving Average Regressor: Daily Gold Price Difference (USD)"
   ]
  },
  {
   "cell_type": "code",
   "execution_count": null,
   "metadata": {},
   "outputs": [],
   "source": [
    "y_dif_ma = X_dif_gold.mean(axis = 1)"
   ]
  },
  {
   "cell_type": "code",
   "execution_count": null,
   "metadata": {},
   "outputs": [],
   "source": [
    "# Since we're taking a simple moving average, we don't need to split our feature matrices. We can just compare our moving averages to actual values\n",
    "train_y_dif_ma = y_dif_ma[:int(X_dif_gold.shape[0]*0.7)]\n",
    "test_y_dif_ma = y_dif_ma[int(X_dif_gold.shape[0]*0.7):]\n",
    "\n",
    "\n",
    "train_y_dif = y_dif[:int(X_dif_gold.shape[0]*0.7)]\n",
    "test_y_dif = y_dif[int(X_dif_gold.shape[0]*0.7):]"
   ]
  },
  {
   "cell_type": "markdown",
   "metadata": {},
   "source": [
    "#### Cross Validation: 10 Day Moving Average Regression Daily Gold Price Difference (USD)"
   ]
  },
  {
   "cell_type": "code",
   "execution_count": null,
   "metadata": {},
   "outputs": [],
   "source": [
    "ma_dif_gold_score = cross_val_and_score_ma(train_y_dif_ma,train_y_dif,test_y_dif_ma,test_y_dif)"
   ]
  },
  {
   "cell_type": "code",
   "execution_count": null,
   "metadata": {},
   "outputs": [],
   "source": [
    "d_score['10 Day Moving Average Regressor: Daily Gold Price Difference (USD)'] = ma_dif_gold_score"
   ]
  },
  {
   "cell_type": "code",
   "execution_count": null,
   "metadata": {},
   "outputs": [],
   "source": [
    "plot_ma_model(y_dif_ma,y_dif)\n",
    "#plt.savefig('dif_gold_ma')"
   ]
  },
  {
   "cell_type": "markdown",
   "metadata": {},
   "source": [
    "## 10 Day Moving Average Regressor: Daily Percent Change Gold Price"
   ]
  },
  {
   "cell_type": "code",
   "execution_count": null,
   "metadata": {},
   "outputs": [],
   "source": [
    "X_change_gold.info()"
   ]
  },
  {
   "cell_type": "code",
   "execution_count": null,
   "metadata": {},
   "outputs": [],
   "source": [
    "y_change_ma = X_change_gold.mean(axis = 1)"
   ]
  },
  {
   "cell_type": "code",
   "execution_count": null,
   "metadata": {},
   "outputs": [],
   "source": [
    "# Since we're taking a simple moving average, we don't need to split our feature matrices. We can just compare our moving averages to actual values\n",
    "train_y_change_ma = y_change_ma[:int(X_dif_gold.shape[0]*0.7)]\n",
    "test_y_change_ma = y_change_ma[int(X_dif_gold.shape[0]*0.7):]\n",
    "\n",
    "\n",
    "train_y_change = y_change[:int(X_dif_gold.shape[0]*0.7)]\n",
    "test_y_change = y_change[int(X_dif_gold.shape[0]*0.7):]"
   ]
  },
  {
   "cell_type": "markdown",
   "metadata": {},
   "source": [
    "#### Cross Validation: 10 Day Moving Average Regression Daily Percent Change Gold Price"
   ]
  },
  {
   "cell_type": "code",
   "execution_count": null,
   "metadata": {},
   "outputs": [],
   "source": [
    "ma_change_gold_score = cross_val_and_score_ma(train_y_change_ma,train_y_change,test_y_change_ma,test_y_change)"
   ]
  },
  {
   "cell_type": "code",
   "execution_count": null,
   "metadata": {},
   "outputs": [],
   "source": [
    "d_score['10 Day Moving Average Regressor: Daily Percent Change Gold Price'] = ma_change_gold_score"
   ]
  },
  {
   "cell_type": "code",
   "execution_count": null,
   "metadata": {},
   "outputs": [],
   "source": [
    "plot_ma_model(y_change_ma,y_change)\n",
    "#plt.savefig('change_gold_ma')"
   ]
  },
  {
   "cell_type": "markdown",
   "metadata": {},
   "source": [
    "### 10 Day Moving Average Regressor for Gold Price Summary:\n",
    "A 10 Day Moving Average Regressor also does a poor job in explaining variation in the Daily Price Difference (R^2 Score = -0.13) as well as the Daily Percent Change in Price (R^2 Score = -0.13).\n",
    "\n",
    "#### Idea: A gradient boosting regressor comes to mind, because all of our target and feature variables are continuous, and it's evident both linear regression and moving-average models do a poor job of explaining gold's variation in price. "
   ]
  },
  {
   "cell_type": "markdown",
   "metadata": {},
   "source": [
    "## Gradient Boosting Regressor: Daily Gold Price Difference, 10 day lag"
   ]
  },
  {
   "cell_type": "code",
   "execution_count": null,
   "metadata": {},
   "outputs": [],
   "source": [
    "train_X_dif_gold = X_dif_gold[:int(X_dif_gold.shape[0]*0.7)]\n",
    "test_X_dif_gold = X_dif_gold[int(X_dif_gold.shape[0]*0.7):]\n",
    "train_y_dif = y_dif[:int(X_dif_gold.shape[0]*0.7)]\n",
    "test_y_dif = y_dif[int(X_dif_gold.shape[0]*0.7):]"
   ]
  },
  {
   "cell_type": "markdown",
   "metadata": {},
   "source": [
    "#### Cross Validation: Gradient Boosting Regressor of Daily Gold Price Difference, 10 day lag"
   ]
  },
  {
   "cell_type": "code",
   "execution_count": null,
   "metadata": {},
   "outputs": [],
   "source": [
    "dif_gold_score, dif_gold_model = cross_val_and_score(GradientBoostingRegressor(learning_rate = .01),train_X_dif_gold, test_X_dif_gold, train_y_dif, test_y_dif)"
   ]
  },
  {
   "cell_type": "code",
   "execution_count": null,
   "metadata": {},
   "outputs": [],
   "source": [
    "d_score['Gradient Boosting Regressor: Daily Gold Price Difference, 10 day lag'] = dif_gold_score"
   ]
  },
  {
   "cell_type": "code",
   "execution_count": null,
   "metadata": {},
   "outputs": [],
   "source": [
    "plot_model(dif_gold_model,test_X_dif_gold,test_y_dif)\n",
    "#plt.savefig('dif_gold_gb')"
   ]
  },
  {
   "cell_type": "markdown",
   "metadata": {},
   "source": [
    "## Gradient Boosting Regressor: Daily Percent Change Gold Price, 10 day lag"
   ]
  },
  {
   "cell_type": "code",
   "execution_count": null,
   "metadata": {},
   "outputs": [],
   "source": [
    "train_X_change_gold = X_change_gold[:int(X_change_gold.shape[0]*0.7)]\n",
    "test_X_change_gold = X_change_gold[int(X_change_gold.shape[0]*0.7):]\n",
    "train_y_change = y_change[:int(X_change_gold.shape[0]*0.7)]\n",
    "test_y_change = y_change[int(X_change_gold.shape[0]*0.7):]"
   ]
  },
  {
   "cell_type": "markdown",
   "metadata": {},
   "source": [
    "#### Cross Validation: Gradient Boosting Regressor of Daily Gold Price Difference, 10 day lag"
   ]
  },
  {
   "cell_type": "code",
   "execution_count": null,
   "metadata": {},
   "outputs": [],
   "source": [
    "change_gold_score, change_gold_model = cross_val_and_score(GradientBoostingRegressor(learning_rate = .01),train_X_change_gold, test_X_change_gold, train_y_change, test_y_change)"
   ]
  },
  {
   "cell_type": "code",
   "execution_count": null,
   "metadata": {},
   "outputs": [],
   "source": [
    "d_score['Gradient Boosting Regressor: Daily Percent Change Gold Price, 10 day lag'] = change_gold_score"
   ]
  },
  {
   "cell_type": "code",
   "execution_count": null,
   "metadata": {},
   "outputs": [],
   "source": [
    "plot_model(change_gold_model,test_X_change_gold,test_y_change)\n",
    "#plt.savefig('change_gold_gb')"
   ]
  },
  {
   "cell_type": "markdown",
   "metadata": {},
   "source": [
    "### Gradient Boosting Regression for Gold Price, 10 Day Lag Summary:\n",
    "We only made an improvement from our Linear Model with respect to Daily Percent Change in Price (R^2 Score = -0.005).\n",
    "The R^2 score for our Daily Price Difference model actually dropped a bit (R^2 Score = -0.011), \n",
    "#### Idea: Let's introduce our other features (stock market index performance, central bank policy rates, and their 10 day lags) to see if any of these metrics can help inform our model. We can use permutation importance to determine which features, if any, are most informative."
   ]
  },
  {
   "cell_type": "markdown",
   "metadata": {},
   "source": [
    "## Gradient Boosting Regressor: Daily Gold Price Difference, All Features"
   ]
  },
  {
   "cell_type": "code",
   "execution_count": null,
   "metadata": {},
   "outputs": [],
   "source": [
    "y_dif = df_Xy_dif.reset_index()['gold_dif']"
   ]
  },
  {
   "cell_type": "code",
   "execution_count": null,
   "metadata": {},
   "outputs": [],
   "source": [
    "to_drop = ['gold_dif','date']\n",
    "\n",
    "for col in df_Xy_dif.columns:\n",
    "    if 'lag' not in col:\n",
    "        to_drop.append(col)"
   ]
  },
  {
   "cell_type": "code",
   "execution_count": null,
   "metadata": {},
   "outputs": [],
   "source": [
    "X_dif = df_Xy_dif.reset_index().drop(columns = to_drop)"
   ]
  },
  {
   "cell_type": "code",
   "execution_count": null,
   "metadata": {},
   "outputs": [],
   "source": [
    "X_dif.info()"
   ]
  },
  {
   "cell_type": "code",
   "execution_count": null,
   "metadata": {},
   "outputs": [],
   "source": [
    "train_X_dif = X_dif[:int(X_dif.shape[0]*0.7)]\n",
    "test_X_dif = X_dif[int(X_dif.shape[0]*0.7):]\n",
    "train_y_dif = y_dif[:int(X_dif.shape[0]*0.7)]\n",
    "test_y_dif = y_dif[int(X_dif.shape[0]*0.7):]"
   ]
  },
  {
   "cell_type": "markdown",
   "metadata": {},
   "source": [
    "#### Cross Validation Gradient Boosting Regressor of Daily Gold Price Difference, All Features"
   ]
  },
  {
   "cell_type": "code",
   "execution_count": null,
   "metadata": {},
   "outputs": [],
   "source": [
    "dif_score, dif_model = cross_val_and_score(GradientBoostingRegressor(learning_rate = .01),train_X_dif, test_X_dif, train_y_dif, test_y_dif)"
   ]
  },
  {
   "cell_type": "code",
   "execution_count": null,
   "metadata": {},
   "outputs": [],
   "source": [
    "d_score['Gradient Boosting Regressor: Daily Gold Price Difference, All Features'] = dif_score"
   ]
  },
  {
   "cell_type": "code",
   "execution_count": null,
   "metadata": {},
   "outputs": [],
   "source": [
    "plot_model(dif_model,test_X_dif,test_y_dif)\n",
    "#plt.savefig('dif_gb')"
   ]
  },
  {
   "cell_type": "markdown",
   "metadata": {},
   "source": [
    "## Gradient Boosting Regressor: Daily Gold Price Percent Change, All Features"
   ]
  },
  {
   "cell_type": "code",
   "execution_count": null,
   "metadata": {},
   "outputs": [],
   "source": [
    "y_change = df_Xy_change.reset_index()['gold_change%']"
   ]
  },
  {
   "cell_type": "code",
   "execution_count": null,
   "metadata": {},
   "outputs": [],
   "source": [
    "to_drop = ['gold_change%','date']\n",
    "\n",
    "for col in df_Xy_change.columns:\n",
    "    if 'lag' not in col:\n",
    "        to_drop.append(col)"
   ]
  },
  {
   "cell_type": "code",
   "execution_count": null,
   "metadata": {},
   "outputs": [],
   "source": [
    "X_change = df_Xy_change.reset_index().drop(columns = to_drop)"
   ]
  },
  {
   "cell_type": "code",
   "execution_count": null,
   "metadata": {},
   "outputs": [],
   "source": [
    "X_change.info()"
   ]
  },
  {
   "cell_type": "code",
   "execution_count": null,
   "metadata": {},
   "outputs": [],
   "source": [
    "train_X_change = X_change[:int(X_change.shape[0]*0.7)]\n",
    "test_X_change = X_change[int(X_change.shape[0]*0.7):]\n",
    "train_y_change = y_change[:int(X_change.shape[0]*0.7)]\n",
    "test_y_change = y_change[int(X_change.shape[0]*0.7):]"
   ]
  },
  {
   "cell_type": "markdown",
   "metadata": {},
   "source": [
    "#### Cross Validation Gradient Boosting Regressor of Daily Gold Price Percent Change, All Features"
   ]
  },
  {
   "cell_type": "code",
   "execution_count": null,
   "metadata": {},
   "outputs": [],
   "source": [
    "change_score, change_model = cross_val_and_score(GradientBoostingRegressor(learning_rate = .01),train_X_change, test_X_change, train_y_change, test_y_change)"
   ]
  },
  {
   "cell_type": "code",
   "execution_count": null,
   "metadata": {},
   "outputs": [],
   "source": [
    "d_score['Gradient Boosting Regressor: Daily Gold Price Percent Change, All Features'] = change_score"
   ]
  },
  {
   "cell_type": "code",
   "execution_count": null,
   "metadata": {},
   "outputs": [],
   "source": [
    "plot_model(change_model,test_X_change,test_y_change)\n",
    "#plt.savefig('change_gb')"
   ]
  },
  {
   "cell_type": "markdown",
   "metadata": {},
   "source": [
    "### Gradient Boosting Regression for Gold Price - Stock Indices, Central Bank Policy Rates, and Gold Pricing\n",
    "Unfortunately, it looks like the introduction of more features to our models actually decreased their accuracy, making them further underform in contrast to a constant prediction: Daily Price Difference (R^2 Score = -0.024), Daily Percent Change in Price (R^2 Score = -0.016).\n",
    "#### Idea: Thus far, our models have left much to be desired in terms of accuracy. They aren't explaining gold's variation in price difference or price change. However, from an investor's perspective, what is ultimately most important is whether or not the price will increase or decrease within a given time frame. Let's pivot to a classification framework and see if we can't get a better score. \n"
   ]
  },
  {
   "cell_type": "markdown",
   "metadata": {},
   "source": [
    "## Gradient Boosting Classifier: Daily Gold Price Difference, All Features"
   ]
  },
  {
   "cell_type": "code",
   "execution_count": null,
   "metadata": {},
   "outputs": [],
   "source": [
    "# Create boolean increase feature\n",
    "\n",
    "y_dif = df_Xy_dif.reset_index()['gold_dif'] > 0"
   ]
  },
  {
   "cell_type": "code",
   "execution_count": null,
   "metadata": {},
   "outputs": [],
   "source": [
    "X_dif.info()"
   ]
  },
  {
   "cell_type": "code",
   "execution_count": null,
   "metadata": {},
   "outputs": [],
   "source": [
    "train_X_dif = X_dif[:int(X_dif.shape[0]*0.7)]\n",
    "test_X_dif = X_dif[int(X_dif.shape[0]*0.7):]\n",
    "train_y_dif = y_dif[:int(X_dif.shape[0]*0.7)]\n",
    "test_y_dif = y_dif[int(X_dif.shape[0]*0.7):]"
   ]
  },
  {
   "cell_type": "markdown",
   "metadata": {},
   "source": [
    "#### Cross Validation: Gradient Boosting Classifier of Daily Gold Price Difference, All Features"
   ]
  },
  {
   "cell_type": "code",
   "execution_count": null,
   "metadata": {},
   "outputs": [],
   "source": [
    "dif_score, dif_model = cross_val_and_score(GradientBoostingClassifier(learning_rate = .01),train_X_dif, test_X_dif, train_y_dif, test_y_dif)"
   ]
  },
  {
   "cell_type": "code",
   "execution_count": null,
   "metadata": {},
   "outputs": [],
   "source": [
    "d_score['Gradient Boosting Classifier: Daily Gold Price Difference, All Features'] = dif_score"
   ]
  },
  {
   "cell_type": "markdown",
   "metadata": {},
   "source": [
    "#### Feature Importance: Gradient Boosting Classifier of Daily Gold Price Difference, All Features"
   ]
  },
  {
   "cell_type": "code",
   "execution_count": null,
   "metadata": {},
   "outputs": [],
   "source": [
    "dif_imp = permutation_importance(dif_model,test_X_dif,test_y_dif)\n",
    "\n",
    "d_dif_imp = dict()\n",
    "for idx,col in enumerate(test_X_dif.columns):\n",
    "    imp = dif_imp['importances_mean'][idx]\n",
    "    if imp > 0.01:\n",
    "        d_dif_imp[col] = imp\n"
   ]
  },
  {
   "cell_type": "code",
   "execution_count": null,
   "metadata": {},
   "outputs": [],
   "source": [
    "d_dif_imp"
   ]
  },
  {
   "cell_type": "code",
   "execution_count": null,
   "metadata": {},
   "outputs": [],
   "source": [
    "from sklearn.metrics import confusion_matrix"
   ]
  },
  {
   "cell_type": "code",
   "execution_count": null,
   "metadata": {},
   "outputs": [],
   "source": [
    "#Create confusion matrix\n",
    "gb_cm_dif = print_confusion_matrix(dif_model,test_X_dif,test_y_dif)"
   ]
  },
  {
   "cell_type": "code",
   "execution_count": null,
   "metadata": {},
   "outputs": [],
   "source": [
    "gb_cm_dif"
   ]
  },
  {
   "cell_type": "markdown",
   "metadata": {},
   "source": [
    "## Gradient Boosting Classifier: Daily Gold Price Percent Change, All Features"
   ]
  },
  {
   "cell_type": "code",
   "execution_count": null,
   "metadata": {},
   "outputs": [],
   "source": [
    "y_change = df_Xy_change.reset_index()['gold_change%'] > 0"
   ]
  },
  {
   "cell_type": "code",
   "execution_count": null,
   "metadata": {},
   "outputs": [],
   "source": [
    "X_change.info()"
   ]
  },
  {
   "cell_type": "code",
   "execution_count": null,
   "metadata": {},
   "outputs": [],
   "source": [
    "train_X_change = X_change[:int(X_change.shape[0]*0.7)]\n",
    "test_X_change = X_change[int(X_change.shape[0]*0.7):]\n",
    "train_y_change = y_change[:int(X_change.shape[0]*0.7)]\n",
    "test_y_change = y_change[int(X_change.shape[0]*0.7):]"
   ]
  },
  {
   "cell_type": "markdown",
   "metadata": {},
   "source": [
    "#### Cross Validation Gradient Boosting Classifier of Daily Gold Price Percent Change, All Features"
   ]
  },
  {
   "cell_type": "code",
   "execution_count": null,
   "metadata": {},
   "outputs": [],
   "source": [
    "change_score, change_model = cross_val_and_score(GradientBoostingClassifier(learning_rate = .01),train_X_change, test_X_change, train_y_change, test_y_change)"
   ]
  },
  {
   "cell_type": "code",
   "execution_count": null,
   "metadata": {},
   "outputs": [],
   "source": [
    "d_score['Gradient Boosting Classifier: Daily Gold Price Percent Change, All Features'] = change_score"
   ]
  },
  {
   "cell_type": "code",
   "execution_count": null,
   "metadata": {},
   "outputs": [],
   "source": [
    "change_imp = permutation_importance(change_model,test_X_change,test_y_change)\n",
    "\n",
    "d_change_imp = dict()\n",
    "for idx,col in enumerate(test_X_change.columns):\n",
    "    imp = change_imp['importances_mean'][idx]\n",
    "    if imp > 0.01:\n",
    "        d_change_imp[col] = imp"
   ]
  },
  {
   "cell_type": "code",
   "execution_count": null,
   "metadata": {},
   "outputs": [],
   "source": [
    "d_change_imp"
   ]
  },
  {
   "cell_type": "code",
   "execution_count": null,
   "metadata": {},
   "outputs": [],
   "source": [
    "#Create confusion matrix\n",
    "gb_cm_change = print_confusion_matrix(dif_model,test_X_dif,test_y_dif)"
   ]
  },
  {
   "cell_type": "code",
   "execution_count": null,
   "metadata": {},
   "outputs": [],
   "source": [
    "gb_cm_change"
   ]
  },
  {
   "cell_type": "markdown",
   "metadata": {},
   "source": [
    "### Gradient Boosting Classification for Gold Price - Stock Indices, Central Bank Policy Rates, and Gold Pricing\n",
    "You may have gotten excited by the score ouputs above growing to be at least positive numbers, but it's important we understand the nuances between scoring classifiers versus regressors. While an R^2 score of 0 for regression implies a model that does no better than guessing a constant, we scored our classifiers using the accuracy metric. In this instance, a score of 0.5 (50%) is actually the threshhold for positively contributing to the prediction of a value.\n",
    "\n",
    "#### Good news: our classifiers' accuracy scores Daily Gold Price Difference (R^2 = 0.55) and Daily Gold Price Percent Change (R^2 = 0.53) are positively contributing to the prediction of gold's price movement.\n",
    "\n",
    "#### Bad news: the classifiers are doing so at a rate only slightly better than a coin flip. Of all of the features in our models, only one had a permutation importance greater than 0.01. It was the Nasdaq 9 day lag re: Gradient Boosting Classifer - Daily Difference in Gold Price. Perhaps a relationship does exist there, but I'm not convinced. "
   ]
  },
  {
   "cell_type": "markdown",
   "metadata": {},
   "source": [
    "# Conclusion\n",
    "### If a relationship between interest rates, stock market indices, and the price of gold does exist, it doesn't appear to be properly captured with the featuers we have chosen and a 10 day lag. \n",
    "\n",
    "### Further study\n",
    "- Investigate longer lag\n",
    "- Investigate polynomial and interaction transformations of features with current data"
   ]
  },
  {
   "cell_type": "code",
   "execution_count": null,
   "metadata": {},
   "outputs": [],
   "source": []
  }
 ],
 "metadata": {
  "kernelspec": {
   "display_name": "Python 3",
   "language": "python",
   "name": "python3"
  },
  "language_info": {
   "codemirror_mode": {
    "name": "ipython",
    "version": 3
   },
   "file_extension": ".py",
   "mimetype": "text/x-python",
   "name": "python",
   "nbconvert_exporter": "python",
   "pygments_lexer": "ipython3",
   "version": "3.7.7"
  }
 },
 "nbformat": 4,
 "nbformat_minor": 4
}
