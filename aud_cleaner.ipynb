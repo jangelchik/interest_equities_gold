{
 "cells": [
  {
   "cell_type": "code",
   "execution_count": 26,
   "metadata": {},
   "outputs": [],
   "source": [
    "import pymongo\n",
    "import pandas as pd\n",
    "from pymongo import MongoClient\n",
    "\n",
    "\n",
    "import numpy as np\n",
    "import pandas as pd\n",
    "import scipy.stats as stats\n",
    "\n",
    "import datetime\n",
    "\n",
    "import matplotlib.pyplot as plt\n",
    "%matplotlib inline\n",
    "\n",
    "plt.style.use('ggplot')"
   ]
  },
  {
   "cell_type": "code",
   "execution_count": 27,
   "metadata": {},
   "outputs": [],
   "source": [
    "client = MongoClient()\n",
    "db_aud = client.aud_scraper\n",
    "\n",
    "collection_aud = db_aud.rates"
   ]
  },
  {
   "cell_type": "code",
   "execution_count": 28,
   "metadata": {},
   "outputs": [],
   "source": [
    "df_aud = pd.DataFrame(list(collection_aud.find()))"
   ]
  },
  {
   "cell_type": "code",
   "execution_count": 29,
   "metadata": {},
   "outputs": [
    {
     "name": "stdout",
     "output_type": "stream",
     "text": [
      "<class 'pandas.core.frame.DataFrame'>\n",
      "RangeIndex: 344 entries, 0 to 343\n",
      "Data columns (total 4 columns):\n",
      " #   Column         Non-Null Count  Dtype \n",
      "---  ------         --------------  ----- \n",
      " 0   _id            344 non-null    object\n",
      " 1   date           341 non-null    object\n",
      " 2   change%        343 non-null    object\n",
      " 3   AUD_rate_tgt%  340 non-null    object\n",
      "dtypes: object(4)\n",
      "memory usage: 10.9+ KB\n"
     ]
    }
   ],
   "source": [
    "df_aud.info()"
   ]
  },
  {
   "cell_type": "code",
   "execution_count": 30,
   "metadata": {},
   "outputs": [],
   "source": [
    "# remove Mongo _id column\n",
    "\n",
    "df_aud.drop(columns = ['_id'], inplace = True)"
   ]
  },
  {
   "cell_type": "code",
   "execution_count": 31,
   "metadata": {},
   "outputs": [],
   "source": [
    "# drop rows with NaN values\n",
    "\n",
    "df_aud.dropna(inplace = True)"
   ]
  },
  {
   "cell_type": "code",
   "execution_count": 32,
   "metadata": {},
   "outputs": [
    {
     "data": {
      "text/html": [
       "<div>\n",
       "<style scoped>\n",
       "    .dataframe tbody tr th:only-of-type {\n",
       "        vertical-align: middle;\n",
       "    }\n",
       "\n",
       "    .dataframe tbody tr th {\n",
       "        vertical-align: top;\n",
       "    }\n",
       "\n",
       "    .dataframe thead th {\n",
       "        text-align: right;\n",
       "    }\n",
       "</style>\n",
       "<table border=\"1\" class=\"dataframe\">\n",
       "  <thead>\n",
       "    <tr style=\"text-align: right;\">\n",
       "      <th></th>\n",
       "      <th>date</th>\n",
       "      <th>change%</th>\n",
       "      <th>AUD_rate_tgt%</th>\n",
       "    </tr>\n",
       "  </thead>\n",
       "  <tbody>\n",
       "    <tr>\n",
       "      <th>0</th>\n",
       "      <td>6 May 2020</td>\n",
       "      <td>0.00</td>\n",
       "      <td>0.25</td>\n",
       "    </tr>\n",
       "    <tr>\n",
       "      <th>1</th>\n",
       "      <td>8 Apr 2020</td>\n",
       "      <td>0.00</td>\n",
       "      <td>0.25</td>\n",
       "    </tr>\n",
       "    <tr>\n",
       "      <th>2</th>\n",
       "      <td>20 Mar 2020</td>\n",
       "      <td>-0.25</td>\n",
       "      <td>0.25</td>\n",
       "    </tr>\n",
       "    <tr>\n",
       "      <th>3</th>\n",
       "      <td>4 Mar 2020</td>\n",
       "      <td>-0.25</td>\n",
       "      <td>0.50</td>\n",
       "    </tr>\n",
       "    <tr>\n",
       "      <th>4</th>\n",
       "      <td>5 Feb 2020</td>\n",
       "      <td>0.00</td>\n",
       "      <td>0.75</td>\n",
       "    </tr>\n",
       "  </tbody>\n",
       "</table>\n",
       "</div>"
      ],
      "text/plain": [
       "          date change% AUD_rate_tgt%\n",
       "0   6 May 2020    0.00          0.25\n",
       "1   8 Apr 2020    0.00          0.25\n",
       "2  20 Mar 2020   -0.25          0.25\n",
       "3   4 Mar 2020   -0.25          0.50\n",
       "4   5 Feb 2020    0.00          0.75"
      ]
     },
     "execution_count": 32,
     "metadata": {},
     "output_type": "execute_result"
    }
   ],
   "source": [
    "df_aud.head()"
   ]
  },
  {
   "cell_type": "code",
   "execution_count": 33,
   "metadata": {},
   "outputs": [
    {
     "data": {
      "text/plain": [
       "array(['6 May 2020', '8 Apr 2020', '20 Mar 2020', '4 Mar 2020',\n",
       "       '5 Feb 2020', '4 Dec 2019', '6 Nov 2019', '2 Oct 2019',\n",
       "       '4 Sep 2019', '7 Aug 2019', '3 Jul 2019', '5 Jun 2019',\n",
       "       '8 May 2019', '3 Apr 2019', '6 Mar 2019', '6 Feb 2019',\n",
       "       '5 Dec 2018', '7 Nov 2018', '3 Oct 2018', '5 Sep 2018',\n",
       "       '8 Aug 2018', '4 Jul 2018', '6 Jun 2018', '2 May 2018',\n",
       "       '4 Apr 2018', '7 Mar 2018', '7 Feb 2018', '6 Dec 2017',\n",
       "       '8 Nov 2017', '4 Oct 2017', '6 Sep 2017', '2 Aug 2017',\n",
       "       '5 Jul 2017', '7 Jun 2017', '3 May 2017', '5 Apr 2017',\n",
       "       '8 Mar 2017', '8 Feb 2017', '7 Dec 2016', '2 Nov 2016',\n",
       "       '5 Oct 2016', '7 Sep 2016', '3 Aug 2016', '6 Jul 2016',\n",
       "       '8 Jun 2016', '4 May 2016', '6 Apr 2016', '2 Mar 2016',\n",
       "       '3 Feb 2016', '2 Dec 2015', '4 Nov 2015', '7 Oct 2015',\n",
       "       '2 Sep 2015', '5 Aug 2015', '8 Jul 2015', '3 Jun 2015',\n",
       "       '6 May 2015', '8 Apr 2015', '4 Mar 2015', '4 Feb 2015',\n",
       "       '3 Dec 2014', '5 Nov 2014', '8 Oct 2014', '3 Sep 2014',\n",
       "       '6 Aug 2014', '2 Jul 2014', '4 Jun 2014', '7 May 2014',\n",
       "       '2 Apr 2014', '5 Mar 2014', '5 Feb 2014', '4 Dec 2013',\n",
       "       '6 Nov 2013', '2 Oct 2013', '4 Sep 2013', '7 Aug 2013',\n",
       "       '3 Jul 2013', '5 Jun 2013', '8 May 2013', '3 Apr 2013',\n",
       "       '6 Mar 2013', '6 Feb 2013', '5 Dec 2012', '7 Nov 2012',\n",
       "       '3 Oct 2012', '5 Sep 2012', '8 Aug 2012', '4 Jul 2012',\n",
       "       '6 Jun 2012', '2 May 2012', '4 Apr 2012', '7 Mar 2012',\n",
       "       '8 Feb 2012', '7 Dec 2011', '2 Nov 2011', '5 Oct 2011',\n",
       "       '7 Sep 2011', '3 Aug 2011', '6 Jul 2011', '8 Jun 2011',\n",
       "       '4 May 2011', '6 Apr 2011', '2 Mar 2011', '2 Feb 2011',\n",
       "       '8 Dec 2010', '3 Nov 2010', '6 Oct 2010', '8 Sep 2010',\n",
       "       '4 Aug 2010', '7 Jul 2010', '2 Jun 2010', '5 May 2010',\n",
       "       '7 Apr 2010', '3 Mar 2010', '3 Feb 2010', '2 Dec 2009',\n",
       "       '4 Nov 2009', '7 Oct 2009', '2 Sep 2009', '5 Aug 2009',\n",
       "       '8 Jul 2009', '3 Jun 2009', '6 May 2009', '8 Apr 2009',\n",
       "       '4 Mar 2009', '4 Feb 2009', '3 Dec 2008', '5 Nov 2008',\n",
       "       '8 Oct 2008', '3 Sep 2008', '6 Aug 2008', '2 Jul 2008',\n",
       "       '4 Jun 2008', '7 May 2008', '2 Apr 2008', '5 Mar 2008',\n",
       "       '6 Feb 2008', '5 Dec 2007', '7 Nov 2007', '3 Oct 2007',\n",
       "       '5 Sep 2007', '8 Aug 2007', '4 Jul 2007', '6 Jun 2007',\n",
       "       '2 May 2007', '4 Apr 2007', '7 Mar 2007', '7 Feb 2007',\n",
       "       '6 Dec 2006', '8 Nov 2006', '4 Oct 2006', '6 Sep 2006',\n",
       "       '2 Aug 2006', '5 Jul 2006', '7 Jun 2006', '3 May 2006',\n",
       "       '5 Apr 2006', '8 Mar 2006', '8 Feb 2006', '7 Dec 2005',\n",
       "       '2 Nov 2005', '5 Oct 2005', '7 Sep 2005', '3 Aug 2005',\n",
       "       '6 Jul 2005', '8 Jun 2005', '4 May 2005', '6 Apr 2005',\n",
       "       '2 Mar 2005', '2 Feb 2005', '8 Dec 2004', '3 Nov 2004',\n",
       "       '6 Oct 2004', '8 Sep 2004', '4 Aug 2004', '7 Jul 2004',\n",
       "       '2 Jun 2004', '5 May 2004', '7 Apr 2004', '3 Mar 2004',\n",
       "       '4 Feb 2004', '3 Dec 2003', '5 Nov 2003', '8 Oct 2003',\n",
       "       '3 Sep 2003', '6 Aug 2003', '2 Jul 2003', '4 Jun 2003',\n",
       "       '7 May 2003', '2 Apr 2003', '5 Mar 2003', '5 Feb 2003',\n",
       "       '4 Dec 2002', '6 Nov 2002', '2 Oct 2002', '4 Sep 2002',\n",
       "       '7 Aug 2002', '3 Jul 2002', '5 Jun 2002', '8 May 2002',\n",
       "       '3 Apr 2002', '6 Mar 2002', '6 Feb 2002', '5 Dec 2001',\n",
       "       '7 Nov 2001', '3 Oct 2001', '5 Sep 2001', '8 Aug 2001',\n",
       "       '4 Jul 2001', '6 Jun 2001', '2 May 2001', '4 Apr 2001',\n",
       "       '7 Mar 2001', '7 Feb 2001', '6 Dec 2000', '8 Nov 2000',\n",
       "       '4 Oct 2000', '6 Sep 2000', '2 Aug 2000', '5 Jul 2000',\n",
       "       '7 Jun 2000', '3 May 2000', '5 Apr 2000', '8 Mar 2000',\n",
       "       '2 Feb 2000', '8 Dec 1999', '3 Nov 1999', '6 Oct 1999',\n",
       "       '8 Sep 1999', '4 Aug 1999', '7 Jul 1999', '2 Jun 1999',\n",
       "       '5 May 1999', '7 Apr 1999', '3 Mar 1999', '3 Feb 1999',\n",
       "       '2 Dec 1998', '4 Nov 1998', '7 Oct 1998', '2 Sep 1998',\n",
       "       '5 Aug 1998', '8 Jul 1998', '3 Jun 1998', '6 May 1998',\n",
       "       '8 Apr 1998', '4 Mar 1998', '4 Feb 1998', '3 Dec 1997',\n",
       "       '5 Nov 1997', '8 Oct 1997', '3 Sep 1997', '6 Aug 1997',\n",
       "       '30 Jul 1997', '2 Jul 1997', '4 Jun 1997', '23 May 1997',\n",
       "       '7 May 1997', '2 Apr 1997', '5 Mar 1997', '5 Feb 1997',\n",
       "       '11 Dec 1996', '6 Nov 1996', '2 Oct 1996', '4 Sep 1996',\n",
       "       '31 Jul 1996', '3 Jul 1996', '5 Jun 1996', '8 May 1996',\n",
       "       '3 Apr 1996', '6 Mar 1996', '7 Feb 1996', '6 Dec 1995',\n",
       "       '8 Nov 1995', '4 Oct 1995', '6 Sep 1995', '26 Jul 1995',\n",
       "       '5 Jul 1995', '7 Jun 1995', '3 May 1995', '5 Apr 1995',\n",
       "       '8 Mar 1995', '8 Feb 1995', '14 Dec 1994', '2 Nov 1994',\n",
       "       '24 Oct 1994', '7 Sep 1994', '17 Aug 1994', '27 Jul 1994',\n",
       "       '6 Jul 1994', '8 Jun 1994', '4 May 1994', '30 Mar 1994',\n",
       "       '2 Mar 1994', '2 Feb 1994', '8 Dec 1993', '3 Nov 1993',\n",
       "       '6 Oct 1993', '8 Sep 1993', '30 Jul 1993', '7 Jul 1993',\n",
       "       '2 Jun 1993', '5 May 1993', '7 Apr 1993', '23 Mar 1993',\n",
       "       '3 Feb 1993', '2 Dec 1992', '4 Nov 1992', '7 Oct 1992',\n",
       "       '2 Sep 1992', '29 Jul 1992', '8 Jul 1992', '3 Jun 1992',\n",
       "       '6 May 1992', '8 Apr 1992', '4 Mar 1992', '5 Feb 1992',\n",
       "       '8 Jan 1992', '4 Dec 1991', '6 Nov 1991', '2 Oct 1991',\n",
       "       '3 Sep 1991', '31 Jul 1991', '3 Jul 1991', '14 Jun 1991',\n",
       "       '16 May 1991', '4 Apr 1991', '6 Mar 1991', '6 Feb 1991',\n",
       "       '18 Dec 1990', '7 Nov 1990', '15 Oct 1990', '5 Sep 1990',\n",
       "       '2 Aug 1990', '4 Jul 1990', '6 Jun 1990', '2 May 1990',\n",
       "       '4 Apr 1990', '7 Mar 1990', '15 Feb 1990', '23 Jan 1990'],\n",
       "      dtype=object)"
      ]
     },
     "execution_count": 33,
     "metadata": {},
     "output_type": "execute_result"
    }
   ],
   "source": [
    "df_aud['date'].unique()"
   ]
  },
  {
   "cell_type": "code",
   "execution_count": 34,
   "metadata": {},
   "outputs": [],
   "source": [
    "def date_converter(date):\n",
    "    \n",
    "    \"\"\"\n",
    "    PARAMETERS\n",
    "    date - string in format '2-digit-day month_name 4-digit-year'\n",
    "    \n",
    "    RETURNS\n",
    "    date in new string format ' 4 digit year-2 digit month-2 digit day'\n",
    "    \"\"\"\n",
    "    \n",
    "    dct_month = {\n",
    "        'Jan': '01',\n",
    "        'Feb': '02',\n",
    "        'Mar': '03',\n",
    "        'Apr': '04',\n",
    "        'May': '05',\n",
    "        'Jun': '06',\n",
    "        'Jul': '07',\n",
    "        'Aug': '08',\n",
    "        'Sep': '09',\n",
    "        'Oct': '10',\n",
    "        'Nov': '11',\n",
    "        'Dec': '12'\n",
    "    }\n",
    "    \n",
    "    lst_date = date.split()\n",
    "        \n",
    "    str_yr = lst_date[-1]\n",
    "    \n",
    "    str_mo = dct_month[lst_date[1]]\n",
    "    \n",
    "    str_d = lst_date[0]\n",
    "    \n",
    "    #add zeros before single digit dates\n",
    "    if len(str_d) ==1:\n",
    "        str_d += '0'\n",
    "        str_d = str_d[::-1]\n",
    "        \n",
    "    \n",
    "    str_date = f'{str_yr}-{str_mo}-{str_d}'\n",
    "\n",
    "    return str_date"
   ]
  },
  {
   "cell_type": "code",
   "execution_count": 36,
   "metadata": {},
   "outputs": [],
   "source": [
    "df_aud['date'] = [date_converter(d) for d in df_aud['date']]"
   ]
  },
  {
   "cell_type": "code",
   "execution_count": 37,
   "metadata": {},
   "outputs": [
    {
     "data": {
      "text/html": [
       "<div>\n",
       "<style scoped>\n",
       "    .dataframe tbody tr th:only-of-type {\n",
       "        vertical-align: middle;\n",
       "    }\n",
       "\n",
       "    .dataframe tbody tr th {\n",
       "        vertical-align: top;\n",
       "    }\n",
       "\n",
       "    .dataframe thead th {\n",
       "        text-align: right;\n",
       "    }\n",
       "</style>\n",
       "<table border=\"1\" class=\"dataframe\">\n",
       "  <thead>\n",
       "    <tr style=\"text-align: right;\">\n",
       "      <th></th>\n",
       "      <th>date</th>\n",
       "      <th>change%</th>\n",
       "      <th>AUD_rate_tgt%</th>\n",
       "    </tr>\n",
       "  </thead>\n",
       "  <tbody>\n",
       "    <tr>\n",
       "      <th>0</th>\n",
       "      <td>2020-05-06</td>\n",
       "      <td>0.00</td>\n",
       "      <td>0.25</td>\n",
       "    </tr>\n",
       "    <tr>\n",
       "      <th>1</th>\n",
       "      <td>2020-04-08</td>\n",
       "      <td>0.00</td>\n",
       "      <td>0.25</td>\n",
       "    </tr>\n",
       "    <tr>\n",
       "      <th>2</th>\n",
       "      <td>2020-03-20</td>\n",
       "      <td>-0.25</td>\n",
       "      <td>0.25</td>\n",
       "    </tr>\n",
       "    <tr>\n",
       "      <th>3</th>\n",
       "      <td>2020-03-04</td>\n",
       "      <td>-0.25</td>\n",
       "      <td>0.50</td>\n",
       "    </tr>\n",
       "    <tr>\n",
       "      <th>4</th>\n",
       "      <td>2020-02-05</td>\n",
       "      <td>0.00</td>\n",
       "      <td>0.75</td>\n",
       "    </tr>\n",
       "  </tbody>\n",
       "</table>\n",
       "</div>"
      ],
      "text/plain": [
       "         date change% AUD_rate_tgt%\n",
       "0  2020-05-06    0.00          0.25\n",
       "1  2020-04-08    0.00          0.25\n",
       "2  2020-03-20   -0.25          0.25\n",
       "3  2020-03-04   -0.25          0.50\n",
       "4  2020-02-05    0.00          0.75"
      ]
     },
     "execution_count": 37,
     "metadata": {},
     "output_type": "execute_result"
    }
   ],
   "source": [
    "df_aud.head()"
   ]
  },
  {
   "cell_type": "code",
   "execution_count": null,
   "metadata": {},
   "outputs": [],
   "source": []
  }
 ],
 "metadata": {
  "kernelspec": {
   "display_name": "Python 3",
   "language": "python",
   "name": "python3"
  },
  "language_info": {
   "codemirror_mode": {
    "name": "ipython",
    "version": 3
   },
   "file_extension": ".py",
   "mimetype": "text/x-python",
   "name": "python",
   "nbconvert_exporter": "python",
   "pygments_lexer": "ipython3",
   "version": "3.7.7"
  }
 },
 "nbformat": 4,
 "nbformat_minor": 4
}
