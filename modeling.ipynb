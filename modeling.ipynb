{
 "cells": [
  {
   "cell_type": "code",
   "execution_count": 1,
   "metadata": {},
   "outputs": [],
   "source": [
    "import pandas as pd\n",
    "import numpy as np\n",
    "import scipy.stats as stats\n",
    "\n",
    "%matplotlib inline\n",
    "import matplotlib.pyplot as plt\n",
    "plt.style.use('ggplot')"
   ]
  },
  {
   "cell_type": "markdown",
   "metadata": {},
   "source": [
    "# We are investigating the predictivity of central bank policy rates and stock market indices as they relate to the price of gold. "
   ]
  },
  {
   "cell_type": "markdown",
   "metadata": {},
   "source": [
    "## Consolidate Central Bank Rates"
   ]
  },
  {
   "cell_type": "code",
   "execution_count": 2,
   "metadata": {},
   "outputs": [],
   "source": [
    "# Start by consolidating central bank rate data\n",
    "\n",
    "%store -r df_aud\n",
    "%store -r df_eur\n",
    "%store -r df_gbp\n",
    "%store -r df_usd\n",
    "%store -r df_yen"
   ]
  },
  {
   "cell_type": "code",
   "execution_count": 3,
   "metadata": {},
   "outputs": [
    {
     "data": {
      "text/plain": [
       "Timestamp('1990-01-23 00:00:00')"
      ]
     },
     "execution_count": 3,
     "metadata": {},
     "output_type": "execute_result"
    }
   ],
   "source": [
    "df_aud['date'].min()"
   ]
  },
  {
   "cell_type": "code",
   "execution_count": 4,
   "metadata": {},
   "outputs": [
    {
     "data": {
      "text/plain": [
       "Timestamp('1999-01-01 00:00:00')"
      ]
     },
     "execution_count": 4,
     "metadata": {},
     "output_type": "execute_result"
    }
   ],
   "source": [
    "df_eur['date'].min()"
   ]
  },
  {
   "cell_type": "code",
   "execution_count": 5,
   "metadata": {},
   "outputs": [
    {
     "data": {
      "text/plain": [
       "Timestamp('1975-01-20 00:00:00')"
      ]
     },
     "execution_count": 5,
     "metadata": {},
     "output_type": "execute_result"
    }
   ],
   "source": [
    "df_gbp['date'].min()"
   ]
  },
  {
   "cell_type": "code",
   "execution_count": 6,
   "metadata": {},
   "outputs": [
    {
     "data": {
      "text/plain": [
       "Timestamp('1990-01-01 00:00:00')"
      ]
     },
     "execution_count": 6,
     "metadata": {},
     "output_type": "execute_result"
    }
   ],
   "source": [
    "df_usd['date'].min()"
   ]
  },
  {
   "cell_type": "code",
   "execution_count": 7,
   "metadata": {},
   "outputs": [
    {
     "data": {
      "text/plain": [
       "Timestamp('2000-01-01 00:00:00')"
      ]
     },
     "execution_count": 7,
     "metadata": {},
     "output_type": "execute_result"
    }
   ],
   "source": [
    "df_yen['date'].min()"
   ]
  },
  {
   "cell_type": "code",
   "execution_count": 8,
   "metadata": {},
   "outputs": [],
   "source": [
    "# loop through all dataframes and merge via outer join, ensuring the df with the most non-null dates is the left object\n",
    "df_rates = pd.merge(df_gbp, df_usd, how = 'outer', on = ['date'])\n",
    "df_rates = pd.merge(df_rates, df_eur, how = 'outer', on = ['date'])\n",
    "df_rates = pd.merge(df_rates, df_aud, how = 'outer', on = ['date'])\n",
    "df_rates = pd.merge(df_rates, df_yen, how = 'outer', on = ['date'])"
   ]
  },
  {
   "cell_type": "code",
   "execution_count": 9,
   "metadata": {},
   "outputs": [
    {
     "name": "stdout",
     "output_type": "stream",
     "text": [
      "<class 'pandas.core.frame.DataFrame'>\n",
      "Int64Index: 11273 entries, 0 to 11272\n",
      "Data columns (total 6 columns):\n",
      " #   Column         Non-Null Count  Dtype         \n",
      "---  ------         --------------  -----         \n",
      " 0   date           11273 non-null  datetime64[ns]\n",
      " 1   Rate           238 non-null    float64       \n",
      " 2   usd_rate_tgt   11109 non-null  float64       \n",
      " 3   eur_rate       49 non-null     float64       \n",
      " 4   AUD_rate_tgt%  340 non-null    float64       \n",
      " 5   yen_rate       3839 non-null   float64       \n",
      "dtypes: datetime64[ns](1), float64(5)\n",
      "memory usage: 616.5 KB\n"
     ]
    }
   ],
   "source": [
    "df_rates.info()"
   ]
  },
  {
   "cell_type": "code",
   "execution_count": 10,
   "metadata": {},
   "outputs": [],
   "source": [
    "df_rates.rename(columns = {'AUD_rate_tgt%': 'aud_rate', 'Rate': 'gbp_rate', 'usd_rate_tgt':'usd_rate'}, inplace = True)"
   ]
  },
  {
   "cell_type": "code",
   "execution_count": 11,
   "metadata": {},
   "outputs": [
    {
     "name": "stdout",
     "output_type": "stream",
     "text": [
      "<class 'pandas.core.frame.DataFrame'>\n",
      "Int64Index: 11273 entries, 0 to 11272\n",
      "Data columns (total 6 columns):\n",
      " #   Column    Non-Null Count  Dtype         \n",
      "---  ------    --------------  -----         \n",
      " 0   date      11273 non-null  datetime64[ns]\n",
      " 1   gbp_rate  238 non-null    float64       \n",
      " 2   usd_rate  11109 non-null  float64       \n",
      " 3   eur_rate  49 non-null     float64       \n",
      " 4   aud_rate  340 non-null    float64       \n",
      " 5   yen_rate  3839 non-null   float64       \n",
      "dtypes: datetime64[ns](1), float64(5)\n",
      "memory usage: 616.5 KB\n"
     ]
    }
   ],
   "source": [
    "df_rates.info()"
   ]
  },
  {
   "cell_type": "code",
   "execution_count": 12,
   "metadata": {},
   "outputs": [],
   "source": [
    "df_rates = df_rates.sort_values(by = ['date'])"
   ]
  },
  {
   "cell_type": "code",
   "execution_count": 13,
   "metadata": {},
   "outputs": [],
   "source": [
    "#lowest minimum date across rate data is 2000-01-01 (df_yen), so drop all data prior\n",
    "df_rates = df_rates[df_rates['date']>'1999-12-31']"
   ]
  },
  {
   "cell_type": "code",
   "execution_count": 14,
   "metadata": {},
   "outputs": [],
   "source": [
    "df_rates = df_rates.set_index('date')"
   ]
  },
  {
   "cell_type": "code",
   "execution_count": 15,
   "metadata": {},
   "outputs": [
    {
     "data": {
      "text/html": [
       "<div>\n",
       "<style scoped>\n",
       "    .dataframe tbody tr th:only-of-type {\n",
       "        vertical-align: middle;\n",
       "    }\n",
       "\n",
       "    .dataframe tbody tr th {\n",
       "        vertical-align: top;\n",
       "    }\n",
       "\n",
       "    .dataframe thead th {\n",
       "        text-align: right;\n",
       "    }\n",
       "</style>\n",
       "<table border=\"1\" class=\"dataframe\">\n",
       "  <thead>\n",
       "    <tr style=\"text-align: right;\">\n",
       "      <th></th>\n",
       "      <th>gbp_rate</th>\n",
       "      <th>usd_rate</th>\n",
       "      <th>eur_rate</th>\n",
       "      <th>aud_rate</th>\n",
       "      <th>yen_rate</th>\n",
       "    </tr>\n",
       "    <tr>\n",
       "      <th>date</th>\n",
       "      <th></th>\n",
       "      <th></th>\n",
       "      <th></th>\n",
       "      <th></th>\n",
       "      <th></th>\n",
       "    </tr>\n",
       "  </thead>\n",
       "  <tbody>\n",
       "    <tr>\n",
       "      <th>2000-01-01</th>\n",
       "      <td>NaN</td>\n",
       "      <td>5.5</td>\n",
       "      <td>NaN</td>\n",
       "      <td>NaN</td>\n",
       "      <td>NaN</td>\n",
       "    </tr>\n",
       "    <tr>\n",
       "      <th>2000-01-02</th>\n",
       "      <td>NaN</td>\n",
       "      <td>5.5</td>\n",
       "      <td>NaN</td>\n",
       "      <td>NaN</td>\n",
       "      <td>NaN</td>\n",
       "    </tr>\n",
       "    <tr>\n",
       "      <th>2000-01-03</th>\n",
       "      <td>NaN</td>\n",
       "      <td>5.5</td>\n",
       "      <td>NaN</td>\n",
       "      <td>NaN</td>\n",
       "      <td>NaN</td>\n",
       "    </tr>\n",
       "    <tr>\n",
       "      <th>2000-01-04</th>\n",
       "      <td>NaN</td>\n",
       "      <td>5.5</td>\n",
       "      <td>NaN</td>\n",
       "      <td>NaN</td>\n",
       "      <td>NaN</td>\n",
       "    </tr>\n",
       "    <tr>\n",
       "      <th>2000-01-05</th>\n",
       "      <td>NaN</td>\n",
       "      <td>5.5</td>\n",
       "      <td>NaN</td>\n",
       "      <td>NaN</td>\n",
       "      <td>NaN</td>\n",
       "    </tr>\n",
       "  </tbody>\n",
       "</table>\n",
       "</div>"
      ],
      "text/plain": [
       "            gbp_rate  usd_rate  eur_rate  aud_rate  yen_rate\n",
       "date                                                        \n",
       "2000-01-01       NaN       5.5       NaN       NaN       NaN\n",
       "2000-01-02       NaN       5.5       NaN       NaN       NaN\n",
       "2000-01-03       NaN       5.5       NaN       NaN       NaN\n",
       "2000-01-04       NaN       5.5       NaN       NaN       NaN\n",
       "2000-01-05       NaN       5.5       NaN       NaN       NaN"
      ]
     },
     "execution_count": 15,
     "metadata": {},
     "output_type": "execute_result"
    }
   ],
   "source": [
    "df_rates.head()"
   ]
  },
  {
   "cell_type": "code",
   "execution_count": 16,
   "metadata": {},
   "outputs": [],
   "source": [
    "#identify values that need to be filled\n",
    "\n",
    "df_rates.fillna('~', inplace = True)"
   ]
  },
  {
   "cell_type": "code",
   "execution_count": 17,
   "metadata": {},
   "outputs": [
    {
     "name": "stdout",
     "output_type": "stream",
     "text": [
      "{'gbp_rate': 12, 'usd_rate': 0, 'eur_rate': 34, 'aud_rate': 32, 'yen_rate': 223}\n"
     ]
    }
   ],
   "source": [
    "d = dict()\n",
    "for col in df_rates.columns:\n",
    "    for idx,i in enumerate(df_rates[col]):\n",
    "        if i != '~':\n",
    "            d[col] = int(idx)\n",
    "            break\n",
    "\n",
    "print(d)"
   ]
  },
  {
   "cell_type": "code",
   "execution_count": 18,
   "metadata": {},
   "outputs": [
    {
     "name": "stderr",
     "output_type": "stream",
     "text": [
      "/opt/anaconda3/lib/python3.7/site-packages/ipykernel_launcher.py:19: SettingWithCopyWarning: \n",
      "A value is trying to be set on a copy of a slice from a DataFrame\n",
      "\n",
      "See the caveats in the documentation: https://pandas.pydata.org/pandas-docs/stable/user_guide/indexing.html#returning-a-view-versus-a-copy\n"
     ]
    }
   ],
   "source": [
    "\"\"\"The for loop above tells us that we'll only have data for all interest rate features \n",
    "if we go from the 230th row and below. Let's fill out the rest of our dataframe accordingly\"\"\"\n",
    "\n",
    "d_rates = dict()\n",
    "for col in df_rates.columns:\n",
    "\n",
    "    d_last = dict()\n",
    "    lst = []\n",
    "    for idx,i in enumerate(df_rates[col][d[col]:]):\n",
    "        if i != '~':\n",
    "            d_last['last'] = i\n",
    "        \n",
    "        else:\n",
    "            i = d_last['last']\n",
    "        \n",
    "        lst.append(i)\n",
    "    \n",
    "    d_rates[col] = lst\n",
    "    df_rates[col][d[col]:] = lst\n",
    "            "
   ]
  },
  {
   "cell_type": "code",
   "execution_count": 19,
   "metadata": {},
   "outputs": [
    {
     "data": {
      "text/plain": [
       "dict_keys(['gbp_rate', 'usd_rate', 'eur_rate', 'aud_rate', 'yen_rate'])"
      ]
     },
     "execution_count": 19,
     "metadata": {},
     "output_type": "execute_result"
    }
   ],
   "source": [
    "d_rates.keys()"
   ]
  },
  {
   "cell_type": "code",
   "execution_count": 20,
   "metadata": {},
   "outputs": [
    {
     "data": {
      "text/html": [
       "<div>\n",
       "<style scoped>\n",
       "    .dataframe tbody tr th:only-of-type {\n",
       "        vertical-align: middle;\n",
       "    }\n",
       "\n",
       "    .dataframe tbody tr th {\n",
       "        vertical-align: top;\n",
       "    }\n",
       "\n",
       "    .dataframe thead th {\n",
       "        text-align: right;\n",
       "    }\n",
       "</style>\n",
       "<table border=\"1\" class=\"dataframe\">\n",
       "  <thead>\n",
       "    <tr style=\"text-align: right;\">\n",
       "      <th></th>\n",
       "      <th>gbp_rate</th>\n",
       "      <th>usd_rate</th>\n",
       "      <th>eur_rate</th>\n",
       "      <th>aud_rate</th>\n",
       "      <th>yen_rate</th>\n",
       "    </tr>\n",
       "    <tr>\n",
       "      <th>date</th>\n",
       "      <th></th>\n",
       "      <th></th>\n",
       "      <th></th>\n",
       "      <th></th>\n",
       "      <th></th>\n",
       "    </tr>\n",
       "  </thead>\n",
       "  <tbody>\n",
       "    <tr>\n",
       "      <th>2020-05-27</th>\n",
       "      <td>0.1</td>\n",
       "      <td>0.25</td>\n",
       "      <td>-0.5</td>\n",
       "      <td>0.25</td>\n",
       "      <td>-0.1</td>\n",
       "    </tr>\n",
       "    <tr>\n",
       "      <th>2020-05-28</th>\n",
       "      <td>0.1</td>\n",
       "      <td>0.25</td>\n",
       "      <td>-0.5</td>\n",
       "      <td>0.25</td>\n",
       "      <td>-0.1</td>\n",
       "    </tr>\n",
       "    <tr>\n",
       "      <th>2020-05-29</th>\n",
       "      <td>0.1</td>\n",
       "      <td>0.25</td>\n",
       "      <td>-0.5</td>\n",
       "      <td>0.25</td>\n",
       "      <td>-0.1</td>\n",
       "    </tr>\n",
       "    <tr>\n",
       "      <th>2020-05-30</th>\n",
       "      <td>0.1</td>\n",
       "      <td>0.25</td>\n",
       "      <td>-0.5</td>\n",
       "      <td>0.25</td>\n",
       "      <td>-0.1</td>\n",
       "    </tr>\n",
       "    <tr>\n",
       "      <th>2020-05-31</th>\n",
       "      <td>0.1</td>\n",
       "      <td>0.25</td>\n",
       "      <td>-0.5</td>\n",
       "      <td>0.25</td>\n",
       "      <td>-0.1</td>\n",
       "    </tr>\n",
       "  </tbody>\n",
       "</table>\n",
       "</div>"
      ],
      "text/plain": [
       "           gbp_rate  usd_rate eur_rate aud_rate yen_rate\n",
       "date                                                    \n",
       "2020-05-27      0.1      0.25     -0.5     0.25     -0.1\n",
       "2020-05-28      0.1      0.25     -0.5     0.25     -0.1\n",
       "2020-05-29      0.1      0.25     -0.5     0.25     -0.1\n",
       "2020-05-30      0.1      0.25     -0.5     0.25     -0.1\n",
       "2020-05-31      0.1      0.25     -0.5     0.25     -0.1"
      ]
     },
     "execution_count": 20,
     "metadata": {},
     "output_type": "execute_result"
    }
   ],
   "source": [
    "df_rates.tail()"
   ]
  },
  {
   "cell_type": "markdown",
   "metadata": {},
   "source": [
    "We know the yen rates will be our limiting factor in terms of date ranges, so we'll drop all rows for which there is no data on yen policy rates."
   ]
  },
  {
   "cell_type": "code",
   "execution_count": 21,
   "metadata": {},
   "outputs": [],
   "source": [
    "# store indices with no yen data \n",
    "indexNames = df_rates[df_rates['yen_rate'] == '~'].index\n",
    "# Delete these row indexes from dataFrame\n",
    "df_rates.drop(indexNames, inplace=True)\n"
   ]
  },
  {
   "cell_type": "code",
   "execution_count": 22,
   "metadata": {},
   "outputs": [
    {
     "name": "stdout",
     "output_type": "stream",
     "text": [
      "<class 'pandas.core.frame.DataFrame'>\n",
      "DatetimeIndex: 7234 entries, 2000-08-11 to 2020-05-31\n",
      "Data columns (total 5 columns):\n",
      " #   Column    Non-Null Count  Dtype  \n",
      "---  ------    --------------  -----  \n",
      " 0   gbp_rate  7234 non-null   object \n",
      " 1   usd_rate  7234 non-null   float64\n",
      " 2   eur_rate  7234 non-null   object \n",
      " 3   aud_rate  7234 non-null   object \n",
      " 4   yen_rate  7234 non-null   object \n",
      "dtypes: float64(1), object(4)\n",
      "memory usage: 339.1+ KB\n"
     ]
    }
   ],
   "source": [
    "df_rates.info()"
   ]
  },
  {
   "cell_type": "code",
   "execution_count": 23,
   "metadata": {},
   "outputs": [],
   "source": [
    "for col in d.keys():\n",
    "    df_rates[col] = df_rates[col].astype('float')"
   ]
  },
  {
   "cell_type": "code",
   "execution_count": 24,
   "metadata": {},
   "outputs": [
    {
     "name": "stdout",
     "output_type": "stream",
     "text": [
      "<class 'pandas.core.frame.DataFrame'>\n",
      "DatetimeIndex: 7234 entries, 2000-08-11 to 2020-05-31\n",
      "Data columns (total 5 columns):\n",
      " #   Column    Non-Null Count  Dtype  \n",
      "---  ------    --------------  -----  \n",
      " 0   gbp_rate  7234 non-null   float64\n",
      " 1   usd_rate  7234 non-null   float64\n",
      " 2   eur_rate  7234 non-null   float64\n",
      " 3   aud_rate  7234 non-null   float64\n",
      " 4   yen_rate  7234 non-null   float64\n",
      "dtypes: float64(5)\n",
      "memory usage: 339.1 KB\n"
     ]
    }
   ],
   "source": [
    "df_rates.info()"
   ]
  },
  {
   "cell_type": "code",
   "execution_count": 25,
   "metadata": {},
   "outputs": [
    {
     "data": {
      "text/html": [
       "<div>\n",
       "<style scoped>\n",
       "    .dataframe tbody tr th:only-of-type {\n",
       "        vertical-align: middle;\n",
       "    }\n",
       "\n",
       "    .dataframe tbody tr th {\n",
       "        vertical-align: top;\n",
       "    }\n",
       "\n",
       "    .dataframe thead th {\n",
       "        text-align: right;\n",
       "    }\n",
       "</style>\n",
       "<table border=\"1\" class=\"dataframe\">\n",
       "  <thead>\n",
       "    <tr style=\"text-align: right;\">\n",
       "      <th></th>\n",
       "      <th>gbp_rate</th>\n",
       "      <th>usd_rate</th>\n",
       "      <th>eur_rate</th>\n",
       "      <th>aud_rate</th>\n",
       "      <th>yen_rate</th>\n",
       "    </tr>\n",
       "    <tr>\n",
       "      <th>date</th>\n",
       "      <th></th>\n",
       "      <th></th>\n",
       "      <th></th>\n",
       "      <th></th>\n",
       "      <th></th>\n",
       "    </tr>\n",
       "  </thead>\n",
       "  <tbody>\n",
       "    <tr>\n",
       "      <th>2000-08-11</th>\n",
       "      <td>6.0</td>\n",
       "      <td>6.5</td>\n",
       "      <td>3.25</td>\n",
       "      <td>6.25</td>\n",
       "      <td>0.25</td>\n",
       "    </tr>\n",
       "    <tr>\n",
       "      <th>2000-08-12</th>\n",
       "      <td>6.0</td>\n",
       "      <td>6.5</td>\n",
       "      <td>3.25</td>\n",
       "      <td>6.25</td>\n",
       "      <td>0.25</td>\n",
       "    </tr>\n",
       "    <tr>\n",
       "      <th>2000-08-13</th>\n",
       "      <td>6.0</td>\n",
       "      <td>6.5</td>\n",
       "      <td>3.25</td>\n",
       "      <td>6.25</td>\n",
       "      <td>0.25</td>\n",
       "    </tr>\n",
       "    <tr>\n",
       "      <th>2000-08-14</th>\n",
       "      <td>6.0</td>\n",
       "      <td>6.5</td>\n",
       "      <td>3.25</td>\n",
       "      <td>6.25</td>\n",
       "      <td>0.25</td>\n",
       "    </tr>\n",
       "    <tr>\n",
       "      <th>2000-08-15</th>\n",
       "      <td>6.0</td>\n",
       "      <td>6.5</td>\n",
       "      <td>3.25</td>\n",
       "      <td>6.25</td>\n",
       "      <td>0.25</td>\n",
       "    </tr>\n",
       "  </tbody>\n",
       "</table>\n",
       "</div>"
      ],
      "text/plain": [
       "            gbp_rate  usd_rate  eur_rate  aud_rate  yen_rate\n",
       "date                                                        \n",
       "2000-08-11       6.0       6.5      3.25      6.25      0.25\n",
       "2000-08-12       6.0       6.5      3.25      6.25      0.25\n",
       "2000-08-13       6.0       6.5      3.25      6.25      0.25\n",
       "2000-08-14       6.0       6.5      3.25      6.25      0.25\n",
       "2000-08-15       6.0       6.5      3.25      6.25      0.25"
      ]
     },
     "execution_count": 25,
     "metadata": {},
     "output_type": "execute_result"
    }
   ],
   "source": [
    "df_rates.head()"
   ]
  },
  {
   "cell_type": "code",
   "execution_count": 26,
   "metadata": {},
   "outputs": [
    {
     "name": "stdout",
     "output_type": "stream",
     "text": [
      "Stored 'df_rates' (DataFrame)\n"
     ]
    }
   ],
   "source": [
    "%store df_rates"
   ]
  },
  {
   "cell_type": "markdown",
   "metadata": {},
   "source": [
    "## Consolidate stock indices"
   ]
  },
  {
   "cell_type": "code",
   "execution_count": 27,
   "metadata": {},
   "outputs": [],
   "source": [
    "%store -r df_hsi\n",
    "%store -r df_sse\n",
    "%store -r df_jeg\n",
    "%store -r df_nasdaq\n",
    "%store -r df_nyse"
   ]
  },
  {
   "cell_type": "code",
   "execution_count": 28,
   "metadata": {},
   "outputs": [
    {
     "data": {
      "text/plain": [
       "Timestamp('2000-01-03 00:00:00')"
      ]
     },
     "execution_count": 28,
     "metadata": {},
     "output_type": "execute_result"
    }
   ],
   "source": [
    "df_hsi['date'].min()"
   ]
  },
  {
   "cell_type": "code",
   "execution_count": 29,
   "metadata": {},
   "outputs": [
    {
     "data": {
      "text/plain": [
       "Timestamp('1997-07-02 00:00:00')"
      ]
     },
     "execution_count": 29,
     "metadata": {},
     "output_type": "execute_result"
    }
   ],
   "source": [
    "df_sse['date'].min()"
   ]
  },
  {
   "cell_type": "code",
   "execution_count": 30,
   "metadata": {},
   "outputs": [
    {
     "data": {
      "text/plain": [
       "Timestamp('2008-09-05 00:00:00')"
      ]
     },
     "execution_count": 30,
     "metadata": {},
     "output_type": "execute_result"
    }
   ],
   "source": [
    "df_jeg['date'].min()"
   ]
  },
  {
   "cell_type": "code",
   "execution_count": 31,
   "metadata": {},
   "outputs": [
    {
     "data": {
      "text/plain": [
       "Timestamp('2000-01-03 00:00:00')"
      ]
     },
     "execution_count": 31,
     "metadata": {},
     "output_type": "execute_result"
    }
   ],
   "source": [
    "df_nasdaq['date'].min()"
   ]
  },
  {
   "cell_type": "code",
   "execution_count": 32,
   "metadata": {},
   "outputs": [
    {
     "data": {
      "text/plain": [
       "Timestamp('2000-01-03 00:00:00')"
      ]
     },
     "execution_count": 32,
     "metadata": {},
     "output_type": "execute_result"
    }
   ],
   "source": [
    "df_nyse['date'].min()"
   ]
  },
  {
   "cell_type": "code",
   "execution_count": 33,
   "metadata": {},
   "outputs": [],
   "source": [
    "# loop through all dataframes and merge via outer join, ensuring the df with the most non-null dates is the left object\n",
    "df_stock = pd.merge(df_sse, df_hsi, how = 'outer', on = ['date'])\n",
    "df_stock = pd.merge(df_stock, df_nyse, how = 'outer', on = ['date'])\n",
    "df_stock = pd.merge(df_stock, df_nasdaq, how = 'outer', on = ['date'])\n",
    "df_stock = pd.merge(df_stock, df_jeg, how = 'outer', on = ['date'])"
   ]
  },
  {
   "cell_type": "code",
   "execution_count": 34,
   "metadata": {},
   "outputs": [
    {
     "name": "stdout",
     "output_type": "stream",
     "text": [
      "<class 'pandas.core.frame.DataFrame'>\n",
      "Int64Index: 5964 entries, 0 to 5963\n",
      "Data columns (total 6 columns):\n",
      " #   Column        Non-Null Count  Dtype         \n",
      "---  ------        --------------  -----         \n",
      " 0   date          5964 non-null   datetime64[ns]\n",
      " 1   sse_close     5714 non-null   float64       \n",
      " 2   hsi_close     5023 non-null   float64       \n",
      " 3   nyse_close    5131 non-null   float64       \n",
      " 4   nasdaq_close  5131 non-null   float64       \n",
      " 5   jeg_close     2869 non-null   float64       \n",
      "dtypes: datetime64[ns](1), float64(5)\n",
      "memory usage: 326.2 KB\n"
     ]
    }
   ],
   "source": [
    "df_stock.info()"
   ]
  },
  {
   "cell_type": "code",
   "execution_count": 35,
   "metadata": {},
   "outputs": [],
   "source": [
    "df_stock = df_stock.sort_values(by = ['date'])"
   ]
  },
  {
   "cell_type": "code",
   "execution_count": 36,
   "metadata": {},
   "outputs": [],
   "source": [
    "#lowest minimum date across stock data is 2008-09-05 (df_jeg), so drop all data prior\n",
    "df_stock = df_stock[df_stock['date']>'2008-09-04']"
   ]
  },
  {
   "cell_type": "code",
   "execution_count": 37,
   "metadata": {},
   "outputs": [],
   "source": [
    "df_stock = df_stock.set_index('date')"
   ]
  },
  {
   "cell_type": "code",
   "execution_count": 38,
   "metadata": {},
   "outputs": [
    {
     "data": {
      "text/html": [
       "<div>\n",
       "<style scoped>\n",
       "    .dataframe tbody tr th:only-of-type {\n",
       "        vertical-align: middle;\n",
       "    }\n",
       "\n",
       "    .dataframe tbody tr th {\n",
       "        vertical-align: top;\n",
       "    }\n",
       "\n",
       "    .dataframe thead th {\n",
       "        text-align: right;\n",
       "    }\n",
       "</style>\n",
       "<table border=\"1\" class=\"dataframe\">\n",
       "  <thead>\n",
       "    <tr style=\"text-align: right;\">\n",
       "      <th></th>\n",
       "      <th>sse_close</th>\n",
       "      <th>hsi_close</th>\n",
       "      <th>nyse_close</th>\n",
       "      <th>nasdaq_close</th>\n",
       "      <th>jeg_close</th>\n",
       "    </tr>\n",
       "    <tr>\n",
       "      <th>date</th>\n",
       "      <th></th>\n",
       "      <th></th>\n",
       "      <th></th>\n",
       "      <th></th>\n",
       "      <th></th>\n",
       "    </tr>\n",
       "  </thead>\n",
       "  <tbody>\n",
       "    <tr>\n",
       "      <th>2008-09-05</th>\n",
       "      <td>2202.446045</td>\n",
       "      <td>19933.279297</td>\n",
       "      <td>8033.759766</td>\n",
       "      <td>2255.879883</td>\n",
       "      <td>335.000000</td>\n",
       "    </tr>\n",
       "    <tr>\n",
       "      <th>2008-09-08</th>\n",
       "      <td>2143.420898</td>\n",
       "      <td>20794.269531</td>\n",
       "      <td>8168.620117</td>\n",
       "      <td>2269.760010</td>\n",
       "      <td>343.000000</td>\n",
       "    </tr>\n",
       "    <tr>\n",
       "      <th>2008-09-09</th>\n",
       "      <td>2145.779053</td>\n",
       "      <td>20491.109375</td>\n",
       "      <td>7871.149902</td>\n",
       "      <td>2209.810059</td>\n",
       "      <td>337.864990</td>\n",
       "    </tr>\n",
       "    <tr>\n",
       "      <th>2008-09-10</th>\n",
       "      <td>2150.759033</td>\n",
       "      <td>19999.779297</td>\n",
       "      <td>7957.259766</td>\n",
       "      <td>2228.699951</td>\n",
       "      <td>319.382996</td>\n",
       "    </tr>\n",
       "    <tr>\n",
       "      <th>2008-09-11</th>\n",
       "      <td>2078.980957</td>\n",
       "      <td>19388.720703</td>\n",
       "      <td>8011.250000</td>\n",
       "      <td>2258.219971</td>\n",
       "      <td>290.799988</td>\n",
       "    </tr>\n",
       "  </tbody>\n",
       "</table>\n",
       "</div>"
      ],
      "text/plain": [
       "              sse_close     hsi_close   nyse_close  nasdaq_close   jeg_close\n",
       "date                                                                        \n",
       "2008-09-05  2202.446045  19933.279297  8033.759766   2255.879883  335.000000\n",
       "2008-09-08  2143.420898  20794.269531  8168.620117   2269.760010  343.000000\n",
       "2008-09-09  2145.779053  20491.109375  7871.149902   2209.810059  337.864990\n",
       "2008-09-10  2150.759033  19999.779297  7957.259766   2228.699951  319.382996\n",
       "2008-09-11  2078.980957  19388.720703  8011.250000   2258.219971  290.799988"
      ]
     },
     "execution_count": 38,
     "metadata": {},
     "output_type": "execute_result"
    }
   ],
   "source": [
    "df_stock.head()"
   ]
  },
  {
   "cell_type": "code",
   "execution_count": 39,
   "metadata": {},
   "outputs": [
    {
     "name": "stdout",
     "output_type": "stream",
     "text": [
      "<class 'pandas.core.frame.DataFrame'>\n",
      "DatetimeIndex: 3051 entries, 2008-09-05 to 2020-05-27\n",
      "Data columns (total 5 columns):\n",
      " #   Column        Non-Null Count  Dtype  \n",
      "---  ------        --------------  -----  \n",
      " 0   sse_close     2845 non-null   float64\n",
      " 1   hsi_close     2881 non-null   float64\n",
      " 2   nyse_close    2950 non-null   float64\n",
      " 3   nasdaq_close  2950 non-null   float64\n",
      " 4   jeg_close     2869 non-null   float64\n",
      "dtypes: float64(5)\n",
      "memory usage: 143.0 KB\n"
     ]
    }
   ],
   "source": [
    "df_stock.info()"
   ]
  },
  {
   "cell_type": "code",
   "execution_count": 40,
   "metadata": {},
   "outputs": [],
   "source": [
    "idx = np.argwhere(pd.isnull(df_stock['sse_close'].to_numpy()))[:,0]"
   ]
  },
  {
   "cell_type": "code",
   "execution_count": 42,
   "metadata": {},
   "outputs": [],
   "source": [
    "date = df_stock.index.to_numpy()"
   ]
  },
  {
   "cell_type": "code",
   "execution_count": 43,
   "metadata": {},
   "outputs": [],
   "source": [
    "\"\"\"Account for NaN values (stock holidays in this case) by filling missing values with most recent close price,\n",
    "to indicate no change\"\"\"\n",
    "\n",
    "#identify values that need to be filled\n",
    "\n",
    "df_stock.fillna('~', inplace = True)\n",
    "\n",
    "d_stock = dict()\n",
    "for col in df_stock.columns:\n",
    "\n",
    "    d_last = dict()\n",
    "    lst = []\n",
    "    for idx,i in enumerate(df_stock[col]):\n",
    "        if i != '~':\n",
    "            d_last['last'] = i\n",
    "        \n",
    "        else:\n",
    "            i = d_last['last']\n",
    "        \n",
    "        lst.append(i)\n",
    "    \n",
    "    d_stock[col] = lst\n",
    "    df_stock[col] = lst"
   ]
  },
  {
   "cell_type": "code",
   "execution_count": 44,
   "metadata": {},
   "outputs": [
    {
     "name": "stdout",
     "output_type": "stream",
     "text": [
      "<class 'pandas.core.frame.DataFrame'>\n",
      "DatetimeIndex: 3051 entries, 2008-09-05 to 2020-05-27\n",
      "Data columns (total 5 columns):\n",
      " #   Column        Non-Null Count  Dtype  \n",
      "---  ------        --------------  -----  \n",
      " 0   sse_close     3051 non-null   float64\n",
      " 1   hsi_close     3051 non-null   float64\n",
      " 2   nyse_close    3051 non-null   float64\n",
      " 3   nasdaq_close  3051 non-null   float64\n",
      " 4   jeg_close     3051 non-null   float64\n",
      "dtypes: float64(5)\n",
      "memory usage: 143.0 KB\n"
     ]
    }
   ],
   "source": [
    "df_stock.info()"
   ]
  },
  {
   "cell_type": "code",
   "execution_count": 45,
   "metadata": {},
   "outputs": [
    {
     "data": {
      "text/html": [
       "<div>\n",
       "<style scoped>\n",
       "    .dataframe tbody tr th:only-of-type {\n",
       "        vertical-align: middle;\n",
       "    }\n",
       "\n",
       "    .dataframe tbody tr th {\n",
       "        vertical-align: top;\n",
       "    }\n",
       "\n",
       "    .dataframe thead th {\n",
       "        text-align: right;\n",
       "    }\n",
       "</style>\n",
       "<table border=\"1\" class=\"dataframe\">\n",
       "  <thead>\n",
       "    <tr style=\"text-align: right;\">\n",
       "      <th></th>\n",
       "      <th>sse_close</th>\n",
       "      <th>hsi_close</th>\n",
       "      <th>nyse_close</th>\n",
       "      <th>nasdaq_close</th>\n",
       "      <th>jeg_close</th>\n",
       "    </tr>\n",
       "    <tr>\n",
       "      <th>date</th>\n",
       "      <th></th>\n",
       "      <th></th>\n",
       "      <th></th>\n",
       "      <th></th>\n",
       "      <th></th>\n",
       "    </tr>\n",
       "  </thead>\n",
       "  <tbody>\n",
       "    <tr>\n",
       "      <th>2008-09-05</th>\n",
       "      <td>2202.446045</td>\n",
       "      <td>19933.279297</td>\n",
       "      <td>8033.759766</td>\n",
       "      <td>2255.879883</td>\n",
       "      <td>335.000000</td>\n",
       "    </tr>\n",
       "    <tr>\n",
       "      <th>2008-09-08</th>\n",
       "      <td>2143.420898</td>\n",
       "      <td>20794.269531</td>\n",
       "      <td>8168.620117</td>\n",
       "      <td>2269.760010</td>\n",
       "      <td>343.000000</td>\n",
       "    </tr>\n",
       "    <tr>\n",
       "      <th>2008-09-09</th>\n",
       "      <td>2145.779053</td>\n",
       "      <td>20491.109375</td>\n",
       "      <td>7871.149902</td>\n",
       "      <td>2209.810059</td>\n",
       "      <td>337.864990</td>\n",
       "    </tr>\n",
       "    <tr>\n",
       "      <th>2008-09-10</th>\n",
       "      <td>2150.759033</td>\n",
       "      <td>19999.779297</td>\n",
       "      <td>7957.259766</td>\n",
       "      <td>2228.699951</td>\n",
       "      <td>319.382996</td>\n",
       "    </tr>\n",
       "    <tr>\n",
       "      <th>2008-09-11</th>\n",
       "      <td>2078.980957</td>\n",
       "      <td>19388.720703</td>\n",
       "      <td>8011.250000</td>\n",
       "      <td>2258.219971</td>\n",
       "      <td>290.799988</td>\n",
       "    </tr>\n",
       "  </tbody>\n",
       "</table>\n",
       "</div>"
      ],
      "text/plain": [
       "              sse_close     hsi_close   nyse_close  nasdaq_close   jeg_close\n",
       "date                                                                        \n",
       "2008-09-05  2202.446045  19933.279297  8033.759766   2255.879883  335.000000\n",
       "2008-09-08  2143.420898  20794.269531  8168.620117   2269.760010  343.000000\n",
       "2008-09-09  2145.779053  20491.109375  7871.149902   2209.810059  337.864990\n",
       "2008-09-10  2150.759033  19999.779297  7957.259766   2228.699951  319.382996\n",
       "2008-09-11  2078.980957  19388.720703  8011.250000   2258.219971  290.799988"
      ]
     },
     "execution_count": 45,
     "metadata": {},
     "output_type": "execute_result"
    }
   ],
   "source": [
    "df_stock.head()"
   ]
  },
  {
   "cell_type": "code",
   "execution_count": 46,
   "metadata": {},
   "outputs": [
    {
     "name": "stdout",
     "output_type": "stream",
     "text": [
      "Stored 'df_stock' (DataFrame)\n"
     ]
    }
   ],
   "source": [
    "%store df_stock"
   ]
  },
  {
   "cell_type": "code",
   "execution_count": null,
   "metadata": {},
   "outputs": [],
   "source": []
  }
 ],
 "metadata": {
  "kernelspec": {
   "display_name": "Python 3",
   "language": "python",
   "name": "python3"
  },
  "language_info": {
   "codemirror_mode": {
    "name": "ipython",
    "version": 3
   },
   "file_extension": ".py",
   "mimetype": "text/x-python",
   "name": "python",
   "nbconvert_exporter": "python",
   "pygments_lexer": "ipython3",
   "version": "3.7.7"
  }
 },
 "nbformat": 4,
 "nbformat_minor": 4
}
